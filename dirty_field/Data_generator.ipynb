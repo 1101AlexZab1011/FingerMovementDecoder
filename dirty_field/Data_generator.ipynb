{
 "cells": [
  {
   "cell_type": "code",
   "execution_count": 28,
   "outputs": [
    {
     "name": "stdout",
     "output_type": "stream",
     "text": [
      "Opening raw data file ../Source/Subjects/Az_Mar_05/Raw/ML_Subject05_P1_tsss_mc_trans.fif...\n",
      "    Range : 25000 ... 1114999 =     25.000 ...  1114.999 secs\n",
      "Ready.\n",
      "Reading ../Source/Subjects/Az_Mar_05/Epochs/resp_lock_lm_B1_epochs.fif ...\n",
      "    Found the data of interest:\n",
      "        t =    -500.00 ...     500.00 ms\n",
      "        0 CTF compensation matrices available\n",
      "Not setting metadata\n",
      "Not setting metadata\n",
      "30 matching events found\n",
      "No baseline correction applied\n",
      "0 projection items activated\n",
      "Reading ../Source/Subjects/Az_Mar_05/Epochs/resp_lock_rm_B1_epochs.fif ...\n",
      "    Found the data of interest:\n",
      "        t =    -500.00 ...     500.00 ms\n",
      "        0 CTF compensation matrices available\n"
     ]
    },
    {
     "name": "stderr",
     "output_type": "stream",
     "text": [
      "/tmp/ipykernel_4024/690867519.py:44: RuntimeWarning: This filename (../Source/Subjects/Az_Mar_05/Raw/ML_Subject05_P1_tsss_mc_trans.fif) does not conform to MNE naming conventions. All raw files should end with raw.fif, raw_sss.fif, raw_tsss.fif, _meg.fif, _eeg.fif, _ieeg.fif, raw.fif.gz, raw_sss.fif.gz, raw_tsss.fif.gz, _meg.fif.gz, _eeg.fif.gz or _ieeg.fif.gz\n",
      "  original_data = mne.io.read_raw_fif(raw_file_path)\n",
      "/tmp/ipykernel_4024/690867519.py:46: RuntimeWarning: This filename (../Source/Subjects/Az_Mar_05/Epochs/resp_lock_lm_B1_epochs.fif) does not conform to MNE naming conventions. All epochs files should end with -epo.fif, -epo.fif.gz, _epo.fif or _epo.fif.gz\n",
      "  resp_lock_lm_B1_epochs = mne.read_epochs(resp_lock_lm_B1_epochs_path)\n",
      "/tmp/ipykernel_4024/690867519.py:47: RuntimeWarning: This filename (../Source/Subjects/Az_Mar_05/Epochs/resp_lock_rm_B1_epochs.fif) does not conform to MNE naming conventions. All epochs files should end with -epo.fif, -epo.fif.gz, _epo.fif or _epo.fif.gz\n",
      "  resp_lock_rm_B1_epochs = mne.read_epochs(resp_lock_rm_B1_epochs_path)\n"
     ]
    },
    {
     "name": "stdout",
     "output_type": "stream",
     "text": [
      "Not setting metadata\n",
      "Not setting metadata\n",
      "30 matching events found\n",
      "No baseline correction applied\n",
      "0 projection items activated\n",
      "Reading ../Source/Subjects/Az_Mar_05/Epochs/resp_lock_li_B1_epochs.fif ...\n",
      "    Found the data of interest:\n",
      "        t =    -500.00 ...     500.00 ms\n",
      "        0 CTF compensation matrices available\n",
      "Not setting metadata\n",
      "Not setting metadata\n",
      "27 matching events found\n",
      "No baseline correction applied\n",
      "0 projection items activated\n",
      "Reading ../Source/Subjects/Az_Mar_05/Epochs/resp_lock_ri_B1_epochs.fif ...\n",
      "    Found the data of interest:\n",
      "        t =    -500.00 ...     500.00 ms\n",
      "        0 CTF compensation matrices available\n",
      "Not setting metadata\n",
      "Not setting metadata\n",
      "30 matching events found\n",
      "No baseline correction applied\n",
      "0 projection items activated\n"
     ]
    },
    {
     "name": "stderr",
     "output_type": "stream",
     "text": [
      "/tmp/ipykernel_4024/690867519.py:48: RuntimeWarning: This filename (../Source/Subjects/Az_Mar_05/Epochs/resp_lock_li_B1_epochs.fif) does not conform to MNE naming conventions. All epochs files should end with -epo.fif, -epo.fif.gz, _epo.fif or _epo.fif.gz\n",
      "  resp_lock_li_B1_epochs = mne.read_epochs(resp_lock_li_B1_epochs_path)\n",
      "/tmp/ipykernel_4024/690867519.py:49: RuntimeWarning: This filename (../Source/Subjects/Az_Mar_05/Epochs/resp_lock_ri_B1_epochs.fif) does not conform to MNE naming conventions. All epochs files should end with -epo.fif, -epo.fif.gz, _epo.fif or _epo.fif.gz\n",
      "  resp_lock_ri_B1_epochs = mne.read_epochs(resp_lock_ri_B1_epochs_path)\n"
     ]
    }
   ],
   "source": [
    "import time\n",
    "import numpy as np\n",
    "import matplotlib.pyplot as plt\n",
    "import os\n",
    "import mne\n",
    "from mne.decoding import cross_val_multiscore\n",
    "from mne import Epochs, create_info, events_from_annotations\n",
    "from mne.io import concatenate_raws, read_raw_edf\n",
    "from mne.datasets import eegbci\n",
    "from mne.decoding import CSP\n",
    "from mne.time_frequency import AverageTFR\n",
    "\n",
    "from sklearn.discriminant_analysis import LinearDiscriminantAnalysis\n",
    "from sklearn.model_selection import StratifiedKFold, cross_val_score\n",
    "from sklearn.pipeline import make_pipeline\n",
    "from sklearn.preprocessing import LabelEncoder, StandardScaler\n",
    "from sklearn.linear_model import LogisticRegression\n",
    "from typing import Union\n",
    "from utils.beep import Beeper\n",
    "from sklearn.base import BaseEstimator\n",
    "from abc import ABC, abstractmethod\n",
    "from typing import Optional, Iterable, Generator, Callable\n",
    "from mne import EpochsArray\n",
    "from collections import UserDict, UserList\n",
    "from combiners import EpochsCombiner\n",
    "from mne.decoding import SlidingEstimator\n",
    "\n",
    "# speakers\n",
    "# sad_beep = Beeper(duration=[.1, .15, .25], frequency=[280, 240, 190], repeat=3)\n",
    "# happy_beep = Beeper(duration=[.1, .1, .15, .25], frequency=[400, 370, 470, 500], repeat=4)\n",
    "\n",
    "# paths\n",
    "content_root = '../'\n",
    "subjects_folder_path = os.path.join(content_root, 'Source/Subjects')\n",
    "subject_path = os.path.join(subjects_folder_path, 'Az_Mar_05')\n",
    "raw_file_path = os.path.join(subject_path, 'Raw', 'ML_Subject05_P1_tsss_mc_trans.fif')\n",
    "raw_path = os.path.join(subject_path, 'Raw', 'ML_Subject05_P1_tsss_mc_trans.fif')\n",
    "resp_lock_lm_B1_epochs_path = os.path.join(subject_path, 'Epochs', 'resp_lock_lm_B1_epochs.fif')\n",
    "resp_lock_rm_B1_epochs_path = os.path.join(subject_path, 'Epochs', 'resp_lock_rm_B1_epochs.fif')\n",
    "resp_lock_li_B1_epochs_path = os.path.join(subject_path, 'Epochs', 'resp_lock_li_B1_epochs.fif')\n",
    "resp_lock_ri_B1_epochs_path = os.path.join(subject_path, 'Epochs', 'resp_lock_ri_B1_epochs.fif')\n",
    "\n",
    "# readers\n",
    "original_data = mne.io.read_raw_fif(raw_file_path)\n",
    "original_info = original_data.info\n",
    "resp_lock_lm_B1_epochs = mne.read_epochs(resp_lock_lm_B1_epochs_path)\n",
    "resp_lock_rm_B1_epochs = mne.read_epochs(resp_lock_rm_B1_epochs_path)\n",
    "resp_lock_li_B1_epochs = mne.read_epochs(resp_lock_li_B1_epochs_path)\n",
    "resp_lock_ri_B1_epochs = mne.read_epochs(resp_lock_ri_B1_epochs_path)\n",
    "\n",
    "from utils.storage_management import read_or_write\n",
    "from mne.datasets.sample import sample\n",
    "\n",
    "data_path = sample.data_path()\n",
    "subjects_dir = data_path + '/subjects'\n",
    "subject = 'sample'"
   ],
   "metadata": {
    "collapsed": false,
    "pycharm": {
     "name": "#%%\n"
    }
   }
  },
  {
   "cell_type": "code",
   "execution_count": 104,
   "outputs": [],
   "source": [
    "\n",
    "import pickle\n",
    "\n",
    "\n",
    "@read_or_write(\n",
    "    'fif',\n",
    "    mne.read_source_spaces,\n",
    "    mne.write_source_spaces,\n",
    "    '../Source/Subjects/Az_Mar_05/Generated',\n",
    "    'src'\n",
    ")\n",
    "def generate_src(subject_name: str, subjects_dir: str):\n",
    "    return mne.setup_source_space(subject_name, subjects_dir=subjects_dir)\n",
    "\n",
    "@read_or_write(\n",
    "    'fif',\n",
    "    mne.read_bem_solution,\n",
    "    mne.write_bem_solution,\n",
    "    '../Source/Subjects/Az_Mar_05/Generated',\n",
    "    'bem'\n",
    ")\n",
    "def generate_bem(\n",
    "        subject_name: str,\n",
    "        subjects_dir: str,\n",
    "        conductivity: Optional[tuple] = (.3, ),\n",
    "        ico: Optional[int] = 4\n",
    "):\n",
    "    return mne.make_bem_solution(\n",
    "        mne.make_bem_model(\n",
    "            subject=subject_name,\n",
    "            ico=ico,\n",
    "            conductivity=conductivity,\n",
    "            subjects_dir=subjects_dir\n",
    "        )\n",
    "    )\n",
    "\n",
    "@read_or_write(\n",
    "    'fif',\n",
    "    mne.read_forward_solution,\n",
    "    mne.write_forward_solution,\n",
    "    '../Source/Subjects/Az_Mar_05/Generated',\n",
    "    'fwd'\n",
    ")\n",
    "def generate_forward(\n",
    "        info: Union[str, mne.Info],\n",
    "        trans: Union[str, dict, mne.Transform],\n",
    "        src: Union[str, mne.SourceSpaces],\n",
    "        bem: Union[str, dict],\n",
    "        *args, **kwargs\n",
    "):\n",
    "    return mne.make_forward_solution(\n",
    "        info,\n",
    "        *args,\n",
    "        trans=trans,\n",
    "        src=src,\n",
    "        bem=bem,\n",
    "        **kwargs\n",
    "    )\n",
    "\n",
    "@read_or_write(\n",
    "    'fif',\n",
    "    mne.read_cov,\n",
    "    mne.write_cov,\n",
    "    '../Source/Subjects/Az_Mar_05/Generated',\n",
    "    'cov'\n",
    ")\n",
    "def combine_covariance(*args: EpochsArray, tmin: Optional[float] = -.5, tmax: Optional[float] = .5, **kwargs):\n",
    "    covs = [\n",
    "        mne.compute_covariance(epochs, tmin=tmin, tmax=tmax, **kwargs)\n",
    "        for epochs in args\n",
    "    ]\n",
    "    out = None\n",
    "    for i in range(len(covs)):\n",
    "        if i == 0:\n",
    "            out = covs[i]\n",
    "        else:\n",
    "            out += covs[i]\n",
    "    return out\n",
    "\n",
    "@read_or_write(\n",
    "    'fif',\n",
    "    mne.minimum_norm.read_inverse_operator,\n",
    "    mne.minimum_norm.write_inverse_operator,\n",
    "    '../Source/Subjects/Az_Mar_05/Generated',\n",
    "    'inv'\n",
    ")\n",
    "def compute_inverse(info: Union[str, mne.Info], fwd: Union[str, mne.Forward], cov: mne.Covariance, **kwargs):\n",
    "    return mne.minimum_norm.make_inverse_operator(\n",
    "    info, fwd, cov, **kwargs)\n",
    "\n",
    "@read_or_write(\n",
    "    'pkl',\n",
    "    lambda path: pickle.load(open(path, 'rb')),\n",
    "    lambda path, stc: pickle.dump(stc, open(path, 'wb')),\n",
    "    '../Source/Subjects/Az_Mar_05/Generated',\n",
    "    'stc'\n",
    ")\n",
    "def compute_stc(evoked: mne.EvokedArray,\n",
    "                inv: mne.minimum_norm.InverseOperator,\n",
    "                lambda2: float, method: str,\n",
    "                *args, **kwargs):\n",
    "    return mne.minimum_norm.apply_inverse(evoked, inv, lambda2, method, *args, **kwargs)\n",
    "\n",
    "\n",
    "tmin_ = .0\n",
    "tmax_ = .3"
   ],
   "metadata": {
    "collapsed": false,
    "pycharm": {
     "name": "#%%\n"
    }
   }
  },
  {
   "cell_type": "code",
   "execution_count": 105,
   "outputs": [
    {
     "name": "stdout",
     "output_type": "stream",
     "text": [
      "Setting up band-pass filter from 25 - 30 Hz\n",
      "\n",
      "FIR filter parameters\n",
      "---------------------\n",
      "Designing a one-pass, zero-phase, non-causal bandpass filter:\n",
      "- Windowed time-domain design (firwin) method\n",
      "- Hamming window with 0.0194 passband ripple and 53 dB stopband attenuation\n",
      "- Lower passband edge: 25.00\n",
      "- Lower transition bandwidth: 6.25 Hz (-6 dB cutoff frequency: 21.88 Hz)\n",
      "- Upper passband edge: 30.00 Hz\n",
      "- Upper transition bandwidth: 7.50 Hz (-6 dB cutoff frequency: 33.75 Hz)\n",
      "- Filter length: 529 samples (0.529 sec)\n",
      "\n",
      "Setting up band-pass filter from 25 - 30 Hz\n",
      "\n",
      "FIR filter parameters\n",
      "---------------------\n",
      "Designing a one-pass, zero-phase, non-causal bandpass filter:\n",
      "- Windowed time-domain design (firwin) method\n",
      "- Hamming window with 0.0194 passband ripple and 53 dB stopband attenuation\n",
      "- Lower passband edge: 25.00\n",
      "- Lower transition bandwidth: 6.25 Hz (-6 dB cutoff frequency: 21.88 Hz)\n",
      "- Upper passband edge: 30.00 Hz\n",
      "- Upper transition bandwidth: 7.50 Hz (-6 dB cutoff frequency: 33.75 Hz)\n",
      "- Filter length: 529 samples (0.529 sec)\n",
      "\n",
      "Setting up band-pass filter from 25 - 30 Hz\n",
      "\n",
      "FIR filter parameters\n",
      "---------------------\n",
      "Designing a one-pass, zero-phase, non-causal bandpass filter:\n",
      "- Windowed time-domain design (firwin) method\n",
      "- Hamming window with 0.0194 passband ripple and 53 dB stopband attenuation\n",
      "- Lower passband edge: 25.00\n",
      "- Lower transition bandwidth: 6.25 Hz (-6 dB cutoff frequency: 21.88 Hz)\n",
      "- Upper passband edge: 30.00 Hz\n",
      "- Upper transition bandwidth: 7.50 Hz (-6 dB cutoff frequency: 33.75 Hz)\n",
      "- Filter length: 529 samples (0.529 sec)\n",
      "\n",
      "Setting up band-pass filter from 25 - 30 Hz\n",
      "\n",
      "FIR filter parameters\n",
      "---------------------\n",
      "Designing a one-pass, zero-phase, non-causal bandpass filter:\n",
      "- Windowed time-domain design (firwin) method\n",
      "- Hamming window with 0.0194 passband ripple and 53 dB stopband attenuation\n",
      "- Lower passband edge: 25.00\n",
      "- Lower transition bandwidth: 6.25 Hz (-6 dB cutoff frequency: 21.88 Hz)\n",
      "- Upper passband edge: 30.00 Hz\n",
      "- Upper transition bandwidth: 7.50 Hz (-6 dB cutoff frequency: 33.75 Hz)\n",
      "- Filter length: 529 samples (0.529 sec)\n",
      "\n"
     ]
    },
    {
     "data": {
      "text/plain": "HBox(children=(FloatProgress(value=0.0, description='Fitting SlidingEstimator', max=301.0, style=ProgressStyle…",
      "application/vnd.jupyter.widget-view+json": {
       "version_major": 2,
       "version_minor": 0,
       "model_id": "b7556478009842709b97aa73db63b3a5"
      }
     },
     "metadata": {},
     "output_type": "display_data"
    },
    {
     "name": "stdout",
     "output_type": "stream",
     "text": [
      "\n"
     ]
    },
    {
     "data": {
      "text/plain": "HBox(children=(FloatProgress(value=0.0, description='Fitting SlidingEstimator', max=301.0, style=ProgressStyle…",
      "application/vnd.jupyter.widget-view+json": {
       "version_major": 2,
       "version_minor": 0,
       "model_id": "a7e9b3f554e94e01a99fd9a8f03aa469"
      }
     },
     "metadata": {},
     "output_type": "display_data"
    },
    {
     "name": "stdout",
     "output_type": "stream",
     "text": [
      "\n"
     ]
    },
    {
     "data": {
      "text/plain": "HBox(children=(FloatProgress(value=0.0, description='Fitting SlidingEstimator', max=301.0, style=ProgressStyle…",
      "application/vnd.jupyter.widget-view+json": {
       "version_major": 2,
       "version_minor": 0,
       "model_id": "aab7bf91aaf84555b2aab57311aeefee"
      }
     },
     "metadata": {},
     "output_type": "display_data"
    },
    {
     "name": "stdout",
     "output_type": "stream",
     "text": [
      "\n"
     ]
    },
    {
     "data": {
      "text/plain": "HBox(children=(FloatProgress(value=0.0, description='Fitting SlidingEstimator', max=301.0, style=ProgressStyle…",
      "application/vnd.jupyter.widget-view+json": {
       "version_major": 2,
       "version_minor": 0,
       "model_id": "8ede1503f40548f6b4eaa22db205b21c"
      }
     },
     "metadata": {},
     "output_type": "display_data"
    },
    {
     "name": "stdout",
     "output_type": "stream",
     "text": [
      "\n"
     ]
    },
    {
     "data": {
      "text/plain": "HBox(children=(FloatProgress(value=0.0, description='Fitting SlidingEstimator', max=301.0, style=ProgressStyle…",
      "application/vnd.jupyter.widget-view+json": {
       "version_major": 2,
       "version_minor": 0,
       "model_id": "736be5b7d8704bcebd574abc1ed3db52"
      }
     },
     "metadata": {},
     "output_type": "display_data"
    },
    {
     "name": "stdout",
     "output_type": "stream",
     "text": [
      "\n"
     ]
    },
    {
     "data": {
      "text/plain": "HBox(children=(FloatProgress(value=0.0, description='Fitting SlidingEstimator', max=301.0, style=ProgressStyle…",
      "application/vnd.jupyter.widget-view+json": {
       "version_major": 2,
       "version_minor": 0,
       "model_id": "0fbd672d367a46978162edc8d23f13bc"
      }
     },
     "metadata": {},
     "output_type": "display_data"
    },
    {
     "name": "stdout",
     "output_type": "stream",
     "text": [
      "\n"
     ]
    }
   ],
   "source": [
    "from mne.decoding import LinearModel, get_coef\n",
    "\n",
    "clf = make_pipeline(StandardScaler(),\n",
    "                    LinearModel(LogisticRegression(solver='lbfgs')))\n",
    "\n",
    "combiner = EpochsCombiner(resp_lock_lm_B1_epochs, resp_lock_li_B1_epochs, resp_lock_rm_B1_epochs, resp_lock_ri_B1_epochs)\n",
    "# combiner.combine((0, 1), (2, 3), shuffle=True)\n",
    "combiner\\\n",
    "    .filter(25., 30.)\\\n",
    "    .crop(tmin_, tmax_)\\\n",
    "    .combine((0, 1), (2, 3), shuffle=True)\n",
    "\n",
    "# time-decoder\n",
    "\n",
    "time_decod = SlidingEstimator(clf, n_jobs=1, scoring='roc_auc', verbose=True)\n",
    "\n",
    "scores = np.mean(\n",
    "        cross_val_multiscore(time_decod, combiner.X, combiner.Y, cv=5, n_jobs=1),\n",
    "        axis=0\n",
    "    )\n",
    "\n",
    "times = np.linspace(tmin_, tmax_, scores.shape[0])\n",
    "\n",
    "time_decod.fit(combiner.X, combiner.Y)\n",
    "\n",
    "coef = get_coef(time_decod, 'patterns_', inverse_transform=True)\n",
    "evoked_time_gen = mne.EvokedArray(coef, resp_lock_lm_B1_epochs.info, tmin=tmin_)\n",
    "pickle.dump(evoked_time_gen, open(os.path.join(subject_path, 'Generated', 'evoked_time_gen.pkl'), 'wb'))"
   ],
   "metadata": {
    "collapsed": false,
    "pycharm": {
     "name": "#%%\n"
    }
   }
  },
  {
   "cell_type": "code",
   "execution_count": 106,
   "outputs": [
    {
     "name": "stdout",
     "output_type": "stream",
     "text": [
      "No projector specified for this dataset. Please consider the method self.add_proj.\n"
     ]
    },
    {
     "data": {
      "text/plain": "<Figure size 576x302.4 with 7 Axes>",
      "image/png": "[encoded data removed]"
     },
     "metadata": {
      "needs_background": "light"
     },
     "output_type": "display_data"
    },
    {
     "name": "stdout",
     "output_type": "stream",
     "text": [
      "    Reading a source space...\n",
      "    Computing patch statistics...\n",
      "    Patch information added...\n"
     ]
    },
    {
     "name": "stderr",
     "output_type": "stream",
     "text": [
      "/home/user/PycharmProjects/FingerMovementDecoder/utils/storage_management.py:79: RuntimeWarning: This filename (../Source/Subjects/Az_Mar_05/Generated/src414578ae25732b53f1a49781cb4d45e0.fif) does not conform to MNE naming conventions. All source space files should end with -src.fif, -src.fif.gz, _src.fif, _src.fif.gz, -fwd.fif, -fwd.fif.gz, _fwd.fif, _fwd.fif.gz, -inv.fif, -inv.fif.gz, _inv.fif or _inv.fif.gz\n",
      "  return reader(os.path.join(address, file))\n"
     ]
    },
    {
     "name": "stdout",
     "output_type": "stream",
     "text": [
      "    Distance information added...\n",
      "    [done]\n",
      "    Reading a source space...\n",
      "    Computing patch statistics...\n",
      "    Patch information added...\n",
      "    Distance information added...\n",
      "    [done]\n",
      "    2 source spaces read\n",
      "Loading surfaces...\n",
      "\n",
      "Loading the solution matrix...\n",
      "\n",
      "Three-layer model surfaces loaded.\n",
      "Loaded linear_collocation BEM solution from /home/user/PycharmProjects/FingerMovementDecoder/Source/Subjects/Az_Mar_05/Generated/bemc8a3c9137937be158945fda3cc65bdce.fif\n",
      "Reading forward solution from ../Source/Subjects/Az_Mar_05/Generated/fwd4d260adaf615b561046dbbda3981a9c9.fif...\n",
      "    Reading a source space...\n",
      "    Computing patch statistics...\n",
      "    Patch information added...\n"
     ]
    },
    {
     "name": "stderr",
     "output_type": "stream",
     "text": [
      "/home/user/PycharmProjects/FingerMovementDecoder/utils/storage_management.py:79: RuntimeWarning: This filename (../Source/Subjects/Az_Mar_05/Generated/fwd4d260adaf615b561046dbbda3981a9c9.fif) does not conform to MNE naming conventions. All forward files should end with -fwd.fif, -fwd.fif.gz, _fwd.fif or _fwd.fif.gz\n",
      "  return reader(os.path.join(address, file))\n"
     ]
    },
    {
     "name": "stdout",
     "output_type": "stream",
     "text": [
      "    Distance information added...\n",
      "    [done]\n",
      "    Reading a source space...\n",
      "    Computing patch statistics...\n",
      "    Patch information added...\n",
      "    Distance information added...\n",
      "    [done]\n",
      "    2 source spaces read\n",
      "    Desired named matrix (kind = 3523) not available\n",
      "    Read MEG forward solution (7498 sources, 204 channels, free orientations)\n",
      "    Source spaces transformed to the forward solution coordinate frame\n",
      "    204 x 204 full covariance (kind = 1) found.\n",
      "Reading inverse operator decomposition from ../Source/Subjects/Az_Mar_05/Generated/inve72979bfaf597758fbc69155b8d56803.fif...\n",
      "    Reading inverse operator info...\n",
      "    [done]\n",
      "    Reading inverse operator decomposition...\n",
      "    [done]\n",
      "    204 x 204 full covariance (kind = 1) found.\n",
      "    Noise covariance matrix read.\n",
      "    7498 x 7498 diagonal covariance (kind = 2) found.\n",
      "    Source covariance matrix read.\n",
      "    Did not find the desired covariance matrix (kind = 6)\n",
      "    7498 x 7498 diagonal covariance (kind = 5) found.\n",
      "    Depth priors read.\n",
      "    Did not find the desired covariance matrix (kind = 3)\n",
      "    Reading a source space...\n",
      "    Computing patch statistics...\n",
      "    Patch information added...\n",
      "    Distance information added...\n",
      "    [done]\n",
      "    Reading a source space...\n"
     ]
    },
    {
     "name": "stderr",
     "output_type": "stream",
     "text": [
      "/home/user/PycharmProjects/FingerMovementDecoder/utils/storage_management.py:79: RuntimeWarning: This filename (../Source/Subjects/Az_Mar_05/Generated/cov11826792a2aeab95043091496e444ee5.fif) does not conform to MNE naming conventions. All covariance files should end with -cov.fif, -cov.fif.gz, _cov.fif or _cov.fif.gz\n",
      "  return reader(os.path.join(address, file))\n",
      "/home/user/PycharmProjects/FingerMovementDecoder/utils/storage_management.py:79: RuntimeWarning: This filename (../Source/Subjects/Az_Mar_05/Generated/inve72979bfaf597758fbc69155b8d56803.fif) does not conform to MNE naming conventions. All inverse operator files should end with -inv.fif, -inv.fif.gz, _inv.fif or _inv.fif.gz\n",
      "  return reader(os.path.join(address, file))\n"
     ]
    },
    {
     "name": "stdout",
     "output_type": "stream",
     "text": [
      "    Computing patch statistics...\n",
      "    Patch information added...\n",
      "    Distance information added...\n",
      "    [done]\n",
      "    2 source spaces read\n",
      "    Source spaces transformed to the inverse solution coordinate frame\n"
     ]
    }
   ],
   "source": [
    "evoked_time_gen = pickle.load(open(os.path.join(subject_path, 'Generated', 'evoked_time_gen.pkl'), 'rb'))\n",
    "\n",
    "joint_kwargs = dict(ts_args=dict(time_unit='s'),\n",
    "                    topomap_args=dict(time_unit='s'))\n",
    "evoked_time_gen.plot_joint(times=np.arange(tmin_, tmax_, .100), title='patterns',\n",
    "                           **joint_kwargs)\n",
    "\n",
    "src = generate_src(subject, subjects_dir=subjects_dir)\n",
    "conductivity = (0.3, 0.006, 0.3)\n",
    "bem = generate_bem(subject, subjects_dir, conductivity)\n",
    "\n",
    "fwd = generate_forward(\n",
    "    resp_lock_lm_B1_epochs.info,\n",
    "    trans='fsaverage',\n",
    "    src=src, bem=bem,\n",
    "    meg=True, eeg=False,\n",
    "    mindist=5.0,\n",
    "    n_jobs=1,\n",
    "    verbose=True\n",
    ")\n",
    "\n",
    "cov = combine_covariance(\n",
    "    resp_lock_lm_B1_epochs,\n",
    "    resp_lock_li_B1_epochs,\n",
    "    resp_lock_rm_B1_epochs,\n",
    "    resp_lock_ri_B1_epochs,\n",
    ")\n",
    "\n",
    "\n",
    "inv = compute_inverse(evoked_time_gen.info, fwd, cov, loose=0.)\n",
    "stc = compute_stc(evoked_time_gen, inv, 1. / 9., 'dSPM')"
   ],
   "metadata": {
    "collapsed": false,
    "pycharm": {
     "name": "#%%\n"
    }
   }
  },
  {
   "cell_type": "code",
   "execution_count": 107,
   "outputs": [
    {
     "name": "stdout",
     "output_type": "stream",
     "text": [
      "ok\n"
     ]
    }
   ],
   "source": [
    "print('ok')"
   ],
   "metadata": {
    "collapsed": false,
    "pycharm": {
     "name": "#%%\n"
    }
   }
  },
  {
   "cell_type": "code",
   "execution_count": 121,
   "outputs": [
    {
     "name": "stdout",
     "output_type": "stream",
     "text": [
      "Using control points [0.29364043 0.3274557  0.57330352]\n"
     ]
    }
   ],
   "source": [
    "from matplotlib.patches import Rectangle\n",
    "import matplotlib\n",
    "from matplotlib.figure import Figure\n",
    "import pyvista\n",
    "import mayavi\n",
    "from mayavi.core.api import Scene\n",
    "# import sobol_seq\n",
    "import sobol_seq\n",
    "\n",
    "\n",
    "# surfer_kwargs = dict(\n",
    "#     hemi='lh', subjects_dir=subjects_dir,\n",
    "#     clim=dict(kind='value', lims=[8, 12, 15]), views='lateral',\n",
    "#     initial_time=.25, time_unit='s', size=(800, 800),\n",
    "#     smoothing_steps=5)\n",
    "brain = stc.plot(hemi='split', background='w', views=('lat', 'med'), initial_time=.05,\n",
    "                 subjects_dir=subjects_dir)"
   ],
   "metadata": {
    "collapsed": false,
    "pycharm": {
     "name": "#%%\n"
    }
   }
  },
  {
   "cell_type": "code",
   "execution_count": 25,
   "outputs": [],
   "source": [],
   "metadata": {
    "collapsed": false,
    "pycharm": {
     "name": "#%%\n"
    }
   }
  }
 ],
 "metadata": {
  "kernelspec": {
   "display_name": "Python 3",
   "language": "python",
   "name": "python3"
  },
  "language_info": {
   "codemirror_mode": {
    "name": "ipython",
    "version": 2
   },
   "file_extension": ".py",
   "mimetype": "text/x-python",
   "name": "python",
   "nbconvert_exporter": "python",
   "pygments_lexer": "ipython2",
   "version": "2.7.6"
  }
 },
 "nbformat": 4,
 "nbformat_minor": 0
}