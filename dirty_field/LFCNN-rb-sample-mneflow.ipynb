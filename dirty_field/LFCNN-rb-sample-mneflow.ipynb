{
 "cells": [
  {
   "cell_type": "code",
   "execution_count": 1,
   "metadata": {},
   "outputs": [
    {
     "name": "stderr",
     "output_type": "stream",
     "text": [
      "2022-02-22 04:08:32.230308: W tensorflow/stream_executor/platform/default/dso_loader.cc:64] Could not load dynamic library 'libcudart.so.11.0'; dlerror: libcudart.so.11.0: cannot open shared object file: No such file or directory\n",
      "2022-02-22 04:08:32.230337: I tensorflow/stream_executor/cuda/cudart_stub.cc:29] Ignore above cudart dlerror if you do not have a GPU set up on your machine.\n"
     ]
    }
   ],
   "source": [
    "import matplotlib\n",
    "import sys\n",
    "import os\n",
    "current_dir = os.path.dirname(os.path.abspath('./'))\n",
    "if not current_dir in sys.path:\n",
    "    sys.path.append(current_dir)\n",
    "    \n",
    "from utils.structures import Pipeline, Deploy\n",
    "from utils.data_management import dict2str\n",
    "from utils.machine_learning import one_hot_encoder, one_hot_decoder\n",
    "from typing import *\n",
    "import tensorflow as tf\n",
    "from sklearn.datasets import make_classification\n",
    "import mne\n",
    "from combiners import EpochsCombiner\n",
    "import numpy as np\n",
    "import matplotlib.pyplot as plt\n",
    "from matplotlib.pyplot import figure\n",
    "from utils.machine_learning.designer import ModelDesign, ParallelDesign, LayerDesign\n",
    "from utils.machine_learning.analyzer import ModelAnalyzer, LFCNNAnalyzer\n",
    "from mne.datasets import multimodal\n",
    "import sklearn\n",
    "import mneflow as mf\n",
    "import tensorflow as tf\n",
    "from mneflow.layers import DeMixing, LFTConv, TempPooling, Dense\n",
    "\n",
    "# %matplotlib qt"
   ]
  },
  {
   "cell_type": "code",
   "execution_count": 2,
   "metadata": {},
   "outputs": [],
   "source": [
    "mne.set_log_level(verbose='CRITICAL')\n",
    "fname_raw = os.path.join(multimodal.data_path(), 'multimodal_raw.fif')\n",
    "raw = mne.io.read_raw_fif(fname_raw)\n",
    "cond = raw.acqparser.get_condition(raw, None)\n",
    "condition_names = [k for c in cond for k,v in c['event_id'].items()]\n",
    "epochs_list = [mne.Epochs(raw, **c) for c in cond]\n",
    "epochs = mne.concatenate_epochs(epochs_list)\n",
    "epochs = epochs.pick_types(meg='grad')\n",
    "X = np.array([])\n",
    "Y = list()\n",
    "for i, epochs in enumerate(epochs_list):\n",
    "    data = epochs.get_data()\n",
    "    if i == 0:\n",
    "        X = data.copy()\n",
    "    else:\n",
    "        X = np.append(X, data, axis=0)\n",
    "    Y += [i for _ in range(data.shape[0])]\n",
    "\n",
    "Y = np.array(Y)\n",
    "X = np.array([X[i, epochs._channel_type_idx['grad'], :] for i, _ in enumerate(X)])\n",
    "original_X = X.copy()\n",
    "original_Y = Y.copy()"
   ]
  },
  {
   "cell_type": "code",
   "execution_count": 3,
   "metadata": {},
   "outputs": [],
   "source": [
    "Y = original_Y.copy()\n",
    "Y = one_hot_encoder(Y)"
   ]
  },
  {
   "cell_type": "code",
   "execution_count": 4,
   "metadata": {},
   "outputs": [
    {
     "name": "stdout",
     "output_type": "stream",
     "text": [
      "(940, 1, 361, 204)\n"
     ]
    }
   ],
   "source": [
    "X = original_X.copy()\n",
    "X = np.transpose(np.expand_dims(X, axis = 1), (0, 1, 3, 2))\n",
    "print(X.shape)"
   ]
  },
  {
   "cell_type": "code",
   "execution_count": 9,
   "metadata": {},
   "outputs": [],
   "source": [
    "X_train, X_test, y_train, y_test = sklearn.model_selection.train_test_split(X, Y)"
   ]
  },
  {
   "cell_type": "code",
   "execution_count": 6,
   "metadata": {},
   "outputs": [
    {
     "name": "stdout",
     "output_type": "stream",
     "text": [
      "input shape:  (None, 1, 361, 204)\n",
      "Setting reg for dmx, to l1\n",
      "Built: dmx input: (None, 1, 361, 204)\n",
      "Setting reg for tconv, to l1\n",
      "Built: tconv input: (None, 1, 361, 32)\n",
      "Setting reg for fc, to l1\n",
      "Built: fc input: (None, 1, 37, 32)\n",
      "output shape:  (None, 8)\n"
     ]
    }
   ],
   "source": [
    "\n",
    "\n",
    "specs = dict()\n",
    "specs.setdefault('filter_length', 7)\n",
    "specs.setdefault('n_latent', 32)\n",
    "specs.setdefault('pooling', 2)\n",
    "specs.setdefault('stride', 2)\n",
    "specs.setdefault('padding', 'SAME')\n",
    "specs.setdefault('pool_type', 'max')\n",
    "specs.setdefault('nonlin', tf.nn.relu)\n",
    "specs.setdefault('l1', 3e-4)\n",
    "specs.setdefault('l2', 0)\n",
    "# specs.setdefault('l1_scope', ['fc', 'demix', 'lf_conv'])\n",
    "specs.setdefault('l1_scope', ['fc', 'dmx', 'tconv', 'fc'])\n",
    "specs.setdefault('l2_scope', [])\n",
    "specs.setdefault('maxnorm_scope', [])\n",
    "specs.setdefault('dropout', .5)\n",
    "\n",
    "# n_latent=32,\n",
    "# filter_length=17,\n",
    "# nonlin = tf.nn.relu,\n",
    "# padding = 'SAME',\n",
    "# pooling = 5,\n",
    "# stride = 5,\n",
    "# pool_type='max',\n",
    "# dropout = .5,\n",
    "# l1_scope = [\"weights\"],\n",
    "# l1=3e-3\n",
    "\n",
    "specs['filter_length'] = 17\n",
    "specs['pooling'] = 5\n",
    "specs['stride'] = 5\n",
    "specs['l1'] = 3e-3\n",
    "\n",
    "\n",
    "out_dim = len(np.unique(original_Y))\n",
    "\n",
    "n_samples, _, n_times, n_channels = X.shape\n",
    "\n",
    "inputs = tf.keras.Input(shape=(1, n_times, n_channels))\n",
    "print('input shape: ', inputs.shape)\n",
    "\n",
    "dmx = DeMixing(size=specs['n_latent'], nonlin=tf.identity,\n",
    "                            axis=3, specs=specs)\n",
    "dmx_out = dmx(inputs)\n",
    "\n",
    "tconv = LFTConv(size=specs['n_latent'],\n",
    "                        nonlin=specs['nonlin'],\n",
    "                        filter_length=specs['filter_length'],\n",
    "                        padding=specs['padding'],\n",
    "                        specs=specs\n",
    "                        )\n",
    "tconv_out = tconv(dmx_out)\n",
    "\n",
    "pool = TempPooling(pooling=specs['pooling'],\n",
    "                            pool_type=specs['pool_type'],\n",
    "                            stride=specs['stride'],\n",
    "                            padding=specs['padding'],\n",
    "                            )\n",
    "pooled = pool(tconv_out)\n",
    "\n",
    "dropout = tf.keras.layers.Dropout(specs['dropout'],\n",
    "                    noise_shape=None)(pooled)\n",
    "\n",
    "fin_fc = Dense(size=out_dim, nonlin=tf.identity,\n",
    "                    specs=specs)\n",
    "\n",
    "y_pred = fin_fc(dropout)\n",
    "\n",
    "print('output shape: ', y_pred.shape)\n",
    "\n",
    "km = tf.keras.Model(inputs=inputs, outputs=y_pred)\n",
    "\n",
    "optimizer=\"adam\"\n",
    "learn_rate=3e-4\n",
    "params = {\"optimizer\": tf.optimizers.get(optimizer).from_config({\"learning_rate\":learn_rate})}\n",
    "params.setdefault(\"loss\", tf.nn.softmax_cross_entropy_with_logits)\n",
    "params.setdefault(\"metrics\", tf.keras.metrics.CategoricalAccuracy(name=\"cat_ACC\"))\n",
    "\n",
    "km.compile(optimizer=params[\"optimizer\"],\n",
    "                loss=params[\"loss\"],\n",
    "                metrics=params[\"metrics\"])\n",
    "\n",
    "\n",
    "# Setting reg for dmx, to l1\n",
    "# Built: dmx input: (None, 1, 361, 204)\n",
    "# Setting reg for tconv, to l1\n",
    "# Built: tconv input: (None, 1, 361, 32)\n",
    "# Setting reg for fc, to l1\n",
    "# Built: fc input: (None, 1, 37, 32)\n",
    "# Input shape: (1, 361, 204)\n",
    "# y_pred: (None, 8)\n",
    "# Initialization complete!"
   ]
  },
  {
   "cell_type": "code",
   "execution_count": 7,
   "metadata": {},
   "outputs": [
    {
     "name": "stdout",
     "output_type": "stream",
     "text": [
      "importing from tuple\n",
      "input shapes: X- (940, 204, 361) targets- (940, 1)\n",
      "Preprocessing:\n",
      "Scaling to interval 0.0 - 60.0\n",
      "Splitting sets\n",
      "Preprocessed: (940, 1, 361, 204) (940, 8) folds: 5 x 188\n",
      "Prepocessed sample shape: (1, 361, 204)\n",
      "Target shape actual/metadata:  (8,) (8,)\n",
      "Saving TFRecord# 0\n",
      "Epoch 1/25\n",
      "10/10 - 1s - loss: 5.6362 - cat_ACC: 0.1134 - val_loss: 5.0719 - val_cat_ACC: 0.1809 - 1s/epoch - 119ms/step\n",
      "Epoch 2/25\n",
      "10/10 - 0s - loss: 5.3230 - cat_ACC: 0.1366 - val_loss: 4.9190 - val_cat_ACC: 0.1755 - 421ms/epoch - 42ms/step\n",
      "Epoch 3/25\n",
      "10/10 - 0s - loss: 5.2097 - cat_ACC: 0.1229 - val_loss: 4.8420 - val_cat_ACC: 0.1968 - 409ms/epoch - 41ms/step\n",
      "Epoch 4/25\n",
      "10/10 - 0s - loss: 5.1191 - cat_ACC: 0.1383 - val_loss: 4.7944 - val_cat_ACC: 0.1915 - 394ms/epoch - 39ms/step\n",
      "Epoch 5/25\n",
      "10/10 - 0s - loss: 5.0572 - cat_ACC: 0.1502 - val_loss: 4.7551 - val_cat_ACC: 0.1968 - 398ms/epoch - 40ms/step\n",
      "Epoch 6/25\n",
      "10/10 - 0s - loss: 4.9653 - cat_ACC: 0.1723 - val_loss: 4.7150 - val_cat_ACC: 0.2234 - 398ms/epoch - 40ms/step\n",
      "Epoch 7/25\n",
      "10/10 - 0s - loss: 4.9516 - cat_ACC: 0.1691 - val_loss: 4.6788 - val_cat_ACC: 0.2447 - 407ms/epoch - 41ms/step\n",
      "Epoch 8/25\n",
      "10/10 - 0s - loss: 4.8078 - cat_ACC: 0.1991 - val_loss: 4.6423 - val_cat_ACC: 0.2500 - 392ms/epoch - 39ms/step\n",
      "Epoch 9/25\n",
      "10/10 - 0s - loss: 4.9104 - cat_ACC: 0.1702 - val_loss: 4.6057 - val_cat_ACC: 0.2660 - 406ms/epoch - 41ms/step\n",
      "Epoch 10/25\n",
      "10/10 - 0s - loss: 4.7578 - cat_ACC: 0.1985 - val_loss: 4.5676 - val_cat_ACC: 0.2979 - 421ms/epoch - 42ms/step\n",
      "Epoch 11/25\n",
      "10/10 - 0s - loss: 4.7680 - cat_ACC: 0.1880 - val_loss: 4.5317 - val_cat_ACC: 0.2979 - 411ms/epoch - 41ms/step\n",
      "Epoch 12/25\n",
      "10/10 - 0s - loss: 4.6379 - cat_ACC: 0.2157 - val_loss: 4.4936 - val_cat_ACC: 0.3032 - 392ms/epoch - 39ms/step\n",
      "Epoch 13/25\n",
      "10/10 - 0s - loss: 4.6587 - cat_ACC: 0.2185 - val_loss: 4.4568 - val_cat_ACC: 0.3138 - 423ms/epoch - 42ms/step\n",
      "Epoch 14/25\n",
      "10/10 - 0s - loss: 4.5798 - cat_ACC: 0.2468 - val_loss: 4.4193 - val_cat_ACC: 0.3245 - 402ms/epoch - 40ms/step\n",
      "Epoch 15/25\n",
      "10/10 - 0s - loss: 4.5545 - cat_ACC: 0.2437 - val_loss: 4.3827 - val_cat_ACC: 0.3404 - 415ms/epoch - 41ms/step\n",
      "Epoch 16/25\n",
      "10/10 - 0s - loss: 4.4422 - cat_ACC: 0.3031 - val_loss: 4.3435 - val_cat_ACC: 0.3245 - 395ms/epoch - 39ms/step\n",
      "Epoch 17/25\n",
      "10/10 - 0s - loss: 4.5018 - cat_ACC: 0.2363 - val_loss: 4.3059 - val_cat_ACC: 0.3564 - 401ms/epoch - 40ms/step\n",
      "Epoch 18/25\n",
      "10/10 - 0s - loss: 4.4362 - cat_ACC: 0.2721 - val_loss: 4.2664 - val_cat_ACC: 0.3457 - 412ms/epoch - 41ms/step\n",
      "Epoch 19/25\n",
      "10/10 - 0s - loss: 4.4130 - cat_ACC: 0.2616 - val_loss: 4.2292 - val_cat_ACC: 0.3564 - 421ms/epoch - 42ms/step\n",
      "Epoch 20/25\n",
      "10/10 - 0s - loss: 4.2534 - cat_ACC: 0.3208 - val_loss: 4.1916 - val_cat_ACC: 0.3777 - 400ms/epoch - 40ms/step\n",
      "Epoch 21/25\n",
      "10/10 - 0s - loss: 4.3010 - cat_ACC: 0.2763 - val_loss: 4.1534 - val_cat_ACC: 0.3777 - 413ms/epoch - 41ms/step\n",
      "Epoch 22/25\n",
      "10/10 - 0s - loss: 4.2385 - cat_ACC: 0.3078 - val_loss: 4.1121 - val_cat_ACC: 0.3777 - 452ms/epoch - 45ms/step\n",
      "Epoch 23/25\n",
      "10/10 - 0s - loss: 4.2292 - cat_ACC: 0.2847 - val_loss: 4.0726 - val_cat_ACC: 0.3936 - 491ms/epoch - 49ms/step\n",
      "Epoch 24/25\n",
      "10/10 - 0s - loss: 4.0705 - cat_ACC: 0.3639 - val_loss: 4.0317 - val_cat_ACC: 0.4096 - 439ms/epoch - 44ms/step\n",
      "Epoch 25/25\n",
      "10/10 - 0s - loss: 4.1501 - cat_ACC: 0.3151 - val_loss: 3.9950 - val_cat_ACC: 0.4149 - 448ms/epoch - 45ms/step\n"
     ]
    },
    {
     "data": {
      "text/plain": [
       "<keras.callbacks.History at 0x7f17cbcb15b0>"
      ]
     },
     "execution_count": 7,
     "metadata": {},
     "output_type": "execute_result"
    }
   ],
   "source": [
    "import mneflow\n",
    "import_opt = dict(savepath='../tfr/',\n",
    "                  out_name='mne_sample_epochs',\n",
    "                  fs=600,\n",
    "                  input_type='trials',\n",
    "                  target_type='int',\n",
    "                  picks={'meg':'grad'},\n",
    "                  scale=True,  # apply baseline_scaling\n",
    "                  crop_baseline=True,  # remove baseline interval after scaling\n",
    "                  decimate=None,\n",
    "                  scale_interval=(0, 60),  # indices in time axis corresponding to baseline interval\n",
    "                #   n_folds=5,  # validation set size set to 20% of all data\n",
    "                  n_folds=5,\n",
    "                  overwrite=True,\n",
    "                  segment=False,\n",
    "                #   test_set='holdout'\n",
    ")\n",
    "\n",
    "\n",
    "#write TFRecord files and metadata file to disk\n",
    "meta = mneflow.produce_tfrecords((original_X, original_Y), **import_opt)  \n",
    "dataset = mneflow.Dataset(meta, train_batch=100)\n",
    "\n",
    "train_size = dataset.h_params['train_size']\n",
    "eval_step = train_size // dataset.h_params['train_batch'] + 1\n",
    "min_delta=1e-6\n",
    "early_stopping=3\n",
    "stop_early = tf.keras.callbacks.EarlyStopping(monitor='val_loss',\n",
    "                                                      min_delta=min_delta,\n",
    "                                                      patience=early_stopping,\n",
    "                                                      restore_best_weights=True)\n",
    "\n",
    "km.fit(dataset.train,\n",
    "      validation_data=dataset.val,\n",
    "      epochs=25, steps_per_epoch=eval_step,\n",
    "      shuffle=True, \n",
    "      validation_steps=dataset.validation_steps,\n",
    "      callbacks=[stop_early], verbose=2)"
   ]
  },
  {
   "cell_type": "code",
   "execution_count": 11,
   "metadata": {},
   "outputs": [
    {
     "name": "stdout",
     "output_type": "stream",
     "text": [
      "Epoch 1/25\n",
      "6/6 [==============================] - 0s 52ms/step - loss: 2.8302 - cat_ACC: 0.2074 - val_loss: 2.9959 - val_cat_ACC: 0.0000e+00\n",
      "Epoch 2/25\n",
      "6/6 [==============================] - 0s 29ms/step - loss: 2.7189 - cat_ACC: 0.2181 - val_loss: 3.1969 - val_cat_ACC: 0.0000e+00\n",
      "Epoch 3/25\n",
      "6/6 [==============================] - 0s 29ms/step - loss: 2.6102 - cat_ACC: 0.2039 - val_loss: 3.4478 - val_cat_ACC: 0.0000e+00\n",
      "Epoch 4/25\n",
      "6/6 [==============================] - 0s 30ms/step - loss: 2.5197 - cat_ACC: 0.2447 - val_loss: 3.6942 - val_cat_ACC: 0.0000e+00\n",
      "Epoch 5/25\n",
      "6/6 [==============================] - 0s 28ms/step - loss: 2.4592 - cat_ACC: 0.2553 - val_loss: 3.9114 - val_cat_ACC: 0.0000e+00\n",
      "Epoch 6/25\n",
      "6/6 [==============================] - 0s 29ms/step - loss: 2.4171 - cat_ACC: 0.2163 - val_loss: 4.0860 - val_cat_ACC: 0.0000e+00\n",
      "Epoch 7/25\n",
      "6/6 [==============================] - 0s 29ms/step - loss: 2.3745 - cat_ACC: 0.2128 - val_loss: 4.2153 - val_cat_ACC: 0.0000e+00\n",
      "Epoch 8/25\n",
      "6/6 [==============================] - 0s 29ms/step - loss: 2.3502 - cat_ACC: 0.2270 - val_loss: 4.3007 - val_cat_ACC: 0.0000e+00\n",
      "Epoch 9/25\n",
      "6/6 [==============================] - 0s 31ms/step - loss: 2.3146 - cat_ACC: 0.2287 - val_loss: 4.3594 - val_cat_ACC: 0.0000e+00\n",
      "Epoch 10/25\n",
      "6/6 [==============================] - 0s 32ms/step - loss: 2.2837 - cat_ACC: 0.2411 - val_loss: 4.3918 - val_cat_ACC: 0.0000e+00\n",
      "Epoch 11/25\n",
      "6/6 [==============================] - 0s 33ms/step - loss: 2.2613 - cat_ACC: 0.2323 - val_loss: 4.4073 - val_cat_ACC: 0.0000e+00\n",
      "Epoch 12/25\n",
      "6/6 [==============================] - 0s 33ms/step - loss: 2.2341 - cat_ACC: 0.2270 - val_loss: 4.4153 - val_cat_ACC: 0.0000e+00\n",
      "Epoch 13/25\n",
      "6/6 [==============================] - 0s 33ms/step - loss: 2.2044 - cat_ACC: 0.2624 - val_loss: 4.4106 - val_cat_ACC: 0.0000e+00\n",
      "Epoch 14/25\n",
      "6/6 [==============================] - 0s 32ms/step - loss: 2.1880 - cat_ACC: 0.2128 - val_loss: 4.4084 - val_cat_ACC: 0.0000e+00\n",
      "Epoch 15/25\n",
      "6/6 [==============================] - 0s 32ms/step - loss: 2.1663 - cat_ACC: 0.2145 - val_loss: 4.4019 - val_cat_ACC: 0.0000e+00\n",
      "Epoch 16/25\n",
      "6/6 [==============================] - 0s 32ms/step - loss: 2.1348 - cat_ACC: 0.2287 - val_loss: 4.3983 - val_cat_ACC: 0.0000e+00\n",
      "Epoch 17/25\n",
      "6/6 [==============================] - 0s 31ms/step - loss: 2.1169 - cat_ACC: 0.2340 - val_loss: 4.3896 - val_cat_ACC: 0.0000e+00\n",
      "Epoch 18/25\n",
      "6/6 [==============================] - 0s 33ms/step - loss: 2.0963 - cat_ACC: 0.2110 - val_loss: 4.3778 - val_cat_ACC: 0.0000e+00\n",
      "Epoch 19/25\n",
      "6/6 [==============================] - 0s 35ms/step - loss: 2.0756 - cat_ACC: 0.2376 - val_loss: 4.3672 - val_cat_ACC: 0.0000e+00\n",
      "Epoch 20/25\n",
      "6/6 [==============================] - 0s 33ms/step - loss: 2.0587 - cat_ACC: 0.2092 - val_loss: 4.3492 - val_cat_ACC: 0.0000e+00\n",
      "Epoch 21/25\n",
      "6/6 [==============================] - 0s 34ms/step - loss: 2.0370 - cat_ACC: 0.2553 - val_loss: 4.3376 - val_cat_ACC: 0.0000e+00\n",
      "Epoch 22/25\n",
      "6/6 [==============================] - 0s 33ms/step - loss: 2.0260 - cat_ACC: 0.2270 - val_loss: 4.3208 - val_cat_ACC: 0.0000e+00\n",
      "Epoch 23/25\n",
      "6/6 [==============================] - 0s 32ms/step - loss: 2.0085 - cat_ACC: 0.2145 - val_loss: 4.3047 - val_cat_ACC: 0.0000e+00\n",
      "Epoch 24/25\n",
      "6/6 [==============================] - 0s 31ms/step - loss: 1.9940 - cat_ACC: 0.2252 - val_loss: 4.2933 - val_cat_ACC: 0.0000e+00\n",
      "Epoch 25/25\n",
      "6/6 [==============================] - 0s 29ms/step - loss: 1.9772 - cat_ACC: 0.2216 - val_loss: 4.2793 - val_cat_ACC: 0.0000e+00\n"
     ]
    },
    {
     "data": {
      "text/plain": [
       "<keras.callbacks.History at 0x7fdab2ef9df0>"
      ]
     },
     "execution_count": 11,
     "metadata": {},
     "output_type": "execute_result"
    }
   ],
   "source": [
    "km.fit(\n",
    "    X,\n",
    "    Y,\n",
    "    epochs=25,\n",
    "    validation_split=0.4,\n",
    "    shuffle=True,\n",
    "    batch_size=100,\n",
    ")"
   ]
  },
  {
   "cell_type": "code",
   "execution_count": 8,
   "metadata": {},
   "outputs": [
    {
     "data": {
      "text/plain": [
       "<MapDataset element_spec=(TensorSpec(shape=(None, 1, 361, 204), dtype=tf.float32, name=None), TensorSpec(shape=(None, 8), dtype=tf.int64, name=None))>"
      ]
     },
     "execution_count": 8,
     "metadata": {},
     "output_type": "execute_result"
    }
   ],
   "source": [
    "dataset.train"
   ]
  },
  {
   "cell_type": "code",
   "execution_count": 13,
   "metadata": {},
   "outputs": [],
   "source": [
    "# list(dataset.train.as_numpy_iterator())\n"
   ]
  }
 ],
 "metadata": {
  "interpreter": {
   "hash": "25b6c1d617e3cb25e4067864bcd46322e1b7da41afdae0cf7c23b941b0b9b767"
  },
  "kernelspec": {
   "display_name": "Python 3.9.10 ('venv': venv)",
   "language": "python",
   "name": "python3"
  },
  "language_info": {
   "codemirror_mode": {
    "name": "ipython",
    "version": 3
   },
   "file_extension": ".py",
   "mimetype": "text/x-python",
   "name": "python",
   "nbconvert_exporter": "python",
   "pygments_lexer": "ipython3",
   "version": "3.9.10"
  },
  "orig_nbformat": 4
 },
 "nbformat": 4,
 "nbformat_minor": 2
}
