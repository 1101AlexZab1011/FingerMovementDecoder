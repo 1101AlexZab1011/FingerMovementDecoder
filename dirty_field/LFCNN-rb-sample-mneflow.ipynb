{
 "cells": [
  {
   "cell_type": "code",
   "execution_count": 18,
   "metadata": {},
   "outputs": [],
   "source": [
    "import matplotlib\n",
    "import sys\n",
    "import os\n",
    "current_dir = os.path.dirname(os.path.abspath('./'))\n",
    "if not current_dir in sys.path:\n",
    "    sys.path.append(current_dir)\n",
    "    \n",
    "from utils.structures import Pipeline, Deploy\n",
    "from utils.data_management import dict2str\n",
    "from utils.machine_learning import one_hot_encoder, one_hot_decoder\n",
    "from typing import *\n",
    "import tensorflow as tf\n",
    "from sklearn.datasets import make_classification\n",
    "import mne\n",
    "from combiners import EpochsCombiner\n",
    "import numpy as np\n",
    "import matplotlib.pyplot as plt\n",
    "from matplotlib.pyplot import figure\n",
    "from utils.machine_learning.designer import ModelDesign, ParallelDesign, LayerDesign\n",
    "from utils.machine_learning.analyzer import ModelAnalyzer, LFCNNAnalyzer\n",
    "from mne.datasets import multimodal\n",
    "import sklearn\n",
    "import mneflow as mf\n",
    "import tensorflow as tf\n",
    "from mneflow.layers import DeMixing, LFTConv, TempPooling, Dense\n",
    "\n",
    "# %matplotlib qt"
   ]
  },
  {
   "cell_type": "code",
   "execution_count": 19,
   "metadata": {},
   "outputs": [],
   "source": [
    "mne.set_log_level(verbose='CRITICAL')\n",
    "fname_raw = os.path.join(multimodal.data_path(), 'multimodal_raw.fif')\n",
    "raw = mne.io.read_raw_fif(fname_raw)\n",
    "cond = raw.acqparser.get_condition(raw, None)\n",
    "condition_names = [k for c in cond for k,v in c['event_id'].items()]\n",
    "epochs_list = [mne.Epochs(raw, **c) for c in cond]\n",
    "epochs = mne.concatenate_epochs(epochs_list)\n",
    "epochs = epochs.pick_types(meg='grad')\n",
    "X = np.array([])\n",
    "Y = list()\n",
    "for i, epochs in enumerate(epochs_list):\n",
    "    data = epochs.get_data()\n",
    "    if i == 0:\n",
    "        X = data.copy()\n",
    "    else:\n",
    "        X = np.append(X, data, axis=0)\n",
    "    Y += [i for _ in range(data.shape[0])]\n",
    "\n",
    "Y = np.array(Y)\n",
    "X = np.array([X[i, epochs._channel_type_idx['grad'], :] for i, _ in enumerate(X)])\n",
    "original_X = X.copy()\n",
    "original_Y = Y.copy()"
   ]
  },
  {
   "cell_type": "code",
   "execution_count": 20,
   "metadata": {},
   "outputs": [
    {
     "name": "stdout",
     "output_type": "stream",
     "text": [
      "(940, 1, 361, 204)\n"
     ]
    }
   ],
   "source": [
    "Y = original_Y.copy()\n",
    "Y = one_hot_encoder(Y)\n",
    "X = original_X.copy()\n",
    "X = np.transpose(np.expand_dims(X, axis = 1), (0, 1, 3, 2))\n",
    "print(X.shape)"
   ]
  },
  {
   "cell_type": "code",
   "execution_count": 21,
   "metadata": {},
   "outputs": [
    {
     "name": "stdout",
     "output_type": "stream",
     "text": [
      "input:  (1, 361, 204)\n",
      "(None, 8)\n"
     ]
    }
   ],
   "source": [
    "\n",
    "\n",
    "specs = dict()\n",
    "specs.setdefault('filter_length', 7)\n",
    "specs.setdefault('n_latent', 32)\n",
    "specs.setdefault('pooling', 2)\n",
    "specs.setdefault('stride', 2)\n",
    "specs.setdefault('padding', 'SAME')\n",
    "specs.setdefault('pool_type', 'max')\n",
    "specs.setdefault('nonlin', tf.nn.relu)\n",
    "specs.setdefault('l1', 3e-4)\n",
    "specs.setdefault('l2', 0)\n",
    "# specs.setdefault('l1_scope', ['fc', 'demix', 'lf_conv'])\n",
    "specs.setdefault('l1_scope', ['fc', 'dmx', 'tconv', 'fc'])\n",
    "specs.setdefault('l2_scope', [])\n",
    "specs.setdefault('maxnorm_scope', [])\n",
    "specs.setdefault('dropout', .5)\n",
    "\n",
    "# n_latent=32,\n",
    "# filter_length=17,\n",
    "# nonlin = tf.nn.relu,\n",
    "# padding = 'SAME',\n",
    "# pooling = 5,\n",
    "# stride = 5,\n",
    "# pool_type='max',\n",
    "# dropout = .5,\n",
    "# l1_scope = [\"weights\"],\n",
    "# l1=3e-3\n",
    "\n",
    "specs['filter_length'] = 17\n",
    "specs['pooling'] = 5\n",
    "specs['stride'] = 5\n",
    "specs['l1'] = 3e-3\n",
    "\n",
    "\n",
    "out_dim = len(np.unique(original_Y))\n",
    "\n",
    "n_samples, _, n_times, n_channels = X.shape\n",
    "\n",
    "inputs = tf.keras.Input(shape=(1, n_times, n_channels))\n",
    "\n",
    "# kmd = ModelDesign(\n",
    "#     tf.keras.Input(shape=(1, n_times, n_channels)),\n",
    "#     DeMixing(size=specs['n_latent'], nonlin=tf.identity, axis=3, specs=specs),\n",
    "#     LFTConv(\n",
    "#         size=specs['n_latent'],\n",
    "#         nonlin=specs['nonlin'],\n",
    "#         filter_length=specs['filter_length'],\n",
    "#         padding=specs['padding'],\n",
    "#         specs=specs\n",
    "#     ),\n",
    "#     TempPooling(\n",
    "#         pooling=specs['pooling'],\n",
    "#         pool_type=specs['pool_type'],\n",
    "#         stride=specs['stride'],\n",
    "#         padding=specs['padding'],\n",
    "#     ),\n",
    "#     tf.keras.layers.Dropout(specs['dropout'], noise_shape=None),\n",
    "#     Dense(size=out_dim, nonlin=tf.identity, specs=specs)\n",
    "# )\n",
    "\n",
    "\n",
    "# kmd = ModelDesign(\n",
    "#     tf.keras.Input(shape=(1, n_times, n_channels)),\n",
    "#     tf.keras.layers.Conv2D(specs['n_latent'], (1, n_channels), padding='same', kernel_regularizer='l1'),\n",
    "#     tf.keras.layers.DepthwiseConv2D((1, specs['filter_length']), padding='same', kernel_regularizer='l1'),\n",
    "#     LayerDesign(tf.nn.avg_pool2d, ksize=(1, 1, 10, 1), strides=(1, 1, 10, 1), padding='SAME'),\n",
    "#     tf.keras.layers.Dropout(specs['dropout'], noise_shape=None),\n",
    "#     tf.keras.layers.Flatten(),\n",
    "#     tf.keras.layers.Dense(out_dim),\n",
    "# )\n",
    "\n",
    "\n",
    "# kmd = ModelDesign(\n",
    "#     tf.keras.Input(shape=(1, n_times, n_channels)),\n",
    "#     LayerDesign(tf.squeeze, axis=1),\n",
    "#     tf.keras.layers.LSTM(\n",
    "#         32,\n",
    "#         return_sequences=True,\n",
    "#         kernel_regularizer='l2',\n",
    "#         recurrent_regularizer='l1',\n",
    "#         bias_regularizer='l1',\n",
    "#         dropout=0.2,\n",
    "#         recurrent_dropout=0.4\n",
    "#     ),\n",
    "#     LayerDesign(tf.expand_dims, axis=1),\n",
    "#     # DeMixing(size=specs['n_latent'], nonlin=tf.identity, axis=3, specs=specs),\n",
    "#     LFTConv(\n",
    "#         size=specs['n_latent'],\n",
    "#         nonlin=specs['nonlin'],\n",
    "#         filter_length=specs['filter_length'],\n",
    "#         padding=specs['padding'],\n",
    "#         specs=specs\n",
    "#     ),\n",
    "#     TempPooling(\n",
    "#         pooling=specs['pooling'],\n",
    "#         pool_type=specs['pool_type'],\n",
    "#         stride=specs['stride'],\n",
    "#         padding=specs['padding'],\n",
    "#     ),\n",
    "#     tf.keras.layers.Dropout(specs['dropout'], noise_shape=None),\n",
    "#     Dense(size=out_dim, nonlin=tf.identity, specs=specs)\n",
    "#     # tf.keras.layers.DepthwiseConv2D((1, 37), padding='valid', activation='relu', kernel_regularizer='l1'),\n",
    "#     # tf.keras.layers.Flatten(),\n",
    "#     # tf.keras.layers.Dense(out_dim),\n",
    "# )\n",
    "\n",
    "\n",
    "kmd = ModelDesign(\n",
    "    tf.keras.Input(shape=(1, n_times, n_channels)),\n",
    "    LayerDesign(tf.squeeze, axis=1),\n",
    "    tf.keras.layers.LSTM(\n",
    "        32,\n",
    "        return_sequences=True,\n",
    "        kernel_regularizer='l2',\n",
    "        recurrent_regularizer='l1',\n",
    "        bias_regularizer='l1',\n",
    "        dropout=0.2,\n",
    "        recurrent_dropout=0.4\n",
    "    ),\n",
    "    LayerDesign(tf.expand_dims, axis=1),\n",
    "    tf.keras.layers.DepthwiseConv2D((1, specs['filter_length']), padding='same', kernel_regularizer='l1'),\n",
    "    LayerDesign(tf.nn.avg_pool2d, ksize=(1, 1, 10, 1), strides=(1, 1, 10, 1), padding='SAME'),\n",
    "    tf.keras.layers.Dropout(specs['dropout'], noise_shape=None),\n",
    "    tf.keras.layers.Flatten(),\n",
    "    tf.keras.layers.Dense(out_dim),\n",
    ")\n",
    "\n",
    "\n",
    "print('input: ', (1, n_times, n_channels))\n",
    "print(kmd().shape)\n"
   ]
  },
  {
   "cell_type": "code",
   "execution_count": 9,
   "metadata": {},
   "outputs": [],
   "source": [
    "X_train, X_test, y_train, y_test = sklearn.model_selection.train_test_split(original_X, original_Y, train_size=.85)"
   ]
  },
  {
   "cell_type": "code",
   "execution_count": 23,
   "metadata": {},
   "outputs": [
    {
     "name": "stdout",
     "output_type": "stream",
     "text": [
      "importing from tuple\n",
      "input shapes: X- (940, 204, 361) targets- (940, 1)\n",
      "Preprocessing:\n",
      "Scaling to interval 0.0 - 60.0\n",
      "Splitting sets\n",
      "Preprocessed: (940, 1, 361, 204) (940, 8) folds: 5 x 188\n",
      "Prepocessed sample shape: (1, 361, 204)\n",
      "Target shape actual/metadata:  (8,) (8,)\n",
      "Saving TFRecord# 0\n"
     ]
    }
   ],
   "source": [
    "import mneflow\n",
    "import_opt = dict(savepath='../tfr/',\n",
    "                  out_name='mne_sample_epochs',\n",
    "                  fs=600,\n",
    "                  input_type='trials',\n",
    "                  target_type='int',\n",
    "                  picks={'meg':'grad'},\n",
    "                  scale=True,  # apply baseline_scaling\n",
    "                  crop_baseline=True,  # remove baseline interval after scaling\n",
    "                  decimate=None,\n",
    "                  scale_interval=(0, 60),  # indices in time axis corresponding to baseline interval\n",
    "                #   n_folds=5,  # validation set size set to 20% of all data\n",
    "                  n_folds=5,\n",
    "                  overwrite=True,\n",
    "                  segment=False,\n",
    "                #   test_set='holdout'\n",
    ")\n",
    "\n",
    "\n",
    "#write TFRecord files and metadata file to disk\n",
    "meta = mneflow.produce_tfrecords((original_X, original_Y), **import_opt)  \n",
    "dataset = mneflow.Dataset(meta, train_batch=100)"
   ]
  },
  {
   "cell_type": "code",
   "execution_count": 24,
   "metadata": {},
   "outputs": [
    {
     "name": "stdout",
     "output_type": "stream",
     "text": [
      "Epoch 1/25\n"
     ]
    },
    {
     "name": "stderr",
     "output_type": "stream",
     "text": [
      "2022-03-07 23:20:54.486921: W tensorflow/core/framework/cpu_allocator_impl.cc:82] Allocation of 235366224 exceeds 10% of free system memory.\n"
     ]
    },
    {
     "name": "stdout",
     "output_type": "stream",
     "text": [
      "10/10 - 4s - loss: 6.7764 - cat_ACC: 0.1301 - 4s/epoch - 399ms/step\n",
      "Epoch 2/25\n",
      "10/10 - 2s - loss: 6.5547 - cat_ACC: 0.1441 - 2s/epoch - 224ms/step\n",
      "Epoch 3/25\n",
      "10/10 - 2s - loss: 6.3421 - cat_ACC: 0.1391 - 2s/epoch - 218ms/step\n",
      "Epoch 4/25\n"
     ]
    },
    {
     "ename": "KeyboardInterrupt",
     "evalue": "",
     "output_type": "error",
     "traceback": [
      "\u001b[0;31m---------------------------------------------------------------------------\u001b[0m",
      "\u001b[0;31mKeyboardInterrupt\u001b[0m                         Traceback (most recent call last)",
      "\u001b[1;32m/home/user/Projects/FingerMovementDecoder/dirty_field/LFCNN-rb-sample-mneflow.ipynb Cell 7'\u001b[0m in \u001b[0;36m<module>\u001b[0;34m\u001b[0m\n\u001b[1;32m     <a href='vscode-notebook-cell:/home/user/Projects/FingerMovementDecoder/dirty_field/LFCNN-rb-sample-mneflow.ipynb#ch0000013?line=14'>15</a>\u001b[0m early_stopping\u001b[39m=\u001b[39m\u001b[39m3\u001b[39m\n\u001b[1;32m     <a href='vscode-notebook-cell:/home/user/Projects/FingerMovementDecoder/dirty_field/LFCNN-rb-sample-mneflow.ipynb#ch0000013?line=15'>16</a>\u001b[0m stop_early \u001b[39m=\u001b[39m tf\u001b[39m.\u001b[39mkeras\u001b[39m.\u001b[39mcallbacks\u001b[39m.\u001b[39mEarlyStopping(\n\u001b[1;32m     <a href='vscode-notebook-cell:/home/user/Projects/FingerMovementDecoder/dirty_field/LFCNN-rb-sample-mneflow.ipynb#ch0000013?line=16'>17</a>\u001b[0m       monitor\u001b[39m=\u001b[39m\u001b[39m'\u001b[39m\u001b[39mloss\u001b[39m\u001b[39m'\u001b[39m,\n\u001b[1;32m     <a href='vscode-notebook-cell:/home/user/Projects/FingerMovementDecoder/dirty_field/LFCNN-rb-sample-mneflow.ipynb#ch0000013?line=17'>18</a>\u001b[0m       min_delta\u001b[39m=\u001b[39mmin_delta,\n\u001b[1;32m     <a href='vscode-notebook-cell:/home/user/Projects/FingerMovementDecoder/dirty_field/LFCNN-rb-sample-mneflow.ipynb#ch0000013?line=18'>19</a>\u001b[0m       patience\u001b[39m=\u001b[39mearly_stopping,\n\u001b[1;32m     <a href='vscode-notebook-cell:/home/user/Projects/FingerMovementDecoder/dirty_field/LFCNN-rb-sample-mneflow.ipynb#ch0000013?line=19'>20</a>\u001b[0m       restore_best_weights\u001b[39m=\u001b[39m\u001b[39mTrue\u001b[39;00m\n\u001b[1;32m     <a href='vscode-notebook-cell:/home/user/Projects/FingerMovementDecoder/dirty_field/LFCNN-rb-sample-mneflow.ipynb#ch0000013?line=20'>21</a>\u001b[0m )\n\u001b[0;32m---> <a href='vscode-notebook-cell:/home/user/Projects/FingerMovementDecoder/dirty_field/LFCNN-rb-sample-mneflow.ipynb#ch0000013?line=22'>23</a>\u001b[0m km\u001b[39m.\u001b[39;49mfit(\n\u001b[1;32m     <a href='vscode-notebook-cell:/home/user/Projects/FingerMovementDecoder/dirty_field/LFCNN-rb-sample-mneflow.ipynb#ch0000013?line=23'>24</a>\u001b[0m       np\u001b[39m.\u001b[39;49mtranspose(np\u001b[39m.\u001b[39;49mexpand_dims(X_train, axis \u001b[39m=\u001b[39;49m \u001b[39m1\u001b[39;49m), (\u001b[39m0\u001b[39;49m, \u001b[39m1\u001b[39;49m, \u001b[39m3\u001b[39;49m, \u001b[39m2\u001b[39;49m)), one_hot_encoder(y_train),\n\u001b[1;32m     <a href='vscode-notebook-cell:/home/user/Projects/FingerMovementDecoder/dirty_field/LFCNN-rb-sample-mneflow.ipynb#ch0000013?line=24'>25</a>\u001b[0m       epochs\u001b[39m=\u001b[39;49m\u001b[39m25\u001b[39;49m, \n\u001b[1;32m     <a href='vscode-notebook-cell:/home/user/Projects/FingerMovementDecoder/dirty_field/LFCNN-rb-sample-mneflow.ipynb#ch0000013?line=25'>26</a>\u001b[0m       steps_per_epoch\u001b[39m=\u001b[39;49m\u001b[39m10\u001b[39;49m,\n\u001b[1;32m     <a href='vscode-notebook-cell:/home/user/Projects/FingerMovementDecoder/dirty_field/LFCNN-rb-sample-mneflow.ipynb#ch0000013?line=26'>27</a>\u001b[0m       shuffle\u001b[39m=\u001b[39;49m\u001b[39mTrue\u001b[39;49;00m, \n\u001b[1;32m     <a href='vscode-notebook-cell:/home/user/Projects/FingerMovementDecoder/dirty_field/LFCNN-rb-sample-mneflow.ipynb#ch0000013?line=27'>28</a>\u001b[0m       batch_size\u001b[39m=\u001b[39;49m\u001b[39m100\u001b[39;49m,\n\u001b[1;32m     <a href='vscode-notebook-cell:/home/user/Projects/FingerMovementDecoder/dirty_field/LFCNN-rb-sample-mneflow.ipynb#ch0000013?line=28'>29</a>\u001b[0m       callbacks\u001b[39m=\u001b[39;49m[stop_early], verbose\u001b[39m=\u001b[39;49m\u001b[39m2\u001b[39;49m\n\u001b[1;32m     <a href='vscode-notebook-cell:/home/user/Projects/FingerMovementDecoder/dirty_field/LFCNN-rb-sample-mneflow.ipynb#ch0000013?line=29'>30</a>\u001b[0m )\n",
      "File \u001b[0;32m~/Projects/FingerMovementDecoder/venv/lib/python3.9/site-packages/keras/utils/traceback_utils.py:64\u001b[0m, in \u001b[0;36mfilter_traceback.<locals>.error_handler\u001b[0;34m(*args, **kwargs)\u001b[0m\n\u001b[1;32m     <a href='file:///home/user/Projects/FingerMovementDecoder/venv/lib/python3.9/site-packages/keras/utils/traceback_utils.py?line=61'>62</a>\u001b[0m filtered_tb \u001b[39m=\u001b[39m \u001b[39mNone\u001b[39;00m\n\u001b[1;32m     <a href='file:///home/user/Projects/FingerMovementDecoder/venv/lib/python3.9/site-packages/keras/utils/traceback_utils.py?line=62'>63</a>\u001b[0m \u001b[39mtry\u001b[39;00m:\n\u001b[0;32m---> <a href='file:///home/user/Projects/FingerMovementDecoder/venv/lib/python3.9/site-packages/keras/utils/traceback_utils.py?line=63'>64</a>\u001b[0m   \u001b[39mreturn\u001b[39;00m fn(\u001b[39m*\u001b[39;49margs, \u001b[39m*\u001b[39;49m\u001b[39m*\u001b[39;49mkwargs)\n\u001b[1;32m     <a href='file:///home/user/Projects/FingerMovementDecoder/venv/lib/python3.9/site-packages/keras/utils/traceback_utils.py?line=64'>65</a>\u001b[0m \u001b[39mexcept\u001b[39;00m \u001b[39mException\u001b[39;00m \u001b[39mas\u001b[39;00m e:  \u001b[39m# pylint: disable=broad-except\u001b[39;00m\n\u001b[1;32m     <a href='file:///home/user/Projects/FingerMovementDecoder/venv/lib/python3.9/site-packages/keras/utils/traceback_utils.py?line=65'>66</a>\u001b[0m   filtered_tb \u001b[39m=\u001b[39m _process_traceback_frames(e\u001b[39m.\u001b[39m__traceback__)\n",
      "File \u001b[0;32m~/Projects/FingerMovementDecoder/venv/lib/python3.9/site-packages/keras/engine/training.py:1384\u001b[0m, in \u001b[0;36mModel.fit\u001b[0;34m(self, x, y, batch_size, epochs, verbose, callbacks, validation_split, validation_data, shuffle, class_weight, sample_weight, initial_epoch, steps_per_epoch, validation_steps, validation_batch_size, validation_freq, max_queue_size, workers, use_multiprocessing)\u001b[0m\n\u001b[1;32m   <a href='file:///home/user/Projects/FingerMovementDecoder/venv/lib/python3.9/site-packages/keras/engine/training.py?line=1376'>1377</a>\u001b[0m \u001b[39mwith\u001b[39;00m tf\u001b[39m.\u001b[39mprofiler\u001b[39m.\u001b[39mexperimental\u001b[39m.\u001b[39mTrace(\n\u001b[1;32m   <a href='file:///home/user/Projects/FingerMovementDecoder/venv/lib/python3.9/site-packages/keras/engine/training.py?line=1377'>1378</a>\u001b[0m     \u001b[39m'\u001b[39m\u001b[39mtrain\u001b[39m\u001b[39m'\u001b[39m,\n\u001b[1;32m   <a href='file:///home/user/Projects/FingerMovementDecoder/venv/lib/python3.9/site-packages/keras/engine/training.py?line=1378'>1379</a>\u001b[0m     epoch_num\u001b[39m=\u001b[39mepoch,\n\u001b[1;32m   <a href='file:///home/user/Projects/FingerMovementDecoder/venv/lib/python3.9/site-packages/keras/engine/training.py?line=1379'>1380</a>\u001b[0m     step_num\u001b[39m=\u001b[39mstep,\n\u001b[1;32m   <a href='file:///home/user/Projects/FingerMovementDecoder/venv/lib/python3.9/site-packages/keras/engine/training.py?line=1380'>1381</a>\u001b[0m     batch_size\u001b[39m=\u001b[39mbatch_size,\n\u001b[1;32m   <a href='file:///home/user/Projects/FingerMovementDecoder/venv/lib/python3.9/site-packages/keras/engine/training.py?line=1381'>1382</a>\u001b[0m     _r\u001b[39m=\u001b[39m\u001b[39m1\u001b[39m):\n\u001b[1;32m   <a href='file:///home/user/Projects/FingerMovementDecoder/venv/lib/python3.9/site-packages/keras/engine/training.py?line=1382'>1383</a>\u001b[0m   callbacks\u001b[39m.\u001b[39mon_train_batch_begin(step)\n\u001b[0;32m-> <a href='file:///home/user/Projects/FingerMovementDecoder/venv/lib/python3.9/site-packages/keras/engine/training.py?line=1383'>1384</a>\u001b[0m   tmp_logs \u001b[39m=\u001b[39m \u001b[39mself\u001b[39;49m\u001b[39m.\u001b[39;49mtrain_function(iterator)\n\u001b[1;32m   <a href='file:///home/user/Projects/FingerMovementDecoder/venv/lib/python3.9/site-packages/keras/engine/training.py?line=1384'>1385</a>\u001b[0m   \u001b[39mif\u001b[39;00m data_handler\u001b[39m.\u001b[39mshould_sync:\n\u001b[1;32m   <a href='file:///home/user/Projects/FingerMovementDecoder/venv/lib/python3.9/site-packages/keras/engine/training.py?line=1385'>1386</a>\u001b[0m     context\u001b[39m.\u001b[39masync_wait()\n",
      "File \u001b[0;32m~/Projects/FingerMovementDecoder/venv/lib/python3.9/site-packages/tensorflow/python/util/traceback_utils.py:150\u001b[0m, in \u001b[0;36mfilter_traceback.<locals>.error_handler\u001b[0;34m(*args, **kwargs)\u001b[0m\n\u001b[1;32m    <a href='file:///home/user/Projects/FingerMovementDecoder/venv/lib/python3.9/site-packages/tensorflow/python/util/traceback_utils.py?line=147'>148</a>\u001b[0m filtered_tb \u001b[39m=\u001b[39m \u001b[39mNone\u001b[39;00m\n\u001b[1;32m    <a href='file:///home/user/Projects/FingerMovementDecoder/venv/lib/python3.9/site-packages/tensorflow/python/util/traceback_utils.py?line=148'>149</a>\u001b[0m \u001b[39mtry\u001b[39;00m:\n\u001b[0;32m--> <a href='file:///home/user/Projects/FingerMovementDecoder/venv/lib/python3.9/site-packages/tensorflow/python/util/traceback_utils.py?line=149'>150</a>\u001b[0m   \u001b[39mreturn\u001b[39;00m fn(\u001b[39m*\u001b[39;49margs, \u001b[39m*\u001b[39;49m\u001b[39m*\u001b[39;49mkwargs)\n\u001b[1;32m    <a href='file:///home/user/Projects/FingerMovementDecoder/venv/lib/python3.9/site-packages/tensorflow/python/util/traceback_utils.py?line=150'>151</a>\u001b[0m \u001b[39mexcept\u001b[39;00m \u001b[39mException\u001b[39;00m \u001b[39mas\u001b[39;00m e:\n\u001b[1;32m    <a href='file:///home/user/Projects/FingerMovementDecoder/venv/lib/python3.9/site-packages/tensorflow/python/util/traceback_utils.py?line=151'>152</a>\u001b[0m   filtered_tb \u001b[39m=\u001b[39m _process_traceback_frames(e\u001b[39m.\u001b[39m__traceback__)\n",
      "File \u001b[0;32m~/Projects/FingerMovementDecoder/venv/lib/python3.9/site-packages/tensorflow/python/eager/def_function.py:915\u001b[0m, in \u001b[0;36mFunction.__call__\u001b[0;34m(self, *args, **kwds)\u001b[0m\n\u001b[1;32m    <a href='file:///home/user/Projects/FingerMovementDecoder/venv/lib/python3.9/site-packages/tensorflow/python/eager/def_function.py?line=911'>912</a>\u001b[0m compiler \u001b[39m=\u001b[39m \u001b[39m\"\u001b[39m\u001b[39mxla\u001b[39m\u001b[39m\"\u001b[39m \u001b[39mif\u001b[39;00m \u001b[39mself\u001b[39m\u001b[39m.\u001b[39m_jit_compile \u001b[39melse\u001b[39;00m \u001b[39m\"\u001b[39m\u001b[39mnonXla\u001b[39m\u001b[39m\"\u001b[39m\n\u001b[1;32m    <a href='file:///home/user/Projects/FingerMovementDecoder/venv/lib/python3.9/site-packages/tensorflow/python/eager/def_function.py?line=913'>914</a>\u001b[0m \u001b[39mwith\u001b[39;00m OptionalXlaContext(\u001b[39mself\u001b[39m\u001b[39m.\u001b[39m_jit_compile):\n\u001b[0;32m--> <a href='file:///home/user/Projects/FingerMovementDecoder/venv/lib/python3.9/site-packages/tensorflow/python/eager/def_function.py?line=914'>915</a>\u001b[0m   result \u001b[39m=\u001b[39m \u001b[39mself\u001b[39;49m\u001b[39m.\u001b[39;49m_call(\u001b[39m*\u001b[39;49margs, \u001b[39m*\u001b[39;49m\u001b[39m*\u001b[39;49mkwds)\n\u001b[1;32m    <a href='file:///home/user/Projects/FingerMovementDecoder/venv/lib/python3.9/site-packages/tensorflow/python/eager/def_function.py?line=916'>917</a>\u001b[0m new_tracing_count \u001b[39m=\u001b[39m \u001b[39mself\u001b[39m\u001b[39m.\u001b[39mexperimental_get_tracing_count()\n\u001b[1;32m    <a href='file:///home/user/Projects/FingerMovementDecoder/venv/lib/python3.9/site-packages/tensorflow/python/eager/def_function.py?line=917'>918</a>\u001b[0m without_tracing \u001b[39m=\u001b[39m (tracing_count \u001b[39m==\u001b[39m new_tracing_count)\n",
      "File \u001b[0;32m~/Projects/FingerMovementDecoder/venv/lib/python3.9/site-packages/tensorflow/python/eager/def_function.py:947\u001b[0m, in \u001b[0;36mFunction._call\u001b[0;34m(self, *args, **kwds)\u001b[0m\n\u001b[1;32m    <a href='file:///home/user/Projects/FingerMovementDecoder/venv/lib/python3.9/site-packages/tensorflow/python/eager/def_function.py?line=943'>944</a>\u001b[0m   \u001b[39mself\u001b[39m\u001b[39m.\u001b[39m_lock\u001b[39m.\u001b[39mrelease()\n\u001b[1;32m    <a href='file:///home/user/Projects/FingerMovementDecoder/venv/lib/python3.9/site-packages/tensorflow/python/eager/def_function.py?line=944'>945</a>\u001b[0m   \u001b[39m# In this case we have created variables on the first call, so we run the\u001b[39;00m\n\u001b[1;32m    <a href='file:///home/user/Projects/FingerMovementDecoder/venv/lib/python3.9/site-packages/tensorflow/python/eager/def_function.py?line=945'>946</a>\u001b[0m   \u001b[39m# defunned version which is guaranteed to never create variables.\u001b[39;00m\n\u001b[0;32m--> <a href='file:///home/user/Projects/FingerMovementDecoder/venv/lib/python3.9/site-packages/tensorflow/python/eager/def_function.py?line=946'>947</a>\u001b[0m   \u001b[39mreturn\u001b[39;00m \u001b[39mself\u001b[39;49m\u001b[39m.\u001b[39;49m_stateless_fn(\u001b[39m*\u001b[39;49margs, \u001b[39m*\u001b[39;49m\u001b[39m*\u001b[39;49mkwds)  \u001b[39m# pylint: disable=not-callable\u001b[39;00m\n\u001b[1;32m    <a href='file:///home/user/Projects/FingerMovementDecoder/venv/lib/python3.9/site-packages/tensorflow/python/eager/def_function.py?line=947'>948</a>\u001b[0m \u001b[39melif\u001b[39;00m \u001b[39mself\u001b[39m\u001b[39m.\u001b[39m_stateful_fn \u001b[39mis\u001b[39;00m \u001b[39mnot\u001b[39;00m \u001b[39mNone\u001b[39;00m:\n\u001b[1;32m    <a href='file:///home/user/Projects/FingerMovementDecoder/venv/lib/python3.9/site-packages/tensorflow/python/eager/def_function.py?line=948'>949</a>\u001b[0m   \u001b[39m# Release the lock early so that multiple threads can perform the call\u001b[39;00m\n\u001b[1;32m    <a href='file:///home/user/Projects/FingerMovementDecoder/venv/lib/python3.9/site-packages/tensorflow/python/eager/def_function.py?line=949'>950</a>\u001b[0m   \u001b[39m# in parallel.\u001b[39;00m\n\u001b[1;32m    <a href='file:///home/user/Projects/FingerMovementDecoder/venv/lib/python3.9/site-packages/tensorflow/python/eager/def_function.py?line=950'>951</a>\u001b[0m   \u001b[39mself\u001b[39m\u001b[39m.\u001b[39m_lock\u001b[39m.\u001b[39mrelease()\n",
      "File \u001b[0;32m~/Projects/FingerMovementDecoder/venv/lib/python3.9/site-packages/tensorflow/python/eager/function.py:2956\u001b[0m, in \u001b[0;36mFunction.__call__\u001b[0;34m(self, *args, **kwargs)\u001b[0m\n\u001b[1;32m   <a href='file:///home/user/Projects/FingerMovementDecoder/venv/lib/python3.9/site-packages/tensorflow/python/eager/function.py?line=2952'>2953</a>\u001b[0m \u001b[39mwith\u001b[39;00m \u001b[39mself\u001b[39m\u001b[39m.\u001b[39m_lock:\n\u001b[1;32m   <a href='file:///home/user/Projects/FingerMovementDecoder/venv/lib/python3.9/site-packages/tensorflow/python/eager/function.py?line=2953'>2954</a>\u001b[0m   (graph_function,\n\u001b[1;32m   <a href='file:///home/user/Projects/FingerMovementDecoder/venv/lib/python3.9/site-packages/tensorflow/python/eager/function.py?line=2954'>2955</a>\u001b[0m    filtered_flat_args) \u001b[39m=\u001b[39m \u001b[39mself\u001b[39m\u001b[39m.\u001b[39m_maybe_define_function(args, kwargs)\n\u001b[0;32m-> <a href='file:///home/user/Projects/FingerMovementDecoder/venv/lib/python3.9/site-packages/tensorflow/python/eager/function.py?line=2955'>2956</a>\u001b[0m \u001b[39mreturn\u001b[39;00m graph_function\u001b[39m.\u001b[39;49m_call_flat(\n\u001b[1;32m   <a href='file:///home/user/Projects/FingerMovementDecoder/venv/lib/python3.9/site-packages/tensorflow/python/eager/function.py?line=2956'>2957</a>\u001b[0m     filtered_flat_args, captured_inputs\u001b[39m=\u001b[39;49mgraph_function\u001b[39m.\u001b[39;49mcaptured_inputs)\n",
      "File \u001b[0;32m~/Projects/FingerMovementDecoder/venv/lib/python3.9/site-packages/tensorflow/python/eager/function.py:1853\u001b[0m, in \u001b[0;36mConcreteFunction._call_flat\u001b[0;34m(self, args, captured_inputs, cancellation_manager)\u001b[0m\n\u001b[1;32m   <a href='file:///home/user/Projects/FingerMovementDecoder/venv/lib/python3.9/site-packages/tensorflow/python/eager/function.py?line=1848'>1849</a>\u001b[0m possible_gradient_type \u001b[39m=\u001b[39m gradients_util\u001b[39m.\u001b[39mPossibleTapeGradientTypes(args)\n\u001b[1;32m   <a href='file:///home/user/Projects/FingerMovementDecoder/venv/lib/python3.9/site-packages/tensorflow/python/eager/function.py?line=1849'>1850</a>\u001b[0m \u001b[39mif\u001b[39;00m (possible_gradient_type \u001b[39m==\u001b[39m gradients_util\u001b[39m.\u001b[39mPOSSIBLE_GRADIENT_TYPES_NONE\n\u001b[1;32m   <a href='file:///home/user/Projects/FingerMovementDecoder/venv/lib/python3.9/site-packages/tensorflow/python/eager/function.py?line=1850'>1851</a>\u001b[0m     \u001b[39mand\u001b[39;00m executing_eagerly):\n\u001b[1;32m   <a href='file:///home/user/Projects/FingerMovementDecoder/venv/lib/python3.9/site-packages/tensorflow/python/eager/function.py?line=1851'>1852</a>\u001b[0m   \u001b[39m# No tape is watching; skip to running the function.\u001b[39;00m\n\u001b[0;32m-> <a href='file:///home/user/Projects/FingerMovementDecoder/venv/lib/python3.9/site-packages/tensorflow/python/eager/function.py?line=1852'>1853</a>\u001b[0m   \u001b[39mreturn\u001b[39;00m \u001b[39mself\u001b[39m\u001b[39m.\u001b[39m_build_call_outputs(\u001b[39mself\u001b[39;49m\u001b[39m.\u001b[39;49m_inference_function\u001b[39m.\u001b[39;49mcall(\n\u001b[1;32m   <a href='file:///home/user/Projects/FingerMovementDecoder/venv/lib/python3.9/site-packages/tensorflow/python/eager/function.py?line=1853'>1854</a>\u001b[0m       ctx, args, cancellation_manager\u001b[39m=\u001b[39;49mcancellation_manager))\n\u001b[1;32m   <a href='file:///home/user/Projects/FingerMovementDecoder/venv/lib/python3.9/site-packages/tensorflow/python/eager/function.py?line=1854'>1855</a>\u001b[0m forward_backward \u001b[39m=\u001b[39m \u001b[39mself\u001b[39m\u001b[39m.\u001b[39m_select_forward_and_backward_functions(\n\u001b[1;32m   <a href='file:///home/user/Projects/FingerMovementDecoder/venv/lib/python3.9/site-packages/tensorflow/python/eager/function.py?line=1855'>1856</a>\u001b[0m     args,\n\u001b[1;32m   <a href='file:///home/user/Projects/FingerMovementDecoder/venv/lib/python3.9/site-packages/tensorflow/python/eager/function.py?line=1856'>1857</a>\u001b[0m     possible_gradient_type,\n\u001b[1;32m   <a href='file:///home/user/Projects/FingerMovementDecoder/venv/lib/python3.9/site-packages/tensorflow/python/eager/function.py?line=1857'>1858</a>\u001b[0m     executing_eagerly)\n\u001b[1;32m   <a href='file:///home/user/Projects/FingerMovementDecoder/venv/lib/python3.9/site-packages/tensorflow/python/eager/function.py?line=1858'>1859</a>\u001b[0m forward_function, args_with_tangents \u001b[39m=\u001b[39m forward_backward\u001b[39m.\u001b[39mforward()\n",
      "File \u001b[0;32m~/Projects/FingerMovementDecoder/venv/lib/python3.9/site-packages/tensorflow/python/eager/function.py:499\u001b[0m, in \u001b[0;36m_EagerDefinedFunction.call\u001b[0;34m(self, ctx, args, cancellation_manager)\u001b[0m\n\u001b[1;32m    <a href='file:///home/user/Projects/FingerMovementDecoder/venv/lib/python3.9/site-packages/tensorflow/python/eager/function.py?line=496'>497</a>\u001b[0m \u001b[39mwith\u001b[39;00m _InterpolateFunctionError(\u001b[39mself\u001b[39m):\n\u001b[1;32m    <a href='file:///home/user/Projects/FingerMovementDecoder/venv/lib/python3.9/site-packages/tensorflow/python/eager/function.py?line=497'>498</a>\u001b[0m   \u001b[39mif\u001b[39;00m cancellation_manager \u001b[39mis\u001b[39;00m \u001b[39mNone\u001b[39;00m:\n\u001b[0;32m--> <a href='file:///home/user/Projects/FingerMovementDecoder/venv/lib/python3.9/site-packages/tensorflow/python/eager/function.py?line=498'>499</a>\u001b[0m     outputs \u001b[39m=\u001b[39m execute\u001b[39m.\u001b[39;49mexecute(\n\u001b[1;32m    <a href='file:///home/user/Projects/FingerMovementDecoder/venv/lib/python3.9/site-packages/tensorflow/python/eager/function.py?line=499'>500</a>\u001b[0m         \u001b[39mstr\u001b[39;49m(\u001b[39mself\u001b[39;49m\u001b[39m.\u001b[39;49msignature\u001b[39m.\u001b[39;49mname),\n\u001b[1;32m    <a href='file:///home/user/Projects/FingerMovementDecoder/venv/lib/python3.9/site-packages/tensorflow/python/eager/function.py?line=500'>501</a>\u001b[0m         num_outputs\u001b[39m=\u001b[39;49m\u001b[39mself\u001b[39;49m\u001b[39m.\u001b[39;49m_num_outputs,\n\u001b[1;32m    <a href='file:///home/user/Projects/FingerMovementDecoder/venv/lib/python3.9/site-packages/tensorflow/python/eager/function.py?line=501'>502</a>\u001b[0m         inputs\u001b[39m=\u001b[39;49margs,\n\u001b[1;32m    <a href='file:///home/user/Projects/FingerMovementDecoder/venv/lib/python3.9/site-packages/tensorflow/python/eager/function.py?line=502'>503</a>\u001b[0m         attrs\u001b[39m=\u001b[39;49mattrs,\n\u001b[1;32m    <a href='file:///home/user/Projects/FingerMovementDecoder/venv/lib/python3.9/site-packages/tensorflow/python/eager/function.py?line=503'>504</a>\u001b[0m         ctx\u001b[39m=\u001b[39;49mctx)\n\u001b[1;32m    <a href='file:///home/user/Projects/FingerMovementDecoder/venv/lib/python3.9/site-packages/tensorflow/python/eager/function.py?line=504'>505</a>\u001b[0m   \u001b[39melse\u001b[39;00m:\n\u001b[1;32m    <a href='file:///home/user/Projects/FingerMovementDecoder/venv/lib/python3.9/site-packages/tensorflow/python/eager/function.py?line=505'>506</a>\u001b[0m     outputs \u001b[39m=\u001b[39m execute\u001b[39m.\u001b[39mexecute_with_cancellation(\n\u001b[1;32m    <a href='file:///home/user/Projects/FingerMovementDecoder/venv/lib/python3.9/site-packages/tensorflow/python/eager/function.py?line=506'>507</a>\u001b[0m         \u001b[39mstr\u001b[39m(\u001b[39mself\u001b[39m\u001b[39m.\u001b[39msignature\u001b[39m.\u001b[39mname),\n\u001b[1;32m    <a href='file:///home/user/Projects/FingerMovementDecoder/venv/lib/python3.9/site-packages/tensorflow/python/eager/function.py?line=507'>508</a>\u001b[0m         num_outputs\u001b[39m=\u001b[39m\u001b[39mself\u001b[39m\u001b[39m.\u001b[39m_num_outputs,\n\u001b[0;32m   (...)\u001b[0m\n\u001b[1;32m    <a href='file:///home/user/Projects/FingerMovementDecoder/venv/lib/python3.9/site-packages/tensorflow/python/eager/function.py?line=510'>511</a>\u001b[0m         ctx\u001b[39m=\u001b[39mctx,\n\u001b[1;32m    <a href='file:///home/user/Projects/FingerMovementDecoder/venv/lib/python3.9/site-packages/tensorflow/python/eager/function.py?line=511'>512</a>\u001b[0m         cancellation_manager\u001b[39m=\u001b[39mcancellation_manager)\n",
      "File \u001b[0;32m~/Projects/FingerMovementDecoder/venv/lib/python3.9/site-packages/tensorflow/python/eager/execute.py:54\u001b[0m, in \u001b[0;36mquick_execute\u001b[0;34m(op_name, num_outputs, inputs, attrs, ctx, name)\u001b[0m\n\u001b[1;32m     <a href='file:///home/user/Projects/FingerMovementDecoder/venv/lib/python3.9/site-packages/tensorflow/python/eager/execute.py?line=51'>52</a>\u001b[0m \u001b[39mtry\u001b[39;00m:\n\u001b[1;32m     <a href='file:///home/user/Projects/FingerMovementDecoder/venv/lib/python3.9/site-packages/tensorflow/python/eager/execute.py?line=52'>53</a>\u001b[0m   ctx\u001b[39m.\u001b[39mensure_initialized()\n\u001b[0;32m---> <a href='file:///home/user/Projects/FingerMovementDecoder/venv/lib/python3.9/site-packages/tensorflow/python/eager/execute.py?line=53'>54</a>\u001b[0m   tensors \u001b[39m=\u001b[39m pywrap_tfe\u001b[39m.\u001b[39;49mTFE_Py_Execute(ctx\u001b[39m.\u001b[39;49m_handle, device_name, op_name,\n\u001b[1;32m     <a href='file:///home/user/Projects/FingerMovementDecoder/venv/lib/python3.9/site-packages/tensorflow/python/eager/execute.py?line=54'>55</a>\u001b[0m                                       inputs, attrs, num_outputs)\n\u001b[1;32m     <a href='file:///home/user/Projects/FingerMovementDecoder/venv/lib/python3.9/site-packages/tensorflow/python/eager/execute.py?line=55'>56</a>\u001b[0m \u001b[39mexcept\u001b[39;00m core\u001b[39m.\u001b[39m_NotOkStatusException \u001b[39mas\u001b[39;00m e:\n\u001b[1;32m     <a href='file:///home/user/Projects/FingerMovementDecoder/venv/lib/python3.9/site-packages/tensorflow/python/eager/execute.py?line=56'>57</a>\u001b[0m   \u001b[39mif\u001b[39;00m name \u001b[39mis\u001b[39;00m \u001b[39mnot\u001b[39;00m \u001b[39mNone\u001b[39;00m:\n",
      "\u001b[0;31mKeyboardInterrupt\u001b[0m: "
     ]
    }
   ],
   "source": [
    "km = kmd.build()\n",
    "\n",
    "optimizer=\"adam\"\n",
    "learn_rate=3e-4\n",
    "params = {\"optimizer\": tf.optimizers.get(optimizer).from_config({\"learning_rate\":learn_rate})}\n",
    "params.setdefault(\"loss\", tf.nn.softmax_cross_entropy_with_logits)\n",
    "params.setdefault(\"metrics\", tf.keras.metrics.CategoricalAccuracy(name=\"cat_ACC\"))\n",
    "\n",
    "km.compile(optimizer=params[\"optimizer\"],\n",
    "                loss=params[\"loss\"],\n",
    "                metrics=params[\"metrics\"])\n",
    "\n",
    "\n",
    "min_delta=1e-6\n",
    "early_stopping=3\n",
    "stop_early = tf.keras.callbacks.EarlyStopping(\n",
    "      monitor='loss',\n",
    "      min_delta=min_delta,\n",
    "      patience=early_stopping,\n",
    "      restore_best_weights=True\n",
    ")\n",
    "\n",
    "km.fit(\n",
    "      np.transpose(np.expand_dims(X_train, axis = 1), (0, 1, 3, 2)), one_hot_encoder(y_train),\n",
    "      epochs=25, \n",
    "      steps_per_epoch=10,\n",
    "      shuffle=True, \n",
    "      batch_size=100,\n",
    "      callbacks=[stop_early], verbose=2\n",
    ")"
   ]
  },
  {
   "cell_type": "code",
   "execution_count": 25,
   "metadata": {},
   "outputs": [
    {
     "name": "stdout",
     "output_type": "stream",
     "text": [
      "Epoch 1/25\n",
      "10/10 - 6s - loss: 6.0360 - cat_ACC: 0.1271 - val_loss: 5.9277 - val_cat_ACC: 0.1436 - 6s/epoch - 555ms/step\n",
      "Epoch 2/25\n",
      "10/10 - 2s - loss: 5.8419 - cat_ACC: 0.1460 - val_loss: 5.7435 - val_cat_ACC: 0.1649 - 2s/epoch - 249ms/step\n",
      "Epoch 3/25\n",
      "10/10 - 2s - loss: 5.6633 - cat_ACC: 0.1534 - val_loss: 5.5663 - val_cat_ACC: 0.1915 - 2s/epoch - 248ms/step\n",
      "Epoch 4/25\n",
      "10/10 - 3s - loss: 5.4725 - cat_ACC: 0.2323 - val_loss: 5.3942 - val_cat_ACC: 0.2021 - 3s/epoch - 258ms/step\n",
      "Epoch 5/25\n",
      "10/10 - 3s - loss: 5.3027 - cat_ACC: 0.2511 - val_loss: 5.2262 - val_cat_ACC: 0.2287 - 3s/epoch - 295ms/step\n",
      "Epoch 6/25\n",
      "10/10 - 3s - loss: 5.1304 - cat_ACC: 0.2952 - val_loss: 5.0613 - val_cat_ACC: 0.2394 - 3s/epoch - 334ms/step\n",
      "Epoch 7/25\n",
      "10/10 - 3s - loss: 4.9700 - cat_ACC: 0.2920 - val_loss: 4.8983 - val_cat_ACC: 0.2660 - 3s/epoch - 300ms/step\n",
      "Epoch 8/25\n",
      "10/10 - 3s - loss: 4.7632 - cat_ACC: 0.3883 - val_loss: 4.7361 - val_cat_ACC: 0.2926 - 3s/epoch - 250ms/step\n",
      "Epoch 9/25\n",
      "10/10 - 2s - loss: 4.6233 - cat_ACC: 0.3834 - val_loss: 4.5726 - val_cat_ACC: 0.3138 - 2s/epoch - 245ms/step\n",
      "Epoch 10/25\n",
      "10/10 - 2s - loss: 4.4553 - cat_ACC: 0.3824 - val_loss: 4.4099 - val_cat_ACC: 0.3351 - 2s/epoch - 241ms/step\n",
      "Epoch 11/25\n",
      "10/10 - 2s - loss: 4.2937 - cat_ACC: 0.3918 - val_loss: 4.2480 - val_cat_ACC: 0.3883 - 2s/epoch - 246ms/step\n",
      "Epoch 12/25\n",
      "10/10 - 2s - loss: 4.0125 - cat_ACC: 0.5055 - val_loss: 4.0846 - val_cat_ACC: 0.4096 - 2s/epoch - 236ms/step\n",
      "Epoch 13/25\n",
      "10/10 - 2s - loss: 3.9182 - cat_ACC: 0.4968 - val_loss: 3.9219 - val_cat_ACC: 0.4202 - 2s/epoch - 241ms/step\n",
      "Epoch 14/25\n",
      "10/10 - 2s - loss: 3.7661 - cat_ACC: 0.4874 - val_loss: 3.7623 - val_cat_ACC: 0.4415 - 2s/epoch - 240ms/step\n",
      "Epoch 15/25\n",
      "10/10 - 2s - loss: 3.5895 - cat_ACC: 0.5326 - val_loss: 3.6045 - val_cat_ACC: 0.4787 - 2s/epoch - 241ms/step\n",
      "Epoch 16/25\n",
      "10/10 - 2s - loss: 3.2747 - cat_ACC: 0.6305 - val_loss: 3.4501 - val_cat_ACC: 0.5319 - 2s/epoch - 238ms/step\n",
      "Epoch 17/25\n",
      "10/10 - 2s - loss: 3.2050 - cat_ACC: 0.6313 - val_loss: 3.3024 - val_cat_ACC: 0.5532 - 2s/epoch - 243ms/step\n",
      "Epoch 18/25\n",
      "10/10 - 2s - loss: 3.0556 - cat_ACC: 0.6481 - val_loss: 3.1577 - val_cat_ACC: 0.5691 - 2s/epoch - 243ms/step\n",
      "Epoch 19/25\n",
      "10/10 - 2s - loss: 2.8904 - cat_ACC: 0.7080 - val_loss: 3.0179 - val_cat_ACC: 0.5904 - 2s/epoch - 244ms/step\n",
      "Epoch 20/25\n",
      "10/10 - 2s - loss: 2.6226 - cat_ACC: 0.7555 - val_loss: 2.8821 - val_cat_ACC: 0.6064 - 2s/epoch - 239ms/step\n",
      "Epoch 21/25\n",
      "10/10 - 2s - loss: 2.5453 - cat_ACC: 0.8046 - val_loss: 2.7537 - val_cat_ACC: 0.6383 - 2s/epoch - 248ms/step\n",
      "Epoch 22/25\n",
      "10/10 - 3s - loss: 2.4213 - cat_ACC: 0.7878 - val_loss: 2.6340 - val_cat_ACC: 0.6489 - 3s/epoch - 334ms/step\n",
      "Epoch 23/25\n",
      "10/10 - 3s - loss: 2.2828 - cat_ACC: 0.8246 - val_loss: 2.5156 - val_cat_ACC: 0.6649 - 3s/epoch - 304ms/step\n",
      "Epoch 24/25\n",
      "10/10 - 3s - loss: 2.0898 - cat_ACC: 0.8473 - val_loss: 2.4092 - val_cat_ACC: 0.6915 - 3s/epoch - 282ms/step\n",
      "Epoch 25/25\n",
      "10/10 - 3s - loss: 2.0226 - cat_ACC: 0.8676 - val_loss: 2.3130 - val_cat_ACC: 0.7021 - 3s/epoch - 312ms/step\n"
     ]
    },
    {
     "data": {
      "text/plain": [
       "<keras.callbacks.History at 0x7f85d6d20af0>"
      ]
     },
     "execution_count": 25,
     "metadata": {},
     "output_type": "execute_result"
    }
   ],
   "source": [
    "km = kmd.build()\n",
    "\n",
    "optimizer=\"adam\"\n",
    "learn_rate=3e-4\n",
    "params = {\"optimizer\": tf.optimizers.get(optimizer).from_config({\"learning_rate\":learn_rate})}\n",
    "params.setdefault(\"loss\", tf.nn.softmax_cross_entropy_with_logits)\n",
    "params.setdefault(\"metrics\", tf.keras.metrics.CategoricalAccuracy(name=\"cat_ACC\"))\n",
    "\n",
    "km.compile(optimizer=params[\"optimizer\"],\n",
    "                loss=params[\"loss\"],\n",
    "                metrics=params[\"metrics\"])\n",
    "\n",
    "import mneflow\n",
    "\n",
    "\n",
    "train_size = dataset.h_params['train_size']\n",
    "eval_step = train_size // dataset.h_params['train_batch'] + 1\n",
    "min_delta=1e-6\n",
    "early_stopping=3\n",
    "stop_early = tf.keras.callbacks.EarlyStopping(\n",
    "      monitor='loss',\n",
    "      min_delta=min_delta,\n",
    "      patience=early_stopping,\n",
    "      restore_best_weights=True\n",
    ")\n",
    "\n",
    "# print(eval_step, train_size)\n",
    "\n",
    "km.fit(\n",
    "      dataset.train,\n",
    "      validation_data=dataset.val,\n",
    "      epochs=25, \n",
    "      steps_per_epoch=eval_step,\n",
    "      shuffle=True, \n",
    "      validation_steps=dataset.validation_steps,\n",
    "      callbacks=[stop_early], verbose=2\n",
    ")\n",
    "\n",
    "\n",
    "# ma = ModelAnalyzer(km)\n",
    "# ma.plot_metrics(['cat_ACC', 'val_cat_ACC'])\n",
    "# ma.plot_metrics(['loss', 'val_loss'])"
   ]
  },
  {
   "cell_type": "code",
   "execution_count": 16,
   "metadata": {},
   "outputs": [
    {
     "name": "stderr",
     "output_type": "stream",
     "text": [
      "2022-03-07 20:20:17.848143: W tensorflow/core/framework/cpu_allocator_impl.cc:82] Allocation of 83070432 exceeds 10% of free system memory.\n"
     ]
    }
   ],
   "source": [
    "X_test = np.transpose(np.expand_dims(X_test, axis = 1), (0, 1, 3, 2))\n",
    "\n",
    "y_pred = km(X_test).numpy()"
   ]
  },
  {
   "cell_type": "code",
   "execution_count": 17,
   "metadata": {},
   "outputs": [
    {
     "name": "stdout",
     "output_type": "stream",
     "text": [
      "[3 3 3 3 3 3 3 3 3 3 3 3 3 3 3 3 3 3 3 3 3 3 3 3 3 3 3 3 3 3 3 3 3 3 3 3 3\n",
      " 3 3 3 3 3 3 3 3 3 3 3 3 3 3 3 3 3 3 3 3 3 3 3 3 3 3 3 3 3 3 3 3 3 3 3 3 3\n",
      " 3 3 3 3 3 3 3 3 3 3 3 3 3 3 3 3 3 3 3 3 3 3 3 3 3 3 3 3 3 3 3 3 3 3 3 3 3\n",
      " 3 3 3 3 3 3 3 3 3 3 3 3 3 3 3 3 3 3 3 3 3 3 3 3 3 3 3 3 3 3]\n"
     ]
    }
   ],
   "source": [
    "y_t = y_test\n",
    "\n",
    "y_p = one_hot_decoder(y_pred)\n",
    "print(y_p)"
   ]
  },
  {
   "cell_type": "code",
   "execution_count": 18,
   "metadata": {},
   "outputs": [
    {
     "name": "stdout",
     "output_type": "stream",
     "text": [
      "val acc 0.125531914893617\n"
     ]
    }
   ],
   "source": [
    "import sklearn.metrics as sm\n",
    "from utils.machine_learning import one_hot_decoder\n",
    "from utils.machine_learning.confusion import ConfusionEstimator\n",
    "\n",
    "y_p_val = km(X).numpy()\n",
    "\n",
    "print(\n",
    "    'val acc',\n",
    "    sm.accuracy_score(\n",
    "        one_hot_decoder(Y),\n",
    "        one_hot_decoder(y_p_val),\n",
    "    )\n",
    ")\n",
    "\n",
    "# tn, fp, fn, tp = sm.confusion_matrix(one_hot_decoder(y_t_val), one_hot_decoder(y_p_val)).ravel()\n",
    "# ce = ConfusionEstimator(tp, tn, fp, fn)\n",
    "\n",
    "# print(\n",
    "#     f'\\tT\\tF\\n'\\\n",
    "#     f'P\\t{tp}\\t{fp}\\n'\\\n",
    "#     f'N\\t{tn}\\t{fn}\\n'\n",
    "#     f'Accuracy: {ce.acc}\\n'\\\n",
    "#     f'Specificity: {ce.spec}\\n'\\\n",
    "#     f'Sensitivity: {ce.sens}'\n",
    "# )\n",
    "# y_t_train, y_p_train = km.predict(dataset.train)\n",
    "\n",
    "# print(\n",
    "#     'train acc',\n",
    "#     sm.accuracy_score(\n",
    "#         one_hot_decoder(y_t_train),\n",
    "#         one_hot_decoder(y_p_train),\n",
    "#     )\n",
    "# )\n",
    "\n",
    "# tn, fp, fn, tp = sm.confusion_matrix(one_hot_decoder(y_t_train), one_hot_decoder(y_p_train)).ravel()\n",
    "# ce = ConfusionEstimator(tp, tn, fp, fn)\n",
    "\n",
    "# print(\n",
    "#     f'\\tT\\tF\\n'\\\n",
    "#     f'P\\t{tp}\\t{fp}\\n'\\\n",
    "#     f'N\\t{tn}\\t{fn}\\n'\n",
    "#     f'Accuracy: {ce.acc}\\n'\\\n",
    "#     f'Specificity: {ce.spec}\\n'\\\n",
    "#     f'Sensitivity: {ce.sens}'\n",
    "# )\n",
    "\n",
    "# y_t = np.concatenate([y_t_val, y_t_train], axis=0)\n",
    "# y_p = np.concatenate([y_p_val, y_p_train], axis=0)\n",
    "\n",
    "\n",
    "# print(\n",
    "#     'total acc',\n",
    "#     sm.accuracy_score(\n",
    "#         one_hot_decoder(y_t),\n",
    "#         one_hot_decoder(y_p),\n",
    "#     )\n",
    "# )\n",
    "# tn, fp, fn, tp = sm.confusion_matrix(one_hot_decoder(y_t), one_hot_decoder(y_p)).ravel()\n",
    "# ce = ConfusionEstimator(tp, tn, fp, fn)\n",
    "\n",
    "# print(\n",
    "#     f'\\tT\\tF\\n'\\\n",
    "#     f'P\\t{tp}\\t{fp}\\n'\\\n",
    "#     f'N\\t{tn}\\t{fn}\\n'\n",
    "#     f'Accuracy: {ce.acc}\\n'\\\n",
    "#     f'Specificity: {ce.spec}\\n'\\\n",
    "#     f'Sensitivity: {ce.sens}'\n",
    "# )\n"
   ]
  },
  {
   "cell_type": "code",
   "execution_count": 11,
   "metadata": {},
   "outputs": [
    {
     "name": "stdout",
     "output_type": "stream",
     "text": [
      "Epoch 1/25\n",
      "6/6 [==============================] - 0s 52ms/step - loss: 2.8302 - cat_ACC: 0.2074 - val_loss: 2.9959 - val_cat_ACC: 0.0000e+00\n",
      "Epoch 2/25\n",
      "6/6 [==============================] - 0s 29ms/step - loss: 2.7189 - cat_ACC: 0.2181 - val_loss: 3.1969 - val_cat_ACC: 0.0000e+00\n",
      "Epoch 3/25\n",
      "6/6 [==============================] - 0s 29ms/step - loss: 2.6102 - cat_ACC: 0.2039 - val_loss: 3.4478 - val_cat_ACC: 0.0000e+00\n",
      "Epoch 4/25\n",
      "6/6 [==============================] - 0s 30ms/step - loss: 2.5197 - cat_ACC: 0.2447 - val_loss: 3.6942 - val_cat_ACC: 0.0000e+00\n",
      "Epoch 5/25\n",
      "6/6 [==============================] - 0s 28ms/step - loss: 2.4592 - cat_ACC: 0.2553 - val_loss: 3.9114 - val_cat_ACC: 0.0000e+00\n",
      "Epoch 6/25\n",
      "6/6 [==============================] - 0s 29ms/step - loss: 2.4171 - cat_ACC: 0.2163 - val_loss: 4.0860 - val_cat_ACC: 0.0000e+00\n",
      "Epoch 7/25\n",
      "6/6 [==============================] - 0s 29ms/step - loss: 2.3745 - cat_ACC: 0.2128 - val_loss: 4.2153 - val_cat_ACC: 0.0000e+00\n",
      "Epoch 8/25\n",
      "6/6 [==============================] - 0s 29ms/step - loss: 2.3502 - cat_ACC: 0.2270 - val_loss: 4.3007 - val_cat_ACC: 0.0000e+00\n",
      "Epoch 9/25\n",
      "6/6 [==============================] - 0s 31ms/step - loss: 2.3146 - cat_ACC: 0.2287 - val_loss: 4.3594 - val_cat_ACC: 0.0000e+00\n",
      "Epoch 10/25\n",
      "6/6 [==============================] - 0s 32ms/step - loss: 2.2837 - cat_ACC: 0.2411 - val_loss: 4.3918 - val_cat_ACC: 0.0000e+00\n",
      "Epoch 11/25\n",
      "6/6 [==============================] - 0s 33ms/step - loss: 2.2613 - cat_ACC: 0.2323 - val_loss: 4.4073 - val_cat_ACC: 0.0000e+00\n",
      "Epoch 12/25\n",
      "6/6 [==============================] - 0s 33ms/step - loss: 2.2341 - cat_ACC: 0.2270 - val_loss: 4.4153 - val_cat_ACC: 0.0000e+00\n",
      "Epoch 13/25\n",
      "6/6 [==============================] - 0s 33ms/step - loss: 2.2044 - cat_ACC: 0.2624 - val_loss: 4.4106 - val_cat_ACC: 0.0000e+00\n",
      "Epoch 14/25\n",
      "6/6 [==============================] - 0s 32ms/step - loss: 2.1880 - cat_ACC: 0.2128 - val_loss: 4.4084 - val_cat_ACC: 0.0000e+00\n",
      "Epoch 15/25\n",
      "6/6 [==============================] - 0s 32ms/step - loss: 2.1663 - cat_ACC: 0.2145 - val_loss: 4.4019 - val_cat_ACC: 0.0000e+00\n",
      "Epoch 16/25\n",
      "6/6 [==============================] - 0s 32ms/step - loss: 2.1348 - cat_ACC: 0.2287 - val_loss: 4.3983 - val_cat_ACC: 0.0000e+00\n",
      "Epoch 17/25\n",
      "6/6 [==============================] - 0s 31ms/step - loss: 2.1169 - cat_ACC: 0.2340 - val_loss: 4.3896 - val_cat_ACC: 0.0000e+00\n",
      "Epoch 18/25\n",
      "6/6 [==============================] - 0s 33ms/step - loss: 2.0963 - cat_ACC: 0.2110 - val_loss: 4.3778 - val_cat_ACC: 0.0000e+00\n",
      "Epoch 19/25\n",
      "6/6 [==============================] - 0s 35ms/step - loss: 2.0756 - cat_ACC: 0.2376 - val_loss: 4.3672 - val_cat_ACC: 0.0000e+00\n",
      "Epoch 20/25\n",
      "6/6 [==============================] - 0s 33ms/step - loss: 2.0587 - cat_ACC: 0.2092 - val_loss: 4.3492 - val_cat_ACC: 0.0000e+00\n",
      "Epoch 21/25\n",
      "6/6 [==============================] - 0s 34ms/step - loss: 2.0370 - cat_ACC: 0.2553 - val_loss: 4.3376 - val_cat_ACC: 0.0000e+00\n",
      "Epoch 22/25\n",
      "6/6 [==============================] - 0s 33ms/step - loss: 2.0260 - cat_ACC: 0.2270 - val_loss: 4.3208 - val_cat_ACC: 0.0000e+00\n",
      "Epoch 23/25\n",
      "6/6 [==============================] - 0s 32ms/step - loss: 2.0085 - cat_ACC: 0.2145 - val_loss: 4.3047 - val_cat_ACC: 0.0000e+00\n",
      "Epoch 24/25\n",
      "6/6 [==============================] - 0s 31ms/step - loss: 1.9940 - cat_ACC: 0.2252 - val_loss: 4.2933 - val_cat_ACC: 0.0000e+00\n",
      "Epoch 25/25\n",
      "6/6 [==============================] - 0s 29ms/step - loss: 1.9772 - cat_ACC: 0.2216 - val_loss: 4.2793 - val_cat_ACC: 0.0000e+00\n"
     ]
    },
    {
     "data": {
      "text/plain": [
       "<keras.callbacks.History at 0x7fdab2ef9df0>"
      ]
     },
     "execution_count": 11,
     "metadata": {},
     "output_type": "execute_result"
    }
   ],
   "source": [
    "km.fit(\n",
    "    X,\n",
    "    Y,\n",
    "    epochs=25,\n",
    "    validation_split=0.4,\n",
    "    shuffle=True,\n",
    "    batch_size=100,\n",
    ")"
   ]
  },
  {
   "cell_type": "code",
   "execution_count": 8,
   "metadata": {},
   "outputs": [
    {
     "data": {
      "text/plain": [
       "<MapDataset element_spec=(TensorSpec(shape=(None, 1, 361, 204), dtype=tf.float32, name=None), TensorSpec(shape=(None, 8), dtype=tf.int64, name=None))>"
      ]
     },
     "execution_count": 8,
     "metadata": {},
     "output_type": "execute_result"
    }
   ],
   "source": [
    "dataset.train"
   ]
  },
  {
   "cell_type": "code",
   "execution_count": 13,
   "metadata": {},
   "outputs": [],
   "source": [
    "# list(dataset.train.as_numpy_iterator())\n"
   ]
  }
 ],
 "metadata": {
  "interpreter": {
   "hash": "25b6c1d617e3cb25e4067864bcd46322e1b7da41afdae0cf7c23b941b0b9b767"
  },
  "kernelspec": {
   "display_name": "Python 3.9.10 ('venv': venv)",
   "language": "python",
   "name": "python3"
  },
  "language_info": {
   "codemirror_mode": {
    "name": "ipython",
    "version": 3
   },
   "file_extension": ".py",
   "mimetype": "text/x-python",
   "name": "python",
   "nbconvert_exporter": "python",
   "pygments_lexer": "ipython3",
   "version": "3.9.11"
  },
  "orig_nbformat": 4
 },
 "nbformat": 4,
 "nbformat_minor": 2
}
