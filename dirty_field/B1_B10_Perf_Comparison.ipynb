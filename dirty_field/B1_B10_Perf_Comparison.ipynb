{
 "cells": [
  {
   "cell_type": "code",
   "execution_count": 8,
   "metadata": {},
   "outputs": [
    {
     "name": "stdout",
     "output_type": "stream",
     "text": [
      "The third case!\n"
     ]
    }
   ],
   "source": [
    "target = 'case 3'\n",
    "\n",
    "match target:\n",
    "    case 'case 1':\n",
    "        print('The fist case!')\n",
    "    case 'case 2':\n",
    "        print('The second case!')\n",
    "    case 'case 3':\n",
    "        print('The third case!')\n",
    "    case _:\n",
    "        print('The default case!')"
   ]
  },
  {
   "cell_type": "code",
   "execution_count": 6,
   "metadata": {},
   "outputs": [
    {
     "name": "stdout",
     "output_type": "stream",
     "text": [
      "Case5 | val1=5, val2='option3', val3=[0.1, 0.2, 0.8]\n"
     ]
    }
   ],
   "source": [
    "\n",
    "from dataclasses import dataclass\n",
    "\n",
    "@dataclass\n",
    "class TestMatchCase(object):\n",
    "    field1: int\n",
    "    field2: str\n",
    "    field3: list[float | int]\n",
    "    # __matchargs__ = ('field1', 'field2', 'field3') # Generates automatically for dataclasses and named tuples\n",
    "\n",
    "\n",
    "values = TestMatchCase(5, 'option3', [.1, .2, .8])\n",
    "\n",
    "match values:\n",
    "    case TestMatchCase(1|2 as val1, val2, val3):\n",
    "        print(f'Case1 | {val1=}, {val2=}, {val3=}')\n",
    "    case TestMatchCase(3|4 as val1, val2, val3):\n",
    "        print(f'Case2 | {val1=}, {val2=}, {val3=}')\n",
    "    case TestMatchCase(5|6 as val1, val2, val3) if val2 == 'option2' and sum(val3) <= 1:\n",
    "        print(f'Case3 | {val1=}, {val2=}, {val3=}')\n",
    "    case TestMatchCase(5|6 as val1, val2, val3) if val2 == 'option3' and sum(val3) <= 1:\n",
    "        print(f'Case4 | {val1=}, {val2=}, {val3=}')\n",
    "    case TestMatchCase(5|6 as val1, val2, val3) if val2 == 'option2' or val2 == 'option3' and sum(val3) >= 1:\n",
    "        print(f'Case5 | {val1=}, {val2=}, {val3=}')\n",
    "    case _:\n",
    "        print('Default case')\n",
    "\n"
   ]
  },
  {
   "cell_type": "code",
   "execution_count": 82,
   "metadata": {
    "collapsed": true
   },
   "outputs": [
    {
     "name": "stdout",
     "output_type": "stream",
     "text": [
      "[1, 2, 3, 4, 5]\n",
      "[1, 2, 3, 4, 5, 7]\n"
     ]
    }
   ],
   "source": [
    "import os\n",
    "import re\n",
    "\n",
    "import mne as mne\n",
    "import numpy as np\n",
    "import mne\n",
    "import pickle\n",
    "import matplotlib.pyplot as plt\n",
    "\n",
    "\n",
    "import os\n",
    "import pickle\n",
    "from dataclasses import dataclass\n",
    "from typing import Dict, List\n",
    "\n",
    "import mne\n",
    "import numpy as np\n",
    "from mne.decoding import CSP\n",
    "from sklearn.linear_model import LogisticRegression\n",
    "from sklearn.model_selection import StratifiedKFold, cross_val_score\n",
    "from sklearn.pipeline import make_pipeline\n",
    "\n",
    "from combiners import EpochsCombiner\n",
    "from utils.storage_management import check_path\n",
    "from utils.data_management import dict2str\n",
    "import re\n",
    "from typing import Optional\n",
    "from mne import EpochsArray"
   ]
  },
  {
   "cell_type": "code",
   "execution_count": null,
   "metadata": {
    "collapsed": false,
    "pycharm": {
     "name": "#%%\n"
    }
   },
   "outputs": [],
   "source": [
    "def left_vs_right(\n",
    "        epochs: dict[str, dict[str, EpochsArray]],\n",
    "        session: str,\n",
    "        t_min: Optional[float] = 0.,\n",
    "        t_max: Optional[float] = 1.,\n",
    "        f_min: Optional[float] = 5.,\n",
    "        f_max: Optional[float] = 10.\n",
    ") -> EpochsCombiner:\n",
    "    resp_lock_li_epochs = epochs[session]['LI']\n",
    "    resp_lock_lm_epochs = epochs[session]['LM']\n",
    "    resp_lock_ri_epochs = epochs[session]['RI']\n",
    "    resp_lock_rm_epochs = epochs[session]['RM']\n",
    "\n",
    "    return EpochsCombiner(\n",
    "        resp_lock_li_epochs,\n",
    "        resp_lock_lm_epochs,\n",
    "        resp_lock_ri_epochs,\n",
    "        resp_lock_rm_epochs\n",
    "    ).filter(\n",
    "        l_freq=f_min, h_freq=f_max, skip_by_annotation='edge'\n",
    "    ).crop(\n",
    "        tmin=t_min, tmax=t_max\n",
    "    ).combine(\n",
    "        (0, 1),\n",
    "        (2, 3)\n",
    "    )\n",
    "\n",
    "\n",
    "def lm_vs_li(\n",
    "        epochs: dict[str, dict[str, EpochsArray]],\n",
    "        session: str,\n",
    "        t_min: Optional[float] = 0.,\n",
    "        t_max: Optional[float] = 1.,\n",
    "        f_min: Optional[float] = 5.,\n",
    "        f_max: Optional[float] = 10.\n",
    ") -> EpochsCombiner:\n",
    "    resp_lock_li_epochs = epochs[session]['LI']\n",
    "    resp_lock_lm_epochs = epochs[session]['LM']\n",
    "\n",
    "    return EpochsCombiner(\n",
    "        resp_lock_li_epochs,\n",
    "        resp_lock_lm_epochs,\n",
    "    ).filter(\n",
    "        l_freq=f_min, h_freq=f_max, skip_by_annotation='edge'\n",
    "    ).crop(\n",
    "        tmin=t_min, tmax=t_max\n",
    "    ).combine(\n",
    "        0,\n",
    "        1\n",
    "    )\n",
    "\n",
    "\n",
    "def rm_vs_ri(\n",
    "        epochs: dict[str, dict[str, EpochsArray]],\n",
    "        session: str,\n",
    "        t_min: Optional[float] = 0.,\n",
    "        t_max: Optional[float] = 1.,\n",
    "        f_min: Optional[float] = 5.,\n",
    "        f_max: Optional[float] = 10.\n",
    ") -> EpochsCombiner:\n",
    "    resp_lock_ri_epochs = epochs[session]['RI']\n",
    "    resp_lock_rm_epochs = epochs[session]['RM']\n",
    "\n",
    "    return EpochsCombiner(\n",
    "        resp_lock_ri_epochs,\n",
    "        resp_lock_rm_epochs,\n",
    "    ).filter(\n",
    "        l_freq=f_min, h_freq=f_max, skip_by_annotation='edge'\n",
    "    ).crop(\n",
    "        tmin=t_min, tmax=t_max\n",
    "    ).combine(\n",
    "        0,\n",
    "        1\n",
    "    )"
   ]
  },
  {
   "cell_type": "code",
   "execution_count": 38,
   "metadata": {
    "collapsed": false,
    "pycharm": {
     "name": "#%%\n"
    }
   },
   "outputs": [
    {
     "name": "stdout",
     "output_type": "stream",
     "text": [
      "Reading ../Source/Subjects/Ga_Fed_06/Epochs/RespCor_LI_B10_epochs.fif ...\n",
      "    Found the data of interest:\n",
      "        t =    -500.00 ...     500.00 ms\n",
      "        0 CTF compensation matrices available\n"
     ]
    },
    {
     "name": "stderr",
     "output_type": "stream",
     "text": [
      "/tmp/ipykernel_43495/3764075417.py:28: RuntimeWarning: This filename (../Source/Subjects/Ga_Fed_06/Epochs/RespCor_LI_B10_epochs.fif) does not conform to MNE naming conventions. All epochs files should end with -epo.fif, -epo.fif.gz, _epo.fif or _epo.fif.gz\n",
      "  {case: mne.read_epochs(os.path.join(epochs_path, epoch_file))})\n"
     ]
    },
    {
     "name": "stdout",
     "output_type": "stream",
     "text": [
      "Not setting metadata\n",
      "Not setting metadata\n",
      "58 matching events found\n",
      "No baseline correction applied\n",
      "0 projection items activated\n",
      "Reading ../Source/Subjects/Ga_Fed_06/Epochs/RespCor_LI_B1_epochs.fif ...\n",
      "    Found the data of interest:\n",
      "        t =    -500.00 ...     500.00 ms\n",
      "        0 CTF compensation matrices available\n",
      "Not setting metadata\n",
      "Not setting metadata\n",
      "30 matching events found\n",
      "No baseline correction applied\n",
      "0 projection items activated\n",
      "Reading ../Source/Subjects/Ga_Fed_06/Epochs/RespCor_LM_B1_epochs.fif ...\n",
      "    Found the data of interest:\n",
      "        t =    -500.00 ...     500.00 ms\n",
      "        0 CTF compensation matrices available\n"
     ]
    },
    {
     "name": "stderr",
     "output_type": "stream",
     "text": [
      "/tmp/ipykernel_43495/3764075417.py:28: RuntimeWarning: This filename (../Source/Subjects/Ga_Fed_06/Epochs/RespCor_LI_B1_epochs.fif) does not conform to MNE naming conventions. All epochs files should end with -epo.fif, -epo.fif.gz, _epo.fif or _epo.fif.gz\n",
      "  {case: mne.read_epochs(os.path.join(epochs_path, epoch_file))})\n",
      "/tmp/ipykernel_43495/3764075417.py:28: RuntimeWarning: This filename (../Source/Subjects/Ga_Fed_06/Epochs/RespCor_LM_B1_epochs.fif) does not conform to MNE naming conventions. All epochs files should end with -epo.fif, -epo.fif.gz, _epo.fif or _epo.fif.gz\n",
      "  {case: mne.read_epochs(os.path.join(epochs_path, epoch_file))})\n"
     ]
    },
    {
     "name": "stdout",
     "output_type": "stream",
     "text": [
      "Not setting metadata\n",
      "Not setting metadata\n",
      "58 matching events found\n",
      "No baseline correction applied\n",
      "0 projection items activated\n",
      "Reading ../Source/Subjects/Ga_Fed_06/Epochs/RespCor_LM_B10_epochs.fif ...\n",
      "    Found the data of interest:\n",
      "        t =    -500.00 ...     500.00 ms\n",
      "        0 CTF compensation matrices available\n"
     ]
    },
    {
     "name": "stderr",
     "output_type": "stream",
     "text": [
      "/tmp/ipykernel_43495/3764075417.py:28: RuntimeWarning: This filename (../Source/Subjects/Ga_Fed_06/Epochs/RespCor_LM_B10_epochs.fif) does not conform to MNE naming conventions. All epochs files should end with -epo.fif, -epo.fif.gz, _epo.fif or _epo.fif.gz\n",
      "  {case: mne.read_epochs(os.path.join(epochs_path, epoch_file))})\n"
     ]
    },
    {
     "name": "stdout",
     "output_type": "stream",
     "text": [
      "Not setting metadata\n",
      "Not setting metadata\n",
      "60 matching events found\n",
      "No baseline correction applied\n",
      "0 projection items activated\n",
      "Reading ../Source/Subjects/Ga_Fed_06/Epochs/RespCor_RI_B1_epochs.fif ...\n",
      "    Found the data of interest:\n",
      "        t =    -500.00 ...     500.00 ms\n",
      "        0 CTF compensation matrices available\n"
     ]
    },
    {
     "name": "stderr",
     "output_type": "stream",
     "text": [
      "/tmp/ipykernel_43495/3764075417.py:28: RuntimeWarning: This filename (../Source/Subjects/Ga_Fed_06/Epochs/RespCor_RI_B1_epochs.fif) does not conform to MNE naming conventions. All epochs files should end with -epo.fif, -epo.fif.gz, _epo.fif or _epo.fif.gz\n",
      "  {case: mne.read_epochs(os.path.join(epochs_path, epoch_file))})\n"
     ]
    },
    {
     "name": "stdout",
     "output_type": "stream",
     "text": [
      "Not setting metadata\n",
      "Not setting metadata\n",
      "60 matching events found\n",
      "No baseline correction applied\n",
      "0 projection items activated\n",
      "Reading ../Source/Subjects/Ga_Fed_06/Epochs/RespCor_RI_B10_epochs.fif ...\n",
      "    Found the data of interest:\n",
      "        t =    -500.00 ...     500.00 ms\n",
      "        0 CTF compensation matrices available\n"
     ]
    },
    {
     "name": "stderr",
     "output_type": "stream",
     "text": [
      "/tmp/ipykernel_43495/3764075417.py:28: RuntimeWarning: This filename (../Source/Subjects/Ga_Fed_06/Epochs/RespCor_RI_B10_epochs.fif) does not conform to MNE naming conventions. All epochs files should end with -epo.fif, -epo.fif.gz, _epo.fif or _epo.fif.gz\n",
      "  {case: mne.read_epochs(os.path.join(epochs_path, epoch_file))})\n"
     ]
    },
    {
     "name": "stdout",
     "output_type": "stream",
     "text": [
      "Not setting metadata\n",
      "Not setting metadata\n",
      "60 matching events found\n",
      "No baseline correction applied\n",
      "0 projection items activated\n",
      "Reading ../Source/Subjects/Ga_Fed_06/Epochs/RespCor_RM_B1_epochs.fif ...\n",
      "    Found the data of interest:\n",
      "        t =    -500.00 ...     500.00 ms\n",
      "        0 CTF compensation matrices available\n"
     ]
    },
    {
     "name": "stderr",
     "output_type": "stream",
     "text": [
      "/tmp/ipykernel_43495/3764075417.py:28: RuntimeWarning: This filename (../Source/Subjects/Ga_Fed_06/Epochs/RespCor_RM_B1_epochs.fif) does not conform to MNE naming conventions. All epochs files should end with -epo.fif, -epo.fif.gz, _epo.fif or _epo.fif.gz\n",
      "  {case: mne.read_epochs(os.path.join(epochs_path, epoch_file))})\n"
     ]
    },
    {
     "name": "stdout",
     "output_type": "stream",
     "text": [
      "Not setting metadata\n",
      "Not setting metadata\n",
      "60 matching events found\n",
      "No baseline correction applied\n",
      "0 projection items activated\n",
      "Reading ../Source/Subjects/Ga_Fed_06/Epochs/RespCor_RM_B10_epochs.fif ...\n",
      "    Found the data of interest:\n",
      "        t =    -500.00 ...     500.00 ms\n",
      "        0 CTF compensation matrices available\n"
     ]
    },
    {
     "name": "stderr",
     "output_type": "stream",
     "text": [
      "/tmp/ipykernel_43495/3764075417.py:28: RuntimeWarning: This filename (../Source/Subjects/Ga_Fed_06/Epochs/RespCor_RM_B10_epochs.fif) does not conform to MNE naming conventions. All epochs files should end with -epo.fif, -epo.fif.gz, _epo.fif or _epo.fif.gz\n",
      "  {case: mne.read_epochs(os.path.join(epochs_path, epoch_file))})\n"
     ]
    },
    {
     "name": "stdout",
     "output_type": "stream",
     "text": [
      "Not setting metadata\n",
      "Not setting metadata\n",
      "60 matching events found\n",
      "No baseline correction applied\n",
      "0 projection items activated\n",
      "Setting up band-pass filter from 5 - 7.8 Hz\n",
      "\n",
      "FIR filter parameters\n",
      "---------------------\n",
      "Designing a one-pass, zero-phase, non-causal bandpass filter:\n",
      "- Windowed time-domain design (firwin) method\n",
      "- Hamming window with 0.0194 passband ripple and 53 dB stopband attenuation\n",
      "- Lower passband edge: 5.00\n",
      "- Lower transition bandwidth: 2.00 Hz (-6 dB cutoff frequency: 4.00 Hz)\n",
      "- Upper passband edge: 7.76 Hz\n",
      "- Upper transition bandwidth: 2.00 Hz (-6 dB cutoff frequency: 8.76 Hz)\n",
      "- Filter length: 1651 samples (1.651 sec)\n",
      "\n"
     ]
    },
    {
     "name": "stderr",
     "output_type": "stream",
     "text": [
      "/home/user/PycharmProjects/FingerMovementDecoder/combiners.py:94: RuntimeWarning: filter_length (1651) is longer than the signal (1001), distortion is likely. Reduce filter length or filter a longer signal.\n",
      "  epochs_array.copy().filter(l_freq, h_freq, *args, **kwargs)\n"
     ]
    },
    {
     "name": "stdout",
     "output_type": "stream",
     "text": [
      "Setting up band-pass filter from 5 - 7.8 Hz\n",
      "\n",
      "FIR filter parameters\n",
      "---------------------\n",
      "Designing a one-pass, zero-phase, non-causal bandpass filter:\n",
      "- Windowed time-domain design (firwin) method\n",
      "- Hamming window with 0.0194 passband ripple and 53 dB stopband attenuation\n",
      "- Lower passband edge: 5.00\n",
      "- Lower transition bandwidth: 2.00 Hz (-6 dB cutoff frequency: 4.00 Hz)\n",
      "- Upper passband edge: 7.76 Hz\n",
      "- Upper transition bandwidth: 2.00 Hz (-6 dB cutoff frequency: 8.76 Hz)\n",
      "- Filter length: 1651 samples (1.651 sec)\n",
      "\n"
     ]
    },
    {
     "name": "stderr",
     "output_type": "stream",
     "text": [
      "/home/user/PycharmProjects/FingerMovementDecoder/combiners.py:94: RuntimeWarning: filter_length (1651) is longer than the signal (1001), distortion is likely. Reduce filter length or filter a longer signal.\n",
      "  epochs_array.copy().filter(l_freq, h_freq, *args, **kwargs)\n"
     ]
    },
    {
     "name": "stdout",
     "output_type": "stream",
     "text": [
      "Setting up band-pass filter from 5 - 7.8 Hz\n",
      "\n",
      "FIR filter parameters\n",
      "---------------------\n",
      "Designing a one-pass, zero-phase, non-causal bandpass filter:\n",
      "- Windowed time-domain design (firwin) method\n",
      "- Hamming window with 0.0194 passband ripple and 53 dB stopband attenuation\n",
      "- Lower passband edge: 5.00\n",
      "- Lower transition bandwidth: 2.00 Hz (-6 dB cutoff frequency: 4.00 Hz)\n",
      "- Upper passband edge: 7.76 Hz\n",
      "- Upper transition bandwidth: 2.00 Hz (-6 dB cutoff frequency: 8.76 Hz)\n",
      "- Filter length: 1651 samples (1.651 sec)\n",
      "\n"
     ]
    },
    {
     "name": "stderr",
     "output_type": "stream",
     "text": [
      "/home/user/PycharmProjects/FingerMovementDecoder/combiners.py:94: RuntimeWarning: filter_length (1651) is longer than the signal (1001), distortion is likely. Reduce filter length or filter a longer signal.\n",
      "  epochs_array.copy().filter(l_freq, h_freq, *args, **kwargs)\n"
     ]
    },
    {
     "name": "stdout",
     "output_type": "stream",
     "text": [
      "Setting up band-pass filter from 5 - 7.8 Hz\n",
      "\n",
      "FIR filter parameters\n",
      "---------------------\n",
      "Designing a one-pass, zero-phase, non-causal bandpass filter:\n",
      "- Windowed time-domain design (firwin) method\n",
      "- Hamming window with 0.0194 passband ripple and 53 dB stopband attenuation\n",
      "- Lower passband edge: 5.00\n",
      "- Lower transition bandwidth: 2.00 Hz (-6 dB cutoff frequency: 4.00 Hz)\n",
      "- Upper passband edge: 7.76 Hz\n",
      "- Upper transition bandwidth: 2.00 Hz (-6 dB cutoff frequency: 8.76 Hz)\n",
      "- Filter length: 1651 samples (1.651 sec)\n",
      "\n"
     ]
    },
    {
     "name": "stderr",
     "output_type": "stream",
     "text": [
      "/home/user/PycharmProjects/FingerMovementDecoder/combiners.py:94: RuntimeWarning: filter_length (1651) is longer than the signal (1001), distortion is likely. Reduce filter length or filter a longer signal.\n",
      "  epochs_array.copy().filter(l_freq, h_freq, *args, **kwargs)\n"
     ]
    },
    {
     "name": "stdout",
     "output_type": "stream",
     "text": [
      "Setting up band-pass filter from 5 - 7.8 Hz\n",
      "\n",
      "FIR filter parameters\n",
      "---------------------\n",
      "Designing a one-pass, zero-phase, non-causal bandpass filter:\n",
      "- Windowed time-domain design (firwin) method\n",
      "- Hamming window with 0.0194 passband ripple and 53 dB stopband attenuation\n",
      "- Lower passband edge: 5.00\n",
      "- Lower transition bandwidth: 2.00 Hz (-6 dB cutoff frequency: 4.00 Hz)\n",
      "- Upper passband edge: 7.76 Hz\n",
      "- Upper transition bandwidth: 2.00 Hz (-6 dB cutoff frequency: 8.76 Hz)\n",
      "- Filter length: 1651 samples (1.651 sec)\n",
      "\n"
     ]
    },
    {
     "name": "stderr",
     "output_type": "stream",
     "text": [
      "/home/user/PycharmProjects/FingerMovementDecoder/combiners.py:94: RuntimeWarning: filter_length (1651) is longer than the signal (1001), distortion is likely. Reduce filter length or filter a longer signal.\n",
      "  epochs_array.copy().filter(l_freq, h_freq, *args, **kwargs)\n"
     ]
    },
    {
     "name": "stdout",
     "output_type": "stream",
     "text": [
      "Setting up band-pass filter from 5 - 7.8 Hz\n",
      "\n",
      "FIR filter parameters\n",
      "---------------------\n",
      "Designing a one-pass, zero-phase, non-causal bandpass filter:\n",
      "- Windowed time-domain design (firwin) method\n",
      "- Hamming window with 0.0194 passband ripple and 53 dB stopband attenuation\n",
      "- Lower passband edge: 5.00\n",
      "- Lower transition bandwidth: 2.00 Hz (-6 dB cutoff frequency: 4.00 Hz)\n",
      "- Upper passband edge: 7.76 Hz\n",
      "- Upper transition bandwidth: 2.00 Hz (-6 dB cutoff frequency: 8.76 Hz)\n",
      "- Filter length: 1651 samples (1.651 sec)\n",
      "\n"
     ]
    },
    {
     "name": "stderr",
     "output_type": "stream",
     "text": [
      "/home/user/PycharmProjects/FingerMovementDecoder/combiners.py:94: RuntimeWarning: filter_length (1651) is longer than the signal (1001), distortion is likely. Reduce filter length or filter a longer signal.\n",
      "  epochs_array.copy().filter(l_freq, h_freq, *args, **kwargs)\n"
     ]
    },
    {
     "name": "stdout",
     "output_type": "stream",
     "text": [
      "Setting up band-pass filter from 5 - 7.8 Hz\n",
      "\n",
      "FIR filter parameters\n",
      "---------------------\n",
      "Designing a one-pass, zero-phase, non-causal bandpass filter:\n",
      "- Windowed time-domain design (firwin) method\n",
      "- Hamming window with 0.0194 passband ripple and 53 dB stopband attenuation\n",
      "- Lower passband edge: 5.00\n",
      "- Lower transition bandwidth: 2.00 Hz (-6 dB cutoff frequency: 4.00 Hz)\n",
      "- Upper passband edge: 7.76 Hz\n",
      "- Upper transition bandwidth: 2.00 Hz (-6 dB cutoff frequency: 8.76 Hz)\n",
      "- Filter length: 1651 samples (1.651 sec)\n",
      "\n"
     ]
    },
    {
     "name": "stderr",
     "output_type": "stream",
     "text": [
      "/home/user/PycharmProjects/FingerMovementDecoder/combiners.py:94: RuntimeWarning: filter_length (1651) is longer than the signal (1001), distortion is likely. Reduce filter length or filter a longer signal.\n",
      "  epochs_array.copy().filter(l_freq, h_freq, *args, **kwargs)\n"
     ]
    },
    {
     "name": "stdout",
     "output_type": "stream",
     "text": [
      "Setting up band-pass filter from 5 - 7.8 Hz\n",
      "\n",
      "FIR filter parameters\n",
      "---------------------\n",
      "Designing a one-pass, zero-phase, non-causal bandpass filter:\n",
      "- Windowed time-domain design (firwin) method\n",
      "- Hamming window with 0.0194 passband ripple and 53 dB stopband attenuation\n",
      "- Lower passband edge: 5.00\n",
      "- Lower transition bandwidth: 2.00 Hz (-6 dB cutoff frequency: 4.00 Hz)\n",
      "- Upper passband edge: 7.76 Hz\n",
      "- Upper transition bandwidth: 2.00 Hz (-6 dB cutoff frequency: 8.76 Hz)\n",
      "- Filter length: 1651 samples (1.651 sec)\n",
      "\n"
     ]
    },
    {
     "name": "stderr",
     "output_type": "stream",
     "text": [
      "/home/user/PycharmProjects/FingerMovementDecoder/combiners.py:94: RuntimeWarning: filter_length (1651) is longer than the signal (1001), distortion is likely. Reduce filter length or filter a longer signal.\n",
      "  epochs_array.copy().filter(l_freq, h_freq, *args, **kwargs)\n"
     ]
    }
   ],
   "source": [
    "from utils.machine_learning.confusion import ConfusionEstimator\n",
    "from sklearn.metrics import confusion_matrix\n",
    "from sklearn.model_selection import train_test_split\n",
    "\n",
    "ROOT = '../Source/Subjects'\n",
    "SUBJECT = 'Ga_Fed_06'\n",
    "LOCK = 'RespCor'\n",
    "SESSIONS = ['B1', 'B10']\n",
    "CASE = 'left_vs_right'\n",
    "T_MIN = -0.5\n",
    "T_MAX = 0.5\n",
    "F_MIN = 5.\n",
    "F_MAX = 7.76\n",
    "\n",
    "epochs_path = os.path.join(ROOT, SUBJECT, 'Epochs')\n",
    "epochs = dict()\n",
    "\n",
    "for epoch_file in os.listdir(epochs_path):\n",
    "    session = re.findall(r'(_B\\d\\d?)', epoch_file)[0][1:]\n",
    "    if LOCK not in epoch_file or session not in SESSIONS:\n",
    "        continue\n",
    "    if session not in epochs:\n",
    "        epochs.update({session: dict()})\n",
    "    for case in ['LI', 'LM', 'RI', 'RM']:\n",
    "        if case in epoch_file:\n",
    "            if case not in epochs[session]:\n",
    "                epochs[session].update(\n",
    "                    {case: mne.read_epochs(os.path.join(epochs_path, epoch_file))})\n",
    "            else:\n",
    "                print(f'\\nThe case \\\"{case}\\\" already in epoch {epoch_file}, skipping due to a conflict\\n')\n",
    "\n",
    "combiners = dict()\n",
    "\n",
    "for session in SESSIONS:\n",
    "        combiners.update({\n",
    "            session: {\n",
    "                'left_vs_right': left_vs_right,\n",
    "                'lm_vs_li': lm_vs_li,\n",
    "                'rm_vs_ri': rm_vs_ri\n",
    "            }[CASE](epochs, session, T_MIN, T_MAX, F_MIN, F_MAX)\n",
    "        })\n",
    "\n",
    "del epochs"
   ]
  },
  {
   "cell_type": "code",
   "execution_count": null,
   "metadata": {
    "collapsed": false,
    "pycharm": {
     "is_executing": true,
     "name": "#%%\n"
    }
   },
   "outputs": [
    {
     "name": "stdout",
     "output_type": "stream",
     "text": [
      "Computing rank from data with rank='full'\n",
      "    MAG: rank 204 from info\n",
      "Reducing data rank from 204 -> 204\n",
      "Estimating covariance using SHRINKAGE\n",
      "Done.\n",
      "Computing rank from data with rank='full'\n",
      "    MAG: rank 204 from info\n",
      "Reducing data rank from 204 -> 204\n",
      "Estimating covariance using SHRINKAGE\n",
      "Done.\n",
      "Computing rank from data with rank='full'\n",
      "    MAG: rank 204 from info\n"
     ]
    },
    {
     "name": "stderr",
     "output_type": "stream",
     "text": [
      "/home/user/PycharmProjects/FingerMovementDecoder/venv/lib/python3.9/site-packages/sklearn/linear_model/_sag.py:328: ConvergenceWarning: The max_iter was reached which means the coef_ did not converge\n",
      "  warnings.warn(\"The max_iter was reached which means \"\n"
     ]
    },
    {
     "name": "stdout",
     "output_type": "stream",
     "text": [
      "Reducing data rank from 204 -> 204\n",
      "Estimating covariance using SHRINKAGE\n",
      "Done.\n",
      "Computing rank from data with rank='full'\n",
      "    MAG: rank 204 from info\n",
      "Reducing data rank from 204 -> 204\n",
      "Estimating covariance using SHRINKAGE\n",
      "Done.\n",
      "Computing rank from data with rank='full'\n",
      "    MAG: rank 204 from info\n",
      "Reducing data rank from 204 -> 204\n",
      "Estimating covariance using SHRINKAGE\n",
      "Done.\n",
      "Computing rank from data with rank='full'\n",
      "    MAG: rank 204 from info\n",
      "Reducing data rank from 204 -> 204\n",
      "Estimating covariance using SHRINKAGE\n",
      "Done.\n",
      "Computing rank from data with rank='full'\n",
      "    MAG: rank 204 from info\n"
     ]
    },
    {
     "name": "stderr",
     "output_type": "stream",
     "text": [
      "/home/user/PycharmProjects/FingerMovementDecoder/venv/lib/python3.9/site-packages/sklearn/linear_model/_sag.py:328: ConvergenceWarning: The max_iter was reached which means the coef_ did not converge\n",
      "  warnings.warn(\"The max_iter was reached which means \"\n"
     ]
    },
    {
     "name": "stdout",
     "output_type": "stream",
     "text": [
      "Reducing data rank from 204 -> 204\n",
      "Estimating covariance using SHRINKAGE\n",
      "Done.\n",
      "Computing rank from data with rank='full'\n",
      "    MAG: rank 204 from info\n",
      "Reducing data rank from 204 -> 204\n",
      "Estimating covariance using SHRINKAGE\n",
      "Done.\n",
      "Computing rank from data with rank='full'\n",
      "    MAG: rank 204 from info\n",
      "Reducing data rank from 204 -> 204\n",
      "Done.\n",
      "Computing rank from data with rank='full'\n",
      "    MAG: rank 204 from info\n",
      "Reducing data rank from 204 -> 204\n",
      "Estimating covariance using SHRINKAGE\n",
      "Done.\n",
      "Computing rank from data with rank='full'\n",
      "    MAG: rank 204 from info\n",
      "Reducing data rank from 204 -> 204\n",
      "Estimating covariance using SHRINKAGE\n",
      "Done.\n",
      "Computing rank from data with rank='full'\n",
      "    MAG: rank 204 from info\n",
      "Reducing data rank from 204 -> 204\n",
      "Estimating covariance using SHRINKAGE\n",
      "Done.\n",
      "Computing rank from data with rank='full'\n",
      "    MAG: rank 204 from info\n",
      "Reducing data rank from 204 -> 204\n",
      "Estimating covariance using SHRINKAGE\n",
      "Done.\n",
      "Computing rank from data with rank='full'\n",
      "    MAG: rank 204 from info\n",
      "Reducing data rank from 204 -> 204\n",
      "Estimating covariance using SHRINKAGE\n",
      "Done.\n",
      "Computing rank from data with rank='full'\n",
      "    MAG: rank 204 from info\n",
      "Reducing data rank from 204 -> 204\n",
      "Estimating covariance using SHRINKAGE\n",
      "Done.\n",
      "Computing rank from data with rank='full'\n",
      "    MAG: rank 204 from info\n",
      "Reducing data rank from 204 -> 204\n",
      "Estimating covariance using SHRINKAGE\n",
      "Done.\n",
      "Computing rank from data with rank='full'\n",
      "    MAG: rank 204 from info\n"
     ]
    },
    {
     "name": "stderr",
     "output_type": "stream",
     "text": [
      "/home/user/PycharmProjects/FingerMovementDecoder/venv/lib/python3.9/site-packages/sklearn/linear_model/_sag.py:328: ConvergenceWarning: The max_iter was reached which means the coef_ did not converge\n",
      "  warnings.warn(\"The max_iter was reached which means \"\n"
     ]
    },
    {
     "name": "stdout",
     "output_type": "stream",
     "text": [
      "Reducing data rank from 204 -> 204\n",
      "Estimating covariance using SHRINKAGE\n",
      "Done.\n",
      "Computing rank from data with rank='full'\n",
      "    MAG: rank 204 from info\n",
      "Reducing data rank from 204 -> 204\n",
      "Estimating covariance using SHRINKAGE\n",
      "Done.\n",
      "Computing rank from data with rank='full'\n",
      "    MAG: rank 204 from info\n",
      "Reducing data rank from 204 -> 204\n",
      "Estimating covariance using SHRINKAGE\n",
      "Done.\n",
      "Computing rank from data with rank='full'\n",
      "    MAG: rank 204 from info\n",
      "Reducing data rank from 204 -> 204\n",
      "Estimating covariance using SHRINKAGE\n",
      "Done.\n",
      "Computing rank from data with rank='full'\n",
      "    MAG: rank 204 from info\n",
      "Reducing data rank from 204 -> 204\n",
      "Estimating covariance using SHRINKAGE\n",
      "Done.\n",
      "Computing rank from data with rank='full'\n",
      "    MAG: rank 204 from info\n",
      "Reducing data rank from 204 -> 204\n",
      "Estimating covariance using SHRINKAGE\n",
      "Done.\n",
      "Computing rank from data with rank='full'\n",
      "    MAG: rank 204 from info\n",
      "Reducing data rank from 204 -> 204\n",
      "Estimating covariance using SHRINKAGE\n",
      "Done.\n",
      "Computing rank from data with rank='full'\n",
      "    MAG: rank 204 from info\n",
      "Reducing data rank from 204 -> 204\n",
      "Estimating covariance using SHRINKAGE\n",
      "Done.\n",
      "Computing rank from data with rank='full'\n",
      "    MAG: rank 204 from info\n"
     ]
    },
    {
     "name": "stderr",
     "output_type": "stream",
     "text": [
      "/home/user/PycharmProjects/FingerMovementDecoder/venv/lib/python3.9/site-packages/sklearn/linear_model/_sag.py:328: ConvergenceWarning: The max_iter was reached which means the coef_ did not converge\n",
      "  warnings.warn(\"The max_iter was reached which means \"\n"
     ]
    },
    {
     "name": "stdout",
     "output_type": "stream",
     "text": [
      "Reducing data rank from 204 -> 204\n",
      "Estimating covariance using SHRINKAGE\n",
      "Done.\n",
      "Computing rank from data with rank='full'\n",
      "    MAG: rank 204 from info\n",
      "Reducing data rank from 204 -> 204\n",
      "Estimating covariance using SHRINKAGE\n",
      "Done.\n"
     ]
    },
    {
     "name": "stderr",
     "output_type": "stream",
     "text": [
      "/home/user/PycharmProjects/FingerMovementDecoder/venv/lib/python3.9/site-packages/sklearn/linear_model/_sag.py:328: ConvergenceWarning: The max_iter was reached which means the coef_ did not converge\n",
      "  warnings.warn(\"The max_iter was reached which means \"\n"
     ]
    },
    {
     "name": "stdout",
     "output_type": "stream",
     "text": [
      "Computing rank from data with rank='full'\n",
      "    MAG: rank 204 from info\n",
      "Reducing data rank from 204 -> 204\n",
      "Estimating covariance using SHRINKAGE\n",
      "Done.\n",
      "Computing rank from data with rank='full'\n",
      "    MAG: rank 204 from info\n",
      "Reducing data rank from 204 -> 204\n",
      "Estimating covariance using SHRINKAGE\n",
      "Done.\n",
      "Computing rank from data with rank='full'\n",
      "    MAG: rank 204 from info\n",
      "Reducing data rank from 204 -> 204\n",
      "Estimating covariance using SHRINKAGE\n",
      "Done.\n",
      "Computing rank from data with rank='full'\n",
      "    MAG: rank 204 from info\n",
      "Reducing data rank from 204 -> 204\n",
      "Estimating covariance using SHRINKAGE\n",
      "Done.\n",
      "Computing rank from data with rank='full'\n",
      "    MAG: rank 204 from info\n",
      "Reducing data rank from 204 -> 204\n",
      "Estimating covariance using SHRINKAGE\n",
      "Done.\n",
      "Computing rank from data with rank='full'\n",
      "    MAG: rank 204 from info\n",
      "Reducing data rank from 204 -> 204\n",
      "Estimating covariance using SHRINKAGE\n",
      "Done.\n",
      "Computing rank from data with rank='full'\n",
      "    MAG: rank 204 from info\n"
     ]
    },
    {
     "name": "stderr",
     "output_type": "stream",
     "text": [
      "/home/user/PycharmProjects/FingerMovementDecoder/venv/lib/python3.9/site-packages/sklearn/linear_model/_sag.py:328: ConvergenceWarning: The max_iter was reached which means the coef_ did not converge\n",
      "  warnings.warn(\"The max_iter was reached which means \"\n"
     ]
    },
    {
     "name": "stdout",
     "output_type": "stream",
     "text": [
      "Reducing data rank from 204 -> 204\n",
      "Estimating covariance using SHRINKAGE\n",
      "Done.\n",
      "Computing rank from data with rank='full'\n",
      "    MAG: rank 204 from info\n",
      "Reducing data rank from 204 -> 204\n",
      "Estimating covariance using SHRINKAGE\n",
      "Done.\n",
      "Computing rank from data with rank='full'\n",
      "    MAG: rank 204 from info\n",
      "Reducing data rank from 204 -> 204\n",
      "Estimating covariance using SHRINKAGE\n",
      "Done.\n",
      "Computing rank from data with rank='full'\n",
      "    MAG: rank 204 from info\n",
      "Reducing data rank from 204 -> 204\n",
      "Estimating covariance using SHRINKAGE\n",
      "Done.\n",
      "Computing rank from data with rank='full'\n",
      "    MAG: rank 204 from info\n"
     ]
    },
    {
     "name": "stderr",
     "output_type": "stream",
     "text": [
      "/home/user/PycharmProjects/FingerMovementDecoder/venv/lib/python3.9/site-packages/sklearn/linear_model/_sag.py:328: ConvergenceWarning: The max_iter was reached which means the coef_ did not converge\n",
      "  warnings.warn(\"The max_iter was reached which means \"\n"
     ]
    },
    {
     "name": "stdout",
     "output_type": "stream",
     "text": [
      "Reducing data rank from 204 -> 204\n",
      "Estimating covariance using SHRINKAGE\n",
      "Done.\n",
      "Computing rank from data with rank='full'\n",
      "    MAG: rank 204 from info\n",
      "Reducing data rank from 204 -> 204\n",
      "Estimating covariance using SHRINKAGE\n",
      "Done.\n"
     ]
    },
    {
     "name": "stderr",
     "output_type": "stream",
     "text": [
      "/home/user/PycharmProjects/FingerMovementDecoder/venv/lib/python3.9/site-packages/sklearn/linear_model/_sag.py:328: ConvergenceWarning: The max_iter was reached which means the coef_ did not converge\n",
      "  warnings.warn(\"The max_iter was reached which means \"\n"
     ]
    },
    {
     "name": "stdout",
     "output_type": "stream",
     "text": [
      "Computing rank from data with rank='full'\n",
      "    MAG: rank 204 from info\n",
      "Reducing data rank from 204 -> 204\n",
      "Estimating covariance using SHRINKAGE\n",
      "Done.\n",
      "Computing rank from data with rank='full'\n",
      "    MAG: rank 204 from info\n",
      "Reducing data rank from 204 -> 204\n",
      "Estimating covariance using SHRINKAGE\n",
      "Done.\n",
      "Computing rank from data with rank='full'\n",
      "    MAG: rank 204 from info\n"
     ]
    },
    {
     "name": "stderr",
     "output_type": "stream",
     "text": [
      "/home/user/PycharmProjects/FingerMovementDecoder/venv/lib/python3.9/site-packages/sklearn/linear_model/_sag.py:328: ConvergenceWarning: The max_iter was reached which means the coef_ did not converge\n",
      "  warnings.warn(\"The max_iter was reached which means \"\n"
     ]
    },
    {
     "name": "stdout",
     "output_type": "stream",
     "text": [
      "Reducing data rank from 204 -> 204\n",
      "Estimating covariance using SHRINKAGE\n",
      "Done.\n",
      "Computing rank from data with rank='full'\n",
      "    MAG: rank 204 from info\n",
      "Reducing data rank from 204 -> 204\n",
      "Estimating covariance using SHRINKAGE\n",
      "Done.\n",
      "Computing rank from data with rank='full'\n",
      "    MAG: rank 204 from info\n",
      "Reducing data rank from 204 -> 204\n",
      "Estimating covariance using SHRINKAGE\n",
      "Done.\n",
      "Computing rank from data with rank='full'\n",
      "    MAG: rank 204 from info\n",
      "Reducing data rank from 204 -> 204\n",
      "Estimating covariance using SHRINKAGE\n",
      "Done.\n",
      "Computing rank from data with rank='full'\n",
      "    MAG: rank 204 from info\n",
      "Reducing data rank from 204 -> 204\n",
      "Estimating covariance using SHRINKAGE\n",
      "Done.\n",
      "Computing rank from data with rank='full'\n",
      "    MAG: rank 204 from info\n",
      "Reducing data rank from 204 -> 204\n",
      "Estimating covariance using SHRINKAGE\n",
      "Done.\n"
     ]
    },
    {
     "name": "stderr",
     "output_type": "stream",
     "text": [
      "/home/user/PycharmProjects/FingerMovementDecoder/venv/lib/python3.9/site-packages/sklearn/linear_model/_sag.py:328: ConvergenceWarning: The max_iter was reached which means the coef_ did not converge\n",
      "  warnings.warn(\"The max_iter was reached which means \"\n"
     ]
    },
    {
     "name": "stdout",
     "output_type": "stream",
     "text": [
      "Computing rank from data with rank='full'\n",
      "    MAG: rank 204 from info\n",
      "Reducing data rank from 204 -> 204\n",
      "Estimating covariance using SHRINKAGE\n",
      "Done.\n",
      "Computing rank from data with rank='full'\n",
      "    MAG: rank 204 from info\n",
      "Reducing data rank from 204 -> 204\n",
      "Estimating covariance using SHRINKAGE\n",
      "Done.\n",
      "Computing rank from data with rank='full'\n",
      "    MAG: rank 204 from info\n"
     ]
    },
    {
     "name": "stderr",
     "output_type": "stream",
     "text": [
      "/home/user/PycharmProjects/FingerMovementDecoder/venv/lib/python3.9/site-packages/sklearn/linear_model/_sag.py:328: ConvergenceWarning: The max_iter was reached which means the coef_ did not converge\n",
      "  warnings.warn(\"The max_iter was reached which means \"\n"
     ]
    },
    {
     "name": "stdout",
     "output_type": "stream",
     "text": [
      "Reducing data rank from 204 -> 204\n",
      "Estimating covariance using SHRINKAGE\n",
      "Done.\n",
      "Computing rank from data with rank='full'\n",
      "    MAG: rank 204 from info\n",
      "Reducing data rank from 204 -> 204\n",
      "Estimating covariance using SHRINKAGE\n",
      "Done.\n",
      "Computing rank from data with rank='full'\n",
      "    MAG: rank 204 from info\n",
      "Reducing data rank from 204 -> 204\n",
      "Estimating covariance using SHRINKAGE\n",
      "Done.\n",
      "Computing rank from data with rank='full'\n",
      "    MAG: rank 204 from info\n",
      "Reducing data rank from 204 -> 204\n",
      "Estimating covariance using SHRINKAGE\n",
      "Done.\n",
      "Computing rank from data with rank='full'\n",
      "    MAG: rank 204 from info\n"
     ]
    },
    {
     "name": "stderr",
     "output_type": "stream",
     "text": [
      "/home/user/PycharmProjects/FingerMovementDecoder/venv/lib/python3.9/site-packages/sklearn/linear_model/_sag.py:328: ConvergenceWarning: The max_iter was reached which means the coef_ did not converge\n",
      "  warnings.warn(\"The max_iter was reached which means \"\n"
     ]
    },
    {
     "name": "stdout",
     "output_type": "stream",
     "text": [
      "Reducing data rank from 204 -> 204\n",
      "Estimating covariance using SHRINKAGE\n",
      "Done.\n",
      "Computing rank from data with rank='full'\n",
      "    MAG: rank 204 from info\n",
      "Reducing data rank from 204 -> 204\n",
      "Estimating covariance using SHRINKAGE\n",
      "Done.\n",
      "Computing rank from data with rank='full'\n",
      "    MAG: rank 204 from info\n",
      "Reducing data rank from 204 -> 204\n",
      "Estimating covariance using SHRINKAGE\n",
      "Done.\n",
      "Computing rank from data with rank='full'\n",
      "    MAG: rank 204 from info\n",
      "Reducing data rank from 204 -> 204\n",
      "Estimating covariance using SHRINKAGE\n",
      "Done.\n",
      "Computing rank from data with rank='full'\n",
      "    MAG: rank 204 from info\n"
     ]
    },
    {
     "name": "stderr",
     "output_type": "stream",
     "text": [
      "/home/user/PycharmProjects/FingerMovementDecoder/venv/lib/python3.9/site-packages/sklearn/linear_model/_sag.py:328: ConvergenceWarning: The max_iter was reached which means the coef_ did not converge\n",
      "  warnings.warn(\"The max_iter was reached which means \"\n"
     ]
    },
    {
     "name": "stdout",
     "output_type": "stream",
     "text": [
      "Reducing data rank from 204 -> 204\n",
      "Estimating covariance using SHRINKAGE\n",
      "Done.\n",
      "Computing rank from data with rank='full'\n",
      "    MAG: rank 204 from info\n",
      "Reducing data rank from 204 -> 204\n",
      "Estimating covariance using SHRINKAGE\n",
      "Done.\n",
      "Computing rank from data with rank='full'\n",
      "    MAG: rank 204 from info\n",
      "Reducing data rank from 204 -> 204\n",
      "Estimating covariance using SHRINKAGE\n",
      "Done.\n",
      "Computing rank from data with rank='full'\n",
      "    MAG: rank 204 from info\n",
      "Reducing data rank from 204 -> 204\n",
      "Estimating covariance using SHRINKAGE\n",
      "Done.\n",
      "Computing rank from data with rank='full'\n",
      "    MAG: rank 204 from info\n"
     ]
    },
    {
     "name": "stderr",
     "output_type": "stream",
     "text": [
      "/home/user/PycharmProjects/FingerMovementDecoder/venv/lib/python3.9/site-packages/sklearn/linear_model/_sag.py:328: ConvergenceWarning: The max_iter was reached which means the coef_ did not converge\n",
      "  warnings.warn(\"The max_iter was reached which means \"\n"
     ]
    },
    {
     "name": "stdout",
     "output_type": "stream",
     "text": [
      "Reducing data rank from 204 -> 204\n",
      "Estimating covariance using SHRINKAGE\n",
      "Done.\n",
      "Computing rank from data with rank='full'\n",
      "    MAG: rank 204 from info\n",
      "Reducing data rank from 204 -> 204\n",
      "Estimating covariance using SHRINKAGE\n",
      "Done.\n",
      "Computing rank from data with rank='full'\n",
      "    MAG: rank 204 from info\n",
      "Reducing data rank from 204 -> 204\n",
      "Estimating covariance using SHRINKAGE\n",
      "Done.\n",
      "Computing rank from data with rank='full'\n",
      "    MAG: rank 204 from info\n",
      "Reducing data rank from 204 -> 204\n",
      "Estimating covariance using SHRINKAGE\n",
      "Done.\n",
      "Computing rank from data with rank='full'\n",
      "    MAG: rank 204 from info\n",
      "Reducing data rank from 204 -> 204\n",
      "Estimating covariance using SHRINKAGE\n",
      "Done.\n",
      "Computing rank from data with rank='full'\n",
      "    MAG: rank 204 from info\n",
      "Reducing data rank from 204 -> 204\n",
      "Estimating covariance using SHRINKAGE\n",
      "Done.\n",
      "Computing rank from data with rank='full'\n",
      "    MAG: rank 204 from info\n",
      "Reducing data rank from 204 -> 204\n",
      "Estimating covariance using SHRINKAGE\n",
      "Done.\n",
      "Computing rank from data with rank='full'\n",
      "    MAG: rank 204 from info\n",
      "Reducing data rank from 204 -> 204\n",
      "Estimating covariance using SHRINKAGE\n",
      "Done.\n",
      "Computing rank from data with rank='full'\n",
      "    MAG: rank 204 from info\n"
     ]
    },
    {
     "name": "stderr",
     "output_type": "stream",
     "text": [
      "/home/user/PycharmProjects/FingerMovementDecoder/venv/lib/python3.9/site-packages/sklearn/linear_model/_sag.py:328: ConvergenceWarning: The max_iter was reached which means the coef_ did not converge\n",
      "  warnings.warn(\"The max_iter was reached which means \"\n"
     ]
    },
    {
     "name": "stdout",
     "output_type": "stream",
     "text": [
      "Reducing data rank from 204 -> 204\n",
      "Estimating covariance using SHRINKAGE\n",
      "Done.\n",
      "Computing rank from data with rank='full'\n",
      "    MAG: rank 204 from info\n",
      "Reducing data rank from 204 -> 204\n",
      "Estimating covariance using SHRINKAGE\n",
      "Done.\n",
      "Computing rank from data with rank='full'\n",
      "    MAG: rank 204 from info\n",
      "Reducing data rank from 204 -> 204\n",
      "Estimating covariance using SHRINKAGE\n",
      "Done.\n",
      "Computing rank from data with rank='full'\n",
      "    MAG: rank 204 from info\n",
      "Reducing data rank from 204 -> 204\n",
      "Estimating covariance using SHRINKAGE\n",
      "Done.\n",
      "Computing rank from data with rank='full'\n",
      "    MAG: rank 204 from info\n"
     ]
    },
    {
     "name": "stderr",
     "output_type": "stream",
     "text": [
      "/home/user/PycharmProjects/FingerMovementDecoder/venv/lib/python3.9/site-packages/sklearn/linear_model/_sag.py:328: ConvergenceWarning: The max_iter was reached which means the coef_ did not converge\n",
      "  warnings.warn(\"The max_iter was reached which means \"\n"
     ]
    },
    {
     "name": "stdout",
     "output_type": "stream",
     "text": [
      "Reducing data rank from 204 -> 204\n",
      "Estimating covariance using SHRINKAGE\n",
      "Done.\n",
      "Computing rank from data with rank='full'\n",
      "    MAG: rank 204 from info\n",
      "Reducing data rank from 204 -> 204\n",
      "Estimating covariance using SHRINKAGE\n",
      "Done.\n",
      "Computing rank from data with rank='full'\n",
      "    MAG: rank 204 from info\n",
      "Reducing data rank from 204 -> 204\n",
      "Estimating covariance using SHRINKAGE\n",
      "Done.\n",
      "Computing rank from data with rank='full'\n",
      "    MAG: rank 204 from info\n",
      "Reducing data rank from 204 -> 204\n",
      "Estimating covariance using SHRINKAGE\n",
      "Done.\n",
      "Computing rank from data with rank='full'\n",
      "    MAG: rank 204 from info\n",
      "Reducing data rank from 204 -> 204\n",
      "Estimating covariance using SHRINKAGE\n",
      "Done.\n",
      "Computing rank from data with rank='full'\n",
      "    MAG: rank 204 from info\n",
      "Reducing data rank from 204 -> 204\n",
      "Estimating covariance using SHRINKAGE\n",
      "Done.\n"
     ]
    },
    {
     "name": "stderr",
     "output_type": "stream",
     "text": [
      "/home/user/PycharmProjects/FingerMovementDecoder/venv/lib/python3.9/site-packages/sklearn/linear_model/_sag.py:328: ConvergenceWarning: The max_iter was reached which means the coef_ did not converge\n",
      "  warnings.warn(\"The max_iter was reached which means \"\n"
     ]
    },
    {
     "name": "stdout",
     "output_type": "stream",
     "text": [
      "Computing rank from data with rank='full'\n",
      "    MAG: rank 204 from info\n",
      "Reducing data rank from 204 -> 204\n",
      "Estimating covariance using SHRINKAGE\n",
      "Done.\n",
      "Computing rank from data with rank='full'\n",
      "    MAG: rank 204 from info\n",
      "Reducing data rank from 204 -> 204\n",
      "Estimating covariance using SHRINKAGE\n",
      "Done.\n",
      "Computing rank from data with rank='full'\n",
      "    MAG: rank 204 from info\n"
     ]
    },
    {
     "name": "stderr",
     "output_type": "stream",
     "text": [
      "/home/user/PycharmProjects/FingerMovementDecoder/venv/lib/python3.9/site-packages/sklearn/linear_model/_sag.py:328: ConvergenceWarning: The max_iter was reached which means the coef_ did not converge\n",
      "  warnings.warn(\"The max_iter was reached which means \"\n"
     ]
    },
    {
     "name": "stdout",
     "output_type": "stream",
     "text": [
      "Reducing data rank from 204 -> 204\n",
      "Estimating covariance using SHRINKAGE\n",
      "Done.\n",
      "Computing rank from data with rank='full'\n",
      "    MAG: rank 204 from info\n",
      "Reducing data rank from 204 -> 204\n",
      "Estimating covariance using SHRINKAGE\n",
      "Done.\n",
      "Computing rank from data with rank='full'\n",
      "    MAG: rank 204 from info\n",
      "Reducing data rank from 204 -> 204\n",
      "Estimating covariance using SHRINKAGE\n",
      "Done.\n",
      "Computing rank from data with rank='full'\n",
      "    MAG: rank 204 from info\n",
      "Reducing data rank from 204 -> 204\n",
      "Estimating covariance using SHRINKAGE\n",
      "Done.\n",
      "Computing rank from data with rank='full'\n",
      "    MAG: rank 204 from info\n",
      "Reducing data rank from 204 -> 204\n",
      "Estimating covariance using SHRINKAGE\n",
      "Done.\n",
      "Computing rank from data with rank='full'\n",
      "    MAG: rank 204 from info\n",
      "Reducing data rank from 204 -> 204\n",
      "Estimating covariance using SHRINKAGE\n",
      "Done.\n",
      "Computing rank from data with rank='full'\n",
      "    MAG: rank 204 from info\n",
      "Reducing data rank from 204 -> 204\n",
      "Estimating covariance using SHRINKAGE\n",
      "Done.\n",
      "Computing rank from data with rank='full'\n",
      "    MAG: rank 204 from info\n",
      "Reducing data rank from 204 -> 204\n",
      "Estimating covariance using SHRINKAGE\n",
      "Done.\n",
      "Computing rank from data with rank='full'\n",
      "    MAG: rank 204 from info\n"
     ]
    },
    {
     "name": "stderr",
     "output_type": "stream",
     "text": [
      "/home/user/PycharmProjects/FingerMovementDecoder/venv/lib/python3.9/site-packages/sklearn/linear_model/_sag.py:328: ConvergenceWarning: The max_iter was reached which means the coef_ did not converge\n",
      "  warnings.warn(\"The max_iter was reached which means \"\n"
     ]
    },
    {
     "name": "stdout",
     "output_type": "stream",
     "text": [
      "Reducing data rank from 204 -> 204\n",
      "Estimating covariance using SHRINKAGE\n",
      "Done.\n",
      "Computing rank from data with rank='full'\n",
      "    MAG: rank 204 from info\n",
      "Reducing data rank from 204 -> 204\n",
      "Estimating covariance using SHRINKAGE\n",
      "Done.\n",
      "Computing rank from data with rank='full'\n",
      "    MAG: rank 204 from info\n",
      "Reducing data rank from 204 -> 204\n",
      "Estimating covariance using SHRINKAGE\n",
      "Done.\n",
      "Computing rank from data with rank='full'\n",
      "    MAG: rank 204 from info\n",
      "Reducing data rank from 204 -> 204\n",
      "Estimating covariance using SHRINKAGE\n",
      "Done.\n",
      "Computing rank from data with rank='full'\n",
      "    MAG: rank 204 from info\n"
     ]
    },
    {
     "name": "stderr",
     "output_type": "stream",
     "text": [
      "/home/user/PycharmProjects/FingerMovementDecoder/venv/lib/python3.9/site-packages/sklearn/linear_model/_sag.py:328: ConvergenceWarning: The max_iter was reached which means the coef_ did not converge\n",
      "  warnings.warn(\"The max_iter was reached which means \"\n"
     ]
    },
    {
     "name": "stdout",
     "output_type": "stream",
     "text": [
      "Reducing data rank from 204 -> 204\n",
      "Estimating covariance using SHRINKAGE\n",
      "Done.\n",
      "Computing rank from data with rank='full'\n",
      "    MAG: rank 204 from info\n",
      "Reducing data rank from 204 -> 204\n",
      "Estimating covariance using SHRINKAGE\n",
      "Done.\n",
      "Computing rank from data with rank='full'\n",
      "    MAG: rank 204 from info\n",
      "Reducing data rank from 204 -> 204\n",
      "Estimating covariance using SHRINKAGE\n",
      "Done.\n",
      "Computing rank from data with rank='full'\n",
      "    MAG: rank 204 from info\n",
      "Reducing data rank from 204 -> 204\n",
      "Estimating covariance using SHRINKAGE\n",
      "Done.\n",
      "Computing rank from data with rank='full'\n",
      "    MAG: rank 204 from info\n"
     ]
    },
    {
     "name": "stderr",
     "output_type": "stream",
     "text": [
      "/home/user/PycharmProjects/FingerMovementDecoder/venv/lib/python3.9/site-packages/sklearn/linear_model/_sag.py:328: ConvergenceWarning: The max_iter was reached which means the coef_ did not converge\n",
      "  warnings.warn(\"The max_iter was reached which means \"\n"
     ]
    },
    {
     "name": "stdout",
     "output_type": "stream",
     "text": [
      "Reducing data rank from 204 -> 204\n",
      "Estimating covariance using SHRINKAGE\n",
      "Done.\n",
      "Computing rank from data with rank='full'\n",
      "    MAG: rank 204 from info\n",
      "Reducing data rank from 204 -> 204\n",
      "Estimating covariance using SHRINKAGE\n",
      "Done.\n",
      "Computing rank from data with rank='full'\n",
      "    MAG: rank 204 from info\n",
      "Reducing data rank from 204 -> 204\n",
      "Estimating covariance using SHRINKAGE\n",
      "Done.\n",
      "Computing rank from data with rank='full'\n",
      "    MAG: rank 204 from info\n",
      "Reducing data rank from 204 -> 204\n",
      "Estimating covariance using SHRINKAGE\n",
      "Done.\n",
      "Computing rank from data with rank='full'\n",
      "    MAG: rank 204 from info\n"
     ]
    },
    {
     "name": "stderr",
     "output_type": "stream",
     "text": [
      "/home/user/PycharmProjects/FingerMovementDecoder/venv/lib/python3.9/site-packages/sklearn/linear_model/_sag.py:328: ConvergenceWarning: The max_iter was reached which means the coef_ did not converge\n",
      "  warnings.warn(\"The max_iter was reached which means \"\n"
     ]
    },
    {
     "name": "stdout",
     "output_type": "stream",
     "text": [
      "Reducing data rank from 204 -> 204\n",
      "Estimating covariance using SHRINKAGE\n",
      "Done.\n",
      "Computing rank from data with rank='full'\n",
      "    MAG: rank 204 from info\n",
      "Reducing data rank from 204 -> 204\n",
      "Estimating covariance using SHRINKAGE\n",
      "Done.\n",
      "Computing rank from data with rank='full'\n",
      "    MAG: rank 204 from info\n",
      "Reducing data rank from 204 -> 204\n",
      "Estimating covariance using SHRINKAGE\n",
      "Done.\n",
      "Computing rank from data with rank='full'\n",
      "    MAG: rank 204 from info\n",
      "Reducing data rank from 204 -> 204\n",
      "Estimating covariance using SHRINKAGE\n",
      "Done.\n",
      "Computing rank from data with rank='full'\n",
      "    MAG: rank 204 from info\n"
     ]
    },
    {
     "name": "stderr",
     "output_type": "stream",
     "text": [
      "/home/user/PycharmProjects/FingerMovementDecoder/venv/lib/python3.9/site-packages/sklearn/linear_model/_sag.py:328: ConvergenceWarning: The max_iter was reached which means the coef_ did not converge\n",
      "  warnings.warn(\"The max_iter was reached which means \"\n"
     ]
    },
    {
     "name": "stdout",
     "output_type": "stream",
     "text": [
      "Reducing data rank from 204 -> 204\n",
      "Estimating covariance using SHRINKAGE\n",
      "Done.\n",
      "Computing rank from data with rank='full'\n",
      "    MAG: rank 204 from info\n",
      "Reducing data rank from 204 -> 204\n",
      "Estimating covariance using SHRINKAGE\n",
      "Done.\n",
      "Computing rank from data with rank='full'\n",
      "    MAG: rank 204 from info\n",
      "Reducing data rank from 204 -> 204\n",
      "Estimating covariance using SHRINKAGE\n",
      "Done.\n",
      "Computing rank from data with rank='full'\n",
      "    MAG: rank 204 from info\n",
      "Reducing data rank from 204 -> 204\n",
      "Estimating covariance using SHRINKAGE\n",
      "Done.\n",
      "Computing rank from data with rank='full'\n",
      "    MAG: rank 204 from info\n"
     ]
    },
    {
     "name": "stderr",
     "output_type": "stream",
     "text": [
      "/home/user/PycharmProjects/FingerMovementDecoder/venv/lib/python3.9/site-packages/sklearn/linear_model/_sag.py:328: ConvergenceWarning: The max_iter was reached which means the coef_ did not converge\n",
      "  warnings.warn(\"The max_iter was reached which means \"\n"
     ]
    },
    {
     "name": "stdout",
     "output_type": "stream",
     "text": [
      "Reducing data rank from 204 -> 204\n",
      "Estimating covariance using SHRINKAGE\n",
      "Done.\n",
      "Computing rank from data with rank='full'\n",
      "    MAG: rank 204 from info\n",
      "Reducing data rank from 204 -> 204\n",
      "Estimating covariance using SHRINKAGE\n",
      "Done.\n",
      "Computing rank from data with rank='full'\n",
      "    MAG: rank 204 from info\n",
      "Reducing data rank from 204 -> 204\n",
      "Estimating covariance using SHRINKAGE\n",
      "Done.\n",
      "Computing rank from data with rank='full'\n",
      "    MAG: rank 204 from info\n",
      "Reducing data rank from 204 -> 204\n",
      "Estimating covariance using SHRINKAGE\n",
      "Done.\n",
      "Computing rank from data with rank='full'\n",
      "    MAG: rank 204 from info\n",
      "Reducing data rank from 204 -> 204\n",
      "Estimating covariance using SHRINKAGE\n",
      "Done.\n",
      "Computing rank from data with rank='full'\n",
      "    MAG: rank 204 from info\n",
      "Reducing data rank from 204 -> 204\n",
      "Estimating covariance using SHRINKAGE\n",
      "Done.\n",
      "Computing rank from data with rank='full'\n",
      "    MAG: rank 204 from info\n",
      "Reducing data rank from 204 -> 204\n",
      "Estimating covariance using SHRINKAGE\n",
      "Done.\n",
      "Computing rank from data with rank='full'\n",
      "    MAG: rank 204 from info\n",
      "Reducing data rank from 204 -> 204\n",
      "Estimating covariance using SHRINKAGE\n",
      "Done.\n",
      "Computing rank from data with rank='full'\n",
      "    MAG: rank 204 from info\n"
     ]
    },
    {
     "name": "stderr",
     "output_type": "stream",
     "text": [
      "/home/user/PycharmProjects/FingerMovementDecoder/venv/lib/python3.9/site-packages/sklearn/linear_model/_sag.py:328: ConvergenceWarning: The max_iter was reached which means the coef_ did not converge\n",
      "  warnings.warn(\"The max_iter was reached which means \"\n"
     ]
    },
    {
     "name": "stdout",
     "output_type": "stream",
     "text": [
      "Reducing data rank from 204 -> 204\n",
      "Estimating covariance using SHRINKAGE\n",
      "Done.\n",
      "Computing rank from data with rank='full'\n",
      "    MAG: rank 204 from info\n",
      "Reducing data rank from 204 -> 204\n",
      "Estimating covariance using SHRINKAGE\n",
      "Done.\n",
      "Computing rank from data with rank='full'\n",
      "    MAG: rank 204 from info\n",
      "Reducing data rank from 204 -> 204\n",
      "Estimating covariance using SHRINKAGE\n",
      "Done.\n",
      "Computing rank from data with rank='full'\n",
      "    MAG: rank 204 from info\n",
      "Reducing data rank from 204 -> 204\n",
      "Estimating covariance using SHRINKAGE\n",
      "Done.\n",
      "Computing rank from data with rank='full'\n",
      "    MAG: rank 204 from info\n"
     ]
    },
    {
     "name": "stderr",
     "output_type": "stream",
     "text": [
      "/home/user/PycharmProjects/FingerMovementDecoder/venv/lib/python3.9/site-packages/sklearn/linear_model/_sag.py:328: ConvergenceWarning: The max_iter was reached which means the coef_ did not converge\n",
      "  warnings.warn(\"The max_iter was reached which means \"\n"
     ]
    },
    {
     "name": "stdout",
     "output_type": "stream",
     "text": [
      "Reducing data rank from 204 -> 204\n",
      "Estimating covariance using SHRINKAGE\n",
      "Done.\n",
      "Computing rank from data with rank='full'\n",
      "    MAG: rank 204 from info\n",
      "Reducing data rank from 204 -> 204\n",
      "Estimating covariance using SHRINKAGE\n",
      "Done.\n",
      "Computing rank from data with rank='full'\n",
      "    MAG: rank 204 from info\n",
      "Reducing data rank from 204 -> 204\n",
      "Estimating covariance using SHRINKAGE\n",
      "Done.\n",
      "Computing rank from data with rank='full'\n",
      "    MAG: rank 204 from info\n",
      "Reducing data rank from 204 -> 204\n",
      "Estimating covariance using SHRINKAGE\n",
      "Done.\n",
      "Computing rank from data with rank='full'\n",
      "    MAG: rank 204 from info\n"
     ]
    },
    {
     "name": "stderr",
     "output_type": "stream",
     "text": [
      "/home/user/PycharmProjects/FingerMovementDecoder/venv/lib/python3.9/site-packages/sklearn/linear_model/_sag.py:328: ConvergenceWarning: The max_iter was reached which means the coef_ did not converge\n",
      "  warnings.warn(\"The max_iter was reached which means \"\n"
     ]
    },
    {
     "name": "stdout",
     "output_type": "stream",
     "text": [
      "Reducing data rank from 204 -> 204\n",
      "Estimating covariance using SHRINKAGE\n",
      "Done.\n",
      "Computing rank from data with rank='full'\n",
      "    MAG: rank 204 from info\n",
      "Reducing data rank from 204 -> 204\n",
      "Estimating covariance using SHRINKAGE\n",
      "Done.\n",
      "Computing rank from data with rank='full'\n",
      "    MAG: rank 204 from info\n",
      "Reducing data rank from 204 -> 204\n",
      "Estimating covariance using SHRINKAGE\n",
      "Done.\n",
      "Computing rank from data with rank='full'\n",
      "    MAG: rank 204 from info\n",
      "Reducing data rank from 204 -> 204\n",
      "Estimating covariance using SHRINKAGE\n",
      "Done.\n",
      "Computing rank from data with rank='full'\n",
      "    MAG: rank 204 from info\n"
     ]
    },
    {
     "name": "stderr",
     "output_type": "stream",
     "text": [
      "/home/user/PycharmProjects/FingerMovementDecoder/venv/lib/python3.9/site-packages/sklearn/linear_model/_sag.py:328: ConvergenceWarning: The max_iter was reached which means the coef_ did not converge\n",
      "  warnings.warn(\"The max_iter was reached which means \"\n"
     ]
    },
    {
     "name": "stdout",
     "output_type": "stream",
     "text": [
      "Reducing data rank from 204 -> 204\n",
      "Estimating covariance using SHRINKAGE\n",
      "Done.\n",
      "Computing rank from data with rank='full'\n",
      "    MAG: rank 204 from info\n",
      "Reducing data rank from 204 -> 204\n",
      "Estimating covariance using SHRINKAGE\n",
      "Done.\n"
     ]
    },
    {
     "name": "stderr",
     "output_type": "stream",
     "text": [
      "/home/user/PycharmProjects/FingerMovementDecoder/venv/lib/python3.9/site-packages/sklearn/linear_model/_sag.py:328: ConvergenceWarning: The max_iter was reached which means the coef_ did not converge\n",
      "  warnings.warn(\"The max_iter was reached which means \"\n"
     ]
    },
    {
     "name": "stdout",
     "output_type": "stream",
     "text": [
      "Computing rank from data with rank='full'\n",
      "    MAG: rank 204 from info\n",
      "Reducing data rank from 204 -> 204\n",
      "Estimating covariance using SHRINKAGE\n",
      "Done.\n",
      "Computing rank from data with rank='full'\n",
      "    MAG: rank 204 from info\n",
      "Reducing data rank from 204 -> 204\n",
      "Estimating covariance using SHRINKAGE\n",
      "Done.\n",
      "Computing rank from data with rank='full'\n",
      "    MAG: rank 204 from info\n",
      "Reducing data rank from 204 -> 204\n",
      "Estimating covariance using SHRINKAGE\n",
      "Done.\n",
      "Computing rank from data with rank='full'\n",
      "    MAG: rank 204 from info\n",
      "Reducing data rank from 204 -> 204\n",
      "Estimating covariance using SHRINKAGE\n",
      "Done.\n",
      "Computing rank from data with rank='full'\n",
      "    MAG: rank 204 from info\n",
      "Reducing data rank from 204 -> 204\n",
      "Estimating covariance using SHRINKAGE\n",
      "Done.\n",
      "Computing rank from data with rank='full'\n",
      "    MAG: rank 204 from info\n",
      "Reducing data rank from 204 -> 204\n",
      "Estimating covariance using SHRINKAGE\n",
      "Done.\n",
      "Computing rank from data with rank='full'\n",
      "    MAG: rank 204 from info\n"
     ]
    },
    {
     "name": "stderr",
     "output_type": "stream",
     "text": [
      "/home/user/PycharmProjects/FingerMovementDecoder/venv/lib/python3.9/site-packages/sklearn/linear_model/_sag.py:328: ConvergenceWarning: The max_iter was reached which means the coef_ did not converge\n",
      "  warnings.warn(\"The max_iter was reached which means \"\n"
     ]
    },
    {
     "name": "stdout",
     "output_type": "stream",
     "text": [
      "Reducing data rank from 204 -> 204\n",
      "Estimating covariance using SHRINKAGE\n",
      "Done.\n",
      "Computing rank from data with rank='full'\n",
      "    MAG: rank 204 from info\n",
      "Reducing data rank from 204 -> 204\n",
      "Estimating covariance using SHRINKAGE\n",
      "Done.\n",
      "Computing rank from data with rank='full'\n",
      "    MAG: rank 204 from info\n",
      "Reducing data rank from 204 -> 204\n",
      "Estimating covariance using SHRINKAGE\n",
      "Done.\n",
      "Computing rank from data with rank='full'\n",
      "    MAG: rank 204 from info\n",
      "Reducing data rank from 204 -> 204\n",
      "Estimating covariance using SHRINKAGE\n",
      "Done.\n",
      "Computing rank from data with rank='full'\n",
      "    MAG: rank 204 from info\n"
     ]
    },
    {
     "name": "stderr",
     "output_type": "stream",
     "text": [
      "/home/user/PycharmProjects/FingerMovementDecoder/venv/lib/python3.9/site-packages/sklearn/linear_model/_sag.py:328: ConvergenceWarning: The max_iter was reached which means the coef_ did not converge\n",
      "  warnings.warn(\"The max_iter was reached which means \"\n"
     ]
    },
    {
     "name": "stdout",
     "output_type": "stream",
     "text": [
      "Reducing data rank from 204 -> 204\n",
      "Estimating covariance using SHRINKAGE\n",
      "Done.\n",
      "Computing rank from data with rank='full'\n",
      "    MAG: rank 204 from info\n",
      "Reducing data rank from 204 -> 204\n",
      "Estimating covariance using SHRINKAGE\n",
      "Done.\n"
     ]
    },
    {
     "name": "stderr",
     "output_type": "stream",
     "text": [
      "/home/user/PycharmProjects/FingerMovementDecoder/venv/lib/python3.9/site-packages/sklearn/linear_model/_sag.py:328: ConvergenceWarning: The max_iter was reached which means the coef_ did not converge\n",
      "  warnings.warn(\"The max_iter was reached which means \"\n"
     ]
    },
    {
     "name": "stdout",
     "output_type": "stream",
     "text": [
      "Computing rank from data with rank='full'\n",
      "    MAG: rank 204 from info\n",
      "Reducing data rank from 204 -> 204\n",
      "Estimating covariance using SHRINKAGE\n",
      "Done.\n",
      "Computing rank from data with rank='full'\n",
      "    MAG: rank 204 from info\n",
      "Reducing data rank from 204 -> 204\n",
      "Estimating covariance using SHRINKAGE\n",
      "Done.\n",
      "Computing rank from data with rank='full'\n",
      "    MAG: rank 204 from info\n",
      "Reducing data rank from 204 -> 204\n",
      "Estimating covariance using SHRINKAGE\n",
      "Done.\n",
      "Computing rank from data with rank='full'\n",
      "    MAG: rank 204 from info\n",
      "Reducing data rank from 204 -> 204\n",
      "Estimating covariance using SHRINKAGE\n",
      "Done.\n",
      "Computing rank from data with rank='full'\n",
      "    MAG: rank 204 from info\n",
      "Reducing data rank from 204 -> 204\n",
      "Estimating covariance using SHRINKAGE\n",
      "Done.\n",
      "Computing rank from data with rank='full'\n",
      "    MAG: rank 204 from info\n",
      "Reducing data rank from 204 -> 204\n",
      "Estimating covariance using SHRINKAGE\n",
      "Done.\n",
      "Computing rank from data with rank='full'\n",
      "    MAG: rank 204 from info\n"
     ]
    },
    {
     "name": "stderr",
     "output_type": "stream",
     "text": [
      "/home/user/PycharmProjects/FingerMovementDecoder/venv/lib/python3.9/site-packages/sklearn/linear_model/_sag.py:328: ConvergenceWarning: The max_iter was reached which means the coef_ did not converge\n",
      "  warnings.warn(\"The max_iter was reached which means \"\n"
     ]
    },
    {
     "name": "stdout",
     "output_type": "stream",
     "text": [
      "Reducing data rank from 204 -> 204\n",
      "Estimating covariance using SHRINKAGE\n",
      "Done.\n",
      "Computing rank from data with rank='full'\n",
      "    MAG: rank 204 from info\n",
      "Reducing data rank from 204 -> 204\n",
      "Estimating covariance using SHRINKAGE\n",
      "Done.\n",
      "Computing rank from data with rank='full'\n",
      "    MAG: rank 204 from info\n",
      "Reducing data rank from 204 -> 204\n",
      "Estimating covariance using SHRINKAGE\n",
      "Done.\n",
      "Computing rank from data with rank='full'\n",
      "    MAG: rank 204 from info\n",
      "Reducing data rank from 204 -> 204\n",
      "Estimating covariance using SHRINKAGE\n",
      "Done.\n",
      "Computing rank from data with rank='full'\n",
      "    MAG: rank 204 from info\n"
     ]
    },
    {
     "name": "stderr",
     "output_type": "stream",
     "text": [
      "/home/user/PycharmProjects/FingerMovementDecoder/venv/lib/python3.9/site-packages/sklearn/linear_model/_sag.py:328: ConvergenceWarning: The max_iter was reached which means the coef_ did not converge\n",
      "  warnings.warn(\"The max_iter was reached which means \"\n"
     ]
    },
    {
     "name": "stdout",
     "output_type": "stream",
     "text": [
      "Reducing data rank from 204 -> 204\n",
      "Estimating covariance using SHRINKAGE\n",
      "Done.\n",
      "Computing rank from data with rank='full'\n",
      "    MAG: rank 204 from info\n",
      "Reducing data rank from 204 -> 204\n",
      "Estimating covariance using SHRINKAGE\n",
      "Done.\n",
      "Computing rank from data with rank='full'\n",
      "    MAG: rank 204 from info\n",
      "Reducing data rank from 204 -> 204\n",
      "Estimating covariance using SHRINKAGE\n",
      "Done.\n",
      "Computing rank from data with rank='full'\n",
      "    MAG: rank 204 from info\n",
      "Reducing data rank from 204 -> 204\n",
      "Estimating covariance using SHRINKAGE\n",
      "Done.\n",
      "Computing rank from data with rank='full'\n",
      "    MAG: rank 204 from info\n"
     ]
    },
    {
     "name": "stderr",
     "output_type": "stream",
     "text": [
      "/home/user/PycharmProjects/FingerMovementDecoder/venv/lib/python3.9/site-packages/sklearn/linear_model/_sag.py:328: ConvergenceWarning: The max_iter was reached which means the coef_ did not converge\n",
      "  warnings.warn(\"The max_iter was reached which means \"\n"
     ]
    },
    {
     "name": "stdout",
     "output_type": "stream",
     "text": [
      "Reducing data rank from 204 -> 204\n",
      "Estimating covariance using SHRINKAGE\n",
      "Done.\n",
      "Computing rank from data with rank='full'\n",
      "    MAG: rank 204 from info\n",
      "Reducing data rank from 204 -> 204\n",
      "Estimating covariance using SHRINKAGE\n",
      "Done.\n",
      "Computing rank from data with rank='full'\n",
      "    MAG: rank 204 from info\n",
      "Reducing data rank from 204 -> 204\n",
      "Estimating covariance using SHRINKAGE\n",
      "Done.\n",
      "Computing rank from data with rank='full'\n",
      "    MAG: rank 204 from info\n",
      "Reducing data rank from 204 -> 204\n",
      "Estimating covariance using SHRINKAGE\n",
      "Done.\n",
      "Computing rank from data with rank='full'\n",
      "    MAG: rank 204 from info\n"
     ]
    },
    {
     "name": "stderr",
     "output_type": "stream",
     "text": [
      "/home/user/PycharmProjects/FingerMovementDecoder/venv/lib/python3.9/site-packages/sklearn/linear_model/_sag.py:328: ConvergenceWarning: The max_iter was reached which means the coef_ did not converge\n",
      "  warnings.warn(\"The max_iter was reached which means \"\n"
     ]
    },
    {
     "name": "stdout",
     "output_type": "stream",
     "text": [
      "Reducing data rank from 204 -> 204\n",
      "Estimating covariance using SHRINKAGE\n",
      "Done.\n",
      "Computing rank from data with rank='full'\n",
      "    MAG: rank 204 from info\n",
      "Reducing data rank from 204 -> 204\n",
      "Estimating covariance using SHRINKAGE\n",
      "Done.\n"
     ]
    },
    {
     "name": "stderr",
     "output_type": "stream",
     "text": [
      "/home/user/PycharmProjects/FingerMovementDecoder/venv/lib/python3.9/site-packages/sklearn/linear_model/_sag.py:328: ConvergenceWarning: The max_iter was reached which means the coef_ did not converge\n",
      "  warnings.warn(\"The max_iter was reached which means \"\n"
     ]
    },
    {
     "name": "stdout",
     "output_type": "stream",
     "text": [
      "Computing rank from data with rank='full'\n",
      "    MAG: rank 204 from info\n",
      "Reducing data rank from 204 -> 204\n",
      "Estimating covariance using SHRINKAGE\n",
      "Done.\n",
      "Computing rank from data with rank='full'\n",
      "    MAG: rank 204 from info\n",
      "Reducing data rank from 204 -> 204\n",
      "Estimating covariance using SHRINKAGE\n",
      "Done.\n",
      "Computing rank from data with rank='full'\n",
      "    MAG: rank 204 from info\n",
      "Reducing data rank from 204 -> 204\n",
      "Estimating covariance using SHRINKAGE\n",
      "Done.\n",
      "Computing rank from data with rank='full'\n",
      "    MAG: rank 204 from info\n",
      "Reducing data rank from 204 -> 204\n",
      "Estimating covariance using SHRINKAGE\n",
      "Done.\n",
      "Computing rank from data with rank='full'\n",
      "    MAG: rank 204 from info\n",
      "Reducing data rank from 204 -> 204\n",
      "Estimating covariance using SHRINKAGE\n",
      "Done.\n",
      "Computing rank from data with rank='full'\n",
      "    MAG: rank 204 from info\n",
      "Reducing data rank from 204 -> 204\n",
      "Estimating covariance using SHRINKAGE\n",
      "Done.\n",
      "Computing rank from data with rank='full'\n",
      "    MAG: rank 204 from info\n",
      "Reducing data rank from 204 -> 204\n",
      "Estimating covariance using SHRINKAGE\n",
      "Done.\n",
      "Computing rank from data with rank='full'\n",
      "    MAG: rank 204 from info\n",
      "Reducing data rank from 204 -> 204\n",
      "Estimating covariance using SHRINKAGE\n",
      "Done.\n",
      "Computing rank from data with rank='full'\n",
      "    MAG: rank 204 from info\n",
      "Reducing data rank from 204 -> 204\n",
      "Estimating covariance using SHRINKAGE\n",
      "Done.\n",
      "Computing rank from data with rank='full'\n",
      "    MAG: rank 204 from info\n",
      "Reducing data rank from 204 -> 204\n",
      "Estimating covariance using SHRINKAGE\n",
      "Done.\n",
      "Computing rank from data with rank='full'\n",
      "    MAG: rank 204 from info\n",
      "Reducing data rank from 204 -> 204\n",
      "Estimating covariance using SHRINKAGE\n",
      "Done.\n",
      "Computing rank from data with rank='full'\n",
      "    MAG: rank 204 from info\n",
      "Reducing data rank from 204 -> 204\n",
      "Estimating covariance using SHRINKAGE\n",
      "Done.\n"
     ]
    },
    {
     "name": "stderr",
     "output_type": "stream",
     "text": [
      "/home/user/PycharmProjects/FingerMovementDecoder/venv/lib/python3.9/site-packages/sklearn/linear_model/_sag.py:328: ConvergenceWarning: The max_iter was reached which means the coef_ did not converge\n",
      "  warnings.warn(\"The max_iter was reached which means \"\n"
     ]
    },
    {
     "name": "stdout",
     "output_type": "stream",
     "text": [
      "Computing rank from data with rank='full'\n",
      "    MAG: rank 204 from info\n",
      "Reducing data rank from 204 -> 204\n",
      "Estimating covariance using SHRINKAGE\n",
      "Done.\n",
      "Computing rank from data with rank='full'\n",
      "    MAG: rank 204 from info\n",
      "Reducing data rank from 204 -> 204\n",
      "Estimating covariance using SHRINKAGE\n",
      "Done.\n",
      "Computing rank from data with rank='full'\n",
      "    MAG: rank 204 from info\n"
     ]
    },
    {
     "name": "stderr",
     "output_type": "stream",
     "text": [
      "/home/user/PycharmProjects/FingerMovementDecoder/venv/lib/python3.9/site-packages/sklearn/linear_model/_sag.py:328: ConvergenceWarning: The max_iter was reached which means the coef_ did not converge\n",
      "  warnings.warn(\"The max_iter was reached which means \"\n"
     ]
    },
    {
     "name": "stdout",
     "output_type": "stream",
     "text": [
      "Reducing data rank from 204 -> 204\n",
      "Estimating covariance using SHRINKAGE\n",
      "Done.\n",
      "Computing rank from data with rank='full'\n",
      "    MAG: rank 204 from info\n",
      "Reducing data rank from 204 -> 204\n",
      "Estimating covariance using SHRINKAGE\n",
      "Done.\n",
      "Computing rank from data with rank='full'\n",
      "    MAG: rank 204 from info\n",
      "Reducing data rank from 204 -> 204\n",
      "Estimating covariance using SHRINKAGE\n",
      "Done.\n",
      "Computing rank from data with rank='full'\n",
      "    MAG: rank 204 from info\n",
      "Reducing data rank from 204 -> 204\n",
      "Estimating covariance using SHRINKAGE\n",
      "Done.\n",
      "Computing rank from data with rank='full'\n",
      "    MAG: rank 204 from info\n"
     ]
    },
    {
     "name": "stderr",
     "output_type": "stream",
     "text": [
      "/home/user/PycharmProjects/FingerMovementDecoder/venv/lib/python3.9/site-packages/sklearn/linear_model/_sag.py:328: ConvergenceWarning: The max_iter was reached which means the coef_ did not converge\n",
      "  warnings.warn(\"The max_iter was reached which means \"\n"
     ]
    },
    {
     "name": "stdout",
     "output_type": "stream",
     "text": [
      "Reducing data rank from 204 -> 204\n",
      "Estimating covariance using SHRINKAGE\n",
      "Done.\n",
      "Computing rank from data with rank='full'\n",
      "    MAG: rank 204 from info\n",
      "Reducing data rank from 204 -> 204\n",
      "Estimating covariance using SHRINKAGE\n",
      "Done.\n",
      "Computing rank from data with rank='full'\n",
      "    MAG: rank 204 from info\n",
      "Reducing data rank from 204 -> 204\n",
      "Estimating covariance using SHRINKAGE\n",
      "Done.\n",
      "Computing rank from data with rank='full'\n",
      "    MAG: rank 204 from info\n",
      "Reducing data rank from 204 -> 204\n",
      "Estimating covariance using SHRINKAGE\n",
      "Done.\n",
      "Computing rank from data with rank='full'\n",
      "    MAG: rank 204 from info\n"
     ]
    },
    {
     "name": "stderr",
     "output_type": "stream",
     "text": [
      "/home/user/PycharmProjects/FingerMovementDecoder/venv/lib/python3.9/site-packages/sklearn/linear_model/_sag.py:328: ConvergenceWarning: The max_iter was reached which means the coef_ did not converge\n",
      "  warnings.warn(\"The max_iter was reached which means \"\n"
     ]
    },
    {
     "name": "stdout",
     "output_type": "stream",
     "text": [
      "Reducing data rank from 204 -> 204\n",
      "Estimating covariance using SHRINKAGE\n",
      "Done.\n",
      "Computing rank from data with rank='full'\n",
      "    MAG: rank 204 from info\n",
      "Reducing data rank from 204 -> 204\n",
      "Estimating covariance using SHRINKAGE\n",
      "Done.\n",
      "Computing rank from data with rank='full'\n",
      "    MAG: rank 204 from info\n",
      "Reducing data rank from 204 -> 204\n",
      "Estimating covariance using SHRINKAGE\n",
      "Done.\n",
      "Computing rank from data with rank='full'\n",
      "    MAG: rank 204 from info\n",
      "Reducing data rank from 204 -> 204\n",
      "Estimating covariance using SHRINKAGE\n",
      "Done.\n",
      "Computing rank from data with rank='full'\n",
      "    MAG: rank 204 from info\n"
     ]
    },
    {
     "name": "stderr",
     "output_type": "stream",
     "text": [
      "/home/user/PycharmProjects/FingerMovementDecoder/venv/lib/python3.9/site-packages/sklearn/linear_model/_sag.py:328: ConvergenceWarning: The max_iter was reached which means the coef_ did not converge\n",
      "  warnings.warn(\"The max_iter was reached which means \"\n"
     ]
    },
    {
     "name": "stdout",
     "output_type": "stream",
     "text": [
      "Reducing data rank from 204 -> 204\n",
      "Estimating covariance using SHRINKAGE\n",
      "Done.\n",
      "Computing rank from data with rank='full'\n",
      "    MAG: rank 204 from info\n",
      "Reducing data rank from 204 -> 204\n",
      "Estimating covariance using SHRINKAGE\n",
      "Done.\n",
      "Computing rank from data with rank='full'\n",
      "    MAG: rank 204 from info\n",
      "Reducing data rank from 204 -> 204\n",
      "Estimating covariance using SHRINKAGE\n",
      "Done.\n",
      "Computing rank from data with rank='full'\n",
      "    MAG: rank 204 from info\n",
      "Reducing data rank from 204 -> 204\n",
      "Estimating covariance using SHRINKAGE\n",
      "Done.\n",
      "Computing rank from data with rank='full'\n",
      "    MAG: rank 204 from info\n",
      "Reducing data rank from 204 -> 204\n",
      "Estimating covariance using SHRINKAGE\n",
      "Done.\n",
      "Computing rank from data with rank='full'\n",
      "    MAG: rank 204 from info\n",
      "Reducing data rank from 204 -> 204\n",
      "Estimating covariance using SHRINKAGE\n",
      "Done.\n",
      "Computing rank from data with rank='full'\n",
      "    MAG: rank 204 from info\n",
      "Reducing data rank from 204 -> 204\n",
      "Estimating covariance using SHRINKAGE\n",
      "Done.\n",
      "Computing rank from data with rank='full'\n",
      "    MAG: rank 204 from info\n",
      "Reducing data rank from 204 -> 204\n",
      "Estimating covariance using SHRINKAGE\n",
      "Done.\n",
      "Computing rank from data with rank='full'\n",
      "    MAG: rank 204 from info\n"
     ]
    },
    {
     "name": "stderr",
     "output_type": "stream",
     "text": [
      "/home/user/PycharmProjects/FingerMovementDecoder/venv/lib/python3.9/site-packages/sklearn/linear_model/_sag.py:328: ConvergenceWarning: The max_iter was reached which means the coef_ did not converge\n",
      "  warnings.warn(\"The max_iter was reached which means \"\n"
     ]
    },
    {
     "name": "stdout",
     "output_type": "stream",
     "text": [
      "Reducing data rank from 204 -> 204\n",
      "Estimating covariance using SHRINKAGE\n",
      "Done.\n",
      "Computing rank from data with rank='full'\n",
      "    MAG: rank 204 from info\n",
      "Reducing data rank from 204 -> 204\n",
      "Estimating covariance using SHRINKAGE\n",
      "Done.\n",
      "Computing rank from data with rank='full'\n",
      "    MAG: rank 204 from info\n",
      "Reducing data rank from 204 -> 204\n",
      "Estimating covariance using SHRINKAGE\n",
      "Done.\n",
      "Computing rank from data with rank='full'\n",
      "    MAG: rank 204 from info\n",
      "Reducing data rank from 204 -> 204\n",
      "Estimating covariance using SHRINKAGE\n",
      "Done.\n",
      "Computing rank from data with rank='full'\n",
      "    MAG: rank 204 from info\n"
     ]
    },
    {
     "name": "stderr",
     "output_type": "stream",
     "text": [
      "/home/user/PycharmProjects/FingerMovementDecoder/venv/lib/python3.9/site-packages/sklearn/linear_model/_sag.py:328: ConvergenceWarning: The max_iter was reached which means the coef_ did not converge\n",
      "  warnings.warn(\"The max_iter was reached which means \"\n"
     ]
    },
    {
     "name": "stdout",
     "output_type": "stream",
     "text": [
      "Reducing data rank from 204 -> 204\n",
      "Estimating covariance using SHRINKAGE\n",
      "Done.\n",
      "Computing rank from data with rank='full'\n",
      "    MAG: rank 204 from info\n",
      "Reducing data rank from 204 -> 204\n",
      "Estimating covariance using SHRINKAGE\n",
      "Done.\n",
      "Computing rank from data with rank='full'\n",
      "    MAG: rank 204 from info\n",
      "Reducing data rank from 204 -> 204\n",
      "Estimating covariance using SHRINKAGE\n",
      "Done.\n",
      "Computing rank from data with rank='full'\n",
      "    MAG: rank 204 from info\n",
      "Reducing data rank from 204 -> 204\n",
      "Estimating covariance using SHRINKAGE\n",
      "Done.\n",
      "Computing rank from data with rank='full'\n",
      "    MAG: rank 204 from info\n"
     ]
    },
    {
     "name": "stderr",
     "output_type": "stream",
     "text": [
      "/home/user/PycharmProjects/FingerMovementDecoder/venv/lib/python3.9/site-packages/sklearn/linear_model/_sag.py:328: ConvergenceWarning: The max_iter was reached which means the coef_ did not converge\n",
      "  warnings.warn(\"The max_iter was reached which means \"\n"
     ]
    },
    {
     "name": "stdout",
     "output_type": "stream",
     "text": [
      "Reducing data rank from 204 -> 204\n",
      "Estimating covariance using SHRINKAGE\n",
      "Done.\n",
      "Computing rank from data with rank='full'\n",
      "    MAG: rank 204 from info\n",
      "Reducing data rank from 204 -> 204\n",
      "Estimating covariance using SHRINKAGE\n",
      "Done.\n"
     ]
    },
    {
     "name": "stderr",
     "output_type": "stream",
     "text": [
      "/home/user/PycharmProjects/FingerMovementDecoder/venv/lib/python3.9/site-packages/sklearn/linear_model/_sag.py:328: ConvergenceWarning: The max_iter was reached which means the coef_ did not converge\n",
      "  warnings.warn(\"The max_iter was reached which means \"\n"
     ]
    },
    {
     "name": "stdout",
     "output_type": "stream",
     "text": [
      "Computing rank from data with rank='full'\n",
      "    MAG: rank 204 from info\n",
      "Reducing data rank from 204 -> 204\n",
      "Estimating covariance using SHRINKAGE\n",
      "Done.\n",
      "Computing rank from data with rank='full'\n",
      "    MAG: rank 204 from info\n",
      "Reducing data rank from 204 -> 204\n",
      "Estimating covariance using SHRINKAGE\n",
      "Done.\n",
      "Computing rank from data with rank='full'\n",
      "    MAG: rank 204 from info\n"
     ]
    },
    {
     "name": "stderr",
     "output_type": "stream",
     "text": [
      "/home/user/PycharmProjects/FingerMovementDecoder/venv/lib/python3.9/site-packages/sklearn/linear_model/_sag.py:328: ConvergenceWarning: The max_iter was reached which means the coef_ did not converge\n",
      "  warnings.warn(\"The max_iter was reached which means \"\n"
     ]
    },
    {
     "name": "stdout",
     "output_type": "stream",
     "text": [
      "Reducing data rank from 204 -> 204\n",
      "Estimating covariance using SHRINKAGE\n",
      "Done.\n",
      "Computing rank from data with rank='full'\n",
      "    MAG: rank 204 from info\n",
      "Reducing data rank from 204 -> 204\n",
      "Estimating covariance using SHRINKAGE\n",
      "Done.\n"
     ]
    },
    {
     "name": "stderr",
     "output_type": "stream",
     "text": [
      "/home/user/PycharmProjects/FingerMovementDecoder/venv/lib/python3.9/site-packages/sklearn/linear_model/_sag.py:328: ConvergenceWarning: The max_iter was reached which means the coef_ did not converge\n",
      "  warnings.warn(\"The max_iter was reached which means \"\n"
     ]
    },
    {
     "name": "stdout",
     "output_type": "stream",
     "text": [
      "Computing rank from data with rank='full'\n",
      "    MAG: rank 204 from info\n",
      "Reducing data rank from 204 -> 204\n",
      "Estimating covariance using SHRINKAGE\n",
      "Done.\n",
      "Computing rank from data with rank='full'\n",
      "    MAG: rank 204 from info\n",
      "Reducing data rank from 204 -> 204\n",
      "Estimating covariance using SHRINKAGE\n",
      "Done.\n",
      "Computing rank from data with rank='full'\n",
      "    MAG: rank 204 from info\n"
     ]
    },
    {
     "name": "stderr",
     "output_type": "stream",
     "text": [
      "/home/user/PycharmProjects/FingerMovementDecoder/venv/lib/python3.9/site-packages/sklearn/linear_model/_sag.py:328: ConvergenceWarning: The max_iter was reached which means the coef_ did not converge\n",
      "  warnings.warn(\"The max_iter was reached which means \"\n"
     ]
    },
    {
     "name": "stdout",
     "output_type": "stream",
     "text": [
      "Reducing data rank from 204 -> 204\n",
      "Estimating covariance using SHRINKAGE\n",
      "Done.\n",
      "Computing rank from data with rank='full'\n",
      "    MAG: rank 204 from info\n",
      "Reducing data rank from 204 -> 204\n",
      "Estimating covariance using SHRINKAGE\n",
      "Done.\n",
      "Computing rank from data with rank='full'\n",
      "    MAG: rank 204 from info\n",
      "Reducing data rank from 204 -> 204\n",
      "Estimating covariance using SHRINKAGE\n",
      "Done.\n",
      "Computing rank from data with rank='full'\n",
      "    MAG: rank 204 from info\n",
      "Reducing data rank from 204 -> 204\n",
      "Estimating covariance using SHRINKAGE\n",
      "Done.\n",
      "Computing rank from data with rank='full'\n",
      "    MAG: rank 204 from info\n",
      "Reducing data rank from 204 -> 204\n",
      "Estimating covariance using SHRINKAGE\n",
      "Done.\n",
      "Computing rank from data with rank='full'\n",
      "    MAG: rank 204 from info\n",
      "Reducing data rank from 204 -> 204\n",
      "Estimating covariance using SHRINKAGE\n",
      "Done.\n",
      "Computing rank from data with rank='full'\n",
      "    MAG: rank 204 from info\n",
      "Reducing data rank from 204 -> 204\n",
      "Estimating covariance using SHRINKAGE\n",
      "Done.\n",
      "Computing rank from data with rank='full'\n",
      "    MAG: rank 204 from info\n",
      "Reducing data rank from 204 -> 204\n",
      "Estimating covariance using SHRINKAGE\n",
      "Done.\n",
      "Computing rank from data with rank='full'\n",
      "    MAG: rank 204 from info\n"
     ]
    },
    {
     "name": "stderr",
     "output_type": "stream",
     "text": [
      "/home/user/PycharmProjects/FingerMovementDecoder/venv/lib/python3.9/site-packages/sklearn/linear_model/_sag.py:328: ConvergenceWarning: The max_iter was reached which means the coef_ did not converge\n",
      "  warnings.warn(\"The max_iter was reached which means \"\n"
     ]
    },
    {
     "name": "stdout",
     "output_type": "stream",
     "text": [
      "Reducing data rank from 204 -> 204\n",
      "Estimating covariance using SHRINKAGE\n",
      "Done.\n",
      "Computing rank from data with rank='full'\n",
      "    MAG: rank 204 from info\n",
      "Reducing data rank from 204 -> 204\n",
      "Estimating covariance using SHRINKAGE\n",
      "Done.\n"
     ]
    },
    {
     "name": "stderr",
     "output_type": "stream",
     "text": [
      "/home/user/PycharmProjects/FingerMovementDecoder/venv/lib/python3.9/site-packages/sklearn/linear_model/_sag.py:328: ConvergenceWarning: The max_iter was reached which means the coef_ did not converge\n",
      "  warnings.warn(\"The max_iter was reached which means \"\n"
     ]
    },
    {
     "name": "stdout",
     "output_type": "stream",
     "text": [
      "Computing rank from data with rank='full'\n",
      "    MAG: rank 204 from info\n",
      "Reducing data rank from 204 -> 204\n",
      "Estimating covariance using SHRINKAGE\n",
      "Done.\n",
      "Computing rank from data with rank='full'\n",
      "    MAG: rank 204 from info\n",
      "Reducing data rank from 204 -> 204\n",
      "Estimating covariance using SHRINKAGE\n",
      "Done.\n",
      "Computing rank from data with rank='full'\n",
      "    MAG: rank 204 from info\n"
     ]
    },
    {
     "name": "stderr",
     "output_type": "stream",
     "text": [
      "/home/user/PycharmProjects/FingerMovementDecoder/venv/lib/python3.9/site-packages/sklearn/linear_model/_sag.py:328: ConvergenceWarning: The max_iter was reached which means the coef_ did not converge\n",
      "  warnings.warn(\"The max_iter was reached which means \"\n"
     ]
    },
    {
     "name": "stdout",
     "output_type": "stream",
     "text": [
      "Reducing data rank from 204 -> 204\n",
      "Estimating covariance using SHRINKAGE\n",
      "Done.\n",
      "Computing rank from data with rank='full'\n",
      "    MAG: rank 204 from info\n",
      "Reducing data rank from 204 -> 204\n",
      "Estimating covariance using SHRINKAGE\n",
      "Done.\n",
      "Computing rank from data with rank='full'\n",
      "    MAG: rank 204 from info\n",
      "Reducing data rank from 204 -> 204\n",
      "Estimating covariance using SHRINKAGE\n",
      "Done.\n",
      "Computing rank from data with rank='full'\n",
      "    MAG: rank 204 from info\n",
      "Reducing data rank from 204 -> 204\n",
      "Estimating covariance using SHRINKAGE\n",
      "Done.\n",
      "Computing rank from data with rank='full'\n",
      "    MAG: rank 204 from info\n"
     ]
    },
    {
     "name": "stderr",
     "output_type": "stream",
     "text": [
      "/home/user/PycharmProjects/FingerMovementDecoder/venv/lib/python3.9/site-packages/sklearn/linear_model/_sag.py:328: ConvergenceWarning: The max_iter was reached which means the coef_ did not converge\n",
      "  warnings.warn(\"The max_iter was reached which means \"\n"
     ]
    },
    {
     "name": "stdout",
     "output_type": "stream",
     "text": [
      "Reducing data rank from 204 -> 204\n",
      "Estimating covariance using SHRINKAGE\n",
      "Done.\n",
      "Computing rank from data with rank='full'\n",
      "    MAG: rank 204 from info\n",
      "Reducing data rank from 204 -> 204\n",
      "Estimating covariance using SHRINKAGE\n",
      "Done.\n",
      "Computing rank from data with rank='full'\n",
      "    MAG: rank 204 from info\n",
      "Reducing data rank from 204 -> 204\n",
      "Estimating covariance using SHRINKAGE\n",
      "Done.\n",
      "Computing rank from data with rank='full'\n",
      "    MAG: rank 204 from info\n",
      "Reducing data rank from 204 -> 204\n",
      "Estimating covariance using SHRINKAGE\n",
      "Done.\n",
      "Computing rank from data with rank='full'\n",
      "    MAG: rank 204 from info\n"
     ]
    },
    {
     "name": "stderr",
     "output_type": "stream",
     "text": [
      "/home/user/PycharmProjects/FingerMovementDecoder/venv/lib/python3.9/site-packages/sklearn/linear_model/_sag.py:328: ConvergenceWarning: The max_iter was reached which means the coef_ did not converge\n",
      "  warnings.warn(\"The max_iter was reached which means \"\n"
     ]
    },
    {
     "name": "stdout",
     "output_type": "stream",
     "text": [
      "Reducing data rank from 204 -> 204\n",
      "Estimating covariance using SHRINKAGE\n",
      "Done.\n",
      "Computing rank from data with rank='full'\n",
      "    MAG: rank 204 from info\n",
      "Reducing data rank from 204 -> 204\n",
      "Estimating covariance using SHRINKAGE\n",
      "Done.\n",
      "Computing rank from data with rank='full'\n",
      "    MAG: rank 204 from info\n",
      "Reducing data rank from 204 -> 204\n",
      "Estimating covariance using SHRINKAGE\n",
      "Done.\n",
      "Computing rank from data with rank='full'\n",
      "    MAG: rank 204 from info\n",
      "Reducing data rank from 204 -> 204\n",
      "Estimating covariance using SHRINKAGE\n",
      "Done.\n",
      "Computing rank from data with rank='full'\n",
      "    MAG: rank 204 from info\n"
     ]
    },
    {
     "name": "stderr",
     "output_type": "stream",
     "text": [
      "/home/user/PycharmProjects/FingerMovementDecoder/venv/lib/python3.9/site-packages/sklearn/linear_model/_sag.py:328: ConvergenceWarning: The max_iter was reached which means the coef_ did not converge\n",
      "  warnings.warn(\"The max_iter was reached which means \"\n"
     ]
    },
    {
     "name": "stdout",
     "output_type": "stream",
     "text": [
      "Reducing data rank from 204 -> 204\n",
      "Estimating covariance using SHRINKAGE\n",
      "Done.\n",
      "Computing rank from data with rank='full'\n",
      "    MAG: rank 204 from info\n",
      "Reducing data rank from 204 -> 204\n",
      "Estimating covariance using SHRINKAGE\n",
      "Done.\n",
      "Computing rank from data with rank='full'\n",
      "    MAG: rank 204 from info\n",
      "Reducing data rank from 204 -> 204\n",
      "Estimating covariance using SHRINKAGE\n",
      "Done.\n",
      "Computing rank from data with rank='full'\n",
      "    MAG: rank 204 from info\n",
      "Reducing data rank from 204 -> 204\n",
      "Estimating covariance using SHRINKAGE\n",
      "Done.\n",
      "Computing rank from data with rank='full'\n",
      "    MAG: rank 204 from info\n",
      "Reducing data rank from 204 -> 204\n",
      "Estimating covariance using SHRINKAGE\n",
      "Done.\n",
      "Computing rank from data with rank='full'\n",
      "    MAG: rank 204 from info\n",
      "Reducing data rank from 204 -> 204\n",
      "Estimating covariance using SHRINKAGE\n",
      "Done.\n",
      "Computing rank from data with rank='full'\n",
      "    MAG: rank 204 from info\n",
      "Reducing data rank from 204 -> 204\n",
      "Estimating covariance using SHRINKAGE\n",
      "Done.\n",
      "Computing rank from data with rank='full'\n",
      "    MAG: rank 204 from info\n",
      "Reducing data rank from 204 -> 204\n",
      "Estimating covariance using SHRINKAGE\n",
      "Done.\n",
      "Computing rank from data with rank='full'\n",
      "    MAG: rank 204 from info\n"
     ]
    },
    {
     "name": "stderr",
     "output_type": "stream",
     "text": [
      "/home/user/PycharmProjects/FingerMovementDecoder/venv/lib/python3.9/site-packages/sklearn/linear_model/_sag.py:328: ConvergenceWarning: The max_iter was reached which means the coef_ did not converge\n",
      "  warnings.warn(\"The max_iter was reached which means \"\n"
     ]
    },
    {
     "name": "stdout",
     "output_type": "stream",
     "text": [
      "Reducing data rank from 204 -> 204\n",
      "Estimating covariance using SHRINKAGE\n",
      "Done.\n",
      "Computing rank from data with rank='full'\n",
      "    MAG: rank 204 from info\n",
      "Reducing data rank from 204 -> 204\n",
      "Estimating covariance using SHRINKAGE\n",
      "Done.\n"
     ]
    },
    {
     "name": "stderr",
     "output_type": "stream",
     "text": [
      "/home/user/PycharmProjects/FingerMovementDecoder/venv/lib/python3.9/site-packages/sklearn/linear_model/_sag.py:328: ConvergenceWarning: The max_iter was reached which means the coef_ did not converge\n",
      "  warnings.warn(\"The max_iter was reached which means \"\n"
     ]
    },
    {
     "name": "stdout",
     "output_type": "stream",
     "text": [
      "Computing rank from data with rank='full'\n",
      "    MAG: rank 204 from info\n",
      "Reducing data rank from 204 -> 204\n",
      "Estimating covariance using SHRINKAGE\n",
      "Done.\n",
      "Computing rank from data with rank='full'\n",
      "    MAG: rank 204 from info\n",
      "Reducing data rank from 204 -> 204\n",
      "Estimating covariance using SHRINKAGE\n",
      "Done.\n",
      "Computing rank from data with rank='full'\n",
      "    MAG: rank 204 from info\n"
     ]
    },
    {
     "name": "stderr",
     "output_type": "stream",
     "text": [
      "/home/user/PycharmProjects/FingerMovementDecoder/venv/lib/python3.9/site-packages/sklearn/linear_model/_sag.py:328: ConvergenceWarning: The max_iter was reached which means the coef_ did not converge\n",
      "  warnings.warn(\"The max_iter was reached which means \"\n"
     ]
    },
    {
     "name": "stdout",
     "output_type": "stream",
     "text": [
      "Reducing data rank from 204 -> 204\n",
      "Estimating covariance using SHRINKAGE\n",
      "Done.\n",
      "Computing rank from data with rank='full'\n",
      "    MAG: rank 204 from info\n",
      "Reducing data rank from 204 -> 204\n",
      "Estimating covariance using SHRINKAGE\n",
      "Done.\n",
      "Computing rank from data with rank='full'\n",
      "    MAG: rank 204 from info\n",
      "Reducing data rank from 204 -> 204\n",
      "Estimating covariance using SHRINKAGE\n",
      "Done.\n",
      "Computing rank from data with rank='full'\n",
      "    MAG: rank 204 from info\n",
      "Reducing data rank from 204 -> 204\n",
      "Estimating covariance using SHRINKAGE\n",
      "Done.\n",
      "Computing rank from data with rank='full'\n",
      "    MAG: rank 204 from info\n"
     ]
    },
    {
     "name": "stderr",
     "output_type": "stream",
     "text": [
      "/home/user/PycharmProjects/FingerMovementDecoder/venv/lib/python3.9/site-packages/sklearn/linear_model/_sag.py:328: ConvergenceWarning: The max_iter was reached which means the coef_ did not converge\n",
      "  warnings.warn(\"The max_iter was reached which means \"\n"
     ]
    },
    {
     "name": "stdout",
     "output_type": "stream",
     "text": [
      "Reducing data rank from 204 -> 204\n",
      "Estimating covariance using SHRINKAGE\n",
      "Done.\n",
      "Computing rank from data with rank='full'\n",
      "    MAG: rank 204 from info\n",
      "Reducing data rank from 204 -> 204\n",
      "Estimating covariance using SHRINKAGE\n",
      "Done.\n",
      "Computing rank from data with rank='full'\n",
      "    MAG: rank 204 from info\n",
      "Reducing data rank from 204 -> 204\n",
      "Estimating covariance using SHRINKAGE\n",
      "Done.\n",
      "Computing rank from data with rank='full'\n",
      "    MAG: rank 204 from info\n",
      "Reducing data rank from 204 -> 204\n",
      "Estimating covariance using SHRINKAGE\n",
      "Done.\n",
      "Computing rank from data with rank='full'\n",
      "    MAG: rank 204 from info\n"
     ]
    },
    {
     "name": "stderr",
     "output_type": "stream",
     "text": [
      "/home/user/PycharmProjects/FingerMovementDecoder/venv/lib/python3.9/site-packages/sklearn/linear_model/_sag.py:328: ConvergenceWarning: The max_iter was reached which means the coef_ did not converge\n",
      "  warnings.warn(\"The max_iter was reached which means \"\n"
     ]
    },
    {
     "name": "stdout",
     "output_type": "stream",
     "text": [
      "Reducing data rank from 204 -> 204\n",
      "Estimating covariance using SHRINKAGE\n",
      "Done.\n",
      "Computing rank from data with rank='full'\n",
      "    MAG: rank 204 from info\n",
      "Reducing data rank from 204 -> 204\n",
      "Estimating covariance using SHRINKAGE\n",
      "Done.\n",
      "Computing rank from data with rank='full'\n",
      "    MAG: rank 204 from info\n",
      "Reducing data rank from 204 -> 204\n",
      "Estimating covariance using SHRINKAGE\n",
      "Done.\n",
      "Computing rank from data with rank='full'\n",
      "    MAG: rank 204 from info\n",
      "Reducing data rank from 204 -> 204\n",
      "Estimating covariance using SHRINKAGE\n",
      "Done.\n",
      "Computing rank from data with rank='full'\n",
      "    MAG: rank 204 from info\n"
     ]
    },
    {
     "name": "stderr",
     "output_type": "stream",
     "text": [
      "/home/user/PycharmProjects/FingerMovementDecoder/venv/lib/python3.9/site-packages/sklearn/linear_model/_sag.py:328: ConvergenceWarning: The max_iter was reached which means the coef_ did not converge\n",
      "  warnings.warn(\"The max_iter was reached which means \"\n"
     ]
    },
    {
     "name": "stdout",
     "output_type": "stream",
     "text": [
      "Reducing data rank from 204 -> 204\n",
      "Estimating covariance using SHRINKAGE\n",
      "Done.\n",
      "Computing rank from data with rank='full'\n",
      "    MAG: rank 204 from info\n",
      "Reducing data rank from 204 -> 204\n",
      "Estimating covariance using SHRINKAGE\n",
      "Done.\n",
      "Computing rank from data with rank='full'\n",
      "    MAG: rank 204 from info\n",
      "Reducing data rank from 204 -> 204\n",
      "Estimating covariance using SHRINKAGE\n",
      "Done.\n",
      "Computing rank from data with rank='full'\n",
      "    MAG: rank 204 from info\n",
      "Reducing data rank from 204 -> 204\n",
      "Estimating covariance using SHRINKAGE\n",
      "Done.\n",
      "Computing rank from data with rank='full'\n",
      "    MAG: rank 204 from info\n"
     ]
    },
    {
     "name": "stderr",
     "output_type": "stream",
     "text": [
      "/home/user/PycharmProjects/FingerMovementDecoder/venv/lib/python3.9/site-packages/sklearn/linear_model/_sag.py:328: ConvergenceWarning: The max_iter was reached which means the coef_ did not converge\n",
      "  warnings.warn(\"The max_iter was reached which means \"\n"
     ]
    },
    {
     "name": "stdout",
     "output_type": "stream",
     "text": [
      "Reducing data rank from 204 -> 204\n",
      "Estimating covariance using SHRINKAGE\n",
      "Done.\n",
      "Computing rank from data with rank='full'\n",
      "    MAG: rank 204 from info\n",
      "Reducing data rank from 204 -> 204\n",
      "Estimating covariance using SHRINKAGE\n",
      "Done.\n",
      "Computing rank from data with rank='full'\n",
      "    MAG: rank 204 from info\n",
      "Reducing data rank from 204 -> 204\n",
      "Estimating covariance using SHRINKAGE\n",
      "Done.\n",
      "Computing rank from data with rank='full'\n",
      "    MAG: rank 204 from info\n",
      "Reducing data rank from 204 -> 204\n",
      "Estimating covariance using SHRINKAGE\n",
      "Done.\n",
      "Computing rank from data with rank='full'\n",
      "    MAG: rank 204 from info\n"
     ]
    },
    {
     "name": "stderr",
     "output_type": "stream",
     "text": [
      "/home/user/PycharmProjects/FingerMovementDecoder/venv/lib/python3.9/site-packages/sklearn/linear_model/_sag.py:328: ConvergenceWarning: The max_iter was reached which means the coef_ did not converge\n",
      "  warnings.warn(\"The max_iter was reached which means \"\n"
     ]
    },
    {
     "name": "stdout",
     "output_type": "stream",
     "text": [
      "Reducing data rank from 204 -> 204\n",
      "Estimating covariance using SHRINKAGE\n",
      "Done.\n",
      "Computing rank from data with rank='full'\n",
      "    MAG: rank 204 from info\n",
      "Reducing data rank from 204 -> 204\n",
      "Estimating covariance using SHRINKAGE\n",
      "Done.\n",
      "Computing rank from data with rank='full'\n",
      "    MAG: rank 204 from info\n",
      "Reducing data rank from 204 -> 204\n",
      "Estimating covariance using SHRINKAGE\n",
      "Done.\n",
      "Computing rank from data with rank='full'\n",
      "    MAG: rank 204 from info\n",
      "Reducing data rank from 204 -> 204\n",
      "Estimating covariance using SHRINKAGE\n",
      "Done.\n",
      "Computing rank from data with rank='full'\n",
      "    MAG: rank 204 from info\n"
     ]
    },
    {
     "name": "stderr",
     "output_type": "stream",
     "text": [
      "/home/user/PycharmProjects/FingerMovementDecoder/venv/lib/python3.9/site-packages/sklearn/linear_model/_sag.py:328: ConvergenceWarning: The max_iter was reached which means the coef_ did not converge\n",
      "  warnings.warn(\"The max_iter was reached which means \"\n"
     ]
    },
    {
     "name": "stdout",
     "output_type": "stream",
     "text": [
      "Reducing data rank from 204 -> 204\n",
      "Estimating covariance using SHRINKAGE\n",
      "Done.\n",
      "Computing rank from data with rank='full'\n",
      "    MAG: rank 204 from info\n",
      "Reducing data rank from 204 -> 204\n",
      "Estimating covariance using SHRINKAGE\n",
      "Done.\n",
      "Computing rank from data with rank='full'\n",
      "    MAG: rank 204 from info\n",
      "Reducing data rank from 204 -> 204\n",
      "Estimating covariance using SHRINKAGE\n",
      "Done.\n",
      "Computing rank from data with rank='full'\n",
      "    MAG: rank 204 from info\n",
      "Reducing data rank from 204 -> 204\n",
      "Estimating covariance using SHRINKAGE\n",
      "Done.\n",
      "Computing rank from data with rank='full'\n",
      "    MAG: rank 204 from info\n"
     ]
    },
    {
     "name": "stderr",
     "output_type": "stream",
     "text": [
      "/home/user/PycharmProjects/FingerMovementDecoder/venv/lib/python3.9/site-packages/sklearn/linear_model/_sag.py:328: ConvergenceWarning: The max_iter was reached which means the coef_ did not converge\n",
      "  warnings.warn(\"The max_iter was reached which means \"\n"
     ]
    },
    {
     "name": "stdout",
     "output_type": "stream",
     "text": [
      "Reducing data rank from 204 -> 204\n",
      "Estimating covariance using SHRINKAGE\n",
      "Done.\n",
      "Computing rank from data with rank='full'\n",
      "    MAG: rank 204 from info\n",
      "Reducing data rank from 204 -> 204\n",
      "Estimating covariance using SHRINKAGE\n",
      "Done.\n",
      "Computing rank from data with rank='full'\n",
      "    MAG: rank 204 from info\n",
      "Reducing data rank from 204 -> 204\n",
      "Estimating covariance using SHRINKAGE\n",
      "Done.\n",
      "Computing rank from data with rank='full'\n",
      "    MAG: rank 204 from info\n",
      "Reducing data rank from 204 -> 204\n",
      "Estimating covariance using SHRINKAGE\n",
      "Done.\n",
      "Computing rank from data with rank='full'\n",
      "    MAG: rank 204 from info\n"
     ]
    },
    {
     "name": "stderr",
     "output_type": "stream",
     "text": [
      "/home/user/PycharmProjects/FingerMovementDecoder/venv/lib/python3.9/site-packages/sklearn/linear_model/_sag.py:328: ConvergenceWarning: The max_iter was reached which means the coef_ did not converge\n",
      "  warnings.warn(\"The max_iter was reached which means \"\n"
     ]
    },
    {
     "name": "stdout",
     "output_type": "stream",
     "text": [
      "Reducing data rank from 204 -> 204\n",
      "Estimating covariance using SHRINKAGE\n",
      "Done.\n",
      "Computing rank from data with rank='full'\n",
      "    MAG: rank 204 from info\n",
      "Reducing data rank from 204 -> 204\n",
      "Estimating covariance using SHRINKAGE\n",
      "Done.\n",
      "Computing rank from data with rank='full'\n",
      "    MAG: rank 204 from info\n",
      "Reducing data rank from 204 -> 204\n",
      "Estimating covariance using SHRINKAGE\n",
      "Done.\n",
      "Computing rank from data with rank='full'\n",
      "    MAG: rank 204 from info\n",
      "Reducing data rank from 204 -> 204\n",
      "Estimating covariance using SHRINKAGE\n",
      "Done.\n",
      "Computing rank from data with rank='full'\n",
      "    MAG: rank 204 from info\n"
     ]
    },
    {
     "name": "stderr",
     "output_type": "stream",
     "text": [
      "/home/user/PycharmProjects/FingerMovementDecoder/venv/lib/python3.9/site-packages/sklearn/linear_model/_sag.py:328: ConvergenceWarning: The max_iter was reached which means the coef_ did not converge\n",
      "  warnings.warn(\"The max_iter was reached which means \"\n"
     ]
    },
    {
     "name": "stdout",
     "output_type": "stream",
     "text": [
      "Reducing data rank from 204 -> 204\n",
      "Estimating covariance using SHRINKAGE\n",
      "Done.\n",
      "Computing rank from data with rank='full'\n",
      "    MAG: rank 204 from info\n",
      "Reducing data rank from 204 -> 204\n",
      "Estimating covariance using SHRINKAGE\n",
      "Done.\n",
      "Computing rank from data with rank='full'\n",
      "    MAG: rank 204 from info\n",
      "Reducing data rank from 204 -> 204\n",
      "Estimating covariance using SHRINKAGE\n",
      "Done.\n",
      "Computing rank from data with rank='full'\n",
      "    MAG: rank 204 from info\n",
      "Reducing data rank from 204 -> 204\n",
      "Estimating covariance using SHRINKAGE\n",
      "Done.\n",
      "Computing rank from data with rank='full'\n",
      "    MAG: rank 204 from info\n",
      "Reducing data rank from 204 -> 204\n",
      "Estimating covariance using SHRINKAGE\n",
      "Done.\n",
      "Computing rank from data with rank='full'\n",
      "    MAG: rank 204 from info\n",
      "Reducing data rank from 204 -> 204\n",
      "Estimating covariance using SHRINKAGE\n",
      "Done.\n",
      "Computing rank from data with rank='full'\n",
      "    MAG: rank 204 from info\n",
      "Reducing data rank from 204 -> 204\n",
      "Estimating covariance using SHRINKAGE\n",
      "Done.\n",
      "Computing rank from data with rank='full'\n",
      "    MAG: rank 204 from info\n",
      "Reducing data rank from 204 -> 204\n",
      "Estimating covariance using SHRINKAGE\n",
      "Done.\n",
      "Computing rank from data with rank='full'\n",
      "    MAG: rank 204 from info\n"
     ]
    },
    {
     "name": "stderr",
     "output_type": "stream",
     "text": [
      "/home/user/PycharmProjects/FingerMovementDecoder/venv/lib/python3.9/site-packages/sklearn/linear_model/_sag.py:328: ConvergenceWarning: The max_iter was reached which means the coef_ did not converge\n",
      "  warnings.warn(\"The max_iter was reached which means \"\n"
     ]
    },
    {
     "name": "stdout",
     "output_type": "stream",
     "text": [
      "Reducing data rank from 204 -> 204\n",
      "Estimating covariance using SHRINKAGE\n",
      "Done.\n",
      "Computing rank from data with rank='full'\n",
      "    MAG: rank 204 from info\n",
      "Reducing data rank from 204 -> 204\n",
      "Estimating covariance using SHRINKAGE\n",
      "Done.\n"
     ]
    },
    {
     "name": "stderr",
     "output_type": "stream",
     "text": [
      "/home/user/PycharmProjects/FingerMovementDecoder/venv/lib/python3.9/site-packages/sklearn/linear_model/_sag.py:328: ConvergenceWarning: The max_iter was reached which means the coef_ did not converge\n",
      "  warnings.warn(\"The max_iter was reached which means \"\n"
     ]
    },
    {
     "name": "stdout",
     "output_type": "stream",
     "text": [
      "Computing rank from data with rank='full'\n",
      "    MAG: rank 204 from info\n",
      "Reducing data rank from 204 -> 204\n",
      "Estimating covariance using SHRINKAGE\n",
      "Done.\n",
      "Computing rank from data with rank='full'\n",
      "    MAG: rank 204 from info\n",
      "Reducing data rank from 204 -> 204\n",
      "Estimating covariance using SHRINKAGE\n",
      "Done.\n",
      "Computing rank from data with rank='full'\n",
      "    MAG: rank 204 from info\n"
     ]
    },
    {
     "name": "stderr",
     "output_type": "stream",
     "text": [
      "/home/user/PycharmProjects/FingerMovementDecoder/venv/lib/python3.9/site-packages/sklearn/linear_model/_sag.py:328: ConvergenceWarning: The max_iter was reached which means the coef_ did not converge\n",
      "  warnings.warn(\"The max_iter was reached which means \"\n"
     ]
    },
    {
     "name": "stdout",
     "output_type": "stream",
     "text": [
      "Reducing data rank from 204 -> 204\n",
      "Estimating covariance using SHRINKAGE\n",
      "Done.\n",
      "Computing rank from data with rank='full'\n",
      "    MAG: rank 204 from info\n",
      "Reducing data rank from 204 -> 204\n",
      "Estimating covariance using SHRINKAGE\n",
      "Done.\n",
      "Computing rank from data with rank='full'\n",
      "    MAG: rank 204 from info\n",
      "Reducing data rank from 204 -> 204\n",
      "Estimating covariance using SHRINKAGE\n",
      "Done.\n",
      "Computing rank from data with rank='full'\n",
      "    MAG: rank 204 from info\n",
      "Reducing data rank from 204 -> 204\n",
      "Estimating covariance using SHRINKAGE\n",
      "Done.\n",
      "Computing rank from data with rank='full'\n",
      "    MAG: rank 204 from info\n",
      "Reducing data rank from 204 -> 204\n",
      "Estimating covariance using SHRINKAGE\n",
      "Done.\n",
      "Computing rank from data with rank='full'\n",
      "    MAG: rank 204 from info\n",
      "Reducing data rank from 204 -> 204\n",
      "Estimating covariance using SHRINKAGE\n",
      "Done.\n",
      "Computing rank from data with rank='full'\n",
      "    MAG: rank 204 from info\n",
      "Reducing data rank from 204 -> 204\n",
      "Estimating covariance using SHRINKAGE\n",
      "Done.\n",
      "Computing rank from data with rank='full'\n",
      "    MAG: rank 204 from info\n",
      "Reducing data rank from 204 -> 204\n",
      "Estimating covariance using SHRINKAGE\n",
      "Done.\n",
      "Computing rank from data with rank='full'\n",
      "    MAG: rank 204 from info\n"
     ]
    },
    {
     "name": "stderr",
     "output_type": "stream",
     "text": [
      "/home/user/PycharmProjects/FingerMovementDecoder/venv/lib/python3.9/site-packages/sklearn/linear_model/_sag.py:328: ConvergenceWarning: The max_iter was reached which means the coef_ did not converge\n",
      "  warnings.warn(\"The max_iter was reached which means \"\n"
     ]
    },
    {
     "name": "stdout",
     "output_type": "stream",
     "text": [
      "Reducing data rank from 204 -> 204\n",
      "Estimating covariance using SHRINKAGE\n",
      "Done.\n",
      "Computing rank from data with rank='full'\n",
      "    MAG: rank 204 from info\n",
      "Reducing data rank from 204 -> 204\n",
      "Estimating covariance using SHRINKAGE\n",
      "Done.\n",
      "Computing rank from data with rank='full'\n",
      "    MAG: rank 204 from info\n",
      "Reducing data rank from 204 -> 204\n",
      "Estimating covariance using SHRINKAGE\n",
      "Done.\n",
      "Computing rank from data with rank='full'\n",
      "    MAG: rank 204 from info\n",
      "Reducing data rank from 204 -> 204\n",
      "Estimating covariance using SHRINKAGE\n",
      "Done.\n",
      "Computing rank from data with rank='full'\n",
      "    MAG: rank 204 from info\n"
     ]
    },
    {
     "name": "stderr",
     "output_type": "stream",
     "text": [
      "/home/user/PycharmProjects/FingerMovementDecoder/venv/lib/python3.9/site-packages/sklearn/linear_model/_sag.py:328: ConvergenceWarning: The max_iter was reached which means the coef_ did not converge\n",
      "  warnings.warn(\"The max_iter was reached which means \"\n"
     ]
    },
    {
     "name": "stdout",
     "output_type": "stream",
     "text": [
      "Reducing data rank from 204 -> 204\n",
      "Estimating covariance using SHRINKAGE\n",
      "Done.\n",
      "Computing rank from data with rank='full'\n",
      "    MAG: rank 204 from info\n",
      "Reducing data rank from 204 -> 204\n",
      "Estimating covariance using SHRINKAGE\n",
      "Done.\n",
      "Computing rank from data with rank='full'\n",
      "    MAG: rank 204 from info\n",
      "Reducing data rank from 204 -> 204\n",
      "Estimating covariance using SHRINKAGE\n",
      "Done.\n",
      "Computing rank from data with rank='full'\n",
      "    MAG: rank 204 from info\n",
      "Reducing data rank from 204 -> 204\n",
      "Estimating covariance using SHRINKAGE\n",
      "Done.\n",
      "Computing rank from data with rank='full'\n",
      "    MAG: rank 204 from info\n",
      "Reducing data rank from 204 -> 204\n",
      "Estimating covariance using SHRINKAGE\n",
      "Done.\n",
      "Computing rank from data with rank='full'\n",
      "    MAG: rank 204 from info\n",
      "Reducing data rank from 204 -> 204\n",
      "Estimating covariance using SHRINKAGE\n",
      "Done.\n"
     ]
    },
    {
     "name": "stderr",
     "output_type": "stream",
     "text": [
      "/home/user/PycharmProjects/FingerMovementDecoder/venv/lib/python3.9/site-packages/sklearn/linear_model/_sag.py:328: ConvergenceWarning: The max_iter was reached which means the coef_ did not converge\n",
      "  warnings.warn(\"The max_iter was reached which means \"\n"
     ]
    },
    {
     "name": "stdout",
     "output_type": "stream",
     "text": [
      "Computing rank from data with rank='full'\n",
      "    MAG: rank 204 from info\n",
      "Reducing data rank from 204 -> 204\n",
      "Estimating covariance using SHRINKAGE\n",
      "Done.\n",
      "Computing rank from data with rank='full'\n",
      "    MAG: rank 204 from info\n",
      "Reducing data rank from 204 -> 204\n",
      "Estimating covariance using SHRINKAGE\n",
      "Done.\n",
      "Computing rank from data with rank='full'\n",
      "    MAG: rank 204 from info\n"
     ]
    },
    {
     "name": "stderr",
     "output_type": "stream",
     "text": [
      "/home/user/PycharmProjects/FingerMovementDecoder/venv/lib/python3.9/site-packages/sklearn/linear_model/_sag.py:328: ConvergenceWarning: The max_iter was reached which means the coef_ did not converge\n",
      "  warnings.warn(\"The max_iter was reached which means \"\n"
     ]
    },
    {
     "name": "stdout",
     "output_type": "stream",
     "text": [
      "Reducing data rank from 204 -> 204\n",
      "Estimating covariance using SHRINKAGE\n",
      "Done.\n",
      "Computing rank from data with rank='full'\n",
      "    MAG: rank 204 from info\n",
      "Reducing data rank from 204 -> 204\n",
      "Estimating covariance using SHRINKAGE\n",
      "Done.\n",
      "Computing rank from data with rank='full'\n",
      "    MAG: rank 204 from info\n",
      "Reducing data rank from 204 -> 204\n",
      "Estimating covariance using SHRINKAGE\n",
      "Done.\n",
      "Computing rank from data with rank='full'\n",
      "    MAG: rank 204 from info\n",
      "Reducing data rank from 204 -> 204\n",
      "Estimating covariance using SHRINKAGE\n",
      "Done.\n",
      "Computing rank from data with rank='full'\n",
      "    MAG: rank 204 from info\n",
      "Reducing data rank from 204 -> 204\n",
      "Estimating covariance using SHRINKAGE\n",
      "Done.\n",
      "Computing rank from data with rank='full'\n",
      "    MAG: rank 204 from info\n",
      "Reducing data rank from 204 -> 204\n",
      "Estimating covariance using SHRINKAGE\n",
      "Done.\n",
      "Computing rank from data with rank='full'\n",
      "    MAG: rank 204 from info\n",
      "Reducing data rank from 204 -> 204\n",
      "Estimating covariance using SHRINKAGE\n",
      "Done.\n",
      "Computing rank from data with rank='full'\n",
      "    MAG: rank 204 from info\n",
      "Reducing data rank from 204 -> 204\n",
      "Estimating covariance using SHRINKAGE\n",
      "Done.\n",
      "Computing rank from data with rank='full'\n",
      "    MAG: rank 204 from info\n",
      "Reducing data rank from 204 -> 204\n",
      "Estimating covariance using SHRINKAGE\n",
      "Done.\n",
      "Computing rank from data with rank='full'\n",
      "    MAG: rank 204 from info\n",
      "Reducing data rank from 204 -> 204\n",
      "Estimating covariance using SHRINKAGE\n",
      "Done.\n",
      "Computing rank from data with rank='full'\n",
      "    MAG: rank 204 from info\n",
      "Reducing data rank from 204 -> 204\n",
      "Estimating covariance using SHRINKAGE\n",
      "Done.\n",
      "Computing rank from data with rank='full'\n",
      "    MAG: rank 204 from info\n",
      "Reducing data rank from 204 -> 204\n",
      "Estimating covariance using SHRINKAGE\n",
      "Done.\n",
      "Computing rank from data with rank='full'\n",
      "    MAG: rank 204 from info\n"
     ]
    },
    {
     "name": "stderr",
     "output_type": "stream",
     "text": [
      "/home/user/PycharmProjects/FingerMovementDecoder/venv/lib/python3.9/site-packages/sklearn/linear_model/_sag.py:328: ConvergenceWarning: The max_iter was reached which means the coef_ did not converge\n",
      "  warnings.warn(\"The max_iter was reached which means \"\n"
     ]
    },
    {
     "name": "stdout",
     "output_type": "stream",
     "text": [
      "Reducing data rank from 204 -> 204\n",
      "Estimating covariance using SHRINKAGE\n",
      "Done.\n",
      "Computing rank from data with rank='full'\n",
      "    MAG: rank 204 from info\n",
      "Reducing data rank from 204 -> 204\n",
      "Estimating covariance using SHRINKAGE\n",
      "Done.\n",
      "Computing rank from data with rank='full'\n",
      "    MAG: rank 204 from info\n",
      "Reducing data rank from 204 -> 204\n",
      "Estimating covariance using SHRINKAGE\n",
      "Done.\n",
      "Computing rank from data with rank='full'\n",
      "    MAG: rank 204 from info\n",
      "Reducing data rank from 204 -> 204\n",
      "Estimating covariance using SHRINKAGE\n",
      "Done.\n",
      "Computing rank from data with rank='full'\n",
      "    MAG: rank 204 from info\n"
     ]
    },
    {
     "name": "stderr",
     "output_type": "stream",
     "text": [
      "/home/user/PycharmProjects/FingerMovementDecoder/venv/lib/python3.9/site-packages/sklearn/linear_model/_sag.py:328: ConvergenceWarning: The max_iter was reached which means the coef_ did not converge\n",
      "  warnings.warn(\"The max_iter was reached which means \"\n"
     ]
    },
    {
     "name": "stdout",
     "output_type": "stream",
     "text": [
      "Reducing data rank from 204 -> 204\n",
      "Estimating covariance using SHRINKAGE\n",
      "Done.\n",
      "Computing rank from data with rank='full'\n",
      "    MAG: rank 204 from info\n",
      "Reducing data rank from 204 -> 204\n",
      "Estimating covariance using SHRINKAGE\n",
      "Done.\n",
      "Computing rank from data with rank='full'\n",
      "    MAG: rank 204 from info\n",
      "Reducing data rank from 204 -> 204\n",
      "Estimating covariance using SHRINKAGE\n",
      "Done.\n",
      "Computing rank from data with rank='full'\n",
      "    MAG: rank 204 from info\n",
      "Reducing data rank from 204 -> 204\n",
      "Estimating covariance using SHRINKAGE\n",
      "Done.\n",
      "Computing rank from data with rank='full'\n",
      "    MAG: rank 204 from info\n"
     ]
    },
    {
     "name": "stderr",
     "output_type": "stream",
     "text": [
      "/home/user/PycharmProjects/FingerMovementDecoder/venv/lib/python3.9/site-packages/sklearn/linear_model/_sag.py:328: ConvergenceWarning: The max_iter was reached which means the coef_ did not converge\n",
      "  warnings.warn(\"The max_iter was reached which means \"\n"
     ]
    },
    {
     "name": "stdout",
     "output_type": "stream",
     "text": [
      "Reducing data rank from 204 -> 204\n",
      "Estimating covariance using SHRINKAGE\n",
      "Done.\n",
      "Computing rank from data with rank='full'\n",
      "    MAG: rank 204 from info\n",
      "Reducing data rank from 204 -> 204\n",
      "Estimating covariance using SHRINKAGE\n",
      "Done.\n",
      "Computing rank from data with rank='full'\n",
      "    MAG: rank 204 from info\n",
      "Reducing data rank from 204 -> 204\n",
      "Estimating covariance using SHRINKAGE\n",
      "Done.\n",
      "Computing rank from data with rank='full'\n",
      "    MAG: rank 204 from info\n",
      "Reducing data rank from 204 -> 204\n",
      "Estimating covariance using SHRINKAGE\n",
      "Done.\n",
      "Computing rank from data with rank='full'\n",
      "    MAG: rank 204 from info\n",
      "Reducing data rank from 204 -> 204\n",
      "Estimating covariance using SHRINKAGE\n",
      "Done.\n",
      "Computing rank from data with rank='full'\n",
      "    MAG: rank 204 from info\n",
      "Reducing data rank from 204 -> 204\n",
      "Estimating covariance using SHRINKAGE\n",
      "Done.\n"
     ]
    },
    {
     "name": "stderr",
     "output_type": "stream",
     "text": [
      "/home/user/PycharmProjects/FingerMovementDecoder/venv/lib/python3.9/site-packages/sklearn/linear_model/_sag.py:328: ConvergenceWarning: The max_iter was reached which means the coef_ did not converge\n",
      "  warnings.warn(\"The max_iter was reached which means \"\n"
     ]
    },
    {
     "name": "stdout",
     "output_type": "stream",
     "text": [
      "Computing rank from data with rank='full'\n",
      "    MAG: rank 204 from info\n",
      "Reducing data rank from 204 -> 204\n",
      "Estimating covariance using SHRINKAGE\n",
      "Done.\n",
      "Computing rank from data with rank='full'\n",
      "    MAG: rank 204 from info\n",
      "Reducing data rank from 204 -> 204\n",
      "Estimating covariance using SHRINKAGE\n",
      "Done.\n",
      "Computing rank from data with rank='full'\n",
      "    MAG: rank 204 from info\n"
     ]
    },
    {
     "name": "stderr",
     "output_type": "stream",
     "text": [
      "/home/user/PycharmProjects/FingerMovementDecoder/venv/lib/python3.9/site-packages/sklearn/linear_model/_sag.py:328: ConvergenceWarning: The max_iter was reached which means the coef_ did not converge\n",
      "  warnings.warn(\"The max_iter was reached which means \"\n"
     ]
    },
    {
     "name": "stdout",
     "output_type": "stream",
     "text": [
      "Reducing data rank from 204 -> 204\n",
      "Estimating covariance using SHRINKAGE\n",
      "Done.\n",
      "Computing rank from data with rank='full'\n",
      "    MAG: rank 204 from info\n",
      "Reducing data rank from 204 -> 204\n",
      "Estimating covariance using SHRINKAGE\n",
      "Done.\n",
      "Computing rank from data with rank='full'\n",
      "    MAG: rank 204 from info\n",
      "Reducing data rank from 204 -> 204\n",
      "Estimating covariance using SHRINKAGE\n",
      "Done.\n",
      "Computing rank from data with rank='full'\n",
      "    MAG: rank 204 from info\n",
      "Reducing data rank from 204 -> 204\n",
      "Estimating covariance using SHRINKAGE\n",
      "Done.\n",
      "Computing rank from data with rank='full'\n",
      "    MAG: rank 204 from info\n"
     ]
    },
    {
     "name": "stderr",
     "output_type": "stream",
     "text": [
      "/home/user/PycharmProjects/FingerMovementDecoder/venv/lib/python3.9/site-packages/sklearn/linear_model/_sag.py:328: ConvergenceWarning: The max_iter was reached which means the coef_ did not converge\n",
      "  warnings.warn(\"The max_iter was reached which means \"\n"
     ]
    },
    {
     "name": "stdout",
     "output_type": "stream",
     "text": [
      "Reducing data rank from 204 -> 204\n",
      "Estimating covariance using SHRINKAGE\n",
      "Done.\n",
      "Computing rank from data with rank='full'\n",
      "    MAG: rank 204 from info\n",
      "Reducing data rank from 204 -> 204\n",
      "Estimating covariance using SHRINKAGE\n",
      "Done.\n",
      "Computing rank from data with rank='full'\n",
      "    MAG: rank 204 from info\n",
      "Reducing data rank from 204 -> 204\n",
      "Estimating covariance using SHRINKAGE\n",
      "Done.\n",
      "Computing rank from data with rank='full'\n",
      "    MAG: rank 204 from info\n",
      "Reducing data rank from 204 -> 204\n",
      "Estimating covariance using SHRINKAGE\n",
      "Done.\n",
      "Computing rank from data with rank='full'\n",
      "    MAG: rank 204 from info\n",
      "Reducing data rank from 204 -> 204\n",
      "Estimating covariance using SHRINKAGE\n",
      "Done.\n",
      "Computing rank from data with rank='full'\n",
      "    MAG: rank 204 from info\n",
      "Reducing data rank from 204 -> 204\n",
      "Estimating covariance using SHRINKAGE\n",
      "Done.\n"
     ]
    },
    {
     "name": "stderr",
     "output_type": "stream",
     "text": [
      "/home/user/PycharmProjects/FingerMovementDecoder/venv/lib/python3.9/site-packages/sklearn/linear_model/_sag.py:328: ConvergenceWarning: The max_iter was reached which means the coef_ did not converge\n",
      "  warnings.warn(\"The max_iter was reached which means \"\n"
     ]
    },
    {
     "name": "stdout",
     "output_type": "stream",
     "text": [
      "Computing rank from data with rank='full'\n",
      "    MAG: rank 204 from info\n",
      "Reducing data rank from 204 -> 204\n",
      "Estimating covariance using SHRINKAGE\n",
      "Done.\n",
      "Computing rank from data with rank='full'\n",
      "    MAG: rank 204 from info\n",
      "Reducing data rank from 204 -> 204\n",
      "Estimating covariance using SHRINKAGE\n",
      "Done.\n",
      "Computing rank from data with rank='full'\n",
      "    MAG: rank 204 from info\n",
      "Reducing data rank from 204 -> 204\n",
      "Estimating covariance using SHRINKAGE\n",
      "Done.\n",
      "Computing rank from data with rank='full'\n",
      "    MAG: rank 204 from info\n",
      "Reducing data rank from 204 -> 204\n",
      "Estimating covariance using SHRINKAGE\n",
      "Done.\n",
      "Computing rank from data with rank='full'\n",
      "    MAG: rank 204 from info\n",
      "Reducing data rank from 204 -> 204\n",
      "Estimating covariance using SHRINKAGE\n",
      "Done.\n",
      "Computing rank from data with rank='full'\n",
      "    MAG: rank 204 from info\n",
      "Reducing data rank from 204 -> 204\n",
      "Estimating covariance using SHRINKAGE\n",
      "Done.\n",
      "Computing rank from data with rank='full'\n",
      "    MAG: rank 204 from info\n",
      "Reducing data rank from 204 -> 204\n",
      "Estimating covariance using SHRINKAGE\n",
      "Done.\n",
      "Computing rank from data with rank='full'\n",
      "    MAG: rank 204 from info\n",
      "Reducing data rank from 204 -> 204\n",
      "Estimating covariance using SHRINKAGE\n",
      "Done.\n"
     ]
    },
    {
     "name": "stderr",
     "output_type": "stream",
     "text": [
      "/home/user/PycharmProjects/FingerMovementDecoder/venv/lib/python3.9/site-packages/sklearn/linear_model/_sag.py:328: ConvergenceWarning: The max_iter was reached which means the coef_ did not converge\n",
      "  warnings.warn(\"The max_iter was reached which means \"\n"
     ]
    },
    {
     "name": "stdout",
     "output_type": "stream",
     "text": [
      "Computing rank from data with rank='full'\n",
      "    MAG: rank 204 from info\n",
      "Reducing data rank from 204 -> 204\n",
      "Estimating covariance using SHRINKAGE\n",
      "Done.\n",
      "Computing rank from data with rank='full'\n",
      "    MAG: rank 204 from info\n",
      "Reducing data rank from 204 -> 204\n",
      "Estimating covariance using SHRINKAGE\n",
      "Done.\n",
      "Computing rank from data with rank='full'\n",
      "    MAG: rank 204 from info\n"
     ]
    },
    {
     "name": "stderr",
     "output_type": "stream",
     "text": [
      "/home/user/PycharmProjects/FingerMovementDecoder/venv/lib/python3.9/site-packages/sklearn/linear_model/_sag.py:328: ConvergenceWarning: The max_iter was reached which means the coef_ did not converge\n",
      "  warnings.warn(\"The max_iter was reached which means \"\n"
     ]
    },
    {
     "name": "stdout",
     "output_type": "stream",
     "text": [
      "Reducing data rank from 204 -> 204\n",
      "Estimating covariance using SHRINKAGE\n",
      "Done.\n",
      "Computing rank from data with rank='full'\n",
      "    MAG: rank 204 from info\n",
      "Reducing data rank from 204 -> 204\n",
      "Estimating covariance using SHRINKAGE\n",
      "Done.\n",
      "Computing rank from data with rank='full'\n",
      "    MAG: rank 204 from info\n",
      "Reducing data rank from 204 -> 204\n",
      "Estimating covariance using SHRINKAGE\n",
      "Done.\n",
      "Computing rank from data with rank='full'\n",
      "    MAG: rank 204 from info\n",
      "Reducing data rank from 204 -> 204\n",
      "Estimating covariance using SHRINKAGE\n",
      "Done.\n",
      "Computing rank from data with rank='full'\n",
      "    MAG: rank 204 from info\n"
     ]
    },
    {
     "name": "stderr",
     "output_type": "stream",
     "text": [
      "/home/user/PycharmProjects/FingerMovementDecoder/venv/lib/python3.9/site-packages/sklearn/linear_model/_sag.py:328: ConvergenceWarning: The max_iter was reached which means the coef_ did not converge\n",
      "  warnings.warn(\"The max_iter was reached which means \"\n"
     ]
    },
    {
     "name": "stdout",
     "output_type": "stream",
     "text": [
      "Reducing data rank from 204 -> 204\n",
      "Estimating covariance using SHRINKAGE\n",
      "Done.\n",
      "Computing rank from data with rank='full'\n",
      "    MAG: rank 204 from info\n",
      "Reducing data rank from 204 -> 204\n",
      "Estimating covariance using SHRINKAGE\n",
      "Done.\n"
     ]
    },
    {
     "name": "stderr",
     "output_type": "stream",
     "text": [
      "/home/user/PycharmProjects/FingerMovementDecoder/venv/lib/python3.9/site-packages/sklearn/linear_model/_sag.py:328: ConvergenceWarning: The max_iter was reached which means the coef_ did not converge\n",
      "  warnings.warn(\"The max_iter was reached which means \"\n"
     ]
    },
    {
     "name": "stdout",
     "output_type": "stream",
     "text": [
      "Computing rank from data with rank='full'\n",
      "    MAG: rank 204 from info\n",
      "Reducing data rank from 204 -> 204\n",
      "Estimating covariance using SHRINKAGE\n",
      "Done.\n",
      "Computing rank from data with rank='full'\n",
      "    MAG: rank 204 from info\n",
      "Reducing data rank from 204 -> 204\n",
      "Estimating covariance using SHRINKAGE\n",
      "Done.\n",
      "Computing rank from data with rank='full'\n",
      "    MAG: rank 204 from info\n"
     ]
    },
    {
     "name": "stderr",
     "output_type": "stream",
     "text": [
      "/home/user/PycharmProjects/FingerMovementDecoder/venv/lib/python3.9/site-packages/sklearn/linear_model/_sag.py:328: ConvergenceWarning: The max_iter was reached which means the coef_ did not converge\n",
      "  warnings.warn(\"The max_iter was reached which means \"\n"
     ]
    },
    {
     "name": "stdout",
     "output_type": "stream",
     "text": [
      "Reducing data rank from 204 -> 204\n",
      "Estimating covariance using SHRINKAGE\n",
      "Done.\n",
      "Computing rank from data with rank='full'\n",
      "    MAG: rank 204 from info\n",
      "Reducing data rank from 204 -> 204\n",
      "Estimating covariance using SHRINKAGE\n",
      "Done.\n"
     ]
    },
    {
     "name": "stderr",
     "output_type": "stream",
     "text": [
      "/home/user/PycharmProjects/FingerMovementDecoder/venv/lib/python3.9/site-packages/sklearn/linear_model/_sag.py:328: ConvergenceWarning: The max_iter was reached which means the coef_ did not converge\n",
      "  warnings.warn(\"The max_iter was reached which means \"\n"
     ]
    },
    {
     "name": "stdout",
     "output_type": "stream",
     "text": [
      "Computing rank from data with rank='full'\n",
      "    MAG: rank 204 from info\n",
      "Reducing data rank from 204 -> 204\n",
      "Estimating covariance using SHRINKAGE\n",
      "Done.\n",
      "Computing rank from data with rank='full'\n",
      "    MAG: rank 204 from info\n",
      "Reducing data rank from 204 -> 204\n",
      "Estimating covariance using SHRINKAGE\n",
      "Done.\n",
      "Computing rank from data with rank='full'\n",
      "    MAG: rank 204 from info\n",
      "Reducing data rank from 204 -> 204\n",
      "Estimating covariance using SHRINKAGE\n",
      "Done.\n",
      "Computing rank from data with rank='full'\n",
      "    MAG: rank 204 from info\n",
      "Reducing data rank from 204 -> 204\n",
      "Estimating covariance using SHRINKAGE\n",
      "Done.\n"
     ]
    }
   ],
   "source": [
    "from numpy.linalg import LinAlgError\n",
    "clf = make_pipeline(CSP(n_components=4, reg='shrinkage', rank='full'),\n",
    "                        LogisticRegression(penalty='l1', solver='saga'))\n",
    "\n",
    "confusion = {\n",
    "    'B1_train': dict(tn=list(), fp=list(), fn=list(), tp=list()),\n",
    "    'B1_test': dict(tn=list(), fp=list(), fn=list(), tp=list()),\n",
    "    'B10_alien': dict(tn=list(), fp=list(), fn=list(), tp=list()),\n",
    "    'B10_train': dict(tn=list(), fp=list(), fn=list(), tp=list()),\n",
    "    'B10_test': dict(tn=list(), fp=list(), fn=list(), tp=list()),\n",
    "    'B1_alien': dict(tn=list(), fp=list(), fn=list(), tp=list())\n",
    "}\n",
    "n_iters = 100\n",
    "for _ in range(n_iters):\n",
    "    x_B1 = combiners['B1'].X\n",
    "    y_B1 = combiners['B1'].Y\n",
    "    x_B10 = combiners['B10'].X\n",
    "    y_B10 = combiners['B10'].Y\n",
    "\n",
    "    x_train_B1, x_test_B1, y_train_B1, y_test_B1 = train_test_split(x_B1, y_B1, train_size=0.75, shuffle=True)\n",
    "    x_train_B10, x_test_B10, y_train_B10, y_test_B10 = train_test_split(x_B10, y_B10, train_size=0.75, shuffle=True)\n",
    "    not_fitted = True\n",
    "    while not_fitted:\n",
    "        try:\n",
    "            clf.fit(x_train_B1, y_train_B1)\n",
    "            not_fitted = False\n",
    "        except LinAlgError:\n",
    "            continue\n",
    "    y_pred_B1_train = clf.predict(x_train_B1)\n",
    "    y_pred_B1_test = clf.predict(x_test_B1)\n",
    "    y_pred_B10_alien = clf.predict(x_test_B10)\n",
    "    not_fitted = True\n",
    "    while not_fitted:\n",
    "        try:\n",
    "            clf.fit(x_train_B10, y_train_B10)\n",
    "            not_fitted = False\n",
    "        except LinAlgError:\n",
    "            continue\n",
    "    y_pred_B10_train = clf.predict(x_train_B10)\n",
    "    y_pred_B1_alien = clf.predict(x_test_B1)\n",
    "    y_pred_B10_test = clf.predict(x_test_B10)\n",
    "    for pred, actual, dataset_name in zip(\n",
    "        [y_pred_B1_train, y_pred_B1_test, y_pred_B10_alien, y_pred_B10_train, y_pred_B10_test, y_pred_B1_alien],\n",
    "        [y_train_B1, y_test_B1, y_test_B10, y_train_B10, y_test_B10, y_test_B1],\n",
    "        list(confusion.keys())\n",
    "    ):\n",
    "        tn, fp, fn, tp = confusion_matrix(pred, actual, labels=[0,1]).ravel()\n",
    "        confusion[dataset_name]['tn'].append(tn)\n",
    "        confusion[dataset_name]['fp'].append(fp)\n",
    "        confusion[dataset_name]['fn'].append(fn)\n",
    "        confusion[dataset_name]['tp'].append(tp)\n",
    "\n",
    "\n",
    "measurers = {\n",
    "    dataset_name: ConfusionEstimator(\n",
    "        np.array(confusion[dataset_name]['tp']),\n",
    "        np.array(confusion[dataset_name]['tn']),\n",
    "        np.array(confusion[dataset_name]['fp']),\n",
    "        np.array(confusion[dataset_name]['fn'])\n",
    "    )\n",
    "    for dataset_name in confusion.keys()\n",
    "}"
   ]
  },
  {
   "cell_type": "code",
   "execution_count": 79,
   "metadata": {
    "collapsed": false,
    "pycharm": {
     "name": "#%%\n"
    }
   },
   "outputs": [
    {
     "name": "stdout",
     "output_type": "stream",
     "text": [
      "Comparison between trials B1 and B10\n",
      "\n",
      "Subject: Ga_Fed_06\n",
      "Lock: RespCor\n",
      "Case: left_vs_right\n",
      "Time: -0.5 - 0.5 sec\n",
      "Frequency: 5.0 - 7.76 Hz\n",
      "Number of iterations: 100\n",
      "\n",
      "###############################\n",
      "\n",
      "----------------------\n",
      "B1_train\n",
      "----------------------\n",
      "\n",
      "Accuracy: 0.946\n",
      "Specify: 0.941\n",
      "Sensitivity: 0.950\n",
      "\n",
      "\n",
      "----------------------\n",
      "B1_test\n",
      "----------------------\n",
      "\n",
      "Accuracy: 0.737\n",
      "Specify: 0.714\n",
      "Sensitivity: 0.750\n",
      "\n",
      "\n",
      "----------------------\n",
      "B10_alien\n",
      "----------------------\n",
      "\n",
      "Accuracy: 0.625\n",
      "Specify: 0.748\n",
      "Sensitivity: 0.587\n",
      "\n",
      "\n",
      "----------------------\n",
      "B10_train\n",
      "----------------------\n",
      "\n",
      "Accuracy: 0.920\n",
      "Specify: 0.911\n",
      "Sensitivity: 0.929\n",
      "\n",
      "\n",
      "----------------------\n",
      "B10_test\n",
      "----------------------\n",
      "\n",
      "Accuracy: 0.778\n",
      "Specify: 0.777\n",
      "Sensitivity: 0.779\n",
      "\n",
      "\n",
      "----------------------\n",
      "B1_alien\n",
      "----------------------\n",
      "\n",
      "Accuracy: 0.630\n",
      "Specify: 0.546\n",
      "Sensitivity: 0.724\n",
      "\n"
     ]
    }
   ],
   "source": [
    "print(f'Comparison between trials {SESSIONS[0]} and {SESSIONS[1]}\\n\\n'\n",
    "      f'Subject: {SUBJECT}\\n'\n",
    "      f'Lock: {LOCK}\\n'\n",
    "      f'Case: {CASE}\\n'\n",
    "      f'Time: {T_MIN} - {T_MAX} sec\\n'\n",
    "      f'Frequency: {F_MIN} - {F_MAX} Hz\\n'\n",
    "      f'Number of iterations: {n_iters}\\n'\n",
    "      f'\\n###############################'\n",
    "      )\n",
    "\n",
    "for dataset_name in confusion.keys():\n",
    "    print(f'\\n----------------------\\n{dataset_name}\\n----------------------\\n\\n'\n",
    "          f'Accuracy: {measurers[dataset_name].acc :.3f}\\n'\n",
    "          f'Specify: {measurers[dataset_name].spec :.3f}\\n'\n",
    "          f'Sensitivity: {measurers[dataset_name].sens :.3f}\\n')"
   ]
  },
  {
   "cell_type": "code",
   "execution_count": 42,
   "metadata": {
    "collapsed": false,
    "pycharm": {
     "name": "#%%\n"
    }
   },
   "outputs": [],
   "source": []
  }
 ],
 "metadata": {
  "kernelspec": {
   "display_name": "Python 3",
   "language": "python",
   "name": "python3"
  },
  "language_info": {
   "codemirror_mode": {
    "name": "ipython",
    "version": 3
   },
   "file_extension": ".py",
   "mimetype": "text/x-python",
   "name": "python",
   "nbconvert_exporter": "python",
   "pygments_lexer": "ipython3",
   "version": "3.9.9"
  }
 },
 "nbformat": 4,
 "nbformat_minor": 0
}
