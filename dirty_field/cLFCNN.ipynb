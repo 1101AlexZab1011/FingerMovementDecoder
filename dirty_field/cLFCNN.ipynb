{
 "cells": [
  {
   "cell_type": "code",
   "execution_count": 40,
   "metadata": {},
   "outputs": [],
   "source": [
    "import sys\n",
    "import os\n",
    "current_dir = os.path.dirname(os.path.abspath('./'))\n",
    "if not current_dir in sys.path:\n",
    "    sys.path.append(current_dir)\n",
    "\n",
    "import mneflow as mf\n",
    "import mneflow\n",
    "import tensorflow as tf\n",
    "import numpy as np\n",
    "from mneflow.models import BaseModel, LFCNN\n",
    "from utils.machine_learning.designer import ModelDesign, ParallelDesign, LayerDesign\n",
    "from utils.machine_learning.analyzer import ModelAnalyzer\n",
    "from mneflow.layers import DeMixing, LFTConv, TempPooling, Dense\n",
    "from mne.datasets import multimodal\n",
    "import mne\n",
    "from utils.machine_learning.confusion import ConfusionEstimator\n",
    "from utils.machine_learning import one_hot_decoder\n",
    "import sklearn.metrics as sm\n",
    "import matplotlib.pyplot as plt\n",
    "from mne import channels, evoked, create_info\n",
    "\n",
    "from scipy.signal import freqz, welch\n",
    "from scipy.stats import spearmanr"
   ]
  },
  {
   "cell_type": "code",
   "execution_count": 2,
   "metadata": {},
   "outputs": [],
   "source": [
    "mne.set_log_level(verbose='CRITICAL')\n",
    "fname_raw = os.path.join(multimodal.data_path(), 'multimodal_raw.fif')\n",
    "raw = mne.io.read_raw_fif(fname_raw)\n",
    "cond = raw.acqparser.get_condition(raw, None)\n",
    "condition_names = [k for c in cond for k,v in c['event_id'].items()]\n",
    "epochs_list = [mne.Epochs(raw, **c) for c in cond]\n",
    "epochs = mne.concatenate_epochs(epochs_list)\n",
    "epochs = epochs.pick_types(meg='grad')\n",
    "X = np.array([])\n",
    "Y = list()\n",
    "for i, epochs in enumerate(epochs_list):\n",
    "    data = epochs.get_data()\n",
    "    if i == 0:\n",
    "        X = data.copy()\n",
    "    else:\n",
    "        X = np.append(X, data, axis=0)\n",
    "    Y += [i for _ in range(data.shape[0])]\n",
    "\n",
    "Y = np.array(Y)\n",
    "X = np.array([X[i, epochs._channel_type_idx['grad'], :] for i, _ in enumerate(X)])\n",
    "original_X = X.copy()\n",
    "original_Y = Y.copy()\n",
    "\n",
    "import_opt = dict(savepath='../tfr/',\n",
    "                  out_name='mne_sample_epochs',\n",
    "                  fs=600,\n",
    "                  input_type='trials',\n",
    "                  target_type='int',\n",
    "                  picks={'meg':'grad'},\n",
    "                  scale=True,  # apply baseline_scaling\n",
    "                  crop_baseline=True,  # remove baseline interval after scaling\n",
    "                  decimate=None,\n",
    "                  scale_interval=(0, 60),  # indices in time axis corresponding to baseline interval\n",
    "                #   n_folds=5,  # validation set size set to 20% of all data\n",
    "                  n_folds=5,\n",
    "                  overwrite=True,\n",
    "                  segment=False,\n",
    "                  test_set='holdout'\n",
    ")\n",
    "lf_params = dict(n_latent=32, #number of latent factors\n",
    "                  filter_length=17, #convolutional filter length in time samples\n",
    "                  nonlin = tf.nn.relu,\n",
    "                  padding = 'SAME',\n",
    "                  pooling = 5,#pooling factor\n",
    "                  stride = 5, #stride parameter for pooling layer\n",
    "                  pool_type='max',\n",
    "                  model_path = import_opt['savepath'],\n",
    "                  dropout = .5,\n",
    "                  l1_scope = [\"weights\"],\n",
    "                  l1=3e-3)\n"
   ]
  },
  {
   "cell_type": "code",
   "execution_count": 57,
   "metadata": {},
   "outputs": [],
   "source": [
    "info = epochs.load_data().copy().pick_types('grad').info\n",
    "pos = np.array([ch['loc'][:3] for ch in info['chs']])"
   ]
  },
  {
   "cell_type": "code",
   "execution_count": null,
   "metadata": {},
   "outputs": [],
   "source": [
    "epochs.load_data().copy().pick_types('grad').average().plot_sensors(show_names=True)"
   ]
  },
  {
   "cell_type": "code",
   "execution_count": 58,
   "metadata": {},
   "outputs": [],
   "source": [
    "adj = list()\n",
    "for ch1 in pos:\n",
    "    row = list()\n",
    "    for ch2 in pos:\n",
    "        row.append(\n",
    "            np.sqrt(\n",
    "                np.sum(np.array([(c1 - c2)**2 for c1, c2 in zip(ch1, ch2)]))\n",
    "            )\n",
    "        )\n",
    "    adj.append(np.array(row))\n",
    "\n",
    "adj = np.array(adj)"
   ]
  },
  {
   "cell_type": "code",
   "execution_count": 191,
   "metadata": {},
   "outputs": [
    {
     "name": "stdout",
     "output_type": "stream",
     "text": [
      "29\n",
      "6\n",
      "['MEG 2622' 'MEG 2643'] ['MEG 2513' 'MEG 2533' 'MEG 2532' 'MEG 2542' 'MEG 2633' 'MEG 2632']\n"
     ]
    },
    {
     "data": {
      "image/png": "[encoded data removed]",
      "image/svg+xml": "<?xml version=\"1.0\" encoding=\"utf-8\" standalone=\"no\"?>\n<!DOCTYPE svg PUBLIC \"-//W3C//DTD SVG 1.1//EN\"\n  \"http://www.w3.org/Graphics/SVG/1.1/DTD/svg11.dtd\">\n<svg height=\"251.784403pt\" version=\"1.1\" viewBox=\"0 0 263.740662 251.784403\" width=\"263.740662pt\" xmlns=\"http://www.w3.org/2000/svg\" xmlns:xlink=\"http://www.w3.org/1999/xlink\">\n <metadata>\n  <rdf:RDF xmlns:cc=\"http://creativecommons.org/ns#\" xmlns:dc=\"http://purl.org/dc/elements/1.1/\" xmlns:rdf=\"http://www.w3.org/1999/02/22-rdf-syntax-ns#\">\n   <cc:Work>\n    <dc:type rdf:resource=\"http://purl.org/dc/dcmitype/StillImage\"/>\n    <dc:date>2022-03-13T20:17:05.792643</dc:date>\n    <dc:format>image/svg+xml</dc:format>\n    <dc:creator>\n     <cc:Agent>\n      <dc:title>Matplotlib v3.4.3, https://matplotlib.org/</dc:title>\n     </cc:Agent>\n    </dc:creator>\n   </cc:Work>\n  </rdf:RDF>\n </metadata>\n <defs>\n  <style type=\"text/css\">*{stroke-linecap:butt;stroke-linejoin:round;}</style>\n </defs>\n <g id=\"figure_1\">\n  <g id=\"patch_1\">\n   <path d=\"M 0 251.784403 \nL 263.740662 251.784403 \nL 263.740662 0 \nL 0 0 \nz\n\" style=\"fill:none;\"/>\n  </g>\n  <g id=\"axes_1\">\n   <g id=\"patch_2\">\n    <path d=\"M 33.2875 227.906278 \nL 250.7275 227.906278 \nL 250.7275 10.466278 \nL 33.2875 10.466278 \nz\n\" style=\"fill:#ffffff;\"/>\n   </g>\n   <g clip-path=\"url(#p88d764b631)\">\n    <image height=\"218\" id=\"imagea1edab8623\" transform=\"scale(1 -1)translate(0 -218)\" width=\"218\" x=\"33.2875\" xlink:href=\"data:image/png;base64,\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\" y=\"-9.906278\"/>\n   </g>\n   <g id=\"matplotlib.axis_1\">\n    <g id=\"xtick_1\">\n     <g id=\"line2d_1\">\n      <defs>\n       <path d=\"M 0 0 \nL 0 3.5 \n\" id=\"m180e03a468\" style=\"stroke:#000000;stroke-width:0.8;\"/>\n      </defs>\n      <g>\n       <use style=\"stroke:#000000;stroke-width:0.8;\" x=\"33.820441\" xlink:href=\"#m180e03a468\" y=\"227.906278\"/>\n      </g>\n     </g>\n     <g id=\"text_1\">\n      <!-- 0 -->\n      <g transform=\"translate(30.639191 242.504715)scale(0.1 -0.1)\">\n       <defs>\n        <path d=\"M 2034 4250 \nQ 1547 4250 1301 3770 \nQ 1056 3291 1056 2328 \nQ 1056 1369 1301 889 \nQ 1547 409 2034 409 \nQ 2525 409 2770 889 \nQ 3016 1369 3016 2328 \nQ 3016 3291 2770 3770 \nQ 2525 4250 2034 4250 \nz\nM 2034 4750 \nQ 2819 4750 3233 4129 \nQ 3647 3509 3647 2328 \nQ 3647 1150 3233 529 \nQ 2819 -91 2034 -91 \nQ 1250 -91 836 529 \nQ 422 1150 422 2328 \nQ 422 3509 836 4129 \nQ 1250 4750 2034 4750 \nz\n\" id=\"DejaVuSans-30\" transform=\"scale(0.015625)\"/>\n       </defs>\n       <use xlink:href=\"#DejaVuSans-30\"/>\n      </g>\n     </g>\n    </g>\n    <g id=\"xtick_2\">\n     <g id=\"line2d_2\">\n      <g>\n       <use style=\"stroke:#000000;stroke-width:0.8;\" x=\"87.114559\" xlink:href=\"#m180e03a468\" y=\"227.906278\"/>\n      </g>\n     </g>\n     <g id=\"text_2\">\n      <!-- 50 -->\n      <g transform=\"translate(80.752059 242.504715)scale(0.1 -0.1)\">\n       <defs>\n        <path d=\"M 691 4666 \nL 3169 4666 \nL 3169 4134 \nL 1269 4134 \nL 1269 2991 \nQ 1406 3038 1543 3061 \nQ 1681 3084 1819 3084 \nQ 2600 3084 3056 2656 \nQ 3513 2228 3513 1497 \nQ 3513 744 3044 326 \nQ 2575 -91 1722 -91 \nQ 1428 -91 1123 -41 \nQ 819 9 494 109 \nL 494 744 \nQ 775 591 1075 516 \nQ 1375 441 1709 441 \nQ 2250 441 2565 725 \nQ 2881 1009 2881 1497 \nQ 2881 1984 2565 2268 \nQ 2250 2553 1709 2553 \nQ 1456 2553 1204 2497 \nQ 953 2441 691 2322 \nL 691 4666 \nz\n\" id=\"DejaVuSans-35\" transform=\"scale(0.015625)\"/>\n       </defs>\n       <use xlink:href=\"#DejaVuSans-35\"/>\n       <use x=\"63.623047\" xlink:href=\"#DejaVuSans-30\"/>\n      </g>\n     </g>\n    </g>\n    <g id=\"xtick_3\">\n     <g id=\"line2d_3\">\n      <g>\n       <use style=\"stroke:#000000;stroke-width:0.8;\" x=\"140.408676\" xlink:href=\"#m180e03a468\" y=\"227.906278\"/>\n      </g>\n     </g>\n     <g id=\"text_3\">\n      <!-- 100 -->\n      <g transform=\"translate(130.864926 242.504715)scale(0.1 -0.1)\">\n       <defs>\n        <path d=\"M 794 531 \nL 1825 531 \nL 1825 4091 \nL 703 3866 \nL 703 4441 \nL 1819 4666 \nL 2450 4666 \nL 2450 531 \nL 3481 531 \nL 3481 0 \nL 794 0 \nL 794 531 \nz\n\" id=\"DejaVuSans-31\" transform=\"scale(0.015625)\"/>\n       </defs>\n       <use xlink:href=\"#DejaVuSans-31\"/>\n       <use x=\"63.623047\" xlink:href=\"#DejaVuSans-30\"/>\n       <use x=\"127.246094\" xlink:href=\"#DejaVuSans-30\"/>\n      </g>\n     </g>\n    </g>\n    <g id=\"xtick_4\">\n     <g id=\"line2d_4\">\n      <g>\n       <use style=\"stroke:#000000;stroke-width:0.8;\" x=\"193.702794\" xlink:href=\"#m180e03a468\" y=\"227.906278\"/>\n      </g>\n     </g>\n     <g id=\"text_4\">\n      <!-- 150 -->\n      <g transform=\"translate(184.159044 242.504715)scale(0.1 -0.1)\">\n       <use xlink:href=\"#DejaVuSans-31\"/>\n       <use x=\"63.623047\" xlink:href=\"#DejaVuSans-35\"/>\n       <use x=\"127.246094\" xlink:href=\"#DejaVuSans-30\"/>\n      </g>\n     </g>\n    </g>\n    <g id=\"xtick_5\">\n     <g id=\"line2d_5\">\n      <g>\n       <use style=\"stroke:#000000;stroke-width:0.8;\" x=\"246.996912\" xlink:href=\"#m180e03a468\" y=\"227.906278\"/>\n      </g>\n     </g>\n     <g id=\"text_5\">\n      <!-- 200 -->\n      <g transform=\"translate(237.453162 242.504715)scale(0.1 -0.1)\">\n       <defs>\n        <path d=\"M 1228 531 \nL 3431 531 \nL 3431 0 \nL 469 0 \nL 469 531 \nQ 828 903 1448 1529 \nQ 2069 2156 2228 2338 \nQ 2531 2678 2651 2914 \nQ 2772 3150 2772 3378 \nQ 2772 3750 2511 3984 \nQ 2250 4219 1831 4219 \nQ 1534 4219 1204 4116 \nQ 875 4013 500 3803 \nL 500 4441 \nQ 881 4594 1212 4672 \nQ 1544 4750 1819 4750 \nQ 2544 4750 2975 4387 \nQ 3406 4025 3406 3419 \nQ 3406 3131 3298 2873 \nQ 3191 2616 2906 2266 \nQ 2828 2175 2409 1742 \nQ 1991 1309 1228 531 \nz\n\" id=\"DejaVuSans-32\" transform=\"scale(0.015625)\"/>\n       </defs>\n       <use xlink:href=\"#DejaVuSans-32\"/>\n       <use x=\"63.623047\" xlink:href=\"#DejaVuSans-30\"/>\n       <use x=\"127.246094\" xlink:href=\"#DejaVuSans-30\"/>\n      </g>\n     </g>\n    </g>\n   </g>\n   <g id=\"matplotlib.axis_2\">\n    <g id=\"ytick_1\">\n     <g id=\"line2d_6\">\n      <defs>\n       <path d=\"M 0 0 \nL -3.5 0 \n\" id=\"m0515cb7fca\" style=\"stroke:#000000;stroke-width:0.8;\"/>\n      </defs>\n      <g>\n       <use style=\"stroke:#000000;stroke-width:0.8;\" x=\"33.2875\" xlink:href=\"#m0515cb7fca\" y=\"10.999219\"/>\n      </g>\n     </g>\n     <g id=\"text_6\">\n      <!-- 0 -->\n      <g transform=\"translate(19.925 14.798437)scale(0.1 -0.1)\">\n       <use xlink:href=\"#DejaVuSans-30\"/>\n      </g>\n     </g>\n    </g>\n    <g id=\"ytick_2\">\n     <g id=\"line2d_7\">\n      <g>\n       <use style=\"stroke:#000000;stroke-width:0.8;\" x=\"33.2875\" xlink:href=\"#m0515cb7fca\" y=\"37.646278\"/>\n      </g>\n     </g>\n     <g id=\"text_7\">\n      <!-- 25 -->\n      <g transform=\"translate(13.5625 41.445496)scale(0.1 -0.1)\">\n       <use xlink:href=\"#DejaVuSans-32\"/>\n       <use x=\"63.623047\" xlink:href=\"#DejaVuSans-35\"/>\n      </g>\n     </g>\n    </g>\n    <g id=\"ytick_3\">\n     <g id=\"line2d_8\">\n      <g>\n       <use style=\"stroke:#000000;stroke-width:0.8;\" x=\"33.2875\" xlink:href=\"#m0515cb7fca\" y=\"64.293336\"/>\n      </g>\n     </g>\n     <g id=\"text_8\">\n      <!-- 50 -->\n      <g transform=\"translate(13.5625 68.092555)scale(0.1 -0.1)\">\n       <use xlink:href=\"#DejaVuSans-35\"/>\n       <use x=\"63.623047\" xlink:href=\"#DejaVuSans-30\"/>\n      </g>\n     </g>\n    </g>\n    <g id=\"ytick_4\">\n     <g id=\"line2d_9\">\n      <g>\n       <use style=\"stroke:#000000;stroke-width:0.8;\" x=\"33.2875\" xlink:href=\"#m0515cb7fca\" y=\"90.940395\"/>\n      </g>\n     </g>\n     <g id=\"text_9\">\n      <!-- 75 -->\n      <g transform=\"translate(13.5625 94.739614)scale(0.1 -0.1)\">\n       <defs>\n        <path d=\"M 525 4666 \nL 3525 4666 \nL 3525 4397 \nL 1831 0 \nL 1172 0 \nL 2766 4134 \nL 525 4134 \nL 525 4666 \nz\n\" id=\"DejaVuSans-37\" transform=\"scale(0.015625)\"/>\n       </defs>\n       <use xlink:href=\"#DejaVuSans-37\"/>\n       <use x=\"63.623047\" xlink:href=\"#DejaVuSans-35\"/>\n      </g>\n     </g>\n    </g>\n    <g id=\"ytick_5\">\n     <g id=\"line2d_10\">\n      <g>\n       <use style=\"stroke:#000000;stroke-width:0.8;\" x=\"33.2875\" xlink:href=\"#m0515cb7fca\" y=\"117.587454\"/>\n      </g>\n     </g>\n     <g id=\"text_10\">\n      <!-- 100 -->\n      <g transform=\"translate(7.2 121.386673)scale(0.1 -0.1)\">\n       <use xlink:href=\"#DejaVuSans-31\"/>\n       <use x=\"63.623047\" xlink:href=\"#DejaVuSans-30\"/>\n       <use x=\"127.246094\" xlink:href=\"#DejaVuSans-30\"/>\n      </g>\n     </g>\n    </g>\n    <g id=\"ytick_6\">\n     <g id=\"line2d_11\">\n      <g>\n       <use style=\"stroke:#000000;stroke-width:0.8;\" x=\"33.2875\" xlink:href=\"#m0515cb7fca\" y=\"144.234513\"/>\n      </g>\n     </g>\n     <g id=\"text_11\">\n      <!-- 125 -->\n      <g transform=\"translate(7.2 148.033732)scale(0.1 -0.1)\">\n       <use xlink:href=\"#DejaVuSans-31\"/>\n       <use x=\"63.623047\" xlink:href=\"#DejaVuSans-32\"/>\n       <use x=\"127.246094\" xlink:href=\"#DejaVuSans-35\"/>\n      </g>\n     </g>\n    </g>\n    <g id=\"ytick_7\">\n     <g id=\"line2d_12\">\n      <g>\n       <use style=\"stroke:#000000;stroke-width:0.8;\" x=\"33.2875\" xlink:href=\"#m0515cb7fca\" y=\"170.881572\"/>\n      </g>\n     </g>\n     <g id=\"text_12\">\n      <!-- 150 -->\n      <g transform=\"translate(7.2 174.68079)scale(0.1 -0.1)\">\n       <use xlink:href=\"#DejaVuSans-31\"/>\n       <use x=\"63.623047\" xlink:href=\"#DejaVuSans-35\"/>\n       <use x=\"127.246094\" xlink:href=\"#DejaVuSans-30\"/>\n      </g>\n     </g>\n    </g>\n    <g id=\"ytick_8\">\n     <g id=\"line2d_13\">\n      <g>\n       <use style=\"stroke:#000000;stroke-width:0.8;\" x=\"33.2875\" xlink:href=\"#m0515cb7fca\" y=\"197.528631\"/>\n      </g>\n     </g>\n     <g id=\"text_13\">\n      <!-- 175 -->\n      <g transform=\"translate(7.2 201.327849)scale(0.1 -0.1)\">\n       <use xlink:href=\"#DejaVuSans-31\"/>\n       <use x=\"63.623047\" xlink:href=\"#DejaVuSans-37\"/>\n       <use x=\"127.246094\" xlink:href=\"#DejaVuSans-35\"/>\n      </g>\n     </g>\n    </g>\n    <g id=\"ytick_9\">\n     <g id=\"line2d_14\">\n      <g>\n       <use style=\"stroke:#000000;stroke-width:0.8;\" x=\"33.2875\" xlink:href=\"#m0515cb7fca\" y=\"224.175689\"/>\n      </g>\n     </g>\n     <g id=\"text_14\">\n      <!-- 200 -->\n      <g transform=\"translate(7.2 227.974908)scale(0.1 -0.1)\">\n       <use xlink:href=\"#DejaVuSans-32\"/>\n       <use x=\"63.623047\" xlink:href=\"#DejaVuSans-30\"/>\n       <use x=\"127.246094\" xlink:href=\"#DejaVuSans-30\"/>\n      </g>\n     </g>\n    </g>\n   </g>\n   <g id=\"patch_3\">\n    <path d=\"M 33.2875 227.906278 \nL 33.2875 10.466278 \n\" style=\"fill:none;stroke:#000000;stroke-linecap:square;stroke-linejoin:miter;stroke-width:0.8;\"/>\n   </g>\n   <g id=\"patch_4\">\n    <path d=\"M 250.7275 227.906278 \nL 250.7275 10.466278 \n\" style=\"fill:none;stroke:#000000;stroke-linecap:square;stroke-linejoin:miter;stroke-width:0.8;\"/>\n   </g>\n   <g id=\"patch_5\">\n    <path d=\"M 33.2875 227.906278 \nL 250.7275 227.906278 \n\" style=\"fill:none;stroke:#000000;stroke-linecap:square;stroke-linejoin:miter;stroke-width:0.8;\"/>\n   </g>\n   <g id=\"patch_6\">\n    <path d=\"M 33.2875 10.466278 \nL 250.7275 10.466278 \n\" style=\"fill:none;stroke:#000000;stroke-linecap:square;stroke-linejoin:miter;stroke-width:0.8;\"/>\n   </g>\n  </g>\n </g>\n <defs>\n  <clipPath id=\"p88d764b631\">\n   <rect height=\"217.44\" width=\"217.44\" x=\"33.2875\" y=\"10.466278\"/>\n  </clipPath>\n </defs>\n</svg>\n",
      "text/plain": [
       "<Figure size 432x288 with 1 Axes>"
      ]
     },
     "metadata": {
      "needs_background": "light"
     },
     "output_type": "display_data"
    }
   ],
   "source": [
    "\n",
    "n_clusters = 34\n",
    "n_channels = info['nchan']\n",
    "\n",
    "n_members = n_channels//n_clusters\n",
    "\n",
    "tadj = adj.copy()\n",
    "\n",
    "for i in range(tadj.shape[0]):\n",
    "    for j in range(tadj.shape[1]):\n",
    "        if i <= j:\n",
    "            tadj[i, j] = None\n",
    "\n",
    "groups = list()\n",
    "i = 0\n",
    "for j, ch_name in enumerate(info['ch_names']):\n",
    "    \n",
    "    if j < i:\n",
    "        continue\n",
    "    if i < j:\n",
    "        i = j\n",
    "    \n",
    "    if np.all(tadj[i, :] == None) or np.all(np.isnan(tadj[i, :])):\n",
    "        continue\n",
    "    \n",
    "    group = [ch_name]\n",
    "    \n",
    "    \n",
    "    mins = sorted([val for val in tadj[:, i] if val is not None and not np.isnan(val)])\n",
    "    if len(mins) > n_members:\n",
    "        mins = mins[:n_members]\n",
    "        \n",
    "    n = 0\n",
    "    for k in range(i+1, tadj.shape[0]):\n",
    "        \n",
    "        if tadj[k, i] in mins:\n",
    "            \n",
    "            n += 1\n",
    "            if n == n_members:\n",
    "                break\n",
    "            \n",
    "            tadj[:, k] = None\n",
    "            tadj[k, :] = None\n",
    "            group.append(info['ch_names'][k])\n",
    "    \n",
    "    i+=n\n",
    "    \n",
    "    groups.append(np.array(group))\n",
    "    \n",
    "    tadj[i, :] == None\n",
    "    \n",
    "    if n < n_members:\n",
    "        print(f'{n=}, {mins=}, {i=}')\n",
    "        print(tadj[:, i])\n",
    "        break\n",
    "    \n",
    "    \n",
    "    # if ii == 0:\n",
    "    #     plt.imshow(tadj)\n",
    "    #     plt.show()\n",
    "    # if ii == 1:\n",
    "    #     plt.imshow(tadj)\n",
    "    #     plt.show()\n",
    "    #     break\n",
    "    \n",
    "\n",
    "plt.imshow(tadj)\n",
    "print(len(groups))\n",
    "print(len(groups[0]))\n",
    "print(groups[-1], groups[-2])"
   ]
  }
 ],
 "metadata": {
  "interpreter": {
   "hash": "25b6c1d617e3cb25e4067864bcd46322e1b7da41afdae0cf7c23b941b0b9b767"
  },
  "kernelspec": {
   "display_name": "Python 3.9.10 ('venv': venv)",
   "language": "python",
   "name": "python3"
  },
  "language_info": {
   "codemirror_mode": {
    "name": "ipython",
    "version": 3
   },
   "file_extension": ".py",
   "mimetype": "text/x-python",
   "name": "python",
   "nbconvert_exporter": "python",
   "pygments_lexer": "ipython3",
   "version": "3.9.12"
  },
  "orig_nbformat": 4
 },
 "nbformat": 4,
 "nbformat_minor": 2
}
