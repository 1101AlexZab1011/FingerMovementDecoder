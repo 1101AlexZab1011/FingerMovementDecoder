{
 "cells": [
  {
   "cell_type": "code",
   "execution_count": 2,
   "metadata": {
    "collapsed": true
   },
   "outputs": [],
   "source": [
    "import os\n",
    "import re\n",
    "import sys\n",
    "current_dir = os.path.dirname(os.path.abspath('./'))\n",
    "if not current_dir in sys.path:\n",
    "    sys.path.append(current_dir)\n",
    "import mne as mne\n",
    "import numpy as np\n",
    "import mne\n",
    "import pickle\n",
    "import matplotlib.pyplot as plt\n",
    "\n",
    "\n",
    "import os\n",
    "import pickle\n",
    "from dataclasses import dataclass\n",
    "from typing import Dict, List\n",
    "\n",
    "import mne\n",
    "import numpy as np\n",
    "from mne.decoding import CSP\n",
    "from sklearn.linear_model import LogisticRegression\n",
    "from sklearn.model_selection import StratifiedKFold, cross_val_score\n",
    "from sklearn.pipeline import make_pipeline\n",
    "\n",
    "from combiners import EpochsCombiner\n",
    "from utils.storage_management import check_path\n",
    "from utils.data_management import dict2str\n",
    "import re"
   ]
  },
  {
   "cell_type": "code",
   "execution_count": 5,
   "metadata": {},
   "outputs": [
    {
     "ename": "TypeError",
     "evalue": "concatenate() got multiple values for argument 'axis'",
     "output_type": "error",
     "traceback": [
      "\u001b[0;31m---------------------------------------------------------------------------\u001b[0m",
      "\u001b[0;31mTypeError\u001b[0m                                 Traceback (most recent call last)",
      "Input \u001b[0;32mIn [5]\u001b[0m, in \u001b[0;36m<module>\u001b[0;34m\u001b[0m\n\u001b[1;32m      3\u001b[0m arr3 \u001b[38;5;241m=\u001b[39m np\u001b[38;5;241m.\u001b[39mrandom\u001b[38;5;241m.\u001b[39mrand(\u001b[38;5;241m480\u001b[39m, \u001b[38;5;241m204\u001b[39m, \u001b[38;5;241m1001\u001b[39m)\n\u001b[1;32m      4\u001b[0m arr4 \u001b[38;5;241m=\u001b[39m np\u001b[38;5;241m.\u001b[39mrandom\u001b[38;5;241m.\u001b[39mrand(\u001b[38;5;241m480\u001b[39m, \u001b[38;5;241m204\u001b[39m, \u001b[38;5;241m1001\u001b[39m)\n\u001b[0;32m----> 5\u001b[0m \u001b[43mnp\u001b[49m\u001b[38;5;241;43m.\u001b[39;49m\u001b[43mconcatenate\u001b[49m\u001b[43m(\u001b[49m\u001b[38;5;241;43m*\u001b[39;49m\u001b[43m[\u001b[49m\u001b[43marr1\u001b[49m\u001b[43m,\u001b[49m\u001b[43m \u001b[49m\u001b[43marr2\u001b[49m\u001b[43m,\u001b[49m\u001b[43m \u001b[49m\u001b[43marr3\u001b[49m\u001b[43m,\u001b[49m\u001b[43m \u001b[49m\u001b[43marr4\u001b[49m\u001b[43m]\u001b[49m\u001b[43m,\u001b[49m\u001b[43m \u001b[49m\u001b[43maxis\u001b[49m\u001b[38;5;241;43m=\u001b[39;49m\u001b[38;5;241;43m0\u001b[39;49m\u001b[43m)\u001b[49m\n",
      "File \u001b[0;32m<__array_function__ internals>:179\u001b[0m, in \u001b[0;36mconcatenate\u001b[0;34m(*args, **kwargs)\u001b[0m\n",
      "\u001b[0;31mTypeError\u001b[0m: concatenate() got multiple values for argument 'axis'"
     ]
    }
   ],
   "source": [
    "arr1 = np.random.rand(352, 204, 1001)\n",
    "arr2 = np.random.rand(472, 204, 1001)\n",
    "arr3 = np.random.rand(480, 204, 1001)\n",
    "arr4 = np.random.rand(480, 204, 1001)\n",
    "np.concatenate([arr1, arr2, arr3, arr4], axis=0)"
   ]
  },
  {
   "cell_type": "code",
   "execution_count": null,
   "metadata": {},
   "outputs": [],
   "source": []
  },
  {
   "cell_type": "code",
   "execution_count": 55,
   "metadata": {
    "collapsed": false,
    "pycharm": {
     "name": "#%%\n"
    }
   },
   "outputs": [
    {
     "name": "stdout",
     "output_type": "stream",
     "text": [
      "Reading ../Source/Subjects/Az_Mar_05/Epochs/RespCor_RM_B1_epochs.fif ...\n",
      "    Found the data of interest:\n",
      "        t =    -500.00 ...     500.00 ms\n",
      "        0 CTF compensation matrices available\n",
      "Not setting metadata\n",
      "Not setting metadata\n",
      "30 matching events found\n",
      "No baseline correction applied\n",
      "0 projection items activated\n",
      "Reading ../Source/Subjects/Az_Mar_05/Epochs/RespCor_RI_B1_epochs.fif ...\n",
      "    Found the data of interest:\n",
      "        t =    -500.00 ...     500.00 ms\n",
      "        0 CTF compensation matrices available\n",
      "Not setting metadata\n",
      "Not setting metadata\n",
      "30 matching events found\n",
      "No baseline correction applied\n",
      "0 projection items activated\n",
      "Reading ../Source/Subjects/Az_Mar_05/Epochs/RespCor_LM_B1_epochs.fif ...\n"
     ]
    },
    {
     "name": "stderr",
     "output_type": "stream",
     "text": [
      "/tmp/ipykernel_417285/3617874835.py:42: RuntimeWarning: This filename (../Source/Subjects/Az_Mar_05/Epochs/RespCor_RM_B1_epochs.fif) does not conform to MNE naming conventions. All epochs files should end with -epo.fif, -epo.fif.gz, _epo.fif or _epo.fif.gz\n",
      "  epochs[session][current_lock].update({case: mne.read_epochs(os.path.join(subject_epochs, epoch))})\n",
      "/tmp/ipykernel_417285/3617874835.py:42: RuntimeWarning: This filename (../Source/Subjects/Az_Mar_05/Epochs/RespCor_RI_B1_epochs.fif) does not conform to MNE naming conventions. All epochs files should end with -epo.fif, -epo.fif.gz, _epo.fif or _epo.fif.gz\n",
      "  epochs[session][current_lock].update({case: mne.read_epochs(os.path.join(subject_epochs, epoch))})\n",
      "/tmp/ipykernel_417285/3617874835.py:42: RuntimeWarning: This filename (../Source/Subjects/Az_Mar_05/Epochs/RespCor_LM_B1_epochs.fif) does not conform to MNE naming conventions. All epochs files should end with -epo.fif, -epo.fif.gz, _epo.fif or _epo.fif.gz\n",
      "  epochs[session][current_lock].update({case: mne.read_epochs(os.path.join(subject_epochs, epoch))})\n"
     ]
    },
    {
     "name": "stdout",
     "output_type": "stream",
     "text": [
      "    Found the data of interest:\n",
      "        t =    -500.00 ...     500.00 ms\n",
      "        0 CTF compensation matrices available\n",
      "Not setting metadata\n",
      "Not setting metadata\n",
      "30 matching events found\n",
      "No baseline correction applied\n",
      "0 projection items activated\n",
      "Reading ../Source/Subjects/Az_Mar_05/Epochs/RespCor_LI_B1_epochs.fif ...\n",
      "    Found the data of interest:\n",
      "        t =    -500.00 ...     500.00 ms\n",
      "        0 CTF compensation matrices available\n",
      "Not setting metadata\n",
      "Not setting metadata\n",
      "27 matching events found\n",
      "No baseline correction applied\n",
      "0 projection items activated\n",
      "Reading ../Source/Subjects/Fe_To_08/Epochs/LI_StimCor_B1_epochs.fif ...\n",
      "    Found the data of interest:\n",
      "        t =    -300.00 ...     700.00 ms\n",
      "        0 CTF compensation matrices available\n",
      "Not setting metadata\n",
      "Not setting metadata\n",
      "30 matching events found\n",
      "No baseline correction applied\n",
      "0 projection items activated\n",
      "Reading ../Source/Subjects/Fe_To_08/Epochs/LI_StimCor_B2_epochs.fif ...\n"
     ]
    },
    {
     "name": "stderr",
     "output_type": "stream",
     "text": [
      "/tmp/ipykernel_417285/3617874835.py:42: RuntimeWarning: This filename (../Source/Subjects/Az_Mar_05/Epochs/RespCor_LI_B1_epochs.fif) does not conform to MNE naming conventions. All epochs files should end with -epo.fif, -epo.fif.gz, _epo.fif or _epo.fif.gz\n",
      "  epochs[session][current_lock].update({case: mne.read_epochs(os.path.join(subject_epochs, epoch))})\n",
      "/tmp/ipykernel_417285/3617874835.py:42: RuntimeWarning: This filename (../Source/Subjects/Fe_To_08/Epochs/LI_StimCor_B1_epochs.fif) does not conform to MNE naming conventions. All epochs files should end with -epo.fif, -epo.fif.gz, _epo.fif or _epo.fif.gz\n",
      "  epochs[session][current_lock].update({case: mne.read_epochs(os.path.join(subject_epochs, epoch))})\n",
      "/tmp/ipykernel_417285/3617874835.py:42: RuntimeWarning: This filename (../Source/Subjects/Fe_To_08/Epochs/LI_StimCor_B2_epochs.fif) does not conform to MNE naming conventions. All epochs files should end with -epo.fif, -epo.fif.gz, _epo.fif or _epo.fif.gz\n",
      "  epochs[session][current_lock].update({case: mne.read_epochs(os.path.join(subject_epochs, epoch))})\n"
     ]
    },
    {
     "name": "stdout",
     "output_type": "stream",
     "text": [
      "    Found the data of interest:\n",
      "        t =    -300.00 ...     700.00 ms\n",
      "        0 CTF compensation matrices available\n",
      "Not setting metadata\n",
      "Not setting metadata\n",
      "30 matching events found\n",
      "No baseline correction applied\n",
      "0 projection items activated\n",
      "Reading ../Source/Subjects/Fe_To_08/Epochs/LM_StimCor_B1_epochs.fif ...\n",
      "    Found the data of interest:\n",
      "        t =    -300.00 ...     700.00 ms\n",
      "        0 CTF compensation matrices available\n",
      "Not setting metadata\n",
      "Not setting metadata\n",
      "30 matching events found\n",
      "No baseline correction applied\n",
      "0 projection items activated\n",
      "Reading ../Source/Subjects/Fe_To_08/Epochs/LM_StimCor_B2_epochs.fif ...\n",
      "    Found the data of interest:\n",
      "        t =    -300.00 ...     700.00 ms\n",
      "        0 CTF compensation matrices available\n",
      "Not setting metadata\n",
      "Not setting metadata\n",
      "30 matching events found\n",
      "No baseline correction applied\n",
      "0 projection items activated\n",
      "Reading ../Source/Subjects/Fe_To_08/Epochs/RI_StimCor_B1_epochs.fif ...\n"
     ]
    },
    {
     "name": "stderr",
     "output_type": "stream",
     "text": [
      "/tmp/ipykernel_417285/3617874835.py:42: RuntimeWarning: This filename (../Source/Subjects/Fe_To_08/Epochs/LM_StimCor_B1_epochs.fif) does not conform to MNE naming conventions. All epochs files should end with -epo.fif, -epo.fif.gz, _epo.fif or _epo.fif.gz\n",
      "  epochs[session][current_lock].update({case: mne.read_epochs(os.path.join(subject_epochs, epoch))})\n",
      "/tmp/ipykernel_417285/3617874835.py:42: RuntimeWarning: This filename (../Source/Subjects/Fe_To_08/Epochs/LM_StimCor_B2_epochs.fif) does not conform to MNE naming conventions. All epochs files should end with -epo.fif, -epo.fif.gz, _epo.fif or _epo.fif.gz\n",
      "  epochs[session][current_lock].update({case: mne.read_epochs(os.path.join(subject_epochs, epoch))})\n",
      "/tmp/ipykernel_417285/3617874835.py:42: RuntimeWarning: This filename (../Source/Subjects/Fe_To_08/Epochs/RI_StimCor_B1_epochs.fif) does not conform to MNE naming conventions. All epochs files should end with -epo.fif, -epo.fif.gz, _epo.fif or _epo.fif.gz\n",
      "  epochs[session][current_lock].update({case: mne.read_epochs(os.path.join(subject_epochs, epoch))})\n"
     ]
    },
    {
     "name": "stdout",
     "output_type": "stream",
     "text": [
      "    Found the data of interest:\n",
      "        t =    -300.00 ...     700.00 ms\n",
      "        0 CTF compensation matrices available\n",
      "Not setting metadata\n",
      "Not setting metadata\n",
      "30 matching events found\n",
      "No baseline correction applied\n",
      "0 projection items activated\n",
      "Reading ../Source/Subjects/Fe_To_08/Epochs/RI_StimCor_B2_epochs.fif ...\n",
      "    Found the data of interest:\n",
      "        t =    -300.00 ...     700.00 ms\n",
      "        0 CTF compensation matrices available\n",
      "Not setting metadata\n",
      "Not setting metadata\n",
      "30 matching events found\n",
      "No baseline correction applied\n",
      "0 projection items activated\n",
      "Reading ../Source/Subjects/Fe_To_08/Epochs/RM_StimCor_B1_epochs.fif ...\n",
      "    Found the data of interest:\n",
      "        t =    -300.00 ...     700.00 ms\n",
      "        0 CTF compensation matrices available\n",
      "Not setting metadata\n",
      "Not setting metadata\n",
      "30 matching events found\n",
      "No baseline correction applied\n",
      "0 projection items activated\n",
      "Reading ../Source/Subjects/Fe_To_08/Epochs/RM_StimCor_B2_epochs.fif ...\n"
     ]
    },
    {
     "name": "stderr",
     "output_type": "stream",
     "text": [
      "/tmp/ipykernel_417285/3617874835.py:42: RuntimeWarning: This filename (../Source/Subjects/Fe_To_08/Epochs/RI_StimCor_B2_epochs.fif) does not conform to MNE naming conventions. All epochs files should end with -epo.fif, -epo.fif.gz, _epo.fif or _epo.fif.gz\n",
      "  epochs[session][current_lock].update({case: mne.read_epochs(os.path.join(subject_epochs, epoch))})\n",
      "/tmp/ipykernel_417285/3617874835.py:42: RuntimeWarning: This filename (../Source/Subjects/Fe_To_08/Epochs/RM_StimCor_B1_epochs.fif) does not conform to MNE naming conventions. All epochs files should end with -epo.fif, -epo.fif.gz, _epo.fif or _epo.fif.gz\n",
      "  epochs[session][current_lock].update({case: mne.read_epochs(os.path.join(subject_epochs, epoch))})\n",
      "/tmp/ipykernel_417285/3617874835.py:42: RuntimeWarning: This filename (../Source/Subjects/Fe_To_08/Epochs/RM_StimCor_B2_epochs.fif) does not conform to MNE naming conventions. All epochs files should end with -epo.fif, -epo.fif.gz, _epo.fif or _epo.fif.gz\n",
      "  epochs[session][current_lock].update({case: mne.read_epochs(os.path.join(subject_epochs, epoch))})\n"
     ]
    },
    {
     "name": "stdout",
     "output_type": "stream",
     "text": [
      "    Found the data of interest:\n",
      "        t =    -300.00 ...     700.00 ms\n",
      "        0 CTF compensation matrices available\n",
      "Not setting metadata\n",
      "Not setting metadata\n",
      "30 matching events found\n",
      "No baseline correction applied\n",
      "0 projection items activated\n",
      "Reading ../Source/Subjects/Fe_To_08/Epochs/RespCor_LI_B1_epochs.fif ...\n",
      "    Found the data of interest:\n",
      "        t =    -500.00 ...     500.00 ms\n",
      "        0 CTF compensation matrices available\n",
      "Not setting metadata\n",
      "Not setting metadata\n",
      "30 matching events found\n",
      "No baseline correction applied\n",
      "0 projection items activated\n",
      "Reading ../Source/Subjects/Fe_To_08/Epochs/RespCor_LI_B2_epochs.fif ...\n",
      "    Found the data of interest:\n",
      "        t =    -500.00 ...     500.00 ms\n",
      "        0 CTF compensation matrices available\n",
      "Not setting metadata\n",
      "Not setting metadata\n",
      "30 matching events found\n",
      "No baseline correction applied\n",
      "0 projection items activated\n",
      "Reading ../Source/Subjects/Fe_To_08/Epochs/RespCor_LM_B1_epochs.fif ...\n"
     ]
    },
    {
     "name": "stderr",
     "output_type": "stream",
     "text": [
      "/tmp/ipykernel_417285/3617874835.py:42: RuntimeWarning: This filename (../Source/Subjects/Fe_To_08/Epochs/RespCor_LI_B1_epochs.fif) does not conform to MNE naming conventions. All epochs files should end with -epo.fif, -epo.fif.gz, _epo.fif or _epo.fif.gz\n",
      "  epochs[session][current_lock].update({case: mne.read_epochs(os.path.join(subject_epochs, epoch))})\n",
      "/tmp/ipykernel_417285/3617874835.py:42: RuntimeWarning: This filename (../Source/Subjects/Fe_To_08/Epochs/RespCor_LI_B2_epochs.fif) does not conform to MNE naming conventions. All epochs files should end with -epo.fif, -epo.fif.gz, _epo.fif or _epo.fif.gz\n",
      "  epochs[session][current_lock].update({case: mne.read_epochs(os.path.join(subject_epochs, epoch))})\n",
      "/tmp/ipykernel_417285/3617874835.py:42: RuntimeWarning: This filename (../Source/Subjects/Fe_To_08/Epochs/RespCor_LM_B1_epochs.fif) does not conform to MNE naming conventions. All epochs files should end with -epo.fif, -epo.fif.gz, _epo.fif or _epo.fif.gz\n",
      "  epochs[session][current_lock].update({case: mne.read_epochs(os.path.join(subject_epochs, epoch))})\n"
     ]
    },
    {
     "name": "stdout",
     "output_type": "stream",
     "text": [
      "    Found the data of interest:\n",
      "        t =    -500.00 ...     500.00 ms\n",
      "        0 CTF compensation matrices available\n",
      "Not setting metadata\n",
      "Not setting metadata\n",
      "30 matching events found\n",
      "No baseline correction applied\n",
      "0 projection items activated\n",
      "Reading ../Source/Subjects/Fe_To_08/Epochs/RespCor_LM_B2_epochs.fif ...\n",
      "    Found the data of interest:\n",
      "        t =    -500.00 ...     500.00 ms\n",
      "        0 CTF compensation matrices available\n",
      "Not setting metadata\n",
      "Not setting metadata\n",
      "30 matching events found\n",
      "No baseline correction applied\n",
      "0 projection items activated\n",
      "Reading ../Source/Subjects/Fe_To_08/Epochs/RespCor_RI_B1_epochs.fif ...\n",
      "    Found the data of interest:\n",
      "        t =    -500.00 ...     500.00 ms\n",
      "        0 CTF compensation matrices available\n",
      "Not setting metadata\n",
      "Not setting metadata\n",
      "30 matching events found\n",
      "No baseline correction applied\n",
      "0 projection items activated\n",
      "Reading ../Source/Subjects/Fe_To_08/Epochs/RespCor_RI_B2_epochs.fif ...\n"
     ]
    },
    {
     "name": "stderr",
     "output_type": "stream",
     "text": [
      "/tmp/ipykernel_417285/3617874835.py:42: RuntimeWarning: This filename (../Source/Subjects/Fe_To_08/Epochs/RespCor_LM_B2_epochs.fif) does not conform to MNE naming conventions. All epochs files should end with -epo.fif, -epo.fif.gz, _epo.fif or _epo.fif.gz\n",
      "  epochs[session][current_lock].update({case: mne.read_epochs(os.path.join(subject_epochs, epoch))})\n",
      "/tmp/ipykernel_417285/3617874835.py:42: RuntimeWarning: This filename (../Source/Subjects/Fe_To_08/Epochs/RespCor_RI_B1_epochs.fif) does not conform to MNE naming conventions. All epochs files should end with -epo.fif, -epo.fif.gz, _epo.fif or _epo.fif.gz\n",
      "  epochs[session][current_lock].update({case: mne.read_epochs(os.path.join(subject_epochs, epoch))})\n",
      "/tmp/ipykernel_417285/3617874835.py:42: RuntimeWarning: This filename (../Source/Subjects/Fe_To_08/Epochs/RespCor_RI_B2_epochs.fif) does not conform to MNE naming conventions. All epochs files should end with -epo.fif, -epo.fif.gz, _epo.fif or _epo.fif.gz\n",
      "  epochs[session][current_lock].update({case: mne.read_epochs(os.path.join(subject_epochs, epoch))})\n"
     ]
    },
    {
     "name": "stdout",
     "output_type": "stream",
     "text": [
      "    Found the data of interest:\n",
      "        t =    -500.00 ...     500.00 ms\n",
      "        0 CTF compensation matrices available\n",
      "Not setting metadata\n",
      "Not setting metadata\n",
      "30 matching events found\n",
      "No baseline correction applied\n",
      "0 projection items activated\n",
      "Reading ../Source/Subjects/Fe_To_08/Epochs/RespCor_RM_B1_epochs.fif ...\n",
      "    Found the data of interest:\n",
      "        t =    -500.00 ...     500.00 ms\n",
      "        0 CTF compensation matrices available\n",
      "Not setting metadata\n",
      "Not setting metadata\n",
      "30 matching events found\n",
      "No baseline correction applied\n",
      "0 projection items activated\n",
      "Reading ../Source/Subjects/Fe_To_08/Epochs/RespCor_RM_B2_epochs.fif ...\n",
      "    Found the data of interest:\n",
      "        t =    -500.00 ...     500.00 ms\n",
      "        0 CTF compensation matrices available\n",
      "Not setting metadata\n",
      "Not setting metadata\n",
      "30 matching events found\n",
      "No baseline correction applied\n",
      "0 projection items activated\n",
      "Reading ../Source/Subjects/Ga_Fed_06/Epochs/RI_StimCor_B1_epochs.fif ...\n"
     ]
    },
    {
     "name": "stderr",
     "output_type": "stream",
     "text": [
      "/tmp/ipykernel_417285/3617874835.py:42: RuntimeWarning: This filename (../Source/Subjects/Fe_To_08/Epochs/RespCor_RM_B1_epochs.fif) does not conform to MNE naming conventions. All epochs files should end with -epo.fif, -epo.fif.gz, _epo.fif or _epo.fif.gz\n",
      "  epochs[session][current_lock].update({case: mne.read_epochs(os.path.join(subject_epochs, epoch))})\n",
      "/tmp/ipykernel_417285/3617874835.py:42: RuntimeWarning: This filename (../Source/Subjects/Fe_To_08/Epochs/RespCor_RM_B2_epochs.fif) does not conform to MNE naming conventions. All epochs files should end with -epo.fif, -epo.fif.gz, _epo.fif or _epo.fif.gz\n",
      "  epochs[session][current_lock].update({case: mne.read_epochs(os.path.join(subject_epochs, epoch))})\n",
      "/tmp/ipykernel_417285/3617874835.py:42: RuntimeWarning: This filename (../Source/Subjects/Ga_Fed_06/Epochs/RI_StimCor_B1_epochs.fif) does not conform to MNE naming conventions. All epochs files should end with -epo.fif, -epo.fif.gz, _epo.fif or _epo.fif.gz\n",
      "  epochs[session][current_lock].update({case: mne.read_epochs(os.path.join(subject_epochs, epoch))})\n"
     ]
    },
    {
     "name": "stdout",
     "output_type": "stream",
     "text": [
      "    Found the data of interest:\n",
      "        t =    -300.00 ...     700.00 ms\n",
      "        0 CTF compensation matrices available\n",
      "Not setting metadata\n",
      "Not setting metadata\n",
      "60 matching events found\n",
      "No baseline correction applied\n",
      "0 projection items activated\n",
      "Reading ../Source/Subjects/Ga_Fed_06/Epochs/RI_StimCor_B2_epochs.fif ...\n",
      "    Found the data of interest:\n",
      "        t =    -300.00 ...     700.00 ms\n",
      "        0 CTF compensation matrices available\n",
      "Not setting metadata\n",
      "Not setting metadata\n",
      "60 matching events found\n",
      "No baseline correction applied\n",
      "0 projection items activated\n",
      "Reading ../Source/Subjects/Ga_Fed_06/Epochs/LM_StimCor_B2_epochs.fif ...\n",
      "    Found the data of interest:\n",
      "        t =    -300.00 ...     700.00 ms\n",
      "        0 CTF compensation matrices available\n"
     ]
    },
    {
     "name": "stderr",
     "output_type": "stream",
     "text": [
      "/tmp/ipykernel_417285/3617874835.py:42: RuntimeWarning: This filename (../Source/Subjects/Ga_Fed_06/Epochs/RI_StimCor_B2_epochs.fif) does not conform to MNE naming conventions. All epochs files should end with -epo.fif, -epo.fif.gz, _epo.fif or _epo.fif.gz\n",
      "  epochs[session][current_lock].update({case: mne.read_epochs(os.path.join(subject_epochs, epoch))})\n",
      "/tmp/ipykernel_417285/3617874835.py:42: RuntimeWarning: This filename (../Source/Subjects/Ga_Fed_06/Epochs/LM_StimCor_B2_epochs.fif) does not conform to MNE naming conventions. All epochs files should end with -epo.fif, -epo.fif.gz, _epo.fif or _epo.fif.gz\n",
      "  epochs[session][current_lock].update({case: mne.read_epochs(os.path.join(subject_epochs, epoch))})\n"
     ]
    },
    {
     "name": "stdout",
     "output_type": "stream",
     "text": [
      "Not setting metadata\n",
      "Not setting metadata\n",
      "58 matching events found\n",
      "No baseline correction applied\n",
      "0 projection items activated\n",
      "Reading ../Source/Subjects/Ga_Fed_06/Epochs/LM_StimCor_B1_epochs.fif ...\n",
      "    Found the data of interest:\n",
      "        t =    -300.00 ...     700.00 ms\n",
      "        0 CTF compensation matrices available\n",
      "Not setting metadata\n",
      "Not setting metadata\n",
      "58 matching events found\n",
      "No baseline correction applied\n",
      "0 projection items activated\n",
      "Reading ../Source/Subjects/Ga_Fed_06/Epochs/RM_StimCor_B2_epochs.fif ...\n"
     ]
    },
    {
     "name": "stderr",
     "output_type": "stream",
     "text": [
      "/tmp/ipykernel_417285/3617874835.py:42: RuntimeWarning: This filename (../Source/Subjects/Ga_Fed_06/Epochs/LM_StimCor_B1_epochs.fif) does not conform to MNE naming conventions. All epochs files should end with -epo.fif, -epo.fif.gz, _epo.fif or _epo.fif.gz\n",
      "  epochs[session][current_lock].update({case: mne.read_epochs(os.path.join(subject_epochs, epoch))})\n",
      "/tmp/ipykernel_417285/3617874835.py:42: RuntimeWarning: This filename (../Source/Subjects/Ga_Fed_06/Epochs/RM_StimCor_B2_epochs.fif) does not conform to MNE naming conventions. All epochs files should end with -epo.fif, -epo.fif.gz, _epo.fif or _epo.fif.gz\n",
      "  epochs[session][current_lock].update({case: mne.read_epochs(os.path.join(subject_epochs, epoch))})\n"
     ]
    },
    {
     "name": "stdout",
     "output_type": "stream",
     "text": [
      "    Found the data of interest:\n",
      "        t =    -300.00 ...     700.00 ms\n",
      "        0 CTF compensation matrices available\n",
      "Not setting metadata\n",
      "Not setting metadata\n",
      "60 matching events found\n",
      "No baseline correction applied\n",
      "0 projection items activated\n",
      "Reading ../Source/Subjects/Ga_Fed_06/Epochs/RM_StimCor_B1_epochs.fif ...\n",
      "    Found the data of interest:\n",
      "        t =    -300.00 ...     700.00 ms\n",
      "        0 CTF compensation matrices available\n",
      "Not setting metadata\n",
      "Not setting metadata\n",
      "60 matching events found\n",
      "No baseline correction applied\n",
      "0 projection items activated\n",
      "Reading ../Source/Subjects/Ga_Fed_06/Epochs/LI_StimCor_B1_epochs.fif ...\n",
      "    Found the data of interest:\n",
      "        t =    -300.00 ...     700.00 ms\n",
      "        0 CTF compensation matrices available\n"
     ]
    },
    {
     "name": "stderr",
     "output_type": "stream",
     "text": [
      "/tmp/ipykernel_417285/3617874835.py:42: RuntimeWarning: This filename (../Source/Subjects/Ga_Fed_06/Epochs/RM_StimCor_B1_epochs.fif) does not conform to MNE naming conventions. All epochs files should end with -epo.fif, -epo.fif.gz, _epo.fif or _epo.fif.gz\n",
      "  epochs[session][current_lock].update({case: mne.read_epochs(os.path.join(subject_epochs, epoch))})\n",
      "/tmp/ipykernel_417285/3617874835.py:42: RuntimeWarning: This filename (../Source/Subjects/Ga_Fed_06/Epochs/LI_StimCor_B1_epochs.fif) does not conform to MNE naming conventions. All epochs files should end with -epo.fif, -epo.fif.gz, _epo.fif or _epo.fif.gz\n",
      "  epochs[session][current_lock].update({case: mne.read_epochs(os.path.join(subject_epochs, epoch))})\n"
     ]
    },
    {
     "name": "stdout",
     "output_type": "stream",
     "text": [
      "Not setting metadata\n",
      "Not setting metadata\n",
      "30 matching events found\n",
      "No baseline correction applied\n",
      "0 projection items activated\n",
      "Reading ../Source/Subjects/Ga_Fed_06/Epochs/LI_StimCor_B2_epochs.fif ...\n",
      "    Found the data of interest:\n",
      "        t =    -300.00 ...     700.00 ms\n",
      "        0 CTF compensation matrices available\n",
      "Not setting metadata\n",
      "Not setting metadata\n",
      "30 matching events found\n",
      "No baseline correction applied\n",
      "0 projection items activated\n",
      "Reading ../Source/Subjects/Ga_Fed_06/Epochs/RespCor_LI_B2_epochs.fif ...\n",
      "    Found the data of interest:\n",
      "        t =    -500.00 ...     500.00 ms\n",
      "        0 CTF compensation matrices available\n",
      "Not setting metadata\n",
      "Not setting metadata\n",
      "30 matching events found\n",
      "No baseline correction applied\n",
      "0 projection items activated\n",
      "Reading ../Source/Subjects/Ga_Fed_06/Epochs/RespCor_LI_B1_epochs.fif ...\n"
     ]
    },
    {
     "name": "stderr",
     "output_type": "stream",
     "text": [
      "/tmp/ipykernel_417285/3617874835.py:42: RuntimeWarning: This filename (../Source/Subjects/Ga_Fed_06/Epochs/LI_StimCor_B2_epochs.fif) does not conform to MNE naming conventions. All epochs files should end with -epo.fif, -epo.fif.gz, _epo.fif or _epo.fif.gz\n",
      "  epochs[session][current_lock].update({case: mne.read_epochs(os.path.join(subject_epochs, epoch))})\n",
      "/tmp/ipykernel_417285/3617874835.py:42: RuntimeWarning: This filename (../Source/Subjects/Ga_Fed_06/Epochs/RespCor_LI_B2_epochs.fif) does not conform to MNE naming conventions. All epochs files should end with -epo.fif, -epo.fif.gz, _epo.fif or _epo.fif.gz\n",
      "  epochs[session][current_lock].update({case: mne.read_epochs(os.path.join(subject_epochs, epoch))})\n",
      "/tmp/ipykernel_417285/3617874835.py:42: RuntimeWarning: This filename (../Source/Subjects/Ga_Fed_06/Epochs/RespCor_LI_B1_epochs.fif) does not conform to MNE naming conventions. All epochs files should end with -epo.fif, -epo.fif.gz, _epo.fif or _epo.fif.gz\n",
      "  epochs[session][current_lock].update({case: mne.read_epochs(os.path.join(subject_epochs, epoch))})\n"
     ]
    },
    {
     "name": "stdout",
     "output_type": "stream",
     "text": [
      "    Found the data of interest:\n",
      "        t =    -500.00 ...     500.00 ms\n",
      "        0 CTF compensation matrices available\n",
      "Not setting metadata\n",
      "Not setting metadata\n",
      "30 matching events found\n",
      "No baseline correction applied\n",
      "0 projection items activated\n",
      "Reading ../Source/Subjects/Ga_Fed_06/Epochs/RespCor_LM_B1_epochs.fif ...\n",
      "    Found the data of interest:\n",
      "        t =    -500.00 ...     500.00 ms\n",
      "        0 CTF compensation matrices available\n"
     ]
    },
    {
     "name": "stderr",
     "output_type": "stream",
     "text": [
      "/tmp/ipykernel_417285/3617874835.py:42: RuntimeWarning: This filename (../Source/Subjects/Ga_Fed_06/Epochs/RespCor_LM_B1_epochs.fif) does not conform to MNE naming conventions. All epochs files should end with -epo.fif, -epo.fif.gz, _epo.fif or _epo.fif.gz\n",
      "  epochs[session][current_lock].update({case: mne.read_epochs(os.path.join(subject_epochs, epoch))})\n"
     ]
    },
    {
     "name": "stdout",
     "output_type": "stream",
     "text": [
      "Not setting metadata\n",
      "Not setting metadata\n",
      "58 matching events found\n",
      "No baseline correction applied\n",
      "0 projection items activated\n",
      "Reading ../Source/Subjects/Ga_Fed_06/Epochs/RespCor_LM_B2_epochs.fif ...\n",
      "    Found the data of interest:\n",
      "        t =    -500.00 ...     500.00 ms\n",
      "        0 CTF compensation matrices available\n"
     ]
    },
    {
     "name": "stderr",
     "output_type": "stream",
     "text": [
      "/tmp/ipykernel_417285/3617874835.py:42: RuntimeWarning: This filename (../Source/Subjects/Ga_Fed_06/Epochs/RespCor_LM_B2_epochs.fif) does not conform to MNE naming conventions. All epochs files should end with -epo.fif, -epo.fif.gz, _epo.fif or _epo.fif.gz\n",
      "  epochs[session][current_lock].update({case: mne.read_epochs(os.path.join(subject_epochs, epoch))})\n"
     ]
    },
    {
     "name": "stdout",
     "output_type": "stream",
     "text": [
      "Not setting metadata\n",
      "Not setting metadata\n",
      "58 matching events found\n",
      "No baseline correction applied\n",
      "0 projection items activated\n",
      "Reading ../Source/Subjects/Ga_Fed_06/Epochs/RespCor_RI_B1_epochs.fif ...\n",
      "    Found the data of interest:\n",
      "        t =    -500.00 ...     500.00 ms\n",
      "        0 CTF compensation matrices available\n"
     ]
    },
    {
     "name": "stderr",
     "output_type": "stream",
     "text": [
      "/tmp/ipykernel_417285/3617874835.py:42: RuntimeWarning: This filename (../Source/Subjects/Ga_Fed_06/Epochs/RespCor_RI_B1_epochs.fif) does not conform to MNE naming conventions. All epochs files should end with -epo.fif, -epo.fif.gz, _epo.fif or _epo.fif.gz\n",
      "  epochs[session][current_lock].update({case: mne.read_epochs(os.path.join(subject_epochs, epoch))})\n"
     ]
    },
    {
     "name": "stdout",
     "output_type": "stream",
     "text": [
      "Not setting metadata\n",
      "Not setting metadata\n",
      "60 matching events found\n",
      "No baseline correction applied\n",
      "0 projection items activated\n",
      "Reading ../Source/Subjects/Ga_Fed_06/Epochs/RespCor_RI_B2_epochs.fif ...\n",
      "    Found the data of interest:\n",
      "        t =    -500.00 ...     500.00 ms\n",
      "        0 CTF compensation matrices available\n"
     ]
    },
    {
     "name": "stderr",
     "output_type": "stream",
     "text": [
      "/tmp/ipykernel_417285/3617874835.py:42: RuntimeWarning: This filename (../Source/Subjects/Ga_Fed_06/Epochs/RespCor_RI_B2_epochs.fif) does not conform to MNE naming conventions. All epochs files should end with -epo.fif, -epo.fif.gz, _epo.fif or _epo.fif.gz\n",
      "  epochs[session][current_lock].update({case: mne.read_epochs(os.path.join(subject_epochs, epoch))})\n"
     ]
    },
    {
     "name": "stdout",
     "output_type": "stream",
     "text": [
      "Not setting metadata\n",
      "Not setting metadata\n",
      "60 matching events found\n",
      "No baseline correction applied\n",
      "0 projection items activated\n",
      "Reading ../Source/Subjects/Ga_Fed_06/Epochs/RespCor_RM_B1_epochs.fif ...\n",
      "    Found the data of interest:\n",
      "        t =    -500.00 ...     500.00 ms\n",
      "        0 CTF compensation matrices available\n"
     ]
    },
    {
     "name": "stderr",
     "output_type": "stream",
     "text": [
      "/tmp/ipykernel_417285/3617874835.py:42: RuntimeWarning: This filename (../Source/Subjects/Ga_Fed_06/Epochs/RespCor_RM_B1_epochs.fif) does not conform to MNE naming conventions. All epochs files should end with -epo.fif, -epo.fif.gz, _epo.fif or _epo.fif.gz\n",
      "  epochs[session][current_lock].update({case: mne.read_epochs(os.path.join(subject_epochs, epoch))})\n"
     ]
    },
    {
     "name": "stdout",
     "output_type": "stream",
     "text": [
      "Not setting metadata\n",
      "Not setting metadata\n",
      "60 matching events found\n",
      "No baseline correction applied\n",
      "0 projection items activated\n",
      "Reading ../Source/Subjects/Ga_Fed_06/Epochs/RespCor_RM_B2_epochs.fif ...\n",
      "    Found the data of interest:\n",
      "        t =    -500.00 ...     500.00 ms\n",
      "        0 CTF compensation matrices available\n"
     ]
    },
    {
     "name": "stderr",
     "output_type": "stream",
     "text": [
      "/tmp/ipykernel_417285/3617874835.py:42: RuntimeWarning: This filename (../Source/Subjects/Ga_Fed_06/Epochs/RespCor_RM_B2_epochs.fif) does not conform to MNE naming conventions. All epochs files should end with -epo.fif, -epo.fif.gz, _epo.fif or _epo.fif.gz\n",
      "  epochs[session][current_lock].update({case: mne.read_epochs(os.path.join(subject_epochs, epoch))})\n"
     ]
    },
    {
     "name": "stdout",
     "output_type": "stream",
     "text": [
      "Not setting metadata\n",
      "Not setting metadata\n",
      "60 matching events found\n",
      "No baseline correction applied\n",
      "0 projection items activated\n",
      "  {\n",
      "   B1: {\n",
      "     StimCor: {\n",
      "       RI: <EpochsFIF |  60 events (all good), -0.3 - 0.7 sec, baseline off, ~98.6 MB, data loaded,\n",
      " '0': 60>,\n",
      "       LM: <EpochsFIF |  58 events (all good), -0.3 - 0.7 sec, baseline off, ~95.5 MB, data loaded,\n",
      " '0': 58>,\n",
      "       RM: <EpochsFIF |  60 events (all good), -0.3 - 0.7 sec, baseline off, ~98.6 MB, data loaded,\n",
      " '0': 60>,\n",
      "       LI: <EpochsFIF |  30 events (all good), -0.3 - 0.7 sec, baseline off, ~51.8 MB, data loaded,\n",
      " '0': 30>,\n",
      "      }\n",
      "     RespCor: {\n",
      "       LI: <EpochsFIF |  30 events (all good), -0.5 - 0.5 sec, baseline off, ~51.8 MB, data loaded,\n",
      " '0': 30>,\n",
      "       LM: <EpochsFIF |  58 events (all good), -0.5 - 0.5 sec, baseline off, ~95.5 MB, data loaded,\n",
      " '0': 58>,\n",
      "       RI: <EpochsFIF |  60 events (all good), -0.5 - 0.5 sec, baseline off, ~98.6 MB, data loaded,\n",
      " '0': 60>,\n",
      "       RM: <EpochsFIF |  60 events (all good), -0.5 - 0.5 sec, baseline off, ~98.6 MB, data loaded,\n",
      " '0': 60>,\n",
      "      }\n",
      "    }\n",
      "   B2: {\n",
      "     StimCor: {\n",
      "       RI: <EpochsFIF |  60 events (all good), -0.3 - 0.7 sec, baseline off, ~98.6 MB, data loaded,\n",
      " '0': 60>,\n",
      "       LM: <EpochsFIF |  58 events (all good), -0.3 - 0.7 sec, baseline off, ~95.5 MB, data loaded,\n",
      " '0': 58>,\n",
      "       RM: <EpochsFIF |  60 events (all good), -0.3 - 0.7 sec, baseline off, ~98.6 MB, data loaded,\n",
      " '0': 60>,\n",
      "       LI: <EpochsFIF |  30 events (all good), -0.3 - 0.7 sec, baseline off, ~51.8 MB, data loaded,\n",
      " '0': 30>,\n",
      "      }\n",
      "     RespCor: {\n",
      "       LI: <EpochsFIF |  30 events (all good), -0.5 - 0.5 sec, baseline off, ~51.8 MB, data loaded,\n",
      " '0': 30>,\n",
      "       LM: <EpochsFIF |  58 events (all good), -0.5 - 0.5 sec, baseline off, ~95.5 MB, data loaded,\n",
      " '0': 58>,\n",
      "       RI: <EpochsFIF |  60 events (all good), -0.5 - 0.5 sec, baseline off, ~98.6 MB, data loaded,\n",
      " '0': 60>,\n",
      "       RM: <EpochsFIF |  60 events (all good), -0.5 - 0.5 sec, baseline off, ~98.6 MB, data loaded,\n",
      " '0': 60>,\n",
      "      }\n",
      "    }\n",
      "  }\n",
      "\n"
     ]
    }
   ],
   "source": [
    "INCLUDED_SESSIONS = ['B1', 'B10']\n",
    "\n",
    "content_root = '../'\n",
    "subjects_folder_path = os.path.join(content_root, 'Source/Subjects')\n",
    "\n",
    "for subject_name in os.listdir(subjects_folder_path):\n",
    "    subject_path = os.path.join(subjects_folder_path, subject_name)\n",
    "\n",
    "    subject_epochs = os.path.join(subject_path, 'Epochs')\n",
    "    info_path  = os.path.join(subject_path, 'Info')\n",
    "    for address, dirs, files in os.walk(info_path):\n",
    "        if len(files) != 1:\n",
    "            raise OSError(\n",
    "                f'Several ({len(files)}) info files detected at {info_path}'\n",
    "            )\n",
    "        subject_info = pickle.load(\n",
    "                open(\n",
    "                    os.path.join(info_path, files[0]),\n",
    "                    'rb'\n",
    "                )\n",
    "            )\n",
    "        epochs = dict()\n",
    "        for epoch in os.listdir(subject_epochs):\n",
    "            session = re.findall(r'(_B\\d\\d?)', epoch)[0][1:]\n",
    "            if session not in INCLUDED_SESSIONS:\n",
    "                continue\n",
    "            if not session in epochs:\n",
    "                epochs.update({\n",
    "                    session: {}\n",
    "                })\n",
    "            current_lock = None\n",
    "            for lock in ['RespCor', 'StimCor']:\n",
    "                if lock in epoch:\n",
    "                    current_lock = lock\n",
    "            if current_lock not in epochs[session]:\n",
    "                epochs[session].update({current_lock: {}})\n",
    "            for case in ['LI', 'LM', 'RI', 'RM']:\n",
    "                if case in epoch:\n",
    "                    epochs[session][current_lock].update({case: mne.read_epochs(os.path.join(subject_epochs, epoch))})\n",
    "\n",
    "print(dict2str(epochs))\n"
   ]
  },
  {
   "cell_type": "code",
   "execution_count": null,
   "metadata": {
    "collapsed": false,
    "pycharm": {
     "name": "#%%\n"
    }
   },
   "outputs": [],
   "source": [
    "subject_path = os.path.join(subjects_folder_path, 'Az_Mar_05')\n",
    "raw_path = os.path.join(subject_path, 'Raw', 'ML_Subject05_P1_tsss_mc_trans.fif')\n",
    "resp_lock_lm_B1_epochs_path = os.path.join(subject_path, 'Epochs_old', 'resp_lock_lm_B1_epochs.fif')\n",
    "resp_lock_rm_B1_epochs_path = os.path.join(subject_path, 'Epochs_old', 'resp_lock_rm_B1_epochs.fif')\n",
    "resp_lock_li_B1_epochs_path = os.path.join(subject_path, 'Epochs_old', 'resp_lock_li_B1_epochs.fif')\n",
    "resp_lock_ri_B1_epochs_path = os.path.join(subject_path, 'Epochs_old', 'resp_lock_ri_B1_epochs.fif')\n",
    "\n",
    "resp_lock_lm_B1_epochs = mne.read_epochs(resp_lock_lm_B1_epochs_path)\n",
    "resp_lock_rm_B1_epochs = mne.read_epochs(resp_lock_rm_B1_epochs_path)\n",
    "resp_lock_li_B1_epochs = mne.read_epochs(resp_lock_li_B1_epochs_path)\n",
    "resp_lock_ri_B1_epochs = mne.read_epochs(resp_lock_ri_B1_epochs_path)"
   ]
  },
  {
   "cell_type": "code",
   "execution_count": 5,
   "metadata": {
    "collapsed": false,
    "pycharm": {
     "name": "#%%\n"
    }
   },
   "outputs": [
    {
     "name": "stdout",
     "output_type": "stream",
     "text": [
      "Opening raw data file ../Source/Subjects/Az_Mar_05/Raw/ML_Subject05_P1_tsss_mc_trans.fif...\n",
      "    Range : 25000 ... 1114999 =     25.000 ...  1114.999 secs\n",
      "Ready.\n"
     ]
    },
    {
     "name": "stderr",
     "output_type": "stream",
     "text": [
      "/tmp/ipykernel_364998/3205572953.py:19: RuntimeWarning: This filename (../Source/Subjects/Az_Mar_05/Raw/ML_Subject05_P1_tsss_mc_trans.fif) does not conform to MNE naming conventions. All raw files should end with raw.fif, raw_sss.fif, raw_tsss.fif, _meg.fif, _eeg.fif, _ieeg.fif, raw.fif.gz, raw_sss.fif.gz, raw_tsss.fif.gz, _meg.fif.gz, _eeg.fif.gz or _ieeg.fif.gz\n",
      "  original_data = mne.io.read_raw_fif(raw_file_path)\n"
     ]
    },
    {
     "ename": "TypeError",
     "evalue": "only size-1 arrays can be converted to Python scalars",
     "output_type": "error",
     "traceback": [
      "\u001b[0;31m---------------------------------------------------------------------------\u001b[0m",
      "\u001b[0;31mKeyError\u001b[0m                                  Traceback (most recent call last)",
      "\u001b[0;32m~/PycharmProjects/FingerMovementDecoder/venv/lib/python3.9/site-packages/mne/io/fieldtrip/utils.py\u001b[0m in \u001b[0;36m_set_sfreq\u001b[0;34m(ft_struct)\u001b[0m\n\u001b[1;32m    202\u001b[0m     \u001b[0;32mtry\u001b[0m\u001b[0;34m:\u001b[0m\u001b[0;34m\u001b[0m\u001b[0;34m\u001b[0m\u001b[0m\n\u001b[0;32m--> 203\u001b[0;31m         \u001b[0msfreq\u001b[0m \u001b[0;34m=\u001b[0m \u001b[0mft_struct\u001b[0m\u001b[0;34m[\u001b[0m\u001b[0;34m'fsample'\u001b[0m\u001b[0;34m]\u001b[0m\u001b[0;34m\u001b[0m\u001b[0;34m\u001b[0m\u001b[0m\n\u001b[0m\u001b[1;32m    204\u001b[0m     \u001b[0;32mexcept\u001b[0m \u001b[0mKeyError\u001b[0m\u001b[0;34m:\u001b[0m\u001b[0;34m\u001b[0m\u001b[0;34m\u001b[0m\u001b[0m\n",
      "\u001b[0;31mKeyError\u001b[0m: 'fsample'",
      "\nDuring handling of the above exception, another exception occurred:\n",
      "\u001b[0;31mTypeError\u001b[0m                                 Traceback (most recent call last)",
      "\u001b[0;32m/tmp/ipykernel_364998/3205572953.py\u001b[0m in \u001b[0;36m<module>\u001b[0;34m\u001b[0m\n\u001b[1;32m     19\u001b[0m \u001b[0moriginal_data\u001b[0m \u001b[0;34m=\u001b[0m \u001b[0mmne\u001b[0m\u001b[0;34m.\u001b[0m\u001b[0mio\u001b[0m\u001b[0;34m.\u001b[0m\u001b[0mread_raw_fif\u001b[0m\u001b[0;34m(\u001b[0m\u001b[0mraw_file_path\u001b[0m\u001b[0;34m)\u001b[0m\u001b[0;34m\u001b[0m\u001b[0;34m\u001b[0m\u001b[0m\n\u001b[1;32m     20\u001b[0m \u001b[0moriginal_info\u001b[0m \u001b[0;34m=\u001b[0m \u001b[0moriginal_data\u001b[0m\u001b[0;34m.\u001b[0m\u001b[0minfo\u001b[0m\u001b[0;34m\u001b[0m\u001b[0;34m\u001b[0m\u001b[0m\n\u001b[0;32m---> 21\u001b[0;31m \u001b[0mresp_lock_lm_B1_epochs\u001b[0m \u001b[0;34m=\u001b[0m \u001b[0mmne\u001b[0m\u001b[0;34m.\u001b[0m\u001b[0mread_epochs_fieldtrip\u001b[0m\u001b[0;34m(\u001b[0m\u001b[0mresp_lock_lm_B1_dat_ft_path\u001b[0m\u001b[0;34m,\u001b[0m \u001b[0minfo\u001b[0m\u001b[0;34m=\u001b[0m\u001b[0moriginal_info\u001b[0m\u001b[0;34m)\u001b[0m\u001b[0;34m\u001b[0m\u001b[0;34m\u001b[0m\u001b[0m\n\u001b[0m\u001b[1;32m     22\u001b[0m \u001b[0mresp_lock_rm_B1_epochs\u001b[0m \u001b[0;34m=\u001b[0m \u001b[0mmne\u001b[0m\u001b[0;34m.\u001b[0m\u001b[0mread_epochs_fieldtrip\u001b[0m\u001b[0;34m(\u001b[0m\u001b[0mresp_lock_rm_B1_dat_ft_path\u001b[0m\u001b[0;34m,\u001b[0m \u001b[0minfo\u001b[0m\u001b[0;34m=\u001b[0m\u001b[0moriginal_info\u001b[0m\u001b[0;34m)\u001b[0m\u001b[0;34m\u001b[0m\u001b[0;34m\u001b[0m\u001b[0m\n\u001b[1;32m     23\u001b[0m \u001b[0mresp_lock_li_B1_epochs\u001b[0m \u001b[0;34m=\u001b[0m \u001b[0mmne\u001b[0m\u001b[0;34m.\u001b[0m\u001b[0mread_epochs_fieldtrip\u001b[0m\u001b[0;34m(\u001b[0m\u001b[0mresp_lock_li_B1_dat_ft_path\u001b[0m\u001b[0;34m,\u001b[0m \u001b[0minfo\u001b[0m\u001b[0;34m=\u001b[0m\u001b[0moriginal_info\u001b[0m\u001b[0;34m)\u001b[0m\u001b[0;34m\u001b[0m\u001b[0;34m\u001b[0m\u001b[0m\n",
      "\u001b[0;32m~/PycharmProjects/FingerMovementDecoder/venv/lib/python3.9/site-packages/mne/io/fieldtrip/fieldtrip.py\u001b[0m in \u001b[0;36mread_epochs_fieldtrip\u001b[0;34m(fname, info, data_name, trialinfo_column)\u001b[0m\n\u001b[1;32m    120\u001b[0m     \u001b[0m_validate_ft_struct\u001b[0m\u001b[0;34m(\u001b[0m\u001b[0mft_struct\u001b[0m\u001b[0;34m)\u001b[0m\u001b[0;34m\u001b[0m\u001b[0;34m\u001b[0m\u001b[0m\n\u001b[1;32m    121\u001b[0m \u001b[0;34m\u001b[0m\u001b[0m\n\u001b[0;32m--> 122\u001b[0;31m     \u001b[0minfo\u001b[0m \u001b[0;34m=\u001b[0m \u001b[0m_create_info\u001b[0m\u001b[0;34m(\u001b[0m\u001b[0mft_struct\u001b[0m\u001b[0;34m,\u001b[0m \u001b[0minfo\u001b[0m\u001b[0;34m)\u001b[0m  \u001b[0;31m# create info structure\u001b[0m\u001b[0;34m\u001b[0m\u001b[0;34m\u001b[0m\u001b[0m\n\u001b[0m\u001b[1;32m    123\u001b[0m     \u001b[0mdata\u001b[0m \u001b[0;34m=\u001b[0m \u001b[0mnp\u001b[0m\u001b[0;34m.\u001b[0m\u001b[0marray\u001b[0m\u001b[0;34m(\u001b[0m\u001b[0mft_struct\u001b[0m\u001b[0;34m[\u001b[0m\u001b[0;34m'trial'\u001b[0m\u001b[0;34m]\u001b[0m\u001b[0;34m)\u001b[0m  \u001b[0;31m# create the epochs data array\u001b[0m\u001b[0;34m\u001b[0m\u001b[0;34m\u001b[0m\u001b[0m\n\u001b[1;32m    124\u001b[0m     \u001b[0mevents\u001b[0m \u001b[0;34m=\u001b[0m \u001b[0m_create_events\u001b[0m\u001b[0;34m(\u001b[0m\u001b[0mft_struct\u001b[0m\u001b[0;34m,\u001b[0m \u001b[0mtrialinfo_column\u001b[0m\u001b[0;34m)\u001b[0m\u001b[0;34m\u001b[0m\u001b[0;34m\u001b[0m\u001b[0m\n",
      "\u001b[0;32m~/PycharmProjects/FingerMovementDecoder/venv/lib/python3.9/site-packages/mne/io/fieldtrip/utils.py\u001b[0m in \u001b[0;36m_create_info\u001b[0;34m(ft_struct, raw_info)\u001b[0m\n\u001b[1;32m     42\u001b[0m         \u001b[0mwarn\u001b[0m\u001b[0;34m(\u001b[0m\u001b[0mNOINFO_WARNING\u001b[0m\u001b[0;34m)\u001b[0m\u001b[0;34m\u001b[0m\u001b[0;34m\u001b[0m\u001b[0m\n\u001b[1;32m     43\u001b[0m \u001b[0;34m\u001b[0m\u001b[0m\n\u001b[0;32m---> 44\u001b[0;31m     \u001b[0msfreq\u001b[0m \u001b[0;34m=\u001b[0m \u001b[0m_set_sfreq\u001b[0m\u001b[0;34m(\u001b[0m\u001b[0mft_struct\u001b[0m\u001b[0;34m)\u001b[0m\u001b[0;34m\u001b[0m\u001b[0;34m\u001b[0m\u001b[0m\n\u001b[0m\u001b[1;32m     45\u001b[0m     \u001b[0mch_names\u001b[0m \u001b[0;34m=\u001b[0m \u001b[0mft_struct\u001b[0m\u001b[0;34m[\u001b[0m\u001b[0;34m'label'\u001b[0m\u001b[0;34m]\u001b[0m\u001b[0;34m\u001b[0m\u001b[0;34m\u001b[0m\u001b[0m\n\u001b[1;32m     46\u001b[0m     \u001b[0;32mif\u001b[0m \u001b[0mraw_info\u001b[0m\u001b[0;34m:\u001b[0m\u001b[0;34m\u001b[0m\u001b[0;34m\u001b[0m\u001b[0m\n",
      "\u001b[0;32m~/PycharmProjects/FingerMovementDecoder/venv/lib/python3.9/site-packages/mne/io/fieldtrip/utils.py\u001b[0m in \u001b[0;36m_set_sfreq\u001b[0;34m(ft_struct)\u001b[0m\n\u001b[1;32m    208\u001b[0m             \u001b[0;32mraise\u001b[0m \u001b[0mValueError\u001b[0m\u001b[0;34m(\u001b[0m\u001b[0;34m'No Source for sfreq found'\u001b[0m\u001b[0;34m)\u001b[0m\u001b[0;34m\u001b[0m\u001b[0;34m\u001b[0m\u001b[0m\n\u001b[1;32m    209\u001b[0m         \u001b[0;32melse\u001b[0m\u001b[0;34m:\u001b[0m\u001b[0;34m\u001b[0m\u001b[0;34m\u001b[0m\u001b[0m\n\u001b[0;32m--> 210\u001b[0;31m             \u001b[0mt1\u001b[0m\u001b[0;34m,\u001b[0m \u001b[0mt2\u001b[0m \u001b[0;34m=\u001b[0m \u001b[0mfloat\u001b[0m\u001b[0;34m(\u001b[0m\u001b[0mtime\u001b[0m\u001b[0;34m[\u001b[0m\u001b[0;36m0\u001b[0m\u001b[0;34m]\u001b[0m\u001b[0;34m)\u001b[0m\u001b[0;34m,\u001b[0m \u001b[0mfloat\u001b[0m\u001b[0;34m(\u001b[0m\u001b[0mtime\u001b[0m\u001b[0;34m[\u001b[0m\u001b[0;36m1\u001b[0m\u001b[0;34m]\u001b[0m\u001b[0;34m)\u001b[0m\u001b[0;34m\u001b[0m\u001b[0;34m\u001b[0m\u001b[0m\n\u001b[0m\u001b[1;32m    211\u001b[0m             \u001b[0msfreq\u001b[0m \u001b[0;34m=\u001b[0m \u001b[0;36m1\u001b[0m \u001b[0;34m/\u001b[0m \u001b[0;34m(\u001b[0m\u001b[0mt2\u001b[0m \u001b[0;34m-\u001b[0m \u001b[0mt1\u001b[0m\u001b[0;34m)\u001b[0m\u001b[0;34m\u001b[0m\u001b[0;34m\u001b[0m\u001b[0m\n\u001b[1;32m    212\u001b[0m     \u001b[0;32mtry\u001b[0m\u001b[0;34m:\u001b[0m\u001b[0;34m\u001b[0m\u001b[0;34m\u001b[0m\u001b[0m\n",
      "\u001b[0;31mTypeError\u001b[0m: only size-1 arrays can be converted to Python scalars"
     ]
    }
   ],
   "source": [
    "content_root = '../'\n",
    "subjects_folder_path = os.path.join(content_root, 'Source/Subjects')\n",
    "subject_path = os.path.join(subjects_folder_path, 'Az_Mar_05')\n",
    "raw_folder_path = os.path.join(subject_path, 'Raw')\n",
    "raw_file_path = os.path.join(raw_folder_path, 'ML_Subject05_P1_tsss_mc_trans.fif')\n",
    "resp_lock_path = os.path.join(subject_path, 'RespLock')\n",
    "resp_lock_lm_path = os.path.join(resp_lock_path, 'LM')\n",
    "resp_lock_rm_path = os.path.join(resp_lock_path, 'RM')\n",
    "resp_lock_li_path = os.path.join(resp_lock_path, 'LI')\n",
    "resp_lock_ri_path = os.path.join(resp_lock_path, 'RI')\n",
    "resp_cor_lm_B1_path = os.path.join(resp_lock_lm_path, 'RespCor_LM_B1')\n",
    "resp_cor_rm_B1_path = os.path.join(resp_lock_rm_path, 'RespCor_RM_B1')\n",
    "resp_cor_li_B1_path = os.path.join(resp_lock_li_path, 'RespCor_LI_B1')\n",
    "resp_cor_ri_B1_path = os.path.join(resp_lock_ri_path, 'RespCor_RI_B1')\n",
    "resp_lock_lm_B1_dat_ft_path = os.path.join(resp_cor_lm_B1_path, 'dat_ft.mat')\n",
    "resp_lock_rm_B1_dat_ft_path = os.path.join(resp_cor_rm_B1_path, 'dat_ft.mat')\n",
    "resp_lock_li_B1_dat_ft_path = os.path.join(resp_cor_li_B1_path, 'dat_ft.mat')\n",
    "resp_lock_ri_B1_dat_ft_path = os.path.join(resp_cor_ri_B1_path, 'dat_ft.mat')\n",
    "original_data = mne.io.read_raw_fif(raw_file_path)\n",
    "original_info = original_data.info\n",
    "resp_lock_lm_B1_epochs = mne.read_epochs_fieldtrip(resp_lock_lm_B1_dat_ft_path, info=original_info)\n",
    "resp_lock_rm_B1_epochs = mne.read_epochs_fieldtrip(resp_lock_rm_B1_dat_ft_path, info=original_info)\n",
    "resp_lock_li_B1_epochs = mne.read_epochs_fieldtrip(resp_lock_li_B1_dat_ft_path, info=original_info)\n",
    "resp_lock_ri_B1_epochs = mne.read_epochs_fieldtrip(resp_lock_ri_B1_dat_ft_path, info=original_info)"
   ]
  },
  {
   "cell_type": "code",
   "execution_count": 9,
   "metadata": {
    "collapsed": false,
    "pycharm": {
     "name": "#%%\n"
    }
   },
   "outputs": [
    {
     "name": "stdout",
     "output_type": "stream",
     "text": [
      "30 30\n"
     ]
    }
   ],
   "source": [
    "data = resp_lock_lm_B1_epochs[-1].get_data()\n",
    "\n"
   ]
  },
  {
   "cell_type": "code",
   "execution_count": 16,
   "metadata": {
    "collapsed": false,
    "pycharm": {
     "name": "#%%\n"
    }
   },
   "outputs": [
    {
     "data": {
      "image/png": "[encoded data removed]",
      "text/plain": [
       "<MNEBrowseFigure size 432x288 with 4 Axes>"
      ]
     },
     "metadata": {
      "needs_background": "light"
     },
     "output_type": "display_data"
    },
    {
     "data": {
      "image/png": "[encoded data removed]",
      "text/plain": [
       "<MNEBrowseFigure size 432x288 with 4 Axes>"
      ]
     },
     "execution_count": 16,
     "metadata": {},
     "output_type": "execute_result"
    }
   ],
   "source": [
    "resp_lock_lm_B1_epochs[-1].plot(n_epochs=1)"
   ]
  },
  {
   "cell_type": "code",
   "execution_count": null,
   "metadata": {
    "collapsed": false,
    "pycharm": {
     "name": "#%%\n"
    }
   },
   "outputs": [],
   "source": [
    "resp_lock_lm_B1_epochs.events"
   ]
  },
  {
   "cell_type": "code",
   "execution_count": 4,
   "metadata": {
    "collapsed": false,
    "pycharm": {
     "name": "#%%\n"
    }
   },
   "outputs": [
    {
     "data": {
      "text/plain": [
       "(17724,)"
      ]
     },
     "execution_count": 4,
     "metadata": {},
     "output_type": "execute_result"
    }
   ],
   "source": [
    "(resp_lock_lm_B1_epochs.info['events'][0]['list']).shape"
   ]
  },
  {
   "cell_type": "code",
   "execution_count": 5,
   "metadata": {
    "collapsed": false,
    "pycharm": {
     "name": "#%%\n"
    }
   },
   "outputs": [
    {
     "name": "stdout",
     "output_type": "stream",
     "text": [
      "Not setting metadata\n",
      "Not setting metadata\n",
      "30 matching events found\n",
      "No baseline correction applied\n",
      "0 projection items activated\n",
      "0 bad epochs dropped\n",
      "Not setting metadata\n",
      "Not setting metadata\n",
      "30 matching events found\n",
      "No baseline correction applied\n",
      "0 projection items activated\n",
      "0 bad epochs dropped\n"
     ]
    },
    {
     "data": {
      "image/png": "[encoded data removed]",
      "text/plain": [
       "<Figure size 432x288 with 4 Axes>"
      ]
     },
     "metadata": {
      "needs_background": "light"
     },
     "output_type": "display_data"
    },
    {
     "data": {
      "image/png": "[encoded data removed]",
      "text/plain": [
       "<Figure size 432x288 with 4 Axes>"
      ]
     },
     "metadata": {
      "needs_background": "light"
     },
     "output_type": "display_data"
    },
    {
     "data": {
      "text/plain": [
       "[<Figure size 432x288 with 4 Axes>, <Figure size 432x288 with 4 Axes>]"
      ]
     },
     "execution_count": 5,
     "metadata": {},
     "output_type": "execute_result"
    }
   ],
   "source": [
    "resp_lock_lm_B1_epochs.plot_image(picks=['MEG1132','MEG0442'])"
   ]
  },
  {
   "cell_type": "code",
   "execution_count": 6,
   "metadata": {
    "collapsed": false,
    "pycharm": {
     "name": "#%%\n"
    }
   },
   "outputs": [
    {
     "data": {
      "text/plain": [
       "(30, 1, 1001)"
      ]
     },
     "execution_count": 6,
     "metadata": {},
     "output_type": "execute_result"
    }
   ],
   "source": [
    "resp_lock_lm_B1_epochs.get_data(picks=['MEG1132']).shape"
   ]
  },
  {
   "cell_type": "code",
   "execution_count": 11,
   "metadata": {
    "collapsed": false,
    "pycharm": {
     "name": "#%%\n"
    }
   },
   "outputs": [
    {
     "name": "stdout",
     "output_type": "stream",
     "text": [
      "[[ 0  0  0]\n",
      " [ 1  0  0]\n",
      " [ 2  0  0]\n",
      " [ 3  0  0]\n",
      " [ 4  0  0]\n",
      " [ 5  0  0]\n",
      " [ 6  0  0]\n",
      " [ 7  0  0]\n",
      " [ 8  0  0]\n",
      " [ 9  0  0]\n",
      " [10  0  0]\n",
      " [11  0  0]\n",
      " [12  0  0]\n",
      " [13  0  0]\n",
      " [14  0  0]\n",
      " [15  0  0]\n",
      " [16  0  0]\n",
      " [17  0  0]\n",
      " [18  0  0]\n",
      " [19  0  0]\n",
      " [20  0  0]\n",
      " [21  0  0]\n",
      " [22  0  0]\n",
      " [23  0  0]\n",
      " [24  0  0]\n",
      " [25  0  0]\n",
      " [26  0  0]\n",
      " [27  0  0]\n",
      " [28  0  0]\n",
      " [29  0  0]]\n",
      "[[ 0  0  0]\n",
      " [ 1  0  0]\n",
      " [ 2  0  0]\n",
      " [ 3  0  0]\n",
      " [ 4  0  0]\n",
      " [ 5  0  0]\n",
      " [ 6  0  0]\n",
      " [ 7  0  0]\n",
      " [ 8  0  0]\n",
      " [ 9  0  0]\n",
      " [10  0  0]\n",
      " [11  0  0]\n",
      " [12  0  0]\n",
      " [13  0  0]\n",
      " [14  0  0]\n",
      " [15  0  0]\n",
      " [16  0  0]\n",
      " [17  0  0]\n",
      " [18  0  0]\n",
      " [19  0  0]\n",
      " [20  0  0]\n",
      " [21  0  0]\n",
      " [22  0  0]\n",
      " [23  0  0]\n",
      " [24  0  0]\n",
      " [25  0  0]\n",
      " [26  0  0]\n",
      " [27  0  0]\n",
      " [28  0  0]\n",
      " [29  0  0]]\n"
     ]
    }
   ],
   "source": [
    "# epochs = resp_lock_rm_B1_epochs + resp_lock_lm_B1_epochs\n",
    "print(resp_lock_lm_B1_epochs.events)\n",
    "print(resp_lock_rm_B1_epochs.events)"
   ]
  },
  {
   "cell_type": "code",
   "execution_count": 2,
   "metadata": {
    "collapsed": false,
    "pycharm": {
     "name": "#%%\n"
    }
   },
   "outputs": [
    {
     "name": "stderr",
     "output_type": "stream",
     "text": [
      "/tmp/ipykernel_129499/2139980030.py:1: RuntimeWarning: This filename (../Source/Subjects/Az_Mar_05/Epochs/resp_lock_ri_B1_epochs.fif) does not conform to MNE naming conventions. All epochs files should end with -epo.fif, -epo.fif.gz, _epo.fif or _epo.fif.gz\n",
      "  resp_lock_ri_B1_epochs.save(os.path.join(subject_path, 'Epochs', 'resp_lock_ri_B1_epochs.fif'))\n",
      "/tmp/ipykernel_129499/2139980030.py:2: RuntimeWarning: This filename (../Source/Subjects/Az_Mar_05/Epochs/resp_lock_li_B1_epochs.fif) does not conform to MNE naming conventions. All epochs files should end with -epo.fif, -epo.fif.gz, _epo.fif or _epo.fif.gz\n",
      "  resp_lock_li_B1_epochs.save(os.path.join(subject_path, 'Epochs', 'resp_lock_li_B1_epochs.fif'))\n"
     ]
    }
   ],
   "source": [
    "resp_lock_rm_B1_epochs.save(os.path.join(subject_path, 'Epochs', 'resp_lock_rm_B1_epochs.fif'))\n",
    "resp_lock_lm_B1_epochs.save(os.path.join(subject_path, 'Epochs', 'resp_lock_lm_B1_epochs.fif'))\n",
    "resp_lock_ri_B1_epochs.save(os.path.join(subject_path, 'Epochs', 'resp_lock_ri_B1_epochs.fif'))\n",
    "resp_lock_li_B1_epochs.save(os.path.join(subject_path, 'Epochs', 'resp_lock_li_B1_epochs.fif'))\n"
   ]
  },
  {
   "cell_type": "code",
   "execution_count": 11,
   "metadata": {
    "collapsed": false,
    "pycharm": {
     "name": "#%%\n"
    }
   },
   "outputs": [
    {
     "name": "stderr",
     "output_type": "stream",
     "text": [
      "/home/user/PycharmProjects/FingerMovementDecoder/venv/lib/python3.9/site-packages/mne/io/fieldtrip/fieldtrip.py:123: VisibleDeprecationWarning: Creating an ndarray from ragged nested sequences (which is a list-or-tuple of lists-or-tuples-or ndarrays with different lengths or shapes) is deprecated. If you meant to do this, you must specify 'dtype=object' when creating the ndarray.\n",
      "  data = np.array(ft_struct['trial'])  # create the epochs data array\n"
     ]
    },
    {
     "name": "stdout",
     "output_type": "stream",
     "text": [
      "Epochs for RI_StimCor_B2 can not be read due to <class 'ValueError'>\n",
      "could not broadcast input array from shape (204,501) into shape (204,)\n",
      "\n",
      "Epochs for RM_StimCor_B2 can not be read due to <class 'ValueError'>\n",
      "could not broadcast input array from shape (204,501) into shape (204,)\n",
      "\n",
      "Epochs for RespCor_LI_B2 can not be read due to <class 'ValueError'>\n",
      "could not broadcast input array from shape (204,501) into shape (204,)\n",
      "\n",
      "Epochs for RespCor_LI_B3 can not be read due to <class 'ValueError'>\n",
      "could not broadcast input array from shape (204,1001) into shape (204,)\n",
      "\n",
      "Epochs for RespCor_RI_B2 can not be read due to <class 'ValueError'>\n",
      "could not broadcast input array from shape (204,501) into shape (204,)\n",
      "\n",
      "Epochs for RespCor_RI_B3 can not be read due to <class 'ValueError'>\n",
      "could not broadcast input array from shape (204,1001) into shape (204,)\n",
      "\n",
      "Epochs for RespCor_LM_B2 can not be read due to <class 'ValueError'>\n",
      "could not broadcast input array from shape (204,501) into shape (204,)\n",
      "\n",
      "Epochs for RespCor_LM_B3 can not be read due to <class 'ValueError'>\n",
      "could not broadcast input array from shape (204,1001) into shape (204,)\n",
      "\n",
      "Epochs for RespCor_RM_B2 can not be read due to <class 'ValueError'>\n",
      "could not broadcast input array from shape (204,501) into shape (204,)\n",
      "\n"
     ]
    }
   ],
   "source": [
    "content_root = '../'\n",
    "subjects_folder_path = os.path.join(content_root, 'Source/Subjects')\n",
    "\n",
    "subjects_dirs = [\n",
    "    os.path.join(subjects_folder_path, address)\n",
    "    for address in os.listdir(subjects_folder_path)\n",
    "]\n",
    "\n",
    "n_trials = 10\n",
    "sessions = [\n",
    "    f'B{i}'\n",
    "    for i in range(n_trials)\n",
    "]\n",
    "\n",
    "for subject_path in [\n",
    "    os.path.join(subjects_folder_path, address)\n",
    "    for address in os.listdir(subjects_folder_path)\n",
    "]:\n",
    "    for address, _, files in os.walk(os.path.join(subject_path, 'Raw')):\n",
    "        info_path = os.path.join(subject_path, 'Info')\n",
    "        check_path(info_path)\n",
    "        if os.path.exists(\n",
    "                os.path.join(info_path, f'{files[0][:-4]}_info.pkl')\n",
    "        ):\n",
    "            subject_info = pickle.load(\n",
    "                open(\n",
    "                    os.path.join(info_path, f'{files[0][:-4]}_info.pkl'),\n",
    "                    'rb'\n",
    "                )\n",
    "            )\n",
    "        else:\n",
    "            subject_info = mne.io.read_raw_fif(os.path.join(address, files[0])).info\n",
    "            pickle.dump(subject_info, open(os.path.join(info_path, f'{files[0][:-4]}_info.pkl'), 'wb'))\n",
    "            print(f'Raw info saved at {os.path.join(info_path, f\"{files[0][:-4]}_info.pkl\")}')\n",
    "            print(f'{files[0]} can be removed')\n",
    "\n",
    "    for lock in ['StimLock', 'RespLock']:\n",
    "        subject_lock = os.path.join(subject_path, lock)\n",
    "        for case in os.listdir(subject_lock):\n",
    "            subject_lock_case = os.path.join(subject_lock, case)\n",
    "            for subject_lock_session in os.listdir(subject_lock_case):\n",
    "                # print(subject_lock_session)\n",
    "                subject_epochs = os.path.join(subject_path, 'Epochs')\n",
    "                check_path(subject_epochs)\n",
    "                if not os.path.exists(os.path.join(\n",
    "                        subject_epochs, f'{subject_lock_session}_epochs.fif'\n",
    "                    )):\n",
    "                    dat_mat_path = os.path.join(subject_lock_case, subject_lock_session, 'dat_ft.mat')\n",
    "                    try:\n",
    "                        epochs = mne.read_epochs_fieldtrip(dat_mat_path, info=subject_info)\n",
    "                    except ValueError as err:\n",
    "                        print(f'Epochs for {subject_lock_session} can not be read due to {type(err)}\\n{err}\\n')\n",
    "                        continue\n",
    "                    epochs.save(\n",
    "                        os.path.join(\n",
    "                            subject_epochs, f'{subject_lock_session}_epochs.fif'\n",
    "                        )\n",
    "                    )"
   ]
  },
  {
   "cell_type": "code",
   "execution_count": 3,
   "metadata": {
    "collapsed": false,
    "pycharm": {
     "name": "#%%\n"
    }
   },
   "outputs": [
    {
     "name": "stdout",
     "output_type": "stream",
     "text": [
      "Skip subject Ga_Fed_06\n",
      "Reading ../Source/Subjects/Fe_To_08/Epochs/RespCor_LI_B10_epochs.fif ...\n",
      "    Found the data of interest:\n",
      "        t =    -500.00 ...     500.00 ms\n",
      "        0 CTF compensation matrices available\n",
      "Not setting metadata\n",
      "Not setting metadata\n",
      "30 matching events found\n",
      "No baseline correction applied\n",
      "0 projection items activated\n",
      "Reading ../Source/Subjects/Fe_To_08/Epochs/RespCor_LM_B10_epochs.fif ...\n"
     ]
    },
    {
     "name": "stderr",
     "output_type": "stream",
     "text": [
      "/tmp/ipykernel_1245405/3548622120.py:50: RuntimeWarning: This filename (../Source/Subjects/Fe_To_08/Epochs/RespCor_LI_B10_epochs.fif) does not conform to MNE naming conventions. All epochs files should end with -epo.fif, -epo.fif.gz, _epo.fif or _epo.fif.gz\n",
      "  {case: mne.read_epochs(os.path.join(subject_epochs, epoch))})\n",
      "/tmp/ipykernel_1245405/3548622120.py:50: RuntimeWarning: This filename (../Source/Subjects/Fe_To_08/Epochs/RespCor_LM_B10_epochs.fif) does not conform to MNE naming conventions. All epochs files should end with -epo.fif, -epo.fif.gz, _epo.fif or _epo.fif.gz\n",
      "  {case: mne.read_epochs(os.path.join(subject_epochs, epoch))})\n"
     ]
    },
    {
     "name": "stdout",
     "output_type": "stream",
     "text": [
      "    Found the data of interest:\n",
      "        t =    -500.00 ...     500.00 ms\n",
      "        0 CTF compensation matrices available\n",
      "Not setting metadata\n",
      "Not setting metadata\n",
      "30 matching events found\n",
      "No baseline correction applied\n",
      "0 projection items activated\n",
      "Reading ../Source/Subjects/Fe_To_08/Epochs/RespCor_RI_B10_epochs.fif ...\n",
      "    Found the data of interest:\n",
      "        t =    -500.00 ...     500.00 ms\n",
      "        0 CTF compensation matrices available\n",
      "Not setting metadata\n",
      "Not setting metadata\n",
      "30 matching events found\n",
      "No baseline correction applied\n",
      "0 projection items activated\n",
      "Reading ../Source/Subjects/Fe_To_08/Epochs/RespCor_RM_B10_epochs.fif ...\n"
     ]
    },
    {
     "name": "stderr",
     "output_type": "stream",
     "text": [
      "/tmp/ipykernel_1245405/3548622120.py:50: RuntimeWarning: This filename (../Source/Subjects/Fe_To_08/Epochs/RespCor_RI_B10_epochs.fif) does not conform to MNE naming conventions. All epochs files should end with -epo.fif, -epo.fif.gz, _epo.fif or _epo.fif.gz\n",
      "  {case: mne.read_epochs(os.path.join(subject_epochs, epoch))})\n",
      "/tmp/ipykernel_1245405/3548622120.py:50: RuntimeWarning: This filename (../Source/Subjects/Fe_To_08/Epochs/RespCor_RM_B10_epochs.fif) does not conform to MNE naming conventions. All epochs files should end with -epo.fif, -epo.fif.gz, _epo.fif or _epo.fif.gz\n",
      "  {case: mne.read_epochs(os.path.join(subject_epochs, epoch))})\n"
     ]
    },
    {
     "name": "stdout",
     "output_type": "stream",
     "text": [
      "    Found the data of interest:\n",
      "        t =    -500.00 ...     500.00 ms\n",
      "        0 CTF compensation matrices available\n",
      "Not setting metadata\n",
      "Not setting metadata\n",
      "30 matching events found\n",
      "No baseline correction applied\n",
      "0 projection items activated\n",
      "Skip subject Az_Mar_05\n"
     ]
    }
   ],
   "source": [
    "EXCLUDED_SESSIONS = ['B10']\n",
    "EXCLUDED_SUBJECTS = ['Az_Mar_05', 'Ga_Fed_06']\n",
    "EXCLUDED_LOCKS = ['StimCor']\n",
    "\n",
    "content_root = '../'\n",
    "subjects_folder_path = os.path.join(content_root, 'Source/Subjects')\n",
    "\n",
    "for subject_name in os.listdir(subjects_folder_path):\n",
    "    if subject_name in EXCLUDED_SUBJECTS:\n",
    "        print(f'Skip subject {subject_name}')\n",
    "        continue\n",
    "    subject_path = os.path.join(subjects_folder_path, subject_name)\n",
    "\n",
    "    subject_epochs = os.path.join(subject_path, 'Epochs')\n",
    "    info_path = os.path.join(subject_path, 'Info')\n",
    "    for address, dirs, files in os.walk(info_path):\n",
    "        if len(files) != 1:\n",
    "            raise OSError(\n",
    "                f'Several ({len(files)}) info files detected at {info_path}'\n",
    "            )\n",
    "        subject_info = pickle.load(\n",
    "            open(\n",
    "                os.path.join(info_path, files[0]),\n",
    "                'rb'\n",
    "            )\n",
    "        )\n",
    "        epochs = dict()\n",
    "        for epoch in os.listdir(subject_epochs):\n",
    "            session = re.findall(r'(_B\\d\\d?)', epoch)[0][1:]\n",
    "            if session in EXCLUDED_SESSIONS:\n",
    "                continue\n",
    "            if not session in epochs:\n",
    "                epochs.update({\n",
    "                    session: {}\n",
    "                })\n",
    "            current_lock = None\n",
    "            for lock in ['RespCor', 'StimCor']:\n",
    "                if lock in epoch:\n",
    "                    current_lock = lock\n",
    "            if current_lock in EXCLUDED_LOCKS:\n",
    "                continue\n",
    "            if current_lock not in epochs[session] and current_lock is not None:\n",
    "                epochs[session].update({current_lock: {}})\n",
    "            elif current_lock is None:\n",
    "                raise ValueError('This case is not RespCor nor StimCor')\n",
    "            for case in ['LI', 'LM', 'RI', 'RM']:\n",
    "                if case in epoch:\n",
    "                    if case not in epochs[session][current_lock]:\n",
    "                        epochs[session][current_lock].update(\n",
    "                            {case: mne.read_epochs(os.path.join(subject_epochs, epoch))})\n",
    "                    else:\n",
    "                        print(f'\\nThe case \\\"{case}\\\" already in epoch {epoch}, skipping via the conflict\\n')"
   ]
  },
  {
   "cell_type": "code",
   "execution_count": 7,
   "metadata": {
    "collapsed": false,
    "pycharm": {
     "name": "#%%\n"
    }
   },
   "outputs": [
    {
     "name": "stdout",
     "output_type": "stream",
     "text": [
      "  {\n",
      "   B10: {\n",
      "     RespCor: {\n",
      "       LI: <EpochsFIF |  30 events (all good), -0.5 - 0.5 sec, baseline off, ~51.8 MB, data loaded,\n",
      " '0': 30>,\n",
      "       LM: <EpochsFIF |  30 events (all good), -0.5 - 0.5 sec, baseline off, ~51.8 MB, data loaded,\n",
      " '0': 30>,\n",
      "       RI: <EpochsFIF |  30 events (all good), -0.5 - 0.5 sec, baseline off, ~51.8 MB, data loaded,\n",
      " '0': 30>,\n",
      "       RM: <EpochsFIF |  30 events (all good), -0.5 - 0.5 sec, baseline off, ~51.8 MB, data loaded,\n",
      " '0': 30>,\n",
      "      }\n",
      "    }\n",
      "  }\n",
      "\n"
     ]
    }
   ],
   "source": [
    "print(dict2str(epochs))"
   ]
  }
 ],
 "metadata": {
  "kernelspec": {
   "display_name": "Python 3",
   "language": "python",
   "name": "python3"
  },
  "language_info": {
   "codemirror_mode": {
    "name": "ipython",
    "version": 3
   },
   "file_extension": ".py",
   "mimetype": "text/x-python",
   "name": "python",
   "nbconvert_exporter": "python",
   "pygments_lexer": "ipython3",
   "version": "3.9.10"
  }
 },
 "nbformat": 4,
 "nbformat_minor": 0
}
