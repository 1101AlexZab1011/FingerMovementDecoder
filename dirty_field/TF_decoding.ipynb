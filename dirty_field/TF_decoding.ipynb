{
 "cells": [
  {
   "cell_type": "code",
   "execution_count": 1,
   "metadata": {
    "collapsed": true
   },
   "outputs": [],
   "source": [
    "import time\n",
    "import numpy as np\n",
    "import matplotlib.pyplot as plt\n",
    "import os\n",
    "import mne\n",
    "\n",
    "from mne import Epochs, create_info, events_from_annotations\n",
    "from mne.io import concatenate_raws, read_raw_edf\n",
    "from mne.datasets import eegbci\n",
    "from mne.decoding import CSP\n",
    "from mne.time_frequency import AverageTFR\n",
    "\n",
    "from sklearn.discriminant_analysis import LinearDiscriminantAnalysis\n",
    "from sklearn.model_selection import StratifiedKFold, cross_val_score\n",
    "from sklearn.pipeline import make_pipeline\n",
    "from sklearn.preprocessing import LabelEncoder\n",
    "from sklearn.linear_model import LogisticRegression\n",
    "from typing import Union\n",
    "from utils.beep import Beeper\n",
    "from sklearn.base import BaseEstimator\n",
    "from abc import ABC, abstractmethod\n",
    "from typing import Optional, Iterable, Generator, Callable\n",
    "from mne import EpochsArray\n",
    "from collections import UserDict, UserList\n",
    "from combiners import EpochsCombiner"
   ]
  },
  {
   "cell_type": "code",
   "execution_count": 2,
   "outputs": [],
   "source": [
    "sad_beep = Beeper(duration=[.1, .15, .25], frequency=[280, 240, 190], repeat=3)\n",
    "happy_beep = Beeper(duration=[.1, .1, .15, .25], frequency=[400, 370, 470, 500], repeat=4)"
   ],
   "metadata": {
    "collapsed": false,
    "pycharm": {
     "name": "#%%\n"
    }
   }
  },
  {
   "cell_type": "code",
   "execution_count": 6,
   "outputs": [],
   "source": [
    "content_root = '../'\n",
    "subjects_folder_path = os.path.join(content_root, 'Source/Subjects')\n",
    "subject_path = os.path.join(subjects_folder_path, 'Az_Mar_05')\n",
    "info_path = os.path.join(subject_path, 'Info', 'ML_Subject05_P1_tsss_mc_trans_info.pkl')\n",
    "resp_lock_lm_B1_epochs_path = os.path.join(subject_path, 'Epochs', 'RespCor_LM_B1_epochs.fif')\n",
    "resp_lock_rm_B1_epochs_path = os.path.join(subject_path, 'Epochs', 'RespCor_RM_B1_epochs.fif')\n",
    "resp_lock_li_B1_epochs_path = os.path.join(subject_path, 'Epochs', 'RespCor_LI_B1_epochs.fif')\n",
    "resp_lock_ri_B1_epochs_path = os.path.join(subject_path, 'Epochs', 'RespCor_RI_B1_epochs.fif')"
   ],
   "metadata": {
    "collapsed": false,
    "pycharm": {
     "name": "#%%\n"
    }
   }
  },
  {
   "cell_type": "code",
   "execution_count": 7,
   "outputs": [
    {
     "name": "stdout",
     "output_type": "stream",
     "text": [
      "Reading ../Source/Subjects/Az_Mar_05/Epochs/RespCor_LM_B1_epochs.fif ...\n",
      "    Found the data of interest:\n",
      "        t =    -500.00 ...     500.00 ms\n",
      "        0 CTF compensation matrices available\n",
      "Not setting metadata\n",
      "Not setting metadata\n",
      "30 matching events found\n",
      "No baseline correction applied\n",
      "0 projection items activated\n",
      "Reading ../Source/Subjects/Az_Mar_05/Epochs/RespCor_RM_B1_epochs.fif ...\n",
      "    Found the data of interest:\n",
      "        t =    -500.00 ...     500.00 ms\n",
      "        0 CTF compensation matrices available\n"
     ]
    },
    {
     "name": "stderr",
     "output_type": "stream",
     "text": [
      "/tmp/ipykernel_163720/3748543114.py:1: RuntimeWarning: This filename (../Source/Subjects/Az_Mar_05/Epochs/RespCor_LM_B1_epochs.fif) does not conform to MNE naming conventions. All epochs files should end with -epo.fif, -epo.fif.gz, _epo.fif or _epo.fif.gz\n",
      "  resp_lock_lm_B1_epochs = mne.read_epochs(resp_lock_lm_B1_epochs_path)\n",
      "/tmp/ipykernel_163720/3748543114.py:2: RuntimeWarning: This filename (../Source/Subjects/Az_Mar_05/Epochs/RespCor_RM_B1_epochs.fif) does not conform to MNE naming conventions. All epochs files should end with -epo.fif, -epo.fif.gz, _epo.fif or _epo.fif.gz\n",
      "  resp_lock_rm_B1_epochs = mne.read_epochs(resp_lock_rm_B1_epochs_path)\n"
     ]
    },
    {
     "name": "stdout",
     "output_type": "stream",
     "text": [
      "Not setting metadata\n",
      "Not setting metadata\n",
      "30 matching events found\n",
      "No baseline correction applied\n",
      "0 projection items activated\n",
      "Reading ../Source/Subjects/Az_Mar_05/Epochs/RespCor_LI_B1_epochs.fif ...\n",
      "    Found the data of interest:\n",
      "        t =    -500.00 ...     500.00 ms\n",
      "        0 CTF compensation matrices available\n",
      "Not setting metadata\n",
      "Not setting metadata\n",
      "27 matching events found\n",
      "No baseline correction applied\n",
      "0 projection items activated\n",
      "Reading ../Source/Subjects/Az_Mar_05/Epochs/RespCor_RI_B1_epochs.fif ...\n"
     ]
    },
    {
     "name": "stderr",
     "output_type": "stream",
     "text": [
      "/tmp/ipykernel_163720/3748543114.py:3: RuntimeWarning: This filename (../Source/Subjects/Az_Mar_05/Epochs/RespCor_LI_B1_epochs.fif) does not conform to MNE naming conventions. All epochs files should end with -epo.fif, -epo.fif.gz, _epo.fif or _epo.fif.gz\n",
      "  resp_lock_li_B1_epochs = mne.read_epochs(resp_lock_li_B1_epochs_path)\n",
      "/tmp/ipykernel_163720/3748543114.py:4: RuntimeWarning: This filename (../Source/Subjects/Az_Mar_05/Epochs/RespCor_RI_B1_epochs.fif) does not conform to MNE naming conventions. All epochs files should end with -epo.fif, -epo.fif.gz, _epo.fif or _epo.fif.gz\n",
      "  resp_lock_ri_B1_epochs = mne.read_epochs(resp_lock_ri_B1_epochs_path)\n"
     ]
    },
    {
     "name": "stdout",
     "output_type": "stream",
     "text": [
      "    Found the data of interest:\n",
      "        t =    -500.00 ...     500.00 ms\n",
      "        0 CTF compensation matrices available\n",
      "Not setting metadata\n",
      "Not setting metadata\n",
      "30 matching events found\n",
      "No baseline correction applied\n",
      "0 projection items activated\n"
     ]
    }
   ],
   "source": [
    "resp_lock_lm_B1_epochs = mne.read_epochs(resp_lock_lm_B1_epochs_path)\n",
    "resp_lock_rm_B1_epochs = mne.read_epochs(resp_lock_rm_B1_epochs_path)\n",
    "resp_lock_li_B1_epochs = mne.read_epochs(resp_lock_li_B1_epochs_path)\n",
    "resp_lock_ri_B1_epochs = mne.read_epochs(resp_lock_ri_B1_epochs_path)"
   ],
   "metadata": {
    "collapsed": false,
    "pycharm": {
     "name": "#%%\n"
    }
   }
  },
  {
   "cell_type": "code",
   "execution_count": 8,
   "outputs": [],
   "source": [
    "clf = make_pipeline(CSP(n_components=4, reg='shrinkage', rank='full'),# good accuracy (73-78%%) and stability, but regularization sometimes bad\n",
    "                    LogisticRegression())\n",
    "\n",
    "n_splits = 5\n",
    "cv = StratifiedKFold(n_splits=n_splits, shuffle=True)\n",
    "tmin, tmax = -.500, .500\n",
    "n_cycles = 14\n",
    "n_iters = 25\n",
    "min_freq = 5.\n",
    "max_freq = 70.\n",
    "n_freqs = 7\n",
    "freqs = np.logspace(np.log10(min_freq), np.log10(max_freq), n_freqs)\n",
    "freq_ranges = list(zip(freqs[:-1], freqs[1:]))\n",
    "window_spacing = (n_cycles / np.max(freqs) / 2.)\n",
    "centered_w_times = np.arange(tmin, tmax, window_spacing)[1:]\n",
    "n_windows = len(centered_w_times)"
   ],
   "metadata": {
    "collapsed": false,
    "pycharm": {
     "name": "#%%\n"
    }
   }
  },
  {
   "cell_type": "code",
   "execution_count": 9,
   "outputs": [
    {
     "name": "stdout",
     "output_type": "stream",
     "text": [
      "(30, 204, 1001)\n"
     ]
    }
   ],
   "source": [
    "print(resp_lock_lm_B1_epochs.get_data().shape)"
   ],
   "metadata": {
    "collapsed": false,
    "pycharm": {
     "name": "#%%\n"
    }
   }
  },
  {
   "cell_type": "code",
   "execution_count": 10,
   "outputs": [
    {
     "data": {
      "text/plain": "[<EpochsFIF |  30 events (all good), -0.5 - 0.5 sec, baseline off, ~51.9 MB, data loaded,\n '0': 30>, <EpochsFIF |  27 events (all good), -0.5 - 0.5 sec, baseline off, ~47.2 MB, data loaded,\n '0': 27>, <EpochsFIF |  30 events (all good), -0.5 - 0.5 sec, baseline off, ~51.9 MB, data loaded,\n '0': 30>, <EpochsFIF |  30 events (all good), -0.5 - 0.5 sec, baseline off, ~51.9 MB, data loaded,\n '0': 30>]"
     },
     "execution_count": 10,
     "metadata": {},
     "output_type": "execute_result"
    }
   ],
   "source": [
    "freq_scores = np.zeros((n_freqs - 1,))\n",
    "tf_scores = np.zeros((n_freqs - 1, n_windows))\n",
    "\n",
    "combiner = EpochsCombiner(resp_lock_lm_B1_epochs, resp_lock_li_B1_epochs, resp_lock_rm_B1_epochs, resp_lock_ri_B1_epochs)\n",
    "first_class_indices = (0, 1)\n",
    "second_class_indices = (2, 3)\n",
    "\n",
    "combiner.combine(first_class_indices, second_class_indices, shuffle=True)"
   ],
   "metadata": {
    "collapsed": false,
    "pycharm": {
     "name": "#%%\n"
    }
   }
  },
  {
   "cell_type": "code",
   "execution_count": null,
   "outputs": [],
   "source": [
    "# use rank = info!\n",
    "# norm_trace = True\n",
    "# reg = 'ledoit_wolf'\n",
    "csp = CSP(n_components=4, reg='shrinkage', rank='full')\n",
    "\n",
    "X = combiner.X\n",
    "Y = combiner.Y"
   ],
   "metadata": {
    "collapsed": false,
    "pycharm": {
     "name": "#%%\n"
    }
   }
  },
  {
   "cell_type": "code",
   "execution_count": null,
   "outputs": [],
   "source": [
    "high_acc_cache = list()\n",
    "\n",
    "for freq, (fmin, fmax) in enumerate(freq_ranges):\n",
    "    w_size = n_cycles / ((fmax + fmin) / 2.)\n",
    "\n",
    "    combiner\\\n",
    "        .switch_data('original')\\\n",
    "        .filter(l_freq=fmin, h_freq=fmax, skip_by_annotation='edge')\\\n",
    "        .combine(first_class_indices, second_class_indices, shuffle=True)\n",
    "\n",
    "    freq_scores[freq] = np.mean(\n",
    "        cross_val_score(\n",
    "            estimator=clf,\n",
    "            X=combiner.X,\n",
    "            y=combiner.Y,\n",
    "            scoring='roc_auc',\n",
    "            cv=cv,\n",
    "            n_jobs=1,\n",
    "        ),\n",
    "        axis=0\n",
    "    )\n",
    "\n",
    "    if np.isnan(freq_scores[freq]):\n",
    "        sad_beep()\n",
    "        raise ValueError(f'Linalg error {fmin}-{fmax} Hz')\n",
    "\n",
    "    for t, w_time in enumerate(centered_w_times):\n",
    "        w_tmin = w_time - w_size / 2.\n",
    "        w_tmax = w_time + w_size / 2.\n",
    "\n",
    "        if w_tmin < tmin:\n",
    "            w_tmin = tmin\n",
    "        if w_tmax > tmax:\n",
    "            w_tmax = tmax\n",
    "\n",
    "        if w_tmin > w_tmax:\n",
    "            sad_beep()\n",
    "            raise ValueError(f'w_tmin is greater than w_tmax: {w_tmin=}, {w_tmax=}')\n",
    "\n",
    "        combiner\\\n",
    "            .switch_data('filtered')\\\n",
    "            .crop(tmin=w_tmin, tmax=w_tmax)\\\n",
    "            .combine(first_class_indices, second_class_indices, shuffle=True)\n",
    "\n",
    "        tf_scores[freq, t] = np.mean(\n",
    "            cross_val_score(\n",
    "                estimator=clf,\n",
    "                X=combiner.X,\n",
    "                y=combiner.Y,\n",
    "                scoring='roc_auc',\n",
    "                cv=cv,\n",
    "                n_jobs=1,\n",
    "            ),\n",
    "            axis=0\n",
    "        )\n",
    "\n",
    "        if tf_scores[freq, t] > .7:\n",
    "            high_acc_cache.append((tf_scores[freq, t], (fmin, fmax), (w_tmin, w_tmax)))\n",
    "\n",
    "        if np.isnan(tf_scores[freq, t]):\n",
    "            sad_beep()\n",
    "            raise ValueError(f'Linalg error {fmin}-{fmax} Hz, {w_tmin}-{w_tmax} ms')\n",
    "\n",
    "happy_beep()"
   ],
   "metadata": {
    "collapsed": false,
    "pycharm": {
     "name": "#%%\n"
    }
   }
  },
  {
   "cell_type": "code",
   "execution_count": 19,
   "outputs": [
    {
     "name": "stdout",
     "output_type": "stream",
     "text": [
      "{\n",
      "   steps: [('csp', CSP(component_order='mutual_info', cov_est='concat', cov_method_params=None,\n",
      "  log=None, n_components=5, norm_trace=False, rank='full', reg='shrinkage',\n",
      "  transform_into='average_power')), ('logisticregression', LogisticRegression(penalty='l1', solver='saga'))],\n",
      "   memory: None,\n",
      "   verbose: False,\n",
      "  }\n",
      "\n"
     ]
    }
   ],
   "source": [
    "from utils.data_management import dict2str\n",
    "print(dict2str(clf.__dict__))"
   ],
   "metadata": {
    "collapsed": false,
    "pycharm": {
     "name": "#%%\n"
    }
   }
  },
  {
   "cell_type": "code",
   "execution_count": 7,
   "outputs": [
    {
     "name": "stdout",
     "output_type": "stream",
     "text": [
      "Accuracy: 0.8821969696969697%\n",
      "Time: -0.05681818181818182:0.3068181818181818 sec\n",
      "Frequency: 25.0-30.0 Hz\n",
      "\n",
      "**********************************\n",
      "\n",
      "Accuracy: 0.7698232323232322%\n",
      "Time: -0.5:0.29166666666666663 sec\n",
      "Frequency: 5.0-10.0 Hz\n",
      "\n",
      "**********************************\n",
      "\n",
      "Accuracy: 0.731439393939394%\n",
      "Time: -0.5:0.41666666666666663 sec\n",
      "Frequency: 5.0-10.0 Hz\n",
      "\n",
      "**********************************\n",
      "\n",
      "Accuracy: 0.7306818181818182%\n",
      "Time: -0.29166666666666663:0.5 sec\n",
      "Frequency: 5.0-10.0 Hz\n",
      "\n",
      "**********************************\n",
      "\n",
      "Accuracy: 0.7296717171717172%\n",
      "Time: -0.5:0.5 sec\n",
      "Frequency: 5.0-10.0 Hz\n",
      "\n",
      "**********************************\n",
      "\n",
      "Accuracy: 0.7184343434343434%\n",
      "Time: -0.5:0.5 sec\n",
      "Frequency: 5.0-10.0 Hz\n",
      "\n",
      "**********************************\n",
      "\n",
      "Accuracy: 0.7122474747474747%\n",
      "Time: -0.5:0.5 sec\n",
      "Frequency: 5.0-10.0 Hz\n",
      "\n",
      "**********************************\n",
      "\n",
      "Accuracy: 0.7089646464646464%\n",
      "Time: -0.18181818181818182:0.18181818181818182 sec\n",
      "Frequency: 25.0-30.0 Hz\n",
      "\n",
      "**********************************\n",
      "\n"
     ]
    }
   ],
   "source": [
    "for acc, freqs, times in sorted(high_acc_cache, reverse=True):\n",
    "    print(\n",
    "        f'Accuracy: {acc}%\\n'\n",
    "        f'Time: {times[0]}:{times[1]} sec\\n'\n",
    "        f'Frequency: {freqs[0]}-{freqs[1]} Hz\\n\\n'\n",
    "        f'**********************************\\n'\n",
    "    )"
   ],
   "metadata": {
    "collapsed": false,
    "pycharm": {
     "name": "#%%\n"
    }
   }
  },
  {
   "cell_type": "code",
   "execution_count": 11,
   "outputs": [
    {
     "name": "stdout",
     "output_type": "stream",
     "text": [
      "[[0.90555556 0.9        0.82222222 0.88888889 0.81111111 0.75\n",
      "  0.85555556]\n",
      " [0.73333333 0.77222222 0.57777778 0.52222222 0.66666667 0.62222222\n",
      "  0.6       ]\n",
      " [0.47777778 0.58888889 0.46111111 0.36666667 0.51666667 0.69444444\n",
      "  0.53888889]\n",
      " [0.36111111 0.58333333 0.63333333 0.56111111 0.67777778 0.56111111\n",
      "  0.58888889]\n",
      " [0.44444444 0.48333333 0.48333333 0.43888889 0.66666667 0.73888889\n",
      "  0.73888889]\n",
      " [0.53888889 0.47222222 0.74444444 0.64444444 0.5        0.38333333\n",
      "  0.33888889]\n",
      " [0.39444444 0.56666667 0.57222222 0.70555556 0.44444444 0.42222222\n",
      "  0.55555556]]\n",
      "[0.76666667 0.57222222 0.39444444 0.57222222 0.53888889 0.6\n",
      " 0.43333333]\n"
     ]
    }
   ],
   "source": [
    "# data 1\n",
    "print(tf_scores)\n",
    "\n",
    "print(freq_scores)"
   ],
   "metadata": {
    "collapsed": false,
    "pycharm": {
     "name": "#%%\n"
    }
   }
  },
  {
   "cell_type": "code",
   "execution_count": 15,
   "outputs": [
    {
     "data": {
      "text/plain": "Text(0.5, 1.0, 'Frequency Decoding Scores')"
     },
     "execution_count": 15,
     "metadata": {},
     "output_type": "execute_result"
    },
    {
     "data": {
      "text/plain": "<Figure size 432x288 with 1 Axes>",
      "image/png": "[encoded data removed]"
     },
     "metadata": {
      "needs_background": "light"
     },
     "output_type": "display_data"
    }
   ],
   "source": [
    "plt.bar(freqs[:-1], freq_scores, width=np.diff(freqs)[0],\n",
    "        align='edge', edgecolor='black')\n",
    "plt.xticks(freqs)\n",
    "plt.ylim([0, 1])\n",
    "# plt.axhline(len(epochs['feet']) / len(epochs), color='k', linestyle='--',\n",
    "#             label='chance level')\n",
    "plt.axhline(0.5, color='k', linestyle='--',\n",
    "            label='chance level')\n",
    "plt.legend()\n",
    "plt.xlabel('Frequency (Hz)')\n",
    "plt.ylabel('Decoding Scores')\n",
    "plt.title('Frequency Decoding Scores')"
   ],
   "metadata": {
    "collapsed": false,
    "pycharm": {
     "name": "#%%\n"
    }
   }
  },
  {
   "cell_type": "code",
   "execution_count": 14,
   "outputs": [
    {
     "name": "stdout",
     "output_type": "stream",
     "text": [
      "No baseline correction applied\n"
     ]
    },
    {
     "data": {
      "text/plain": "<Figure size 432x288 with 2 Axes>",
      "image/png": "[encoded data removed]"
     },
     "metadata": {
      "needs_background": "light"
     },
     "output_type": "display_data"
    },
    {
     "data": {
      "text/plain": "[<Figure size 432x288 with 2 Axes>]"
     },
     "execution_count": 14,
     "metadata": {},
     "output_type": "execute_result"
    }
   ],
   "source": [
    "# Set up time frequency object\n",
    "av_tfr = AverageTFR(create_info(['freq'], 1000), tf_scores[np.newaxis, :],\n",
    "                    centered_w_times, freqs[1:], 1)\n",
    "\n",
    "chance = .5  # set chance level to white in the plot\n",
    "av_tfr.plot([0], vmin=chance, title=\"Time-Frequency Decoding Scores\",\n",
    "            cmap=plt.cm.Reds)\n"
   ],
   "metadata": {
    "collapsed": false,
    "pycharm": {
     "name": "#%%\n"
    }
   }
  },
  {
   "cell_type": "code",
   "execution_count": 132,
   "outputs": [
    {
     "name": "stdout",
     "output_type": "stream",
     "text": [
      "[[0.40915033 0.3912854  0.39389978 0.39684096]\n",
      " [0.65152505 0.541939   0.49444444 0.54379085]\n",
      " [0.41775599 0.40708061 0.33877996 0.38845316]\n",
      " [0.45392157 0.55904139 0.44934641 0.37265795]\n",
      " [0.50849673 0.36633987 0.4711329  0.41187364]\n",
      " [0.5167756  0.4627451  0.53061002 0.366122  ]\n",
      " [0.5711329  0.46503268 0.65       0.55087146]]\n",
      "[0.37603486 0.49586057 0.37864924 0.41938998 0.32538126 0.46557734\n",
      " 0.49150327]\n"
     ]
    }
   ],
   "source": [
    "# data 2\n",
    "print(tf_scores)\n",
    "\n",
    "print(freq_scores)"
   ],
   "metadata": {
    "collapsed": false,
    "pycharm": {
     "name": "#%%\n"
    }
   }
  },
  {
   "cell_type": "code",
   "execution_count": 12,
   "outputs": [
    {
     "data": {
      "text/plain": "Text(0.5, 1.0, 'Frequency Decoding Scores')"
     },
     "execution_count": 12,
     "metadata": {},
     "output_type": "execute_result"
    },
    {
     "data": {
      "text/plain": "<Figure size 432x288 with 1 Axes>",
      "image/png": "[encoded data removed]"
     },
     "metadata": {
      "needs_background": "light"
     },
     "output_type": "display_data"
    }
   ],
   "source": [
    "plt.bar(freqs[:-1], freq_scores, width=np.diff(freqs)[0],\n",
    "        align='edge', edgecolor='black')\n",
    "plt.xticks(freqs)\n",
    "plt.ylim([0, 1])\n",
    "# plt.axhline(len(epochs['feet']) / len(epochs), color='k', linestyle='--',\n",
    "#             label='chance level')\n",
    "plt.axhline(0.5, color='k', linestyle='--',\n",
    "            label='chance level')\n",
    "plt.legend()\n",
    "plt.xlabel('Frequency (Hz)')\n",
    "plt.ylabel('Decoding Scores')\n",
    "plt.title('Frequency Decoding Scores')"
   ],
   "metadata": {
    "collapsed": false,
    "pycharm": {
     "name": "#%%\n"
    }
   }
  },
  {
   "cell_type": "code",
   "execution_count": 13,
   "outputs": [
    {
     "name": "stdout",
     "output_type": "stream",
     "text": [
      "No baseline correction applied\n"
     ]
    },
    {
     "data": {
      "text/plain": "<Figure size 432x288 with 2 Axes>",
      "image/png": "[encoded data removed]"
     },
     "metadata": {
      "needs_background": "light"
     },
     "output_type": "display_data"
    },
    {
     "data": {
      "text/plain": "[<Figure size 432x288 with 2 Axes>]"
     },
     "execution_count": 13,
     "metadata": {},
     "output_type": "execute_result"
    }
   ],
   "source": [
    "# Set up time frequency object\n",
    "av_tfr = AverageTFR(create_info(['freq'], 1000), tf_scores[np.newaxis, :],\n",
    "                    centered_w_times, freqs[1:], 1)\n",
    "chance = .5  # set chance level to white in the plot\n",
    "av_tfr.plot([0], vmin=chance, title=\"Time-Frequency Decoding Scores\",\n",
    "            cmap=plt.cm.Reds)"
   ],
   "metadata": {
    "collapsed": false,
    "pycharm": {
     "name": "#%%\n"
    }
   }
  },
  {
   "cell_type": "code",
   "execution_count": null,
   "outputs": [],
   "source": [
    "# 2\n",
    "# old script for decoding scores\n",
    "\n",
    "# freq_scores = np.zeros((n_freqs - 1,))\n",
    "# tf_scores = np.zeros((n_freqs - 1, n_windows))\n",
    "#\n",
    "# for freq, (fmin, fmax) in enumerate(freq_ranges):\n",
    "#     w_size = n_cycles / ((fmax + fmin) / 2.)\n",
    "#\n",
    "#     resp_lock_lm_B1_epochs_filtered = resp_lock_lm_B1_epochs.copy().filter(l_freq=fmin, h_freq=fmax, skip_by_annotation='edge')\n",
    "#     resp_lock_rm_B1_epochs_filtered = resp_lock_rm_B1_epochs.copy().filter(l_freq=fmin, h_freq=fmax, skip_by_annotation='edge')\n",
    "#\n",
    "#     y = np.array(\n",
    "#         [0 for _ in resp_lock_lm_B1_epochs_filtered.events[:, 2]] +\n",
    "#         [1 for _ in resp_lock_rm_B1_epochs_filtered.events[:, 2]]\n",
    "#     )\n",
    "#     X = np.append(\n",
    "#         resp_lock_lm_B1_epochs_filtered.copy().get_data(),\n",
    "#         resp_lock_rm_B1_epochs_filtered.copy().get_data(),\n",
    "#         axis=0\n",
    "#     )\n",
    "#     print(X.shape)\n",
    "#\n",
    "#     freq_scores[freq] = np.mean(\n",
    "#         cross_val_score(\n",
    "#             estimator=clf,\n",
    "#             X=X,\n",
    "#             y=y,\n",
    "#             scoring='roc_auc',\n",
    "#             cv=cv,\n",
    "#             n_jobs=1\n",
    "#         ),\n",
    "#         axis=0\n",
    "#     )\n",
    "#\n",
    "#     if np.isnan(freq_scores[freq]):\n",
    "#         sad_beep()\n",
    "#         raise ValueError(f'Linalg error {fmin}-{fmax} Hz')\n",
    "#\n",
    "#     print('_____________________________________________')\n",
    "#     print(freq_scores[freq])\n",
    "#     print('_____________________________________________')\n",
    "#\n",
    "#     for t, w_time in enumerate(centered_w_times):\n",
    "#         w_tmin = w_time - w_size / 2.\n",
    "#         w_tmax = w_time + w_size / 2.\n",
    "#\n",
    "#         if w_tmin < tmin:\n",
    "#             w_tmin = tmin\n",
    "#         if w_tmax > tmax:\n",
    "#             w_tmax = tmax\n",
    "#         assert w_tmin < w_tmax\n",
    "#\n",
    "#         X = np.append(\n",
    "#             resp_lock_lm_B1_epochs_filtered.copy().crop(w_tmin, w_tmax).get_data(),\n",
    "#             resp_lock_rm_B1_epochs_filtered.copy().crop(w_tmin, w_tmax).get_data(),\n",
    "#             axis=0\n",
    "#         )\n",
    "#\n",
    "#         tf_scores[freq, t] = np.mean(\n",
    "#             cross_val_score(\n",
    "#                 estimator=clf,\n",
    "#                 X=X,\n",
    "#                 y=y,\n",
    "#                 scoring='roc_auc',\n",
    "#                 cv=cv,\n",
    "#                 n_jobs=1\n",
    "#             ),\n",
    "#             axis=0\n",
    "#         )\n",
    "#\n",
    "#         if np.isnan(tf_scores[freq, t]):\n",
    "#             sad_beep()\n",
    "#             raise ValueError(f'Linalg error {fmin}-{fmax} Hz, {w_tmin}-{w_tmax} ms')\n",
    "#\n",
    "#         print('_____________________________________________')\n",
    "#         print(tf_scores[freq, t])\n",
    "#         print('_____________________________________________')\n",
    "#\n",
    "# happy_beep()"
   ],
   "metadata": {
    "collapsed": false,
    "pycharm": {
     "name": "#%%\n"
    }
   }
  }
 ],
 "metadata": {
  "kernelspec": {
   "display_name": "Python 3",
   "language": "python",
   "name": "python3"
  },
  "language_info": {
   "codemirror_mode": {
    "name": "ipython",
    "version": 2
   },
   "file_extension": ".py",
   "mimetype": "text/x-python",
   "name": "python",
   "nbconvert_exporter": "python",
   "pygments_lexer": "ipython2",
   "version": "2.7.6"
  }
 },
 "nbformat": 4,
 "nbformat_minor": 0
}