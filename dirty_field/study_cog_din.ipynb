{
 "cells": [
  {
   "cell_type": "code",
   "execution_count": 193,
   "metadata": {},
   "outputs": [],
   "source": [
    "import sys\n",
    "import os\n",
    "current_dir = os.path.dirname(os.path.abspath('./'))\n",
    "if not current_dir in sys.path:\n",
    "    sys.path.append(current_dir)\n",
    "\n",
    "from decode_learning_effect import StorageManager, SessionInfo, make_session_info\n",
    "import numpy as np\n",
    "import matplotlib.pyplot as plt"
   ]
  },
  {
   "cell_type": "code",
   "execution_count": 151,
   "metadata": {},
   "outputs": [],
   "source": [
    "cases = ['B1-3', 'B10-12']\n",
    "cases_to_combine = None\n",
    "classification_name,\\\n",
    "    classification_prefix,\\\n",
    "    classification_postfix = '', '', ''\n",
    "model_name = 'simplenet'\n",
    "subjects_dir = '../Source/Subjects'\n",
    "ses_info = make_session_info(\n",
    "    cases,\n",
    "    cases_to_combine,\n",
    "    classification_name,\n",
    "    classification_prefix,\n",
    "    classification_postfix,\n",
    "    model_name\n",
    ")\n",
    "storage = StorageManager(\n",
    "    subjects_dir,\n",
    "    ses_info\n",
    ")\n"
   ]
  },
  {
   "cell_type": "code",
   "execution_count": 14,
   "metadata": {},
   "outputs": [],
   "source": [
    "subjects_dir ='../Source/Subjects'"
   ]
  },
  {
   "cell_type": "code",
   "execution_count": 15,
   "metadata": {},
   "outputs": [
    {
     "data": {
      "text/plain": [
       "'../Source'"
      ]
     },
     "execution_count": 15,
     "metadata": {},
     "output_type": "execute_result"
    }
   ],
   "source": [
    "os.path.dirname(subjects_dir)"
   ]
  },
  {
   "cell_type": "code",
   "execution_count": 169,
   "metadata": {},
   "outputs": [],
   "source": [
    "cases_to_combine = None\n",
    "classification_name,\\\n",
    "    classification_prefix,\\\n",
    "    classification_postfix = None, '', ''\n",
    "model_name = 'simplenet'\n",
    "subjects_dir = '../Source/Subjects'\n",
    "\n",
    "storages = list()\n",
    "for cases in [\n",
    "    ['B1-3', 'B4-6'],\n",
    "    ['B4-6', 'B7-9'],\n",
    "    ['B7-9', 'B10-12']\n",
    "]:\n",
    "    ses_info = make_session_info(\n",
    "        cases,\n",
    "        cases_to_combine,\n",
    "        classification_name,\n",
    "        classification_prefix,\n",
    "        classification_postfix,\n",
    "        model_name\n",
    "    )\n",
    "    storages.append(StorageManager(\n",
    "        subjects_dir,\n",
    "        ses_info\n",
    "    ))\n",
    "\n",
    "# for subject_name, *_ in zip(*storages):\n",
    "#     print([s.session_info for s in storages])"
   ]
  },
  {
   "cell_type": "code",
   "execution_count": 177,
   "metadata": {},
   "outputs": [],
   "source": [
    "storage = storages[0]\n",
    "\n",
    "import pandas as pd\n",
    "\n",
    "dfs = [pd.read_csv(os.path.join(storage.perf_tables_path, path), index_col=0) for path in os.listdir(storage.perf_tables_path)][1:]"
   ]
  },
  {
   "cell_type": "code",
   "execution_count": 178,
   "metadata": {},
   "outputs": [
    {
     "data": {
      "text/plain": [
       "Index(['n_classes', 'B7-9', 'B4-6', 'total', 'test_set', 'train_acc',\n",
       "       'train_loss', 'test_acc', 'test_loss', 'val_acc', 'val_loss',\n",
       "       'runtime'],\n",
       "      dtype='object')"
      ]
     },
     "execution_count": 178,
     "metadata": {},
     "output_type": "execute_result"
    }
   ],
   "source": [
    "dfs[0].columns"
   ]
  },
  {
   "cell_type": "code",
   "execution_count": 179,
   "metadata": {},
   "outputs": [],
   "source": [
    "dfs = sorted(\n",
    "    dfs,\n",
    "    key=lambda df: int(max(df.columns[1][1:].split(\"-\"))) + int(max(df.columns[2][1:].split(\"-\")))\n",
    ")"
   ]
  },
  {
   "cell_type": "code",
   "execution_count": 180,
   "metadata": {},
   "outputs": [],
   "source": [
    "accs = [df.test_acc for df in dfs]"
   ]
  },
  {
   "cell_type": "code",
   "execution_count": 232,
   "metadata": {},
   "outputs": [
    {
     "data": {
      "text/html": [
       "<div>\n",
       "<style scoped>\n",
       "    .dataframe tbody tr th:only-of-type {\n",
       "        vertical-align: middle;\n",
       "    }\n",
       "\n",
       "    .dataframe tbody tr th {\n",
       "        vertical-align: top;\n",
       "    }\n",
       "\n",
       "    .dataframe thead th {\n",
       "        text-align: right;\n",
       "    }\n",
       "</style>\n",
       "<table border=\"1\" class=\"dataframe\">\n",
       "  <thead>\n",
       "    <tr style=\"text-align: right;\">\n",
       "      <th></th>\n",
       "      <th>B1-3 vs B4-6</th>\n",
       "      <th>B4-6 vs B7-9</th>\n",
       "      <th>B7-9 vs B10-12</th>\n",
       "    </tr>\n",
       "  </thead>\n",
       "  <tbody>\n",
       "    <tr>\n",
       "      <th>Az_Mar_05</th>\n",
       "      <td>0.537037</td>\n",
       "      <td>0.531532</td>\n",
       "      <td>0.441441</td>\n",
       "    </tr>\n",
       "    <tr>\n",
       "      <th>Fe_To_08</th>\n",
       "      <td>0.467890</td>\n",
       "      <td>0.660714</td>\n",
       "      <td>0.554545</td>\n",
       "    </tr>\n",
       "    <tr>\n",
       "      <th>Ga_Fed_06</th>\n",
       "      <td>0.686957</td>\n",
       "      <td>0.608696</td>\n",
       "      <td>0.562500</td>\n",
       "    </tr>\n",
       "    <tr>\n",
       "      <th>Ku_EL_09</th>\n",
       "      <td>0.600000</td>\n",
       "      <td>0.491379</td>\n",
       "      <td>0.692982</td>\n",
       "    </tr>\n",
       "    <tr>\n",
       "      <th>Pr_An_04</th>\n",
       "      <td>0.642857</td>\n",
       "      <td>0.557522</td>\n",
       "      <td>0.623932</td>\n",
       "    </tr>\n",
       "    <tr>\n",
       "      <th>Ru_Ek_07</th>\n",
       "      <td>0.547170</td>\n",
       "      <td>0.495495</td>\n",
       "      <td>0.540541</td>\n",
       "    </tr>\n",
       "    <tr>\n",
       "      <th>Se_Tu_03</th>\n",
       "      <td>0.588235</td>\n",
       "      <td>0.692308</td>\n",
       "      <td>0.626087</td>\n",
       "    </tr>\n",
       "    <tr>\n",
       "      <th>Te_Ali_11</th>\n",
       "      <td>0.535088</td>\n",
       "      <td>0.526786</td>\n",
       "      <td>0.596491</td>\n",
       "    </tr>\n",
       "  </tbody>\n",
       "</table>\n",
       "</div>"
      ],
      "text/plain": [
       "           B1-3 vs B4-6  B4-6 vs B7-9  B7-9 vs B10-12\n",
       "Az_Mar_05      0.537037      0.531532        0.441441\n",
       "Fe_To_08       0.467890      0.660714        0.554545\n",
       "Ga_Fed_06      0.686957      0.608696        0.562500\n",
       "Ku_EL_09       0.600000      0.491379        0.692982\n",
       "Pr_An_04       0.642857      0.557522        0.623932\n",
       "Ru_Ek_07       0.547170      0.495495        0.540541\n",
       "Se_Tu_03       0.588235      0.692308        0.626087\n",
       "Te_Ali_11      0.535088      0.526786        0.596491"
      ]
     },
     "execution_count": 232,
     "metadata": {},
     "output_type": "execute_result"
    }
   ],
   "source": [
    "data"
   ]
  },
  {
   "cell_type": "code",
   "execution_count": 231,
   "metadata": {},
   "outputs": [
    {
     "data": {
      "image/png": "[encoded data removed]",
      "text/plain": [
       "<Figure size 640x480 with 2 Axes>"
      ]
     },
     "metadata": {},
     "output_type": "display_data"
    }
   ],
   "source": [
    "\n",
    "fig, ax = plt.subplots(1,1)\n",
    "data = pd.DataFrame(accs, index=['B1-3 vs B4-6', 'B4-6 vs B7-9', 'B7-9 vs B10-12']).T.sort_index()\n",
    "i = ax.imshow(data.to_numpy(), aspect='auto')\n",
    "fig.colorbar(i, ax=ax)\n",
    "ax.set_xticks([0, 1, 2])\n",
    "ax.set_xticklabels(['B1-3 vs B4-6', 'B4-6 vs B7-9', 'B7-9 vs B10-12'])\n",
    "ax.set_yticks([0, 1, 2, 3, 4, 5, 6, 7])\n",
    "ax.set_yticklabels(data.index)\n",
    "ax.xaxis.tick_top()"
   ]
  },
  {
   "cell_type": "code",
   "execution_count": 206,
   "metadata": {},
   "outputs": [],
   "source": [
    "perf_data_path = '../Source/perf_data/MEG_SRTT_RT.csv'\n",
    "\n",
    "perf_data = pd.read_csv(perf_data_path, index_col=1)"
   ]
  },
  {
   "cell_type": "code",
   "execution_count": 207,
   "metadata": {},
   "outputs": [],
   "source": [
    "perf_data_ses = pd.DataFrame([\n",
    "    perf_data[['1', '2', '3']].sum(1),\n",
    "    perf_data[['4', '5', '6']].sum(1),\n",
    "    perf_data[['7', '8', '9']].sum(1),\n",
    "    perf_data[['10', '11', '12']].sum(1)\n",
    "]).T\n",
    "\n",
    "perf_data_diff = pd.DataFrame([\n",
    "    (perf_data_ses[0] - perf_data_ses[1]).abs(),\n",
    "    (perf_data_ses[1] - perf_data_ses[2]).abs(),\n",
    "    (perf_data_ses[2] - perf_data_ses[3]).abs()\n",
    "]).T"
   ]
  },
  {
   "cell_type": "code",
   "execution_count": 208,
   "metadata": {},
   "outputs": [],
   "source": [
    "acc_data_path = '../Source/perf_data/MEG_SRTT_ACC.csv'\n",
    "\n",
    "acc_data = pd.read_csv(acc_data_path, index_col=1).dropna()\n",
    "acc_data_ses = pd.DataFrame([\n",
    "    acc_data[['1', '2', '3']].sum(1),\n",
    "    acc_data[['4', '5', '6']].sum(1),\n",
    "    acc_data[['7', '8', '9']].sum(1),\n",
    "    acc_data[['10', '11', '12']].sum(1)\n",
    "]).T\n",
    "\n",
    "acc_data_diff = pd.DataFrame([\n",
    "    (acc_data_ses[0] - acc_data_ses[1]).abs(),\n",
    "    (acc_data_ses[1] - acc_data_ses[2]).abs(),\n",
    "    (acc_data_ses[2] - acc_data_ses[3]).abs()\n",
    "]).T"
   ]
  },
  {
   "cell_type": "code",
   "execution_count": 209,
   "metadata": {},
   "outputs": [
    {
     "data": {
      "text/html": [
       "<div>\n",
       "<style scoped>\n",
       "    .dataframe tbody tr th:only-of-type {\n",
       "        vertical-align: middle;\n",
       "    }\n",
       "\n",
       "    .dataframe tbody tr th {\n",
       "        vertical-align: top;\n",
       "    }\n",
       "\n",
       "    .dataframe thead th {\n",
       "        text-align: right;\n",
       "    }\n",
       "</style>\n",
       "<table border=\"1\" class=\"dataframe\">\n",
       "  <thead>\n",
       "    <tr style=\"text-align: right;\">\n",
       "      <th></th>\n",
       "      <th>0</th>\n",
       "      <th>1</th>\n",
       "      <th>2</th>\n",
       "    </tr>\n",
       "    <tr>\n",
       "      <th>Sub_Code</th>\n",
       "      <th></th>\n",
       "      <th></th>\n",
       "      <th></th>\n",
       "    </tr>\n",
       "  </thead>\n",
       "  <tbody>\n",
       "    <tr>\n",
       "      <th>Az_Mar</th>\n",
       "      <td>0.833333</td>\n",
       "      <td>4.166667e+00</td>\n",
       "      <td>2.500000</td>\n",
       "    </tr>\n",
       "    <tr>\n",
       "      <th>Fe_To</th>\n",
       "      <td>0.833333</td>\n",
       "      <td>0.000000e+00</td>\n",
       "      <td>2.500000</td>\n",
       "    </tr>\n",
       "    <tr>\n",
       "      <th>Ga_Fed</th>\n",
       "      <td>2.500000</td>\n",
       "      <td>8.333333e-01</td>\n",
       "      <td>0.833333</td>\n",
       "    </tr>\n",
       "    <tr>\n",
       "      <th>Ku_El</th>\n",
       "      <td>4.166667</td>\n",
       "      <td>5.000000e+00</td>\n",
       "      <td>0.833333</td>\n",
       "    </tr>\n",
       "    <tr>\n",
       "      <th>Pr_An</th>\n",
       "      <td>1.666667</td>\n",
       "      <td>8.333333e-01</td>\n",
       "      <td>0.000000</td>\n",
       "    </tr>\n",
       "    <tr>\n",
       "      <th>Ru_Ek</th>\n",
       "      <td>14.166667</td>\n",
       "      <td>9.999951e-09</td>\n",
       "      <td>2.500000</td>\n",
       "    </tr>\n",
       "    <tr>\n",
       "      <th>Se_Tu</th>\n",
       "      <td>0.833333</td>\n",
       "      <td>6.666667e+00</td>\n",
       "      <td>0.833333</td>\n",
       "    </tr>\n",
       "    <tr>\n",
       "      <th>Te_Ali</th>\n",
       "      <td>2.500000</td>\n",
       "      <td>8.333333e-01</td>\n",
       "      <td>2.500000</td>\n",
       "    </tr>\n",
       "  </tbody>\n",
       "</table>\n",
       "</div>"
      ],
      "text/plain": [
       "                  0             1         2\n",
       "Sub_Code                                   \n",
       "Az_Mar     0.833333  4.166667e+00  2.500000\n",
       "Fe_To      0.833333  0.000000e+00  2.500000\n",
       "Ga_Fed     2.500000  8.333333e-01  0.833333\n",
       "Ku_El      4.166667  5.000000e+00  0.833333\n",
       "Pr_An      1.666667  8.333333e-01  0.000000\n",
       "Ru_Ek     14.166667  9.999951e-09  2.500000\n",
       "Se_Tu      0.833333  6.666667e+00  0.833333\n",
       "Te_Ali     2.500000  8.333333e-01  2.500000"
      ]
     },
     "execution_count": 209,
     "metadata": {},
     "output_type": "execute_result"
    }
   ],
   "source": [
    "acc_data_diff.sort_index()"
   ]
  },
  {
   "cell_type": "code",
   "execution_count": 210,
   "metadata": {},
   "outputs": [
    {
     "data": {
      "text/html": [
       "<div>\n",
       "<style scoped>\n",
       "    .dataframe tbody tr th:only-of-type {\n",
       "        vertical-align: middle;\n",
       "    }\n",
       "\n",
       "    .dataframe tbody tr th {\n",
       "        vertical-align: top;\n",
       "    }\n",
       "\n",
       "    .dataframe thead th {\n",
       "        text-align: right;\n",
       "    }\n",
       "</style>\n",
       "<table border=\"1\" class=\"dataframe\">\n",
       "  <thead>\n",
       "    <tr style=\"text-align: right;\">\n",
       "      <th></th>\n",
       "      <th>0</th>\n",
       "      <th>1</th>\n",
       "      <th>2</th>\n",
       "    </tr>\n",
       "    <tr>\n",
       "      <th>Sub_Code</th>\n",
       "      <th></th>\n",
       "      <th></th>\n",
       "      <th></th>\n",
       "    </tr>\n",
       "  </thead>\n",
       "  <tbody>\n",
       "    <tr>\n",
       "      <th>Az_Mar</th>\n",
       "      <td>83.766667</td>\n",
       "      <td>77.050000</td>\n",
       "      <td>6.133333</td>\n",
       "    </tr>\n",
       "    <tr>\n",
       "      <th>Fe_To</th>\n",
       "      <td>178.925000</td>\n",
       "      <td>36.300000</td>\n",
       "      <td>305.250000</td>\n",
       "    </tr>\n",
       "    <tr>\n",
       "      <th>Ga_Fed</th>\n",
       "      <td>71.383333</td>\n",
       "      <td>87.133333</td>\n",
       "      <td>50.666667</td>\n",
       "    </tr>\n",
       "    <tr>\n",
       "      <th>Ku_El</th>\n",
       "      <td>80.125000</td>\n",
       "      <td>3.625000</td>\n",
       "      <td>15.558333</td>\n",
       "    </tr>\n",
       "    <tr>\n",
       "      <th>Pr_An</th>\n",
       "      <td>90.483333</td>\n",
       "      <td>3.208333</td>\n",
       "      <td>85.858333</td>\n",
       "    </tr>\n",
       "    <tr>\n",
       "      <th>Ru_Ek</th>\n",
       "      <td>24.566667</td>\n",
       "      <td>77.650000</td>\n",
       "      <td>18.183333</td>\n",
       "    </tr>\n",
       "    <tr>\n",
       "      <th>Se_Tu</th>\n",
       "      <td>25.658333</td>\n",
       "      <td>114.516667</td>\n",
       "      <td>135.008333</td>\n",
       "    </tr>\n",
       "    <tr>\n",
       "      <th>Te_Ali</th>\n",
       "      <td>31.466667</td>\n",
       "      <td>34.816667</td>\n",
       "      <td>18.341667</td>\n",
       "    </tr>\n",
       "  </tbody>\n",
       "</table>\n",
       "</div>"
      ],
      "text/plain": [
       "                   0           1           2\n",
       "Sub_Code                                    \n",
       "Az_Mar     83.766667   77.050000    6.133333\n",
       "Fe_To     178.925000   36.300000  305.250000\n",
       "Ga_Fed     71.383333   87.133333   50.666667\n",
       "Ku_El      80.125000    3.625000   15.558333\n",
       "Pr_An      90.483333    3.208333   85.858333\n",
       "Ru_Ek      24.566667   77.650000   18.183333\n",
       "Se_Tu      25.658333  114.516667  135.008333\n",
       "Te_Ali     31.466667   34.816667   18.341667"
      ]
     },
     "execution_count": 210,
     "metadata": {},
     "output_type": "execute_result"
    }
   ],
   "source": [
    "perf_data_diff.sort_index()\n"
   ]
  },
  {
   "cell_type": "code",
   "execution_count": 211,
   "metadata": {},
   "outputs": [
    {
     "data": {
      "text/html": [
       "<div>\n",
       "<style scoped>\n",
       "    .dataframe tbody tr th:only-of-type {\n",
       "        vertical-align: middle;\n",
       "    }\n",
       "\n",
       "    .dataframe tbody tr th {\n",
       "        vertical-align: top;\n",
       "    }\n",
       "\n",
       "    .dataframe thead th {\n",
       "        text-align: right;\n",
       "    }\n",
       "</style>\n",
       "<table border=\"1\" class=\"dataframe\">\n",
       "  <thead>\n",
       "    <tr style=\"text-align: right;\">\n",
       "      <th></th>\n",
       "      <th>test_acc</th>\n",
       "      <th>test_acc</th>\n",
       "      <th>test_acc</th>\n",
       "    </tr>\n",
       "  </thead>\n",
       "  <tbody>\n",
       "    <tr>\n",
       "      <th>Az_Mar_05</th>\n",
       "      <td>0.537037</td>\n",
       "      <td>0.531532</td>\n",
       "      <td>0.441441</td>\n",
       "    </tr>\n",
       "    <tr>\n",
       "      <th>Fe_To_08</th>\n",
       "      <td>0.467890</td>\n",
       "      <td>0.660714</td>\n",
       "      <td>0.554545</td>\n",
       "    </tr>\n",
       "    <tr>\n",
       "      <th>Ga_Fed_06</th>\n",
       "      <td>0.686957</td>\n",
       "      <td>0.608696</td>\n",
       "      <td>0.562500</td>\n",
       "    </tr>\n",
       "    <tr>\n",
       "      <th>Ku_EL_09</th>\n",
       "      <td>0.600000</td>\n",
       "      <td>0.491379</td>\n",
       "      <td>0.692982</td>\n",
       "    </tr>\n",
       "    <tr>\n",
       "      <th>Pr_An_04</th>\n",
       "      <td>0.642857</td>\n",
       "      <td>0.557522</td>\n",
       "      <td>0.623932</td>\n",
       "    </tr>\n",
       "    <tr>\n",
       "      <th>Ru_Ek_07</th>\n",
       "      <td>0.547170</td>\n",
       "      <td>0.495495</td>\n",
       "      <td>0.540541</td>\n",
       "    </tr>\n",
       "    <tr>\n",
       "      <th>Se_Tu_03</th>\n",
       "      <td>0.588235</td>\n",
       "      <td>0.692308</td>\n",
       "      <td>0.626087</td>\n",
       "    </tr>\n",
       "    <tr>\n",
       "      <th>Te_Ali_11</th>\n",
       "      <td>0.535088</td>\n",
       "      <td>0.526786</td>\n",
       "      <td>0.596491</td>\n",
       "    </tr>\n",
       "  </tbody>\n",
       "</table>\n",
       "</div>"
      ],
      "text/plain": [
       "           test_acc  test_acc  test_acc\n",
       "Az_Mar_05  0.537037  0.531532  0.441441\n",
       "Fe_To_08   0.467890  0.660714  0.554545\n",
       "Ga_Fed_06  0.686957  0.608696  0.562500\n",
       "Ku_EL_09   0.600000  0.491379  0.692982\n",
       "Pr_An_04   0.642857  0.557522  0.623932\n",
       "Ru_Ek_07   0.547170  0.495495  0.540541\n",
       "Se_Tu_03   0.588235  0.692308  0.626087\n",
       "Te_Ali_11  0.535088  0.526786  0.596491"
      ]
     },
     "execution_count": 211,
     "metadata": {},
     "output_type": "execute_result"
    }
   ],
   "source": [
    "pd.DataFrame(accs).T.sort_index()"
   ]
  },
  {
   "cell_type": "code",
   "execution_count": 228,
   "metadata": {},
   "outputs": [
    {
     "data": {
      "image/png": "[encoded data removed]",
      "text/plain": [
       "<Figure size 1000x500 with 6 Axes>"
      ]
     },
     "metadata": {},
     "output_type": "display_data"
    }
   ],
   "source": [
    "import matplotlib.pyplot as plt\n",
    "\n",
    "fig, (ax1, ax2, ax3) = plt.subplots(1, 3)\n",
    "\n",
    "pdd = perf_data_diff.sort_index()\n",
    "add = acc_data_diff.sort_index()\n",
    "a = pd.DataFrame(accs).T.sort_index()\n",
    "\n",
    "im1 = ax1.imshow(pdd, aspect='auto')\n",
    "ax1.set_title('differrence in\\nsubject`s reaction time')\n",
    "ax1.xaxis.tick_top()\n",
    "ax1.set_xticks([0, 1, 2])\n",
    "ax1.set_xticklabels(['B1-3 vs B4-6', 'B4-6 vs B7-9', 'B7-9 vs B10-12'], rotation=30)\n",
    "ax1.set_yticks([0, 1, 2, 3, 4, 5, 6, 7])\n",
    "ax1.set_yticklabels(pdd.index)\n",
    "fig.colorbar(im1, ax=ax1)\n",
    "\n",
    "im2 = ax2.imshow(add, aspect='auto')\n",
    "ax2.set_title('differrence in\\nsubject`s accuracy')\n",
    "ax2.xaxis.tick_top()\n",
    "ax2.set_xticks([0, 1, 2])\n",
    "ax2.set_xticklabels(['B1-3 vs B4-6', 'B4-6 vs B7-9', 'B7-9 vs B10-12'], rotation=30)\n",
    "ax2.yaxis.set_visible(False)\n",
    "fig.colorbar(im2, ax=ax2)\n",
    "\n",
    "im3 = ax3.imshow(a, aspect='auto')\n",
    "ax3.set_title('classifier accuracy')\n",
    "ax3.xaxis.tick_top()\n",
    "ax3.set_xticks([0, 1, 2])\n",
    "ax3.set_xticklabels(['B1-3 vs B4-6', 'B4-6 vs B7-9', 'B7-9 vs B10-12'], rotation=30)\n",
    "ax3.yaxis.set_visible(False)\n",
    "fig.colorbar(im3, ax=ax3)\n",
    "\n",
    "fig.set_size_inches(10, 5)"
   ]
  },
  {
   "cell_type": "code",
   "execution_count": 141,
   "metadata": {},
   "outputs": [
    {
     "data": {
      "text/plain": [
       "Text(0.5, 1.0, 'classifier acc')"
      ]
     },
     "execution_count": 141,
     "metadata": {},
     "output_type": "execute_result"
    },
    {
     "data": {
      "image/png": "[encoded data removed]",
      "text/plain": [
       "<Figure size 640x480 with 3 Axes>"
      ]
     },
     "metadata": {},
     "output_type": "display_data"
    }
   ],
   "source": [
    "import matplotlib.pyplot as plt\n",
    "\n",
    "fig, (ax1, ax2, ax3) = plt.subplots(1, 3)\n",
    "\n",
    "pdd = perf_data_diff.sort_index()\n",
    "a = pd.DataFrame(accs).T.sort_index()\n",
    "add = acc_data_diff.sort_index()\n",
    "ax1.imshow((pdd - pdd.min())/(pdd.max() - pdd.min()), aspect='auto')\n",
    "ax1.set_title('rt diff')\n",
    "ax2.imshow((add - add.min())/(add.max() - add.min()), aspect='auto')\n",
    "ax2.set_title('acc diff')\n",
    "ax3.imshow((a - a.min())/(a.max() - a.min()), aspect='auto')\n",
    "ax3.set_title('classifier acc')"
   ]
  },
  {
   "cell_type": "code",
   "execution_count": 142,
   "metadata": {},
   "outputs": [
    {
     "data": {
      "text/plain": [
       "Text(0.5, 1.0, 'classifier acc')"
      ]
     },
     "execution_count": 142,
     "metadata": {},
     "output_type": "execute_result"
    },
    {
     "data": {
      "image/png": "[encoded data removed]",
      "text/plain": [
       "<Figure size 640x480 with 3 Axes>"
      ]
     },
     "metadata": {},
     "output_type": "display_data"
    }
   ],
   "source": [
    "import matplotlib.pyplot as plt\n",
    "\n",
    "fig, (ax1, ax2, ax3) = plt.subplots(1, 3)\n",
    "\n",
    "pdd = perf_data_diff.sort_index()\n",
    "a = pd.DataFrame(accs).T.sort_index()\n",
    "add = acc_data_diff.sort_index()\n",
    "ax1.imshow((\n",
    "    (pdd.to_numpy() - np.expand_dims(pdd.min(1).to_numpy(), 1))/(np.expand_dims(pdd.to_numpy().max(1), 1) - np.expand_dims(pdd.to_numpy().min(1), 1))\n",
    "), aspect='auto')\n",
    "ax1.set_title('rt diff')\n",
    "ax2.imshow((\n",
    "    (add.to_numpy() - np.expand_dims(add.min(1).to_numpy(), 1))/(np.expand_dims(add.to_numpy().max(1), 1) - np.expand_dims(add.to_numpy().min(1), 1))\n",
    "), aspect='auto')\n",
    "ax2.set_title('acc diff')\n",
    "ax3.imshow((\n",
    "    (a.to_numpy() - np.expand_dims(a.min(1).to_numpy(), 1))/(np.expand_dims(a.to_numpy().max(1), 1) - np.expand_dims(a.to_numpy().min(1), 1))\n",
    "), aspect='auto')\n",
    "ax3.set_title('classifier acc')"
   ]
  }
 ],
 "metadata": {
  "kernelspec": {
   "display_name": "Python 3.10.8 ('venv': venv)",
   "language": "python",
   "name": "python3"
  },
  "language_info": {
   "codemirror_mode": {
    "name": "ipython",
    "version": 3
   },
   "file_extension": ".py",
   "mimetype": "text/x-python",
   "name": "python",
   "nbconvert_exporter": "python",
   "pygments_lexer": "ipython3",
   "version": "3.10.9 (main, Dec 19 2022, 17:35:49) [GCC 12.2.0]"
  },
  "orig_nbformat": 4,
  "vscode": {
   "interpreter": {
    "hash": "25b6c1d617e3cb25e4067864bcd46322e1b7da41afdae0cf7c23b941b0b9b767"
   }
  }
 },
 "nbformat": 4,
 "nbformat_minor": 2
}
