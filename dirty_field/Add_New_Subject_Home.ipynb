{
 "cells": [
  {
   "cell_type": "code",
   "execution_count": 8,
   "metadata": {
    "collapsed": true,
    "pycharm": {
     "name": "#%%\n"
    }
   },
   "outputs": [],
   "source": [
    "from utils.storage_management import check_path\n",
    "import os\n",
    "\n",
    "root = '../'\n",
    "subjects_dir = os.path.join(root, 'Source/Subjects')\n",
    "subject_name = input('Enter subject name')\n",
    "subject_home = os.path.join(subjects_dir, subject_name)\n",
    "check_path(subject_home)\n",
    "check_path(os.path.join(subject_home, 'Raw'))\n",
    "resp_lock = os.path.join(subject_home, 'RespLock')\n",
    "check_path(resp_lock)\n",
    "stim_lock = os.path.join(subject_home, 'StimLock')\n",
    "check_path(stim_lock)\n",
    "cases = ['LI', 'LM', 'RI', 'RM']\n",
    "n_sessions = input('Enter number of sessions')\n",
    "n_sessions = int(n_sessions)\n",
    "for lock, path in zip(['Resp', 'Stim'], [resp_lock, stim_lock]):\n",
    "    for case in cases:\n",
    "        lock_case = os.path.join(path, case)\n",
    "        check_path(lock_case)\n",
    "        for session in [f'B{i+1}' for i in range(n_sessions)]:\n",
    "            check_path(os.path.join(lock_case, f'{lock}Cor_{case}_{session}'))\n"
   ]
  },
  {
   "cell_type": "code",
   "execution_count": 2,
   "metadata": {},
   "outputs": [
    {
     "data": {
      "text/plain": [
       "(8, 200)"
      ]
     },
     "execution_count": 2,
     "metadata": {},
     "output_type": "execute_result"
    }
   ],
   "source": [
    "import numpy as np\n",
    "\n",
    "population1 = np.random.normal(0, 10, (1000, 200))\n",
    "population2 = np.random.normal(0, 10, (500, 200))\n",
    "population3 = np.random.normal(0, 10, (1500, 200))\n",
    "populations = [population1, population2, population3]\n",
    "\n",
    "distances = [[np.random.random() for _ in range(8)] for _ in range(3)]\n",
    "\n",
    "weighted_populations = [\n",
    "    [\n",
    "        population * d\n",
    "        for d in distance\n",
    "    ]\n",
    "    for population, distance in zip(populations, distances)\n",
    "]\n",
    "\n",
    "\n",
    "sources = list()\n",
    "for i in range(8):\n",
    "    source = 0\n",
    "    for population in weighted_populations:\n",
    "        source += population[i].sum(0)\n",
    "    sources.append(source)\n",
    "\n",
    "sources = np.array(sources)\n",
    "sources.shape"
   ]
  },
  {
   "cell_type": "code",
   "execution_count": 67,
   "metadata": {},
   "outputs": [],
   "source": [
    "n_channels, n_times, n_sources = 64, 200, 8\n",
    "\n",
    "X = np.random.normal(0, 10, (n_channels, n_times))\n",
    "W = np.random.normal(0, 10, (n_channels, n_sources))\n",
    "\n",
    "S = W.T@X\n",
    "\n",
    "A = np.cov(X)@W@np.linalg.inv(np.cov(S)).T"
   ]
  },
  {
   "cell_type": "code",
   "execution_count": 70,
   "metadata": {},
   "outputs": [
    {
     "data": {
      "text/plain": [
       "array([[  9.53704326,   1.86266691, -12.6592942 , ...,   2.00604054,\n",
       "         -3.21962407,   8.0551545 ],\n",
       "       [  4.24519388,  11.82034403,   1.5903945 , ..., -10.59931645,\n",
       "          5.65608177,   2.48245014],\n",
       "       [ 13.79934506, -12.77524759,   1.37022081, ...,   1.76964957,\n",
       "        -16.46969693,  -9.70385493],\n",
       "       ...,\n",
       "       [  7.31288554,  -2.24281422,  -7.67733641, ...,  -0.60059529,\n",
       "         -0.10969874,  -3.72671739],\n",
       "       [ -2.7719928 ,  11.01537075,  14.16912852, ...,  14.80614536,\n",
       "         -1.9972261 ,  -3.12332061],\n",
       "       [ 13.19415309,   0.9895375 ,  -5.22325352, ...,  -1.51606943,\n",
       "          9.50273401,   0.17615618]])"
      ]
     },
     "execution_count": 70,
     "metadata": {},
     "output_type": "execute_result"
    }
   ],
   "source": [
    "X"
   ]
  },
  {
   "cell_type": "code",
   "execution_count": 69,
   "metadata": {},
   "outputs": [
    {
     "data": {
      "text/plain": [
       "array([[ 4.38399472, -0.42092097, -4.67178861, ..., -0.86990082,\n",
       "         0.88134597,  8.22566729],\n",
       "       [-0.32707323,  4.18462554,  2.07853435, ..., -4.86127412,\n",
       "         2.41346551,  6.5734899 ],\n",
       "       [ 3.60956341, -0.31238273,  0.74741762, ..., -7.71515793,\n",
       "        -0.2645606 , -0.55249966],\n",
       "       ...,\n",
       "       [ 0.74145834, -3.94414979, -5.07489673, ...,  7.54926062,\n",
       "        -0.9509328 ,  1.68523302],\n",
       "       [-3.00482204,  3.33703663,  1.11076715, ...,  7.57937296,\n",
       "         1.12245129, -0.91072893],\n",
       "       [-0.22982245, -4.52615587,  0.42020379, ..., -4.35971551,\n",
       "         2.55692274,  2.08186786]])"
      ]
     },
     "execution_count": 69,
     "metadata": {},
     "output_type": "execute_result"
    }
   ],
   "source": [
    "A@S"
   ]
  },
  {
   "cell_type": "code",
   "execution_count": 86,
   "metadata": {},
   "outputs": [
    {
     "name": "stdout",
     "output_type": "stream",
     "text": [
      "(40000, 200) = (40000, 8) x (8, 200)\n",
      "Demixing Error: 6.100293339049434e-16\n"
     ]
    }
   ],
   "source": [
    "import numpy as np\n",
    "\n",
    "# Define the mixing matrix A\n",
    "n_sources, n_sensors = 40000, 8\n",
    "n_times = 200\n",
    "A = np.random.rand(n_sources, n_sensors)  # Distances from n_sources sources to n_sensors sensors\n",
    "\n",
    "# Generate some random mixed sources\n",
    "S_true = np.random.rand(n_sensors, n_times)  # Signals of n_sensors sensors\n",
    "\n",
    "# Get sources signals from sensors\n",
    "X = np.dot(A, S_true) # Assume S_true = LDM(MEG)\n",
    "\n",
    "print(f'{X.shape} = {A.shape} x {S_true.shape}')\n",
    "\n",
    "# Get sensors signals from sources\n",
    "S_recovered = np.dot(np.linalg.pinv(A), X)\n",
    "\n",
    "# Check the demixing error (difference betAeen true and recovered sources)\n",
    "demixing_error = np.mean(np.abs(S_recovered - S_true))\n",
    "print(\"Demixing Error:\", demixing_error)\n"
   ]
  },
  {
   "cell_type": "code",
   "execution_count": 13,
   "metadata": {},
   "outputs": [
    {
     "name": "stdout",
     "output_type": "stream",
     "text": [
      "(400, 200) = (8, 400) x (8, 200)\n",
      "Demixing Error: 4.0868567210972096e-16\n"
     ]
    }
   ],
   "source": [
    "import numpy as np\n",
    "\n",
    "# Define the mixing matrix A\n",
    "n_sources, n_sensors = 400, 8\n",
    "n_times = 200\n",
    "A = np.random.rand(n_sensors, n_sources)  # Distances from n_sources sources to n_sensors sensors\n",
    "\n",
    "\n",
    "# Generate some random mixed sensors\n",
    "S_true = np.random.rand(n_sensors, n_times)  # Signals of n_sensors sensors\n",
    "\n",
    "# Get sources signals from sensors\n",
    "X = np.dot(A.T, S_true) # Assume S_true = LDM(MEG)\n",
    "\n",
    "print(f'{X.shape} = {A.shape} x {S_true.shape}')\n",
    "\n",
    "# Get sensors signals from sources\n",
    "S_recovered = np.dot(np.linalg.pinv(A.T), X)\n",
    "\n",
    "# Check the demixing error (difference betAeen true and recovered sources)\n",
    "demixing_error = np.mean(np.abs(S_recovered - S_true))\n",
    "print(\"Demixing Error:\", demixing_error)\n"
   ]
  },
  {
   "cell_type": "code",
   "execution_count": 11,
   "metadata": {},
   "outputs": [
    {
     "data": {
      "text/plain": [
       "<matplotlib.image.AxesImage at 0x7f94f34d9290>"
      ]
     },
     "execution_count": 11,
     "metadata": {},
     "output_type": "execute_result"
    },
    {
     "data": {
      "image/png": "[encoded data removed]",
      "text/plain": [
       "<Figure size 640x480 with 1 Axes>"
      ]
     },
     "metadata": {},
     "output_type": "display_data"
    }
   ],
   "source": [
    "import matplotlib.pyplot as plt\n",
    "\n",
    "A_ = np.linalg.pinv(A)\n",
    "plt.imshow(A_@A)"
   ]
  }
 ],
 "metadata": {
  "kernelspec": {
   "display_name": "Python 3.9.13 ('venv': venv)",
   "language": "python",
   "name": "python3"
  },
  "language_info": {
   "codemirror_mode": {
    "name": "ipython",
    "version": 3
   },
   "file_extension": ".py",
   "mimetype": "text/x-python",
   "name": "python",
   "nbconvert_exporter": "python",
   "pygments_lexer": "ipython3",
   "version": "3.11.5"
  },
  "vscode": {
   "interpreter": {
    "hash": "25b6c1d617e3cb25e4067864bcd46322e1b7da41afdae0cf7c23b941b0b9b767"
   }
  }
 },
 "nbformat": 4,
 "nbformat_minor": 0
}
