{
 "cells": [
  {
   "cell_type": "code",
   "execution_count": 8,
   "metadata": {
    "collapsed": true,
    "pycharm": {
     "name": "#%%\n"
    }
   },
   "outputs": [],
   "source": [
    "from utils.storage_management import check_path\n",
    "import os\n",
    "\n",
    "root = '../'\n",
    "subjects_dir = os.path.join(root, 'Source/Subjects')\n",
    "subject_name = input('Enter subject name')\n",
    "subject_home = os.path.join(subjects_dir, subject_name)\n",
    "check_path(subject_home)\n",
    "check_path(os.path.join(subject_home, 'Raw'))\n",
    "resp_lock = os.path.join(subject_home, 'RespLock')\n",
    "check_path(resp_lock)\n",
    "stim_lock = os.path.join(subject_home, 'StimLock')\n",
    "check_path(stim_lock)\n",
    "cases = ['LI', 'LM', 'RI', 'RM']\n",
    "n_sessions = input('Enter number of sessions')\n",
    "n_sessions = int(n_sessions)\n",
    "for lock, path in zip(['Resp', 'Stim'], [resp_lock, stim_lock]):\n",
    "    for case in cases:\n",
    "        lock_case = os.path.join(path, case)\n",
    "        check_path(lock_case)\n",
    "        for session in [f'B{i+1}' for i in range(n_sessions)]:\n",
    "            check_path(os.path.join(lock_case, f'{lock}Cor_{case}_{session}'))\n"
   ]
  }
 ],
 "metadata": {
  "kernelspec": {
   "display_name": "Python 3.9.13 ('venv': venv)",
   "language": "python",
   "name": "python3"
  },
  "language_info": {
   "codemirror_mode": {
    "name": "ipython",
    "version": 3
   },
   "file_extension": ".py",
   "mimetype": "text/x-python",
   "name": "python",
   "nbconvert_exporter": "python",
   "pygments_lexer": "ipython3",
   "version": "3.10.8"
  },
  "vscode": {
   "interpreter": {
    "hash": "25b6c1d617e3cb25e4067864bcd46322e1b7da41afdae0cf7c23b941b0b9b767"
   }
  }
 },
 "nbformat": 4,
 "nbformat_minor": 0
}
