{
 "cells": [
  {
   "cell_type": "code",
   "execution_count": 2,
   "metadata": {},
   "outputs": [
    {
     "name": "stderr",
     "output_type": "stream",
     "text": [
      "2022-02-21 17:16:01.556260: W tensorflow/stream_executor/platform/default/dso_loader.cc:64] Could not load dynamic library 'libcudart.so.11.0'; dlerror: libcudart.so.11.0: cannot open shared object file: No such file or directory\n",
      "2022-02-21 17:16:01.556283: I tensorflow/stream_executor/cuda/cudart_stub.cc:29] Ignore above cudart dlerror if you do not have a GPU set up on your machine.\n"
     ]
    }
   ],
   "source": [
    "import sys\n",
    "import os\n",
    "current_dir = os.path.dirname(os.path.abspath('./'))\n",
    "if not current_dir in sys.path:\n",
    "    sys.path.append(current_dir)\n",
    "from combiners import EpochsCombiner\n",
    "from typing import *\n",
    "import mne\n",
    "import tensorflow as tf\n",
    "import mneflow as mf\n",
    "import matplotlib.pyplot as plt\n",
    "import numpy as np\n",
    "from utils.data_management import dict2str\n",
    "from lfcnn_vis import plot_patterns\n",
    "from LFCNN_decoder import SpatialParameters, TemporalParameters, ComponentsOrder, Predictions\n",
    "import pickle\n",
    "from utils.machine_learning import one_hot_decoder\n",
    "import sklearn.metrics as sm\n",
    "from utils.machine_learning.confusion import ConfusionEstimator\n",
    "\n",
    "def read_pkl(path: str) -> Any:\n",
    "    with open(\n",
    "            path,\n",
    "            'rb'\n",
    "        ) as file:\n",
    "        content = pickle.load(\n",
    "            file\n",
    "        )\n",
    "    return content"
   ]
  },
  {
   "cell_type": "code",
   "execution_count": 9,
   "metadata": {},
   "outputs": [
    {
     "name": "stdout",
     "output_type": "stream",
     "text": [
      "Ga_Fed_06\n",
      "\tT\tF\n",
      "P\t32\t35\n",
      "N\t33\t36\n",
      "Accuracy: 0.47794117647058826\n",
      "Specificity: 0.4852941176470588\n",
      "Sensitivity: 0.47058823529411764\n",
      "\n",
      "Fe_To_08\n",
      "\tT\tF\n",
      "P\t34\t35\n",
      "N\t33\t33\n",
      "Accuracy: 0.4962962962962963\n",
      "Specificity: 0.4852941176470588\n",
      "Sensitivity: 0.5074626865671642\n",
      "\n",
      "Az_Mar_05\n",
      "\tT\tF\n",
      "P\t32\t29\n",
      "N\t42\t31\n",
      "Accuracy: 0.5522388059701493\n",
      "Specificity: 0.5915492957746479\n",
      "Sensitivity: 0.5079365079365079\n",
      "\n",
      "Ku_EL_09\n",
      "\tT\tF\n",
      "P\t25\t32\n",
      "N\t46\t33\n",
      "Accuracy: 0.5220588235294118\n",
      "Specificity: 0.5897435897435898\n",
      "Sensitivity: 0.43103448275862066\n",
      "\n",
      "Pr_An_04\n",
      "\tT\tF\n",
      "P\t37\t32\n",
      "N\t34\t33\n",
      "Accuracy: 0.5220588235294118\n",
      "Specificity: 0.5151515151515151\n",
      "Sensitivity: 0.5285714285714286\n",
      "\n",
      "Ru_Ek_07\n",
      "\tT\tF\n",
      "P\t36\t32\n",
      "N\t33\t33\n",
      "Accuracy: 0.5149253731343284\n",
      "Specificity: 0.5076923076923077\n",
      "Sensitivity: 0.5217391304347826\n",
      "\n",
      "Se_Tu_03\n",
      "\tT\tF\n",
      "P\t46\t29\n",
      "N\t33\t29\n",
      "Accuracy: 0.5766423357664233\n",
      "Specificity: 0.532258064516129\n",
      "Sensitivity: 0.6133333333333333\n",
      "\n",
      "Te_Ali_11\n",
      "\tT\tF\n",
      "P\t40\t30\n",
      "N\t40\t26\n",
      "Accuracy: 0.5882352941176471\n",
      "Specificity: 0.5714285714285714\n",
      "Sensitivity: 0.6060606060606061\n",
      "\n"
     ]
    }
   ],
   "source": [
    "\n",
    "\n",
    "subjects_path = '../Source/Subjects/'\n",
    "\n",
    "for subject_name in os.listdir(subjects_path):\n",
    "    \n",
    "    if subject_name == 'Pse_Udo':\n",
    "        continue\n",
    "    \n",
    "    subject_path = os.path.join(subjects_path, subject_name)\n",
    "\n",
    "    predictions = read_pkl(\n",
    "        os.path.join(subject_path, 'Predictions', 'LM&LI_vs_RM&RI_B1-B8_pred.pkl')\n",
    "    )\n",
    "\n",
    "    y_t = one_hot_decoder(predictions.y_true)\n",
    "\n",
    "    y_p = one_hot_decoder(predictions.y_p)\n",
    "\n",
    "    print(subject_name)\n",
    "    tn, fp, fn, tp = sm.confusion_matrix(y_t, y_p).ravel()\n",
    "    ce = ConfusionEstimator(tp, tn, fp, fn)\n",
    "\n",
    "    print(\n",
    "        f'\\tT\\tF\\n'\\\n",
    "        f'P\\t{tp}\\t{fp}\\n'\\\n",
    "        f'N\\t{tn}\\t{fn}\\n'\n",
    "        f'Accuracy: {ce.acc}\\n'\\\n",
    "        f'Specificity: {ce.spec}\\n'\\\n",
    "        f'Sensitivity: {ce.sens}\\n'\n",
    "    )"
   ]
  },
  {
   "cell_type": "code",
   "execution_count": 9,
   "metadata": {},
   "outputs": [
    {
     "data": {
      "text/plain": [
       "0.47794117647058826"
      ]
     },
     "execution_count": 9,
     "metadata": {},
     "output_type": "execute_result"
    }
   ],
   "source": [
    "\n",
    "\n",
    "\n",
    "# for true, prediction in zip(y_t, y_p):\n",
    "#     print(true, prediction)"
   ]
  }
 ],
 "metadata": {
  "interpreter": {
   "hash": "25b6c1d617e3cb25e4067864bcd46322e1b7da41afdae0cf7c23b941b0b9b767"
  },
  "kernelspec": {
   "display_name": "Python 3.9.10 ('venv': venv)",
   "language": "python",
   "name": "python3"
  },
  "language_info": {
   "codemirror_mode": {
    "name": "ipython",
    "version": 3
   },
   "file_extension": ".py",
   "mimetype": "text/x-python",
   "name": "python",
   "nbconvert_exporter": "python",
   "pygments_lexer": "ipython3",
   "version": "3.9.10"
  },
  "orig_nbformat": 4
 },
 "nbformat": 4,
 "nbformat_minor": 2
}
